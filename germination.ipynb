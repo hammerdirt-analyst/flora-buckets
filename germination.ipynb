{
 "cells": [
  {
   "cell_type": "markdown",
   "id": "cc0cf0b5-4f63-4b69-a638-4b37229b5eca",
   "metadata": {
    "tags": []
   },
   "source": [
    "(wildflower-germination) = \n",
    "\n",
    "# Wildflower germination\n",
    "\n",
    "> Every species has some mechanism for delaying germination until after the seed has been dispersed. The Science of Seed Germination is the discovery and description of such mechanisms and the development of procedures for removing them so that the seeds can germinate. - Norman C. Deno\n",
    "\n",
    "There are a wide range of germination conditions for regional wildflowers, information on which is often not readily available. This simple experiment will test which species germinate under the simple conditions of being kept moist, at 20 degrees celsius, and exposed to the moderate light from a large easterly facing window and typical houselamps. Information on the seeds storage and age will be taken into account and this information will form the basis of an open source germination requirements database of the regional flora."
   ]
  },
  {
   "cell_type": "code",
   "execution_count": 1,
   "id": "c01e0c30-6744-4ff9-901a-39af2a61c57f",
   "metadata": {
    "tags": [
     "hide-input"
    ]
   },
   "outputs": [],
   "source": [
    "# import statements\n",
    "# math and data packages\n",
    "import pandas as pd\n",
    "import numpy as np\n",
    "import math\n",
    "\n",
    "# charting and graphics\n",
    "import matplotlib as mpl\n",
    "import matplotlib.pyplot as plt\n",
    "import seaborn as sns\n",
    "import matplotlib.image as mpimg\n",
    "from matplotlib import colors\n",
    "from matplotlib.colors import LinearSegmentedColormap\n",
    "import matplotlib.dates as mdates\n",
    "from matplotlib.gridspec import GridSpec\n",
    "\n",
    "# os and file types\n",
    "import os\n",
    "import sys\n",
    "import datetime as dt\n",
    "import json\n",
    "import csv\n",
    "\n",
    "# images and display\n",
    "import base64, io, IPython\n",
    "from PIL import Image as PILImage\n",
    "from IPython.display import Markdown as md\n",
    "from IPython.display import display, Math, Latex"
   ]
  },
  {
   "cell_type": "code",
   "execution_count": null,
   "id": "7078ba2d-9230-4e44-8d99-e8edf4051ebf",
   "metadata": {},
   "outputs": [],
   "source": [
    "# insert photo of germinating plants (will be available in the resources/germination/pictures folder this week!)"
   ]
  },
  {
   "cell_type": "markdown",
   "id": "ae19c35c-5bac-4e8d-ac7d-31f505e7e57f",
   "metadata": {},
   "source": [
    "### Methodology\n",
    "\n",
    "This experiment attemps to answer the question of whether a given amount of seeds yields \"no germination\" \"low germination\", \"moderate germination\" and \"high germination.\" It was decided to keep the recording methodology simple to maxmiize the number of samples that could be sprouted and succesfully kept moist and absorbed. For species with a clearly high germination rate under these conditions, they will be noted, the seedlings transferred to an unheated greenhouse to weather the winter and used for the next year. For the others, the onset of winter will be used to stratify the seeds for one month. This will be detailed in the \"next steps\" section.\n",
    "\n",
    "#### Choice of seeds\n",
    "\n",
    "The seeds chosen for germination come from my personal collection, gathered in 2020 or 2021, or from Equipe Volo. I gathered seeds either in Biel/Bienne, in La Chaux-de-Fonds, and in one case, from an alpage in the Jura near Biel/Bienne, Prés-la-Patte. The seeds from Equipe Volo came from samples of their seed inventory as well as a collection of old seeds considered invalid. Some of the seeds from Volo are missing location identifiers. I germinated as many as I could reasonably manage and will continue to germinate seeds over the next months until readily available seeds are no longer available.\n"
   ]
  },
  {
   "cell_type": "code",
   "execution_count": null,
   "id": "8259dc82-5291-468c-9609-1cfa9f54fd7a",
   "metadata": {},
   "outputs": [],
   "source": [
    "# insert map based on .kml file available from SwissTopo in the hdbot/resources/germination/map-key-germination.html\n",
    "# map also available here: https://s.geo.admin.ch/942859cc6c\n",
    "# note this is only for the PERSONAL collection. The volo seeds should use the GPS coordinates of the volo HQ - this can be changed once the volo population origin locations are confirmed.\n",
    "\n",
    "# age breakdown of the seeds (date collected column)\n",
    "# collection breakdown (personal vs volo, second column)\n"
   ]
  },
  {
   "cell_type": "markdown",
   "id": "c3bfd8a5-45e0-42cc-b97a-a76a937b26d4",
   "metadata": {},
   "source": [
    "#### Germination medium & watering protocol\n",
    "\n",
    "The germination medium used was the following mix (all certified organic):\n",
    "* 1/3 coconut coir\n",
    "* 1/3 sand\n",
    "* 1/3 seedling dirt from Coop OECO plan brand\n",
    "\n",
    "The mix was placed into either plastic seedling trays or concrete germination trays. This mix was chosen after research and discussions concluded that this was a reasonable medium with the following useful properties:\n",
    "* simple and available with organic certification\n",
    "* stays moist without becoming waterlogged. \n",
    "* thick enough medium that seeds can be buried and thus exposed to darkness at the same time as other seeds can be left at the surface of the medium for light exposure.\n",
    "* does not require instant transplanting the moment seedlings germinate\n",
    " even just \"succesful\" germination defined as got enough plants from my seeds to serve my purpose.\n",
    "\n",
    "The seedlings were watered via spray bottle 2-4 times a day depending on the drynesss of the growing medium and whether I was available to water. This protocal was decided for the followign reasons:\n",
    "* minimize mess in appartment setting\n",
    "* simulate wind and thus strengthen leggy sprouts\n",
    "* minimize impact of watering on the germination medium\n",
    "\n",
    "This watering protocol was adopted TO BE CONTINUED\n"
   ]
  },
  {
   "cell_type": "code",
   "execution_count": null,
   "id": "190d76cd-52be-4bab-baa8-d0b7c16982e5",
   "metadata": {},
   "outputs": [],
   "source": [
    "# insert picture of germination medium being mixed in the bucket (will be available in the resources folder this week!)\n",
    "# insert picture of the concrete and the plastic germination trays"
   ]
  },
  {
   "cell_type": "markdown",
   "id": "f458ec75-2a1b-4b19-88fd-917e99afceb2",
   "metadata": {},
   "source": [
    "#### Growing methodology\n",
    "TO BE CONTINUED"
   ]
  },
  {
   "cell_type": "code",
   "execution_count": null,
   "id": "e87e5ded-ecf0-47e6-9f75-41b237bd6f5a",
   "metadata": {},
   "outputs": [],
   "source": [
    "# insert pictures of seedlings growing"
   ]
  },
  {
   "cell_type": "markdown",
   "id": "62eb1b2a-c640-4893-854d-d171357e1e81",
   "metadata": {},
   "source": [
    "#### Results\n",
    "\n"
   ]
  },
  {
   "cell_type": "code",
   "execution_count": null,
   "id": "34d06000-2d9f-4b55-bfb1-766a1f3dd52e",
   "metadata": {},
   "outputs": [],
   "source": [
    "# tables of results - interested in whether the seeds I collected grew better or the "
   ]
  },
  {
   "cell_type": "markdown",
   "id": "403eb395-0050-4627-94d3-d864a0aae820",
   "metadata": {},
   "source": [
    "## Hemiparasites\n",
    "Hemiparasitic plants are a fascinating phenomenon and they are often becoming increasingly rare. They are however potentially valuable for urban restoration projects as they can reduce the vigour of aggressive members of Poaceae and Fabulaceae that can quickly dominate urban restoration projects.\n",
    "Three hemiparasitic plants, Rhinanthus minor, Melampyrum arvense and M. nemorosum, will be grown in pots under the following configurations:\n",
    "* Mature host plants Brizola media (poaceae) and Melilotus alba (fabaceae) are already present and the hemiparasite is planted alongside its roots\n",
    "* A host plant (medicago lupulina and medicago sativa) and the hemiparasite are planted at the same time with the host plant germinated first\n",
    "* No host plants\n",
    "\n",
    "\n",
    "Origin of hemiparasites:\n",
    "* Melanpyrum arvense gathered from UA/Equipe Volo (qty tbd)\n",
    "* Commercial Melanpyrum arvense from Germany (1 seed packet)\n",
    "* Rhinanthus minor gathered from La Chaux-de-Fonds (qty tbd)\n",
    "* Melanpyrum nemorosum gathered from Felseck (qty tbd)\n",
    "\n",
    "\n",
    "Origin and quantity of host plants:\n",
    "* +/- 24 melilotus alba plants (6 commercial melanpyrum, 6 \n",
    "* +/- 12 pots of Brizola minor\n",
    "* +/- 3 grams medicago lupulina seeds"
   ]
  },
  {
   "cell_type": "code",
   "execution_count": null,
   "id": "ca2a1585-a341-4bfc-9813-a2e3629d22ba",
   "metadata": {},
   "outputs": [],
   "source": []
  },
  {
   "cell_type": "markdown",
   "id": "9b067901-3cfa-4971-bacc-55a9c8c2b35e",
   "metadata": {},
   "source": [
    "### Methodology\n",
    "\n",
    "\n",
    "#### Choice of plants\n",
    "\n",
    "\n",
    "\n",
    "* The germination requirements for these wildflower species are searched online to identify the paramaters for a reasonable germination. The parameters are the following: cold stratification, scarification, alternating temperature, temperature, and light.\n",
    "* These paramaters are collected into a database and used to germinate the plant species.\n",
    "* If the paramaters of a plant is not identified, then the parameters for a close relative (genus level) are used.\n",
    "\n",
    "### Germination\n",
    "\n",
    "#### \"Easy seeds\"\n",
    "These seeds will be germinated in shallow concrete containers directly above a heating unit in an appartment in Biel. The trays contain either (1) a mixture of coconut coir (40%), sand (40%), sterilized compost (20%), or (2) an organic germination soil of the OECO Plan brand from Coop. \n",
    "\n",
    "They are divided into light and dark type and each will follow the same protocol with the only differences being the following:\n",
    "* placement of the containers: light-type will be placed underneth a large window with full aftenoon sun; dark-type in a closed room.\n",
    "* depth of seed burial: light-type will be sown near the surface with only a fine layer of growing medium above. Dark-type seeds will be planted deeper (SPECIFY) and the light-type seeds will be planted .  following protocol is used to sow the seeds:\n",
    "\n",
    "The daily protocols are the following:\n",
    "* The temperature will be taken each day (CA 20 C),\n",
    "* The seed trays will be exposed to light throughout the day, direct light in the aftenoon\n",
    "* Each concrete container will be covered with a layer of plastic wrap \n",
    "* Containers moist by misting twice daily.\n",
    "* Presence and quantity of germinated plants noted each day.\n",
    "\n",
    "#### Alternating temperatures & lower temperature seeds\n",
    "These seeds do not require scarification or stratification but need to be subjected to cooler average temperatures or fluctuating temperatures will be germinated under the same conditions as the \"easy seeds\" but will be kept on a balcony exposed to alternating, cooler fall temperatures but sheltered from wind and extremes.\n",
    "\n",
    "In all other respects, the same protocols will be followed.\n"
   ]
  },
  {
   "cell_type": "code",
   "execution_count": null,
   "id": "dbb9ae60-b336-4beb-9241-88729ad7b1ae",
   "metadata": {},
   "outputs": [],
   "source": []
  }
 ],
 "metadata": {
  "kernelspec": {
   "display_name": "Python 3 (ipykernel)",
   "language": "python",
   "name": "python3"
  },
  "language_info": {
   "codemirror_mode": {
    "name": "ipython",
    "version": 3
   },
   "file_extension": ".py",
   "mimetype": "text/x-python",
   "name": "python",
   "nbconvert_exporter": "python",
   "pygments_lexer": "ipython3",
   "version": "3.8.12"
  }
 },
 "nbformat": 4,
 "nbformat_minor": 5
}
