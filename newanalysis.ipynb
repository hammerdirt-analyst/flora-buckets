{
 "cells": [
  {
   "cell_type": "code",
   "execution_count": 25,
   "id": "4527de73",
   "metadata": {},
   "outputs": [],
   "source": [
    "# math and data packages\n",
    "import pandas as pd\n",
    "import numpy as np\n",
    "import math\n",
    "\n",
    "# charting and graphics\n",
    "import matplotlib as mpl\n",
    "import matplotlib.pyplot as plt\n",
    "from matplotlib import colors\n",
    "import seaborn as sns\n",
    "\n",
    "# os and file types\n",
    "import os\n",
    "import sys\n",
    "import datetime as dt\n",
    "import json\n",
    "import csv\n",
    "\n",
    "# images and display\n",
    "import base64, io, IPython\n",
    "from PIL import Image as PILImage\n",
    "from IPython.display import Markdown as md\n",
    "from IPython.display import display, Math, Latex\n",
    "\n",
    "# survey data\n",
    "spd=pd.read_csv(\"resources/survey_data_20_21_geo_watch_list.csv\")\n",
    "spd[\"date\"] = pd.to_datetime(spd[\"date\"])\n",
    "spd[\"month\"] = spd[\"date\"].dt.month"
   ]
  },
  {
   "cell_type": "code",
   "execution_count": 26,
   "id": "4383f046",
   "metadata": {},
   "outputs": [],
   "source": [
    "# functions that will be used in each subgroup, part of analysis and in the whole data\n",
    "\n",
    "# number of surveys per year per location (needs loc_date column)\n",
    "\n",
    "def make_genus(data):\n",
    "    data[\"genus\"] = data.species.map(lambda x: support_genus(x))\n",
    "    return data\n",
    "    \n",
    "    \n",
    "def support_genus(x):\n",
    "    \"\"\"Collect the genus from the genus species. Called in functions and methods that compare genus.\n",
    "    :param x: df\n",
    "    \"\"\"\n",
    "    try: \n",
    "        int_data = x.split(\"-\")\n",
    "        data = int_data[:1]\n",
    "    except:\n",
    "        data = \"none\"\n",
    "    return data[0]\n",
    "\n",
    "def nSamplesPerYearPlace(x):\n",
    "    \"\"\"returns samples per year for each location\n",
    "    param x: df\n",
    "    \"\"\"\n",
    "    return x.loc_date.nunique()\n",
    "\n",
    "def top_y_species(x,y):\n",
    "    \"\"\"returns list of top y number of unique species in passed df x\n",
    "    :param x: df\n",
    "    :param y: Integer index stop for the number of requested record\n",
    "    \"\"\"\n",
    "    return x['species'].value_counts()[:y].index.tolist()\n",
    "\n",
    "def top_y_genus(x,y):\n",
    "    \"\"\"returns list of top y number of unique genus in passed df x\n",
    "    param x: df\n",
    "    param y: int, final rank to include in the list\n",
    "    \"\"\"\n",
    "    \n",
    "    return x.species.map(lambda x: support_genus(x)).unique()[:y]\n",
    "\n",
    "def top_y_group(x,y,col):\n",
    "    \"\"\"returns list of top y number of unique elements in column col in passed df x\n",
    "    :param x: df\n",
    "    :param y: int, final rank to include in list of top most common elements\n",
    "    :param col: str, name of column to sort according to frequency of values\n",
    "    example: top_y_group(dataframe, 10, \"species\") returns top 10 values in species column of provided dataframe.\n",
    "    \"\"\"\n",
    "    return x[col].value_counts()[:y].index.tolist()\n",
    "\n",
    "def red_list(x,y, column_name=\"biogeo\"):\n",
    "    \"\"\"returns dataframe of species with the useful redlist codes\n",
    "    of the species in passed df x in biogeo region y.\n",
    "    :param x: df\n",
    "    :param y: str, bioregion (ju, mp, na)\n",
    "    :e.g.: {\"nt\": [carduus-crispus, alcea-rosea], vu = [\"cardamine-hirsuta\"], LC = ....}\n",
    "    \"\"\"\n",
    "    int_data = x.loc[x[\"biogeo\"] == y]\n",
    "    for i in [\"VU\", \"NT\", \"LC\", \"EN\", \"NE\", \"DD\"]:\n",
    "        if y == \"ju\":\n",
    "            int_data.loc[int_data[\"rju\"]==i]\n",
    "        elif y == \"mp\":\n",
    "            int_data.loc[int_data[\"rmp\"]==i]\n",
    "        else:\n",
    "            int_data.loc[int_data[\"rch\"]==i]\n",
    "    return int_data\n",
    "# returns a dataframe composed of the non-native status\n",
    "def no_redlist_status(x, ni=\"ni\", wl=\"WL\", bl=\"BL\", inv=\"inv\"):\n",
    "    nix = x.loc[x[ni] == ni]\n",
    "    wlx = x.loc[x[inv] == wl] \n",
    "    blx = x.loc[x[inv] == bl]\n",
    "    int_data = nix.append(wlx)\n",
    "    data = int_data.append(blx)\n",
    "    return data"
   ]
  },
  {
   "cell_type": "code",
   "execution_count": 27,
   "id": "aab16676",
   "metadata": {},
   "outputs": [],
   "source": [
    "# functions\n",
    "\n",
    "# species per location/date combination (uniquely defines a sample)\n",
    "def nSpeciesPerSample(data):\n",
    "    return data.groupby([\"date\", \"place\"], as_index=False).species.count()\n",
    "\n",
    "def aSpeciesPerSample(data, species=[]):\n",
    "    \"\"\"The per sample data for a species\n",
    "    \"\"\"\n",
    "    new_data = nSpeciesPerSample(data[data[\"species\"].isin(species)])\n",
    "    new_data.rename(columns={\"species\":species[0]}, inplace=True)\n",
    "    return new_data\n",
    "\n",
    "# species per location\n",
    "def speciesPlaceNsamps(data):\n",
    "    return data.groupby([\"species\", \"place\"], as_index=False).loc_date.nunique()\n",
    "\n",
    "def pivot_this(data, colnames, index, column, value):\n",
    "    return data[colnames].pivot(index=index, columns=column, values=value).fillna(0)\n",
    "\n",
    "def speciesPerLocation(data,colnames, index=\"species\",columns=\"place\",values=\"loc_date\"):\n",
    "    \"\"\"Uses speciesPlaceNsamps to return a matrix of species and locations with value of\n",
    "    number of times identified at that location\n",
    "    \"\"\"\n",
    "    return pivot_this(data, colnames, index, columns, values)\n",
    "\n",
    "def speciesPlace(species_data, soi):\n",
    "    \"\"\"Uses speciesPerlocation to report on one species\"\"\"\n",
    "    return species_data.loc[soi, (species_data.loc[soi] > 0)]"
   ]
  },
  {
   "cell_type": "code",
   "execution_count": 28,
   "id": "e0d50f5b-1a99-4f37-9ae9-7b73087f3dff",
   "metadata": {},
   "outputs": [],
   "source": [
    "spd = make_genus(spd)\n",
    "spd1 = spd.loc[spd.year == 1].copy()\n",
    "spd2 = spd.loc[spd.year == 2].copy()"
   ]
  },
  {
   "cell_type": "code",
   "execution_count": 29,
   "id": "5622e8d1",
   "metadata": {
    "tags": []
   },
   "outputs": [],
   "source": [
    "# separate summary observations in each year\n",
    "\n",
    "spd1 = spd.loc[spd.year == 1].copy()\n",
    "spd2 = spd.loc[spd.year == 2].copy()\n",
    "\n",
    "# top 15 genus and species in y1, y2\n",
    "spd1g15 = top_y_genus(spd1,15)\n",
    "spd2g15 = top_y_genus(spd2,15)\n",
    "spd1sp15 = top_y_species(spd1,15)\n",
    "spd2sp15 = top_y_species(spd2,15)\n",
    "sp1 = spd1.species.nunique()\n",
    "sp2 = spd2.species.nunique()\n",
    "# top 15 non native genus and species in y1, y2\n",
    "\n",
    "spd1nr = no_redlist_status(spd1)\n",
    "spd2nr = no_redlist_status(spd2)\n",
    "\n",
    "spd1nrg15 = top_y_genus(no_redlist_status(spd1),15)\n",
    "spd2nrg15 = top_y_genus(spd2nr,15)\n",
    "spd1nrsp15 = top_y_species(spd1nr,15)\n",
    "spd2nrsp15 = top_y_species(spd2nr,15)\n",
    "sp1nr = spd1nr.species.nunique()\n",
    "\n",
    "# top 15 native fam, genus, species in y1, y2  \n",
    "spd1rl = spd1[spd1[\"fam\"]!='X']\n",
    "spd2rl = spd2[spd2[\"fam\"]!='X']\n",
    "spd1rlfam = top_y_group(spd1,15,\"fam\")\n",
    "spd2rlfam = top_y_group(spd2,15, \"fam\")\n",
    "spd2ng = top_y_genus(spd2nr,15)\n",
    "# spd1nrg15 = top_y_species(spd1nr,15)"
   ]
  },
  {
   "cell_type": "code",
   "execution_count": 58,
   "id": "f6920305-99a2-42c4-bd31-c0f11b0e28d0",
   "metadata": {},
   "outputs": [],
   "source": [
    "def make_a_summary_table(ax, data,colLabels, a_color=\"dodgerblue\", font_size=12, s_et_bottom_row=True):\n",
    "    \n",
    "    \"\"\"Formats matplotlib table object.\n",
    "\n",
    "    Args:\n",
    "    ax: object: matplotlib table object\n",
    "    data: array: the 2d array used to generate the table object\n",
    "    cols_to_use: array: the list of column names\n",
    "    a_color: str: matplotlib named color, face and edgecolor of table cells\n",
    "    font_size: int: the font size for the table cells\n",
    "    s_et_bottom_row: bool: whether or not to draw bottom line on the last row\n",
    "\n",
    "    Returns:\n",
    "    The table object formatted.\n",
    "    \"\"\"\n",
    "\n",
    "    ax.auto_set_font_size(False)\n",
    "    the_cells = ax.get_celld()\n",
    "\n",
    "    line_color = colors.to_rgba(\"black\")\n",
    "    banded_color = (*line_color[:-1], 0.1)\n",
    "\n",
    "    # the different areas of formatting\n",
    "    top_row = [(0, i) for i in np.arange(len(colLabels))]\n",
    "    bottom_row = [(len(data), i) for i in np.arange(len(colLabels))]\n",
    "    data_rows = [x for x in list(the_cells.keys()) if x not in top_row]\n",
    "        \n",
    "    for a_cell in top_row:\n",
    "        ax[a_cell].visible_edges = \"B\"\n",
    "        ax[a_cell].set_text_props(**{\"fontsize\": font_size})\n",
    "        ax[a_cell].set_edgecolor(\"black\")\n",
    "        ax[a_cell].PAD = .2\n",
    "        ax[a_cell].set_linewidth = 1\n",
    "        ax[a_cell].set_height(.5 / (len(data)))\n",
    "\n",
    "    for a_cell in data_rows:\n",
    "        ax[a_cell].set_height(.5 / (len(data)))\n",
    "        ax[a_cell].visible_edges = \"BT\"\n",
    "        ax[a_cell].set_text_props(**{\"fontsize\": font_size})\n",
    "        ax[a_cell].set_edgecolor(banded_color)\n",
    "        ax[a_cell]._text.set_horizontalalignment(\"center\")\n",
    "        ax[a_cell].set_linewidth = .1\n",
    "\n",
    "    if s_et_bottom_row is True:\n",
    "        \n",
    "        for a_cell in bottom_row:\n",
    "            ax[a_cell].visible_edges = \"B\"\n",
    "            ax[a_cell].set_edgecolor(line_color)\n",
    "            ax[a_cell].set_linewidth = 1\n",
    "\n",
    "    return ax\n",
    "\n",
    "\n",
    "\n",
    "def a_simple_formatted_table(ax,data,colLabels=[], colWidths=[], bbox=[], **kwargs):\n",
    "    \"\"\"Makes a table with rows from a matplotlib axes object and a 2d array. Header row is\n",
    "    spererated from table body by a thicker black line. \n",
    "    \n",
    "    :param ax: An axes\n",
    "    :type ax: matplotlib axes\n",
    "    :param data: An array of the table values not including column names or labels\n",
    "    :type data: array\n",
    "    :param colLabels: The labels for the data table columns\n",
    "    :type colLabels: array\n",
    "    :param a_color: The row shading\n",
    "    :type a_color: str\n",
    "    :param colWidths: The width of each column in fractions of 1\n",
    "    :type colWdiths: array, x < 1\n",
    "    :param bbox: The location of the table in figure space\n",
    "    :type bbox: array\n",
    "    :return: A table on the provided axis\n",
    "    :rtype: matplotlib.axes\n",
    "    \n",
    "    \"\"\"\n",
    "    a = ax.table(data,  colLabels=colLabels, colWidths=colWidths, bbox=bbox, loc=\"lower center\", **kwargs)\n",
    "    t = make_a_summary_table(a, data, colLabels, a_color=\"dodgerblue\", font_size=12, s_et_bottom_row=False)\n",
    "    return t"
   ]
  },
  {
   "cell_type": "code",
   "execution_count": null,
   "id": "504b8925-f8be-49ce-89be-43863d3eaceb",
   "metadata": {},
   "outputs": [],
   "source": []
  },
  {
   "cell_type": "code",
   "execution_count": 59,
   "id": "642d0292-bddf-4e99-8ad7-1e460b14f42a",
   "metadata": {},
   "outputs": [],
   "source": [
    "# use e\n",
    "t_one = spd1.groupby([\"year\", \"month\"], as_index=False).agg({\"species\":\"nunique\", \"loc_date\":\"nunique\"})\n",
    "t_two = spd2.groupby([\"year\", \"month\"], as_index=False).agg({\"species\":\"nunique\", \"loc_date\":\"nunique\"})"
   ]
  },
  {
   "cell_type": "code",
   "execution_count": 65,
   "id": "8e259e3b-6445-4690-bb6a-7e30ec88ed1e",
   "metadata": {},
   "outputs": [
    {
     "name": "stdout",
     "output_type": "stream",
     "text": [
      "[0.25, 0.25, 0.25, 0.25]\n"
     ]
    },
    {
     "data": {
      "image/png": "[encoded data removed]",
      "text/plain": [
       "<Figure size 720x576 with 2 Axes>"
      ]
     },
     "metadata": {
      "needs_background": "light"
     },
     "output_type": "display_data"
    }
   ],
   "source": [
    "data = t_one.values\n",
    "colLabels = [*t_one.columns[:-1], \"nsamples\"]\n",
    "colWidths = [*[1/len(colLabels)]*len(colLabels)]\n",
    "print(colWidths)\n",
    "bbox = [0, 0,1,1]\n",
    "\n",
    "data_2 = t_two.values\n",
    "fig, axs = plt.subplots(1,2,  figsize=(10,8))\n",
    "\n",
    "table_one = a_simple_formatted_table(axs[0],data,colLabels=colLabels, colWidths=colWidths, bbox=bbox)\n",
    "table_two = a_simple_formatted_table(axs[1],data_2,colLabels=colLabels, colWidths=colWidths, bbox=bbox)\n",
    "\n",
    "axs[0].axis(\"off\")\n",
    "axs[1].axis(\"off\")\n",
    "plt.show()"
   ]
  },
  {
   "cell_type": "code",
   "execution_count": 61,
   "id": "0f8adc00-36c7-455d-8e74-c2460e6525b1",
   "metadata": {},
   "outputs": [],
   "source": [
    "# \n",
    "t_three = spd1.groupby([\"year\", \"month\"], as_index=False).agg({\"species\":\"nunique\", \"genus\":\"nunique\", \"fam\":\"nunique\",\"loc_date\":\"nunique\"})\n",
    "t_four = spd2.groupby([\"year\", \"month\"], as_index=False).agg({\"species\":\"nunique\", \"genus\":\"nunique\", \"fam\":\"nunique\",\"loc_date\":\"nunique\"})"
   ]
  },
  {
   "cell_type": "code",
   "execution_count": 66,
   "id": "333b0560-7e61-47f4-b493-1b13b87b8707",
   "metadata": {},
   "outputs": [
    {
     "name": "stdout",
     "output_type": "stream",
     "text": [
      "[0.25, 0.25, 0.25, 0.25]\n"
     ]
    },
    {
     "ename": "IndexError",
     "evalue": "list index out of range",
     "output_type": "error",
     "traceback": [
      "\u001b[0;31m---------------------------------------------------------------------------\u001b[0m",
      "\u001b[0;31mIndexError\u001b[0m                                Traceback (most recent call last)",
      "\u001b[0;32m/tmp/ipykernel_6755/1167379340.py\u001b[0m in \u001b[0;36m<module>\u001b[0;34m\u001b[0m\n\u001b[1;32m      7\u001b[0m \u001b[0mdata_4\u001b[0m \u001b[0;34m=\u001b[0m \u001b[0mt_four\u001b[0m\u001b[0;34m.\u001b[0m\u001b[0mvalues\u001b[0m\u001b[0;34m\u001b[0m\u001b[0;34m\u001b[0m\u001b[0m\n\u001b[1;32m      8\u001b[0m \u001b[0mfig\u001b[0m\u001b[0;34m,\u001b[0m \u001b[0maxs\u001b[0m \u001b[0;34m=\u001b[0m \u001b[0mplt\u001b[0m\u001b[0;34m.\u001b[0m\u001b[0msubplots\u001b[0m\u001b[0;34m(\u001b[0m\u001b[0;36m1\u001b[0m\u001b[0;34m,\u001b[0m\u001b[0;36m2\u001b[0m\u001b[0;34m,\u001b[0m\u001b[0mfigsize\u001b[0m\u001b[0;34m=\u001b[0m\u001b[0;34m(\u001b[0m\u001b[0;36m14\u001b[0m\u001b[0;34m,\u001b[0m\u001b[0;36m12\u001b[0m\u001b[0;34m)\u001b[0m\u001b[0;34m)\u001b[0m\u001b[0;34m\u001b[0m\u001b[0;34m\u001b[0m\u001b[0m\n\u001b[0;32m----> 9\u001b[0;31m \u001b[0mtable_one\u001b[0m \u001b[0;34m=\u001b[0m \u001b[0ma_simple_formatted_table\u001b[0m\u001b[0;34m(\u001b[0m\u001b[0maxs\u001b[0m\u001b[0;34m[\u001b[0m\u001b[0;36m0\u001b[0m\u001b[0;34m]\u001b[0m\u001b[0;34m,\u001b[0m\u001b[0mdata\u001b[0m \u001b[0;34m=\u001b[0m \u001b[0mdata_3\u001b[0m\u001b[0;34m,\u001b[0m\u001b[0mcolLabels\u001b[0m\u001b[0;34m=\u001b[0m\u001b[0mcolLabels\u001b[0m\u001b[0;34m,\u001b[0m \u001b[0mcolWidths\u001b[0m\u001b[0;34m=\u001b[0m\u001b[0mcolWidths\u001b[0m\u001b[0;34m,\u001b[0m \u001b[0mbbox\u001b[0m\u001b[0;34m=\u001b[0m\u001b[0mbbox\u001b[0m\u001b[0;34m)\u001b[0m\u001b[0;34m\u001b[0m\u001b[0;34m\u001b[0m\u001b[0m\n\u001b[0m\u001b[1;32m     10\u001b[0m \u001b[0mtable_two\u001b[0m \u001b[0;34m=\u001b[0m \u001b[0ma_simple_formatted_table\u001b[0m\u001b[0;34m(\u001b[0m\u001b[0maxs\u001b[0m\u001b[0;34m[\u001b[0m\u001b[0;36m1\u001b[0m\u001b[0;34m]\u001b[0m\u001b[0;34m,\u001b[0m\u001b[0mdata\u001b[0m \u001b[0;34m=\u001b[0m \u001b[0mdata_4\u001b[0m\u001b[0;34m,\u001b[0m\u001b[0mcolLabels\u001b[0m\u001b[0;34m=\u001b[0m\u001b[0mcolLabels\u001b[0m\u001b[0;34m,\u001b[0m \u001b[0mcolWidths\u001b[0m\u001b[0;34m=\u001b[0m\u001b[0mcolWidths\u001b[0m\u001b[0;34m,\u001b[0m \u001b[0mbbox\u001b[0m\u001b[0;34m=\u001b[0m\u001b[0mbbox\u001b[0m\u001b[0;34m)\u001b[0m\u001b[0;34m\u001b[0m\u001b[0;34m\u001b[0m\u001b[0m\n\u001b[1;32m     11\u001b[0m \u001b[0;34m\u001b[0m\u001b[0m\n",
      "\u001b[0;32m/tmp/ipykernel_6755/2738010184.py\u001b[0m in \u001b[0;36ma_simple_formatted_table\u001b[0;34m(ax, data, colLabels, colWidths, bbox, **kwargs)\u001b[0m\n\u001b[1;32m     73\u001b[0m \u001b[0;34m\u001b[0m\u001b[0m\n\u001b[1;32m     74\u001b[0m     \"\"\"\n\u001b[0;32m---> 75\u001b[0;31m     \u001b[0ma\u001b[0m \u001b[0;34m=\u001b[0m \u001b[0max\u001b[0m\u001b[0;34m.\u001b[0m\u001b[0mtable\u001b[0m\u001b[0;34m(\u001b[0m\u001b[0mdata\u001b[0m\u001b[0;34m,\u001b[0m  \u001b[0mcolLabels\u001b[0m\u001b[0;34m=\u001b[0m\u001b[0mcolLabels\u001b[0m\u001b[0;34m,\u001b[0m \u001b[0mcolWidths\u001b[0m\u001b[0;34m=\u001b[0m\u001b[0mcolWidths\u001b[0m\u001b[0;34m,\u001b[0m \u001b[0mbbox\u001b[0m\u001b[0;34m=\u001b[0m\u001b[0mbbox\u001b[0m\u001b[0;34m,\u001b[0m \u001b[0mloc\u001b[0m\u001b[0;34m=\u001b[0m\u001b[0;34m\"lower center\"\u001b[0m\u001b[0;34m,\u001b[0m \u001b[0;34m**\u001b[0m\u001b[0mkwargs\u001b[0m\u001b[0;34m)\u001b[0m\u001b[0;34m\u001b[0m\u001b[0;34m\u001b[0m\u001b[0m\n\u001b[0m\u001b[1;32m     76\u001b[0m     \u001b[0mt\u001b[0m \u001b[0;34m=\u001b[0m \u001b[0mmake_a_summary_table\u001b[0m\u001b[0;34m(\u001b[0m\u001b[0ma\u001b[0m\u001b[0;34m,\u001b[0m \u001b[0mdata\u001b[0m\u001b[0;34m,\u001b[0m \u001b[0mcolLabels\u001b[0m\u001b[0;34m,\u001b[0m \u001b[0ma_color\u001b[0m\u001b[0;34m=\u001b[0m\u001b[0;34m\"dodgerblue\"\u001b[0m\u001b[0;34m,\u001b[0m \u001b[0mfont_size\u001b[0m\u001b[0;34m=\u001b[0m\u001b[0;36m12\u001b[0m\u001b[0;34m,\u001b[0m \u001b[0ms_et_bottom_row\u001b[0m\u001b[0;34m=\u001b[0m\u001b[0;32mFalse\u001b[0m\u001b[0;34m)\u001b[0m\u001b[0;34m\u001b[0m\u001b[0;34m\u001b[0m\u001b[0m\n\u001b[1;32m     77\u001b[0m     \u001b[0;32mreturn\u001b[0m \u001b[0mt\u001b[0m\u001b[0;34m\u001b[0m\u001b[0;34m\u001b[0m\u001b[0m\n",
      "\u001b[0;32m~/anaconda3/envs/myenv/lib/python3.8/site-packages/matplotlib/table.py\u001b[0m in \u001b[0;36mtable\u001b[0;34m(ax, cellText, cellColours, cellLoc, colWidths, rowLabels, rowColours, rowLoc, colLabels, colColours, colLoc, loc, bbox, edges, **kwargs)\u001b[0m\n\u001b[1;32m    797\u001b[0m         \u001b[0;32mfor\u001b[0m \u001b[0mcol\u001b[0m \u001b[0;32min\u001b[0m \u001b[0mrange\u001b[0m\u001b[0;34m(\u001b[0m\u001b[0mcols\u001b[0m\u001b[0;34m)\u001b[0m\u001b[0;34m:\u001b[0m\u001b[0;34m\u001b[0m\u001b[0;34m\u001b[0m\u001b[0m\n\u001b[1;32m    798\u001b[0m             table.add_cell(row + offset, col,\n\u001b[0;32m--> 799\u001b[0;31m                            \u001b[0mwidth\u001b[0m\u001b[0;34m=\u001b[0m\u001b[0mcolWidths\u001b[0m\u001b[0;34m[\u001b[0m\u001b[0mcol\u001b[0m\u001b[0;34m]\u001b[0m\u001b[0;34m,\u001b[0m \u001b[0mheight\u001b[0m\u001b[0;34m=\u001b[0m\u001b[0mheight\u001b[0m\u001b[0;34m,\u001b[0m\u001b[0;34m\u001b[0m\u001b[0;34m\u001b[0m\u001b[0m\n\u001b[0m\u001b[1;32m    800\u001b[0m                            \u001b[0mtext\u001b[0m\u001b[0;34m=\u001b[0m\u001b[0mcellText\u001b[0m\u001b[0;34m[\u001b[0m\u001b[0mrow\u001b[0m\u001b[0;34m]\u001b[0m\u001b[0;34m[\u001b[0m\u001b[0mcol\u001b[0m\u001b[0;34m]\u001b[0m\u001b[0;34m,\u001b[0m\u001b[0;34m\u001b[0m\u001b[0;34m\u001b[0m\u001b[0m\n\u001b[1;32m    801\u001b[0m                            \u001b[0mfacecolor\u001b[0m\u001b[0;34m=\u001b[0m\u001b[0mcellColours\u001b[0m\u001b[0;34m[\u001b[0m\u001b[0mrow\u001b[0m\u001b[0;34m]\u001b[0m\u001b[0;34m[\u001b[0m\u001b[0mcol\u001b[0m\u001b[0;34m]\u001b[0m\u001b[0;34m,\u001b[0m\u001b[0;34m\u001b[0m\u001b[0;34m\u001b[0m\u001b[0m\n",
      "\u001b[0;31mIndexError\u001b[0m: list index out of range"
     ]
    },
    {
     "data": {
      "image/png": "[encoded data removed]",
      "text/plain": [
       "<Figure size 1008x864 with 2 Axes>"
      ]
     },
     "metadata": {
      "needs_background": "light"
     },
     "output_type": "display_data"
    }
   ],
   "source": [
    "data_3 = t_three.values\n",
    "colLabels = [\"species\",\"genus\",\"family\",\"nsamples\"]\n",
    "colWidths = [*[1/len(colLabels)]*len(colLabels)]\n",
    "bbox = [0, 0,1,1]\n",
    "print(colWidths)\n",
    "\n",
    "data_4 = t_four.values\n",
    "fig, axs = plt.subplots(1,2,figsize=(14,12))\n",
    "table_one = a_simple_formatted_table(axs[0],data = data_3,colLabels=colLabels, colWidths=colWidths, bbox=bbox)\n",
    "table_two = a_simple_formatted_table(axs[1],data = data_4,colLabels=colLabels, colWidths=colWidths, bbox=bbox)\n",
    "\n",
    "#axs[0].axis(\"off\")\n",
    "#axs[1].axis(\"off\")\n",
    "plt.show()"
   ]
  },
  {
   "cell_type": "code",
   "execution_count": 40,
   "id": "2c4a3936-4dcd-40a2-aa58-bff5ae3a7b1d",
   "metadata": {},
   "outputs": [
    {
     "data": {
      "text/plain": [
       "array([ 1,  3, 16, 15, 11,  6])"
      ]
     },
     "execution_count": 40,
     "metadata": {},
     "output_type": "execute_result"
    }
   ],
   "source": [
    "data_3[0]"
   ]
  },
  {
   "cell_type": "code",
   "execution_count": 37,
   "id": "a1162d27-ea62-430d-9c45-4738f7c56c5d",
   "metadata": {},
   "outputs": [
    {
     "data": {
      "text/plain": [
       "<AxesSubplot:>"
      ]
     },
     "execution_count": 37,
     "metadata": {},
     "output_type": "execute_result"
    }
   ],
   "source": [
    "axs[0]"
   ]
  },
  {
   "cell_type": "code",
   "execution_count": 20,
   "id": "f34abbc7-3caf-4f5a-bcd7-c4937c4430eb",
   "metadata": {},
   "outputs": [
    {
     "data": {
      "text/plain": [
       "0       plantago-lanceolata\n",
       "1           centaurea-nigra\n",
       "2            plantago-media\n",
       "3         chenopodium-album\n",
       "4           centaurea-jacea\n",
       "               ...         \n",
       "7564       anemone-nemorosa\n",
       "7565       rumex-acetosella\n",
       "7566    phyteuma-orbiculare\n",
       "7567             alchemilla\n",
       "7568       trifolium-repens\n",
       "Name: species, Length: 7569, dtype: object"
      ]
     },
     "execution_count": 20,
     "metadata": {},
     "output_type": "execute_result"
    }
   ],
   "source": [
    "a = spd.species\n",
    "a"
   ]
  },
  {
   "cell_type": "code",
   "execution_count": 21,
   "id": "32895eef-bc6f-4f07-b866-9cd7a6ce1063",
   "metadata": {},
   "outputs": [
    {
     "data": {
      "text/html": [
       "<div>\n",
       "<style scoped>\n",
       "    .dataframe tbody tr th:only-of-type {\n",
       "        vertical-align: middle;\n",
       "    }\n",
       "\n",
       "    .dataframe tbody tr th {\n",
       "        vertical-align: top;\n",
       "    }\n",
       "\n",
       "    .dataframe thead th {\n",
       "        text-align: right;\n",
       "    }\n",
       "</style>\n",
       "<table border=\"1\" class=\"dataframe\">\n",
       "  <thead>\n",
       "    <tr style=\"text-align: right;\">\n",
       "      <th></th>\n",
       "      <th>15yone</th>\n",
       "      <th>15ytwo</th>\n",
       "      <th>15niytwo</th>\n",
       "      <th>15nrgyone</th>\n",
       "    </tr>\n",
       "  </thead>\n",
       "  <tbody>\n",
       "    <tr>\n",
       "      <th>0</th>\n",
       "      <td>erigeron-annuus</td>\n",
       "      <td>taraxacum</td>\n",
       "      <td>veronica-persica</td>\n",
       "      <td>veronica</td>\n",
       "    </tr>\n",
       "    <tr>\n",
       "      <th>1</th>\n",
       "      <td>trifolium-pratense</td>\n",
       "      <td>hedera-helix</td>\n",
       "      <td>erigeron-annuus</td>\n",
       "      <td>mentha</td>\n",
       "    </tr>\n",
       "    <tr>\n",
       "      <th>2</th>\n",
       "      <td>daucus-carota</td>\n",
       "      <td>veronica-persica</td>\n",
       "      <td>mahonia-aquifolium</td>\n",
       "      <td>silene</td>\n",
       "    </tr>\n",
       "    <tr>\n",
       "      <th>3</th>\n",
       "      <td>galium-mollugo</td>\n",
       "      <td>bellis-perennis</td>\n",
       "      <td>veronica-chaemaedrys</td>\n",
       "      <td>brassica</td>\n",
       "    </tr>\n",
       "    <tr>\n",
       "      <th>4</th>\n",
       "      <td>lotus-corniculatus</td>\n",
       "      <td>plantago-lanceolata</td>\n",
       "      <td>senecio-inaequidens</td>\n",
       "      <td>lavandula</td>\n",
       "    </tr>\n",
       "    <tr>\n",
       "      <th>5</th>\n",
       "      <td>silene-vulgaris</td>\n",
       "      <td>cardamine-hirsuta</td>\n",
       "      <td>forsythia-xintermedia</td>\n",
       "      <td>centranthus</td>\n",
       "    </tr>\n",
       "    <tr>\n",
       "      <th>6</th>\n",
       "      <td>centaurea-jacea</td>\n",
       "      <td>erigeron-annuus</td>\n",
       "      <td>solidago-canadensis</td>\n",
       "      <td>parthenocissus</td>\n",
       "    </tr>\n",
       "    <tr>\n",
       "      <th>7</th>\n",
       "      <td>eupatorium-cannabinum</td>\n",
       "      <td>medicago-lupulina</td>\n",
       "      <td>viburnum-farreri</td>\n",
       "      <td>alcea</td>\n",
       "    </tr>\n",
       "    <tr>\n",
       "      <th>8</th>\n",
       "      <td>urtica-dioica</td>\n",
       "      <td>glechoma-hederacea</td>\n",
       "      <td>buddleja-davidii</td>\n",
       "      <td>oxalis</td>\n",
       "    </tr>\n",
       "    <tr>\n",
       "      <th>9</th>\n",
       "      <td>echium-vulgare</td>\n",
       "      <td>veronica-hederifolia</td>\n",
       "      <td>onobrychis-viciifolia</td>\n",
       "      <td>persicaria</td>\n",
       "    </tr>\n",
       "    <tr>\n",
       "      <th>10</th>\n",
       "      <td>hypericum-perforatum</td>\n",
       "      <td>ranunculus-ficaria</td>\n",
       "      <td>oenothera-biennis</td>\n",
       "      <td>oenothera</td>\n",
       "    </tr>\n",
       "    <tr>\n",
       "      <th>11</th>\n",
       "      <td>erigeron-canadensis</td>\n",
       "      <td>urtica-dioica</td>\n",
       "      <td>quercus-suber</td>\n",
       "      <td>anemone</td>\n",
       "    </tr>\n",
       "    <tr>\n",
       "      <th>12</th>\n",
       "      <td>achillea-millefolium</td>\n",
       "      <td>trifolium-repens</td>\n",
       "      <td>conyza-canadensis</td>\n",
       "      <td>packera</td>\n",
       "    </tr>\n",
       "    <tr>\n",
       "      <th>13</th>\n",
       "      <td>senecio-inaequidens</td>\n",
       "      <td>galium-mollugo</td>\n",
       "      <td>lepidium-densiflorum</td>\n",
       "      <td>cosmos</td>\n",
       "    </tr>\n",
       "    <tr>\n",
       "      <th>14</th>\n",
       "      <td>knautia-arvensis</td>\n",
       "      <td>senecio-vulgaris</td>\n",
       "      <td>robinia-pseudoacacia</td>\n",
       "      <td>onobrychis</td>\n",
       "    </tr>\n",
       "  </tbody>\n",
       "</table>\n",
       "</div>"
      ],
      "text/plain": [
       "                   15yone                15ytwo               15niytwo  \\\n",
       "0         erigeron-annuus             taraxacum       veronica-persica   \n",
       "1      trifolium-pratense          hedera-helix        erigeron-annuus   \n",
       "2           daucus-carota      veronica-persica     mahonia-aquifolium   \n",
       "3          galium-mollugo       bellis-perennis   veronica-chaemaedrys   \n",
       "4      lotus-corniculatus   plantago-lanceolata    senecio-inaequidens   \n",
       "5         silene-vulgaris     cardamine-hirsuta  forsythia-xintermedia   \n",
       "6         centaurea-jacea       erigeron-annuus    solidago-canadensis   \n",
       "7   eupatorium-cannabinum     medicago-lupulina       viburnum-farreri   \n",
       "8           urtica-dioica    glechoma-hederacea       buddleja-davidii   \n",
       "9          echium-vulgare  veronica-hederifolia  onobrychis-viciifolia   \n",
       "10   hypericum-perforatum    ranunculus-ficaria      oenothera-biennis   \n",
       "11    erigeron-canadensis         urtica-dioica          quercus-suber   \n",
       "12   achillea-millefolium      trifolium-repens      conyza-canadensis   \n",
       "13    senecio-inaequidens        galium-mollugo   lepidium-densiflorum   \n",
       "14       knautia-arvensis      senecio-vulgaris   robinia-pseudoacacia   \n",
       "\n",
       "         15nrgyone  \n",
       "0         veronica  \n",
       "1           mentha  \n",
       "2           silene  \n",
       "3         brassica  \n",
       "4        lavandula  \n",
       "5      centranthus  \n",
       "6   parthenocissus  \n",
       "7            alcea  \n",
       "8           oxalis  \n",
       "9       persicaria  \n",
       "10       oenothera  \n",
       "11         anemone  \n",
       "12         packera  \n",
       "13          cosmos  \n",
       "14      onobrychis  "
      ]
     },
     "execution_count": 21,
     "metadata": {},
     "output_type": "execute_result"
    }
   ],
   "source": [
    "data = [spd1sp15,spd2sp15, spd2nrsp15, spd1nrg15]\n",
    "name = [\"15yone\", \"15ytwo\",\"15niytwo\", \"15nrgyone\"]\n",
    "\n",
    "mydf = {x:data[i] for i,x in enumerate(name)}\n",
    "\n",
    "pd.DataFrame(mydf)"
   ]
  },
  {
   "cell_type": "code",
   "execution_count": null,
   "id": "a00f7169-fc5e-47c0-83db-63ff20658612",
   "metadata": {},
   "outputs": [],
   "source": [
    "a = top_y_genus(spd1nr,15)"
   ]
  },
  {
   "cell_type": "code",
   "execution_count": null,
   "id": "247fe382-0125-4de8-a52b-45c1baff5ad0",
   "metadata": {},
   "outputs": [],
   "source": [
    "spd.groupby([\"year\", \"month\"], as_index=False).species.nunique()"
   ]
  },
  {
   "cell_type": "markdown",
   "id": "71072c98",
   "metadata": {},
   "source": [
    "Year 2 saw around 5x as many plants identified as in Year 1 due to the extra experience of the surveyor in identifying plants. In Year 3, given the extra experience of the surveyor, the expected number of observations will triple to around 18'000 - 22'000 observations through the year.\n",
    "\n",
    "Not only has experience improved plant recognition significantly, but the survey method and data pipeline are now much smoother. On top of this the processes to organize and analyze the data are now in place so the survey team is much freer to focus on identifying plants and entering them in the infoflora app."
   ]
  },
  {
   "cell_type": "code",
   "execution_count": null,
   "id": "b2bb2ff4",
   "metadata": {},
   "outputs": [],
   "source": [
    "# number of unique species identified and changes in top 10 genus, species, identified, red_list species, not_indigenous species\n",
    "# number of instances and number of surveys\n",
    "# numbers per survey\n",
    "# series of monthly data, then series of quarterly data (feb-mar), (apr-may-jun),  (july-august-september-october)\n",
    "spd[\"date\"]"
   ]
  },
  {
   "cell_type": "markdown",
   "id": "e0674201",
   "metadata": {},
   "source": [
    "As we can see, the absolute and relative number of species identified went up as the year went on with a peak in early summer. Since the population diversity of herbaceous non grass flowering plants grows through the year and then peaks before going down again this is exactly to be expected. Notice that population of identified plants changes significantly through time as one might expect - each of the ten most common species and genus changes over time.\n",
    "\n",
    "The second reason this is true is that the surveyor was not comfortable identifying most plants through leaves/rosettes and so species blooming later in the year would not be identified until then. This contribution to the skew in plants identified will go down in year three now that the surveyor has a strong basis in the local flora and can recognize future flowers based on leaf patterns for a significant number of the local species. If species cannot be identified, then genera can be also be more accurately noted.\n",
    "\n",
    "An additional bias is that the surveyor collected a number of \"empty\" surveys of different areas with only some of the city trees in flower (such as corylus avellana) during February. This is not really an accurate represenation of the survey areas, even necessarily through the month of february and early march. As such, this data has been left out aside from a few early survey sites with some populations of flower plants. In other words, lots of empty values are left out. This will be addressed by including at least family level taxonomic identification (e.g. poaceae 1, poaceae 2, salix sp) even in places without the herbaceous vascual\n",
    "\n",
    "The literature is clear that both late blooming and early blooming species are critically important for overwintering for small animals and especially insects. This will be taken into account to more accurately "
   ]
  },
  {
   "cell_type": "code",
   "execution_count": null,
   "id": "6a02844d",
   "metadata": {},
   "outputs": [],
   "source": []
  },
  {
   "cell_type": "code",
   "execution_count": null,
   "id": "8a43b1c7",
   "metadata": {},
   "outputs": [],
   "source": [
    "### Comparing lots, describing lots, there are four pulled out of the data here\n",
    "\n",
    "lot_list = [\"schwanen\", \"port\", \"taubenloch\"]\n",
    "\n",
    "sch = spd.loc[spd['lot'] == \"schwanen\"].copy()\n",
    "\n",
    "por = spd.loc[spd['lot'] == \"port\"]\n",
    "\n",
    "tau = spd.loc[spd['lot'] == \"taubenloch\"]\n",
    "\n",
    "fla = spd.loc[spd[\"lot\"] == \"flaess\"]\n",
    "\n",
    "\n",
    "# Compare numbers in key categories (here, not indigenous, watch list, black list, near threatened in MP)\n",
    "nisch = sch.loc[sch['ni'] =='ni']\n",
    "wlsch = sch.loc[sch['inv'] =='WL']\n",
    "blsch = sch.loc[sch['inv'] =='BL']\n",
    "odesch = sch.loc[sch['ode'] == \"ode\"]\n",
    "ntmpsch =  sch.loc[sch['rmp'] =='NT']\n",
    "vumpsch =  sch.loc[sch['rmp'] =='VU']\n",
    "\n",
    "print(F\"there is {ntmpsch.species.nunique()} species on the NT list\")\n",
    "print(F\"there is {wlsch.species.nunique()} species on the watch list\")\n",
    "print(F\"there is {blsch.species.nunique()} species on the black list\")\n",
    "print(F\"there is {odesch.species.nunique()} species on the ode list\")\n",
    "print(F\"there is {vumpsch.species.nunique()} species on the vulnerable list\")\n",
    "print(F\"there are {nisch.species.nunique()} non indigenous non invasive species\")\n"
   ]
  },
  {
   "cell_type": "code",
   "execution_count": null,
   "id": "1fe8bdf2",
   "metadata": {},
   "outputs": [],
   "source": []
  },
  {
   "cell_type": "code",
   "execution_count": null,
   "id": "642d768a",
   "metadata": {},
   "outputs": [],
   "source": [
    "a = top_y_species(sch,15)\n",
    "c = top_y_species(sch,10)\n",
    "a"
   ]
  },
  {
   "cell_type": "code",
   "execution_count": null,
   "id": "17edf096",
   "metadata": {},
   "outputs": [],
   "source": [
    "d = top_y_genus(spd,15)\n",
    "d"
   ]
  },
  {
   "cell_type": "code",
   "execution_count": null,
   "id": "c685214c",
   "metadata": {},
   "outputs": [],
   "source": [
    "b = top_y_genus(sch,15)\n",
    "b"
   ]
  },
  {
   "cell_type": "code",
   "execution_count": null,
   "id": "8a330f3f",
   "metadata": {},
   "outputs": [],
   "source": [
    "spdy = top_y_genus(spd,25)\n"
   ]
  },
  {
   "cell_type": "code",
   "execution_count": null,
   "id": "43df5ef0",
   "metadata": {},
   "outputs": [],
   "source": [
    "spd.project.unique()"
   ]
  },
  {
   "cell_type": "code",
   "execution_count": null,
   "id": "e693d126",
   "metadata": {},
   "outputs": [],
   "source": [
    "# Describe and compare the renaturalization areas\n",
    "\n",
    "cyg = spd.loc[spd['project'] == \"renat-cygnes\"]\n",
    "\n",
    "suz = spd.loc[spd['project'] == \"renat-suze\"]\n",
    "\n",
    "pro = spd.loc[spd['project'] == \"pronat\"]\n",
    "\n",
    "neu = spd.loc[spd[\"project\"] == \"renat-neumatt\"]\n",
    "\n",
    "prosp = pro.species.unique()\n",
    "prosp"
   ]
  },
  {
   "cell_type": "code",
   "execution_count": null,
   "id": "56d1cf10",
   "metadata": {},
   "outputs": [],
   "source": [
    "spd['species'].value_counts()[:15].index.tolist()\n",
    "lots = spd[spd[\"lot\"] != \"X\"]\n",
    "lots['species'].value_counts()[:15].index.tolist()"
   ]
  },
  {
   "cell_type": "code",
   "execution_count": null,
   "id": "6729096a",
   "metadata": {},
   "outputs": [],
   "source": [
    "spd.river.unique()"
   ]
  },
  {
   "cell_type": "code",
   "execution_count": null,
   "id": "23988976",
   "metadata": {},
   "outputs": [],
   "source": [
    "# describe and compare the rivers: madretschkanal, suze, schuessinsel, and all suze length combined vs total\n",
    "\n",
    "suz = spd.loc[spd['river'] == \"suze\"]\n",
    "\n",
    "mad = spd.loc[spd['river'] == \"madretschkanal\"]\n",
    "\n",
    "sch = spd.loc[spd['river'] == \"schuessinsel\"]\n",
    "\n",
    "suz.head()"
   ]
  },
  {
   "cell_type": "code",
   "execution_count": null,
   "id": "5508755e",
   "metadata": {},
   "outputs": [],
   "source": []
  },
  {
   "cell_type": "code",
   "execution_count": null,
   "id": "e58ef03b",
   "metadata": {},
   "outputs": [],
   "source": [
    "# describe pro nature renaturalization areas, compare to lots, to other renats, to everything else \"berm\""
   ]
  },
  {
   "cell_type": "code",
   "execution_count": null,
   "id": "f7317f95",
   "metadata": {},
   "outputs": [],
   "source": []
  },
  {
   "cell_type": "code",
   "execution_count": null,
   "id": "57132bee",
   "metadata": {},
   "outputs": [],
   "source": []
  },
  {
   "cell_type": "code",
   "execution_count": null,
   "id": "9a30af8d",
   "metadata": {},
   "outputs": [],
   "source": [
    "sch.species.nunique()"
   ]
  },
  {
   "cell_type": "code",
   "execution_count": null,
   "id": "fbbf3627",
   "metadata": {},
   "outputs": [],
   "source": []
  },
  {
   "cell_type": "code",
   "execution_count": null,
   "id": "8ab079bc",
   "metadata": {},
   "outputs": [],
   "source": []
  }
 ],
 "metadata": {
  "kernelspec": {
   "display_name": "Python 3 (ipykernel)",
   "language": "python",
   "name": "python3"
  },
  "language_info": {
   "codemirror_mode": {
    "name": "ipython",
    "version": 3
   },
   "file_extension": ".py",
   "mimetype": "text/x-python",
   "name": "python",
   "nbconvert_exporter": "python",
   "pygments_lexer": "ipython3",
   "version": "3.8.12"
  }
 },
 "nbformat": 4,
 "nbformat_minor": 5
}
