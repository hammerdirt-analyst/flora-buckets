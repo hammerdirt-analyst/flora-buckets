{
 "cells": [
  {
   "cell_type": "code",
   "execution_count": 1,
   "id": "4527de73",
   "metadata": {
    "tags": []
   },
   "outputs": [],
   "source": [
    "# math and data packages\n",
    "import pandas as pd\n",
    "import numpy as np\n",
    "import math\n",
    "\n",
    "# charting and graphics\n",
    "import matplotlib as mpl\n",
    "import matplotlib.pyplot as plt\n",
    "from matplotlib import colors\n",
    "import seaborn as sns\n",
    "import matplotlib.ticker as ticker\n",
    "import matplotlib.dates as mdates\n",
    "from matplotlib.gridspec import GridSpec\n",
    "\n",
    "# os and file types\n",
    "import os\n",
    "import sys\n",
    "import datetime as dt\n",
    "import json\n",
    "import csv\n",
    "\n",
    "# images and display\n",
    "# import base64, io, IPython\n",
    "from PIL import Image as PILImage\n",
    "from IPython.display import Markdown as md\n",
    "from IPython.display import display\n",
    "\n",
    "# survey data\n",
    "# date issue to fix year one (put from dd.mm.yy format -> yyyy-mm-dd format)\n",
    "# date issue to fix year two (data looks fine - check with analyst)\n",
    "# commune issue to fix (cdf in way too many communes)\n",
    "spd=pd.read_csv(\"resources/survey_data_20_21_geo_watch_list.csv\")\n",
    "spd[\"date\"] = pd.to_datetime(spd[\"date\"])\n",
    "spd[\"month\"] = spd[\"date\"].dt.month\n",
    "def make_genus(data):\n",
    "    data[\"genus\"] = data.species.map(lambda x: support_genus(x))\n",
    "    return data\n",
    "def support_genus(x):\n",
    "    \"\"\"Collect the genus from the genus species. Called in functions and methods that compare genus.\n",
    "    :param x: df\n",
    "    \"\"\"\n",
    "    try: \n",
    "        int_data = x.split(\"-\")\n",
    "        data = int_data[:1]\n",
    "    except:\n",
    "        data = \"none\"\n",
    "    return data[0]\n",
    "spd = make_genus(spd)\n",
    "spd = spd.fillna(\"X\")"
   ]
  },
  {
   "cell_type": "code",
   "execution_count": null,
   "id": "330eb4be-bc0e-43ca-8a00-29ed658b7186",
   "metadata": {},
   "outputs": [],
   "source": []
  },
  {
   "cell_type": "code",
   "execution_count": 2,
   "id": "4383f046",
   "metadata": {
    "tags": []
   },
   "outputs": [],
   "source": [
    "# functions that will be used in each subgroup, part of analysis and in the whole data\n",
    "\n",
    "# number of surveys per year per location (needs loc_date column)\n",
    "\n",
    "def nSamplesPerYearPlace(x):\n",
    "    \"\"\"returns samples per year for each location\n",
    "    param x: df\n",
    "    \"\"\"\n",
    "    return x.loc_date.nunique()\n",
    "\n",
    "def top_y_species(x,y):\n",
    "    \"\"\"returns list of top y number of unique species in passed df x\n",
    "    :param x: df\n",
    "    :param y: Integer index stop for the number of requested record\n",
    "    \"\"\"\n",
    "    return x['species'].value_counts()[:y].index.tolist()\n",
    "\n",
    "def top_y_genus(x,y):\n",
    "    \"\"\"returns list of top y number of unique genus in passed df x\n",
    "    param x: df\n",
    "    param y: int, final rank to include in the list\n",
    "    \"\"\"\n",
    "    \n",
    "    return x.species.map(lambda x: support_genus(x)).unique()[:y]\n",
    "\n",
    "def top_y_group(x,y,col):\n",
    "    \"\"\"returns list of top y number of unique elements in column col in passed df x\n",
    "    :param x: df\n",
    "    :param y: int, final rank to include in list of top most common elements\n",
    "    :param col: str, name of column to sort according to frequency of values\n",
    "    example: top_y_group(dataframe, 10, \"species\") returns top 10 values in species column of provided dataframe.\n",
    "    \"\"\"\n",
    "    return x[col].value_counts()[:y].index.tolist()\n",
    "\n",
    "def red_list(x,y, column_name=\"biogeo\"):\n",
    "    \"\"\"returns dataframe of species with the useful redlist codes\n",
    "    of the species in passed df x in biogeo region y.\n",
    "    :param x: df\n",
    "    :param y: str, bioregion (ju, mp, na)\n",
    "    :e.g.: {\"nt\": [carduus-crispus, alcea-rosea], vu = [\"cardamine-hirsuta\"], LC = ....}\n",
    "    \"\"\"\n",
    "    int_data = x.loc[x[\"biogeo\"] == y]\n",
    "    for i in [\"VU\", \"NT\", \"LC\", \"EN\", \"NE\", \"DD\"]:\n",
    "        if y == \"ju\":\n",
    "            int_data.loc[int_data[\"rju\"]==i]\n",
    "        elif y == \"mp\":\n",
    "            int_data.loc[int_data[\"rmp\"]==i]\n",
    "        else:\n",
    "            int_data.loc[int_data[\"rch\"]==i]\n",
    "    return int_data\n",
    "# returns a dataframe composed of the non-native status\n",
    "def no_redlist_status(x, ni=\"ni\", wl=\"WL\", bl=\"BL\", inv=\"inv\"):\n",
    "    nix = x.loc[x[ni] == ni]\n",
    "    wlx = x.loc[x[inv] == wl] \n",
    "    blx = x.loc[x[inv] == bl]\n",
    "    int_data = nix.append(wlx)\n",
    "    data = int_data.append(blx)\n",
    "    return data"
   ]
  },
  {
   "cell_type": "code",
   "execution_count": 3,
   "id": "aab16676",
   "metadata": {
    "tags": []
   },
   "outputs": [],
   "source": [
    "# functions\n",
    "\n",
    "# species per location/date combination (uniquely defines a sample)\n",
    "def nSpeciesPerSample(data):\n",
    "    return data.groupby([\"date\", \"place\"], as_index=False).species.count()\n",
    "\n",
    "def aSpeciesPerSample(data, species=[]):\n",
    "    \"\"\"The per sample data for a species\n",
    "    \"\"\"\n",
    "    new_data = nSpeciesPerSample(data[data[\"species\"].isin(species)])\n",
    "    new_data.rename(columns={\"species\":species[0]}, inplace=True)\n",
    "    return new_data\n",
    "\n",
    "# species per location\n",
    "def speciesPlaceNsamps(data):\n",
    "    return data.groupby([\"species\", \"place\"], as_index=False).loc_date.nunique()\n",
    "\n",
    "def pivot_this(data, colnames, index, column, value):\n",
    "    return data[colnames].pivot(index=index, columns=column, values=value).fillna(0)\n",
    "\n",
    "def speciesPerLocation(data,colnames, index=\"species\",columns=\"place\",values=\"loc_date\"):\n",
    "    \"\"\"Uses speciesPlaceNsamps to return a matrix of species and locations with value of\n",
    "    number of times identified at that location\n",
    "    \"\"\"\n",
    "    return pivot_this(data, colnames, index, columns, values)\n",
    "\n",
    "def speciesPlace(species_data, soi):\n",
    "    \"\"\"Uses speciesPerlocation to report on one species\"\"\"\n",
    "    return species_data.loc[soi, (species_data.loc[soi] > 0)]"
   ]
  },
  {
   "cell_type": "code",
   "execution_count": 4,
   "id": "f8f060c6-aada-48d4-b2b7-ab51ad543e3a",
   "metadata": {},
   "outputs": [],
   "source": [
    "spd2 = spd.loc[spd.year == 2].copy()\n",
    "early = spd2[spd2[\"month\"] < 2]\n",
    "late = spd2[spd2[\"month\"]>9]"
   ]
  },
  {
   "cell_type": "code",
   "execution_count": 5,
   "id": "5622e8d1",
   "metadata": {
    "tags": []
   },
   "outputs": [],
   "source": [
    "# separate summary observations in each year\n",
    "spd1 = spd.loc[spd.year == 1].copy()\n",
    "spd1.fillna(0).copy()\n",
    "spd2 = spd.loc[(spd[\"date\"] < \"2021-10-01\")&(spd[\"year\"] == 2)].copy()\n",
    "spd2.fillna(0).copy()\n",
    "\n",
    "# top 15 genus and species in y1, y2\n",
    "spd1g15 = top_y_genus(spd1,15)\n",
    "spd2g15 = top_y_genus(spd2,15)\n",
    "spd1sp15 = top_y_species(spd1,15)\n",
    "spd2sp15 = top_y_species(spd2,15)\n",
    "sp1 = spd1.species.nunique()\n",
    "sp2 = spd2.species.nunique()\n",
    "# top 15 non native genus and species in y1, y2\n",
    "\n",
    "spd1nr = no_redlist_status(spd1)\n",
    "spd2nr = no_redlist_status(spd2)\n",
    "\n",
    "spd1nrg15 = top_y_genus(no_redlist_status(spd1),15)\n",
    "spd2nrg15 = top_y_genus(spd2nr,15)\n",
    "spd1nrsp15 = top_y_species(spd1nr,15)\n",
    "spd2nrsp15 = top_y_species(spd2nr,15)\n",
    "sp1nr = spd1nr.species.nunique()\n",
    "\n",
    "# top 15 native fam, genus, species in y1, y2  \n",
    "spd1rl = spd1[spd1[\"fam\"]!='X']\n",
    "spd2rl = spd2[spd2[\"fam\"]!='X']\n",
    "spd1rlfam = top_y_group(spd1,15,\"fam\")\n",
    "spd2rlfam = top_y_group(spd2,15, \"fam\")\n",
    "spd2ng = top_y_genus(spd2nr,15)\n",
    "# spd1nrg15 = top_y_species(spd1nr,15)"
   ]
  },
  {
   "cell_type": "code",
   "execution_count": 6,
   "id": "f6920305-99a2-42c4-bd31-c0f11b0e28d0",
   "metadata": {
    "tags": []
   },
   "outputs": [],
   "source": [
    "def make_a_summary_table(ax, data,colLabels, a_color=\"black\", font_size=12, s_et_bottom_row=True):\n",
    "    \n",
    "    \"\"\"Formats matplotlib table object.\n",
    "\n",
    "    Args:\n",
    "    ax: object: matplotlib table object\n",
    "    data: array: the 2d array used to generate the table object\n",
    "    cols_to_use: array: the list of column names\n",
    "    a_color: str: matplotlib named color, face and edgecolor of table cells\n",
    "    font_size: int: the font size for the table cells\n",
    "    s_et_bottom_row: bool: whether or not to draw bottom line on the last row\n",
    "\n",
    "    Returns:\n",
    "    The table object formatted.\n",
    "    \"\"\"\n",
    "\n",
    "    ax.auto_set_font_size(False)\n",
    "    the_cells = ax.get_celld()\n",
    "\n",
    "    line_color = colors.to_rgba(a_color)\n",
    "    banded_color = (*line_color[:-1], 0.1)\n",
    "\n",
    "    # the different areas of formatting\n",
    "    top_row = [(0, i) for i in np.arange(len(colLabels))]\n",
    "    bottom_row = [(len(data), i) for i in np.arange(len(colLabels))]\n",
    "    data_rows = [x for x in list(the_cells.keys()) if x not in top_row]\n",
    "        \n",
    "    for a_cell in top_row:\n",
    "        ax[a_cell].visible_edges = \"B\"\n",
    "        ax[a_cell].set_text_props(**{\"fontsize\": font_size})\n",
    "        ax[a_cell].set_edgecolor(\"black\")\n",
    "        ax[a_cell].PAD = .2\n",
    "        ax[a_cell].set_linewidth = 1\n",
    "        ax[a_cell].set_height(.5 / (len(data)))\n",
    "\n",
    "    for a_cell in data_rows:\n",
    "        ax[a_cell].set_height(.5 / (len(data)))\n",
    "        ax[a_cell].visible_edges = \"BT\"\n",
    "        ax[a_cell].set_text_props(**{\"fontsize\": font_size})\n",
    "        ax[a_cell].set_edgecolor(banded_color)\n",
    "        ax[a_cell]._text.set_horizontalalignment(\"center\")\n",
    "        ax[a_cell].set_linewidth = .1\n",
    "\n",
    "    if s_et_bottom_row is True:\n",
    "        \n",
    "        for a_cell in bottom_row:\n",
    "            ax[a_cell].visible_edges = \"B\"\n",
    "            ax[a_cell].set_edgecolor(line_color)\n",
    "            ax[a_cell].set_linewidth = 1\n",
    "\n",
    "    return ax\n",
    "\n",
    "\n",
    "\n",
    "def a_simple_formatted_table(ax,data,colLabels=[], a_color=\"black\", colWidths=[], bbox=[], **kwargs):\n",
    "    \"\"\"Makes a table with rows from a matplotlib axes object and a 2d array. Header row is\n",
    "    spererated from table body by a thicker black line. \n",
    "    \n",
    "    :param ax: An axes\n",
    "    :type ax: matplotlib axes\n",
    "    :param data: An array of the table values not including column names or labels\n",
    "    :type data: array\n",
    "    :param colLabels: The labels for the data table columns\n",
    "    :type colLabels: array\n",
    "    :param a_color: The color of the cell borders\n",
    "    :type a_color: str\n",
    "    :param colWidths: The width of each column in fractions of 1\n",
    "    :type colWdiths: array, x < 1\n",
    "    :param bbox: The location of the table in figure space\n",
    "    :type bbox: array\n",
    "    :return: A table on the provided axis\n",
    "    :rtype: matplotlib.axes\n",
    "    \n",
    "    \"\"\"\n",
    "    a = ax.table(data,  colLabels=colLabels, colWidths=colWidths, bbox=bbox, loc=\"lower center\", **kwargs)\n",
    "    t = make_a_summary_table(a, data, colLabels, a_color=a_color, font_size=12, s_et_bottom_row=False)\n",
    "    return t\n",
    "\n",
    "\n",
    "def a_stacked_bar_chart(ax, bars, xaxis=[], totals={}, **kwargs):\n",
    "    \"\"\"Makes a stacked barchart given a matplotlib < ax > object\n",
    "    and a dictionary of values for each \"row\" of the stack.\n",
    "    \n",
    "    :param ax: A matplotlib axes object\n",
    "    :type ax: matplotlib.axes\n",
    "    :param bars: Dictionary of values for each row\n",
    "    :type bars: dict\n",
    "    :param xaxis: The values that define the xaxis, can be\n",
    "         date or categorical\n",
    "    :type xaxis: array\n",
    "    :param totals: A dictionary for a second non stacked bar chart.\n",
    "    :type totals: dict\n",
    "    :Return: A matplotlib axes object with a stacked barchart.    \n",
    "    \"\"\"\n",
    "    # set the bottom of the stacked bar chart\n",
    "    bottom = 0\n",
    "    \n",
    "    if totals:\n",
    "        # this is a seperate independent stack\n",
    "        # its value does not effect the value of <bottom>\n",
    "        ax.bar(xaxis, totals[\"data\"], bottom=bottom, label=totals[\"label\"], zorder=0)\n",
    "    else:\n",
    "        pass\n",
    "    \n",
    "    for a_bar in bars:\n",
    "        ax.bar(xaxis, bars[a_bar][\"data\"], bottom=bottom, label=a_bar, zorder=2)\n",
    "        \n",
    "        # add the value of data to bottom\n",
    "        bottom += bars[a_bar][\"data\"]\n",
    "    \n",
    "    return ax\n",
    "\n",
    "def a_single_column_table(ax,data, fs=12, colWidths=[.7, .3], bbox=[0,0,1,1], kwargs={}):\n",
    "    \"\"\"Makes a table with rows from a matplotlib axes object and a 2d array. Header row is\n",
    "    spererated from table body by a thicker black line. \n",
    "    \n",
    "    :param ax: An axes\n",
    "    :type ax: matplotlib axes\n",
    "    :param data: An array of the table values not including column names or labels\n",
    "    :type data: array\n",
    "    :param fs: The font size for the cell data\n",
    "    :type fs: float, int\n",
    "    :param colWidths: The width of each column in fractions of 1\n",
    "    :type colWdiths: array, x < 1\n",
    "    :param bbox: The location of the table in figure space\n",
    "    :type bbox: array\n",
    "    :return: A table on the provided axis\n",
    "    :rtype: matplotlib.axes\n",
    "    \n",
    "    \"\"\"\n",
    "    \n",
    "    \n",
    "    a = ax.table(data, colWidths=colWidths, bbox=bbox, loc=\"lower center\", **kwargs)\n",
    "    a.auto_set_font_size(False)\n",
    "    a.set_fontsize(fs)\n",
    "\n",
    "    return a"
   ]
  },
  {
   "cell_type": "markdown",
   "id": "e869d8b8-09cf-462c-b6f8-5db7869d8fc7",
   "metadata": {},
   "source": [
    "### Year one summary values\n",
    "\n",
    "*__Below left:__ The number of species, samples and locations sampled per month. __Top right:__ The number of unique species identified per sample. __Bottom right:__ The aggregated values for year one.*"
   ]
  },
  {
   "cell_type": "code",
   "execution_count": 167,
   "id": "8e259e3b-6445-4690-bb6a-7e30ec88ed1e",
   "metadata": {
    "tags": []
   },
   "outputs": [
    {
     "data": {
      "image/png": "[encoded data removed]",
      "text/plain": [
       "<Figure size 720x504 with 3 Axes>"
      ]
     },
     "metadata": {
      "needs_background": "light"
     },
     "output_type": "display_data"
    }
   ],
   "source": [
    "# Question is how moveable are the values?\n",
    "\n",
    "# axone monthly summary values\n",
    "t_one = spd1.groupby([\"month\"], as_index=False).agg({\"species\":\"nunique\", \"loc_date\":\"nunique\", \"locname\":\"nunique\"})\n",
    "\n",
    "data = t_one.values\n",
    "colLabels = [*t_one.columns[:-2], \"nsamples\", \"nplaces\"]\n",
    "colWidths = [*[1/len(colLabels)]*len(colLabels)]\n",
    "bbox = [0, 0,1,1]\n",
    "\n",
    "# axtwo species identified per sample\n",
    "d = spd1.groupby([\"date\", \"locname\"], as_index=False).species.count()\n",
    "\n",
    "# axthree summary values\n",
    "summary={\n",
    "    \"number of samples\":spd1.loc_date.nunique(),\n",
    "    \"first sample\": spd1[\"date\"].min().date(),\n",
    "    \"last sample\":spd1[\"date\"].max().date(),\n",
    "    \"number of places\":spd1.locname.nunique(),\n",
    "    \"number of species\":spd1.species.nunique(),\n",
    "    \"number of families\":spd1.fam.nunique(),    \n",
    "\n",
    "}\n",
    "\n",
    "a_summary = pd.DataFrame.from_dict(summary, orient=\"index\").reset_index()\n",
    "\n",
    "\n",
    "fig = plt.figure(figsize=(10,7))\n",
    "\n",
    "gs = GridSpec(10,11)\n",
    "\n",
    "axone = fig.add_subplot(gs[:, 0:5])\n",
    "axtwo = fig.add_subplot(gs[0:5, 6:])\n",
    "axthree = fig.add_subplot(gs[6:, 6:])\n",
    "\n",
    "# axone\n",
    "table_one = a_simple_formatted_table(axone,data,colLabels=colLabels, colWidths=colWidths, bbox=bbox)\n",
    "axone.axis(\"off\")\n",
    "\n",
    "# axtwo\n",
    "locator = mdates.MonthLocator()  # every month\n",
    "fmt = mdates.DateFormatter('%b')\n",
    "sns.scatterplot(data=d, x=\"date\", y=\"species\", ax=axtwo)\n",
    "axtwo.xaxis.set_major_locator(locator)\n",
    "axtwo.xaxis.set_major_formatter(fmt)\n",
    "axtwo.set_ylabel(\"# species indentified\")\n",
    "axtwo.set_xlabel(\"\")\n",
    "\n",
    "# axthree\n",
    "b = a_single_column_table(axthree, a_summary.values, colWidths=[.6, .4])\n",
    "axthree.axis(\"off\")\n",
    "\n",
    "plt.show()"
   ]
  },
  {
   "cell_type": "markdown",
   "id": "e057ef66-7b88-4e42-8df9-0b4f7f6bc40f",
   "metadata": {},
   "source": [
    "Year 2 saw around 5x as many plants identified as in Year 1 due to the extra experience of the surveyor in identifying plants. In Year 3, given the extra experience of the surveyor, the expected number of observations will triple to around 18'000 - 22'000 observations through the year.\n",
    "\n",
    "Not only has experience improved plant recognition significantly, but the survey method and data pipeline are now much smoother. On top of this the processes to organize and analyze the data are now in place so the survey team is much freer to focus on identifying plants and entering them in the infoflora app."
   ]
  },
  {
   "cell_type": "markdown",
   "id": "b7fc5515-30c7-4a5a-be91-710020380066",
   "metadata": {},
   "source": [
    "### Year two summary values\n",
    "\n",
    "*__Below left:__ The number of species, samples and locations sampled per month. __Top right:__ The number of unique species identified per sample. __Bottom right:__ The aggregated values for year two.*"
   ]
  },
  {
   "cell_type": "code",
   "execution_count": 168,
   "id": "b2019e9c-1192-4b5d-af98-0be37ea5562f",
   "metadata": {
    "jupyter": {
     "source_hidden": true
    },
    "tags": []
   },
   "outputs": [
    {
     "name": "stdout",
     "output_type": "stream",
     "text": [
      "[0.25, 0.25, 0.25, 0.25]\n"
     ]
    },
    {
     "data": {
      "image/png": "[encoded data removed]",
      "text/plain": [
       "<Figure size 720x504 with 3 Axes>"
      ]
     },
     "metadata": {
      "needs_background": "light"
     },
     "output_type": "display_data"
    }
   ],
   "source": [
    "# get rid of any nan vals\n",
    "spd2 = spd2.fillna(0)\n",
    "\n",
    "\n",
    "# axone monthly summary values\n",
    "t_one = spd2.groupby([\"month\"], as_index=False).agg({\"species\":\"nunique\", \"loc_date\":\"nunique\", \"locname\":\"nunique\"})\n",
    "\n",
    "data = t_one.values\n",
    "colLabels = [*t_one.columns[:-2], \"nsamples\", \"nplaces\"]\n",
    "colWidths = [*[1/len(colLabels)]*len(colLabels)]\n",
    "print(colWidths)\n",
    "bbox = [0, 0,1,1]\n",
    "\n",
    "# axtwo species identified per sample\n",
    "d = spd2.groupby([\"date\", \"locname\"], as_index=False).species.count()\n",
    "\n",
    "# axthree summary values\n",
    "summary={\n",
    "    \"number of samples\":spd2.loc_date.nunique(),\n",
    "    \"first sample\": spd2[\"date\"].min().date(),\n",
    "    \"last sample\":spd2[\"date\"].max().date(),\n",
    "    \"number of places\":spd2.locname.nunique(),\n",
    "    \"number of species\":spd2.species.nunique(),\n",
    "    \"number of families\":spd2.fam.nunique(),    \n",
    "\n",
    "}\n",
    "\n",
    "a_summary = pd.DataFrame.from_dict(summary, orient=\"index\").reset_index()\n",
    "\n",
    "\n",
    "fig = plt.figure(figsize=(10,7))\n",
    "\n",
    "gs = GridSpec(10,11)\n",
    "\n",
    "axone = fig.add_subplot(gs[:, 0:5])\n",
    "axtwo = fig.add_subplot(gs[0:5, 6:])\n",
    "axthree = fig.add_subplot(gs[6:, 6:])\n",
    "\n",
    "# axone\n",
    "table_one = a_simple_formatted_table(axone,data,colLabels=colLabels, colWidths=colWidths, bbox=bbox)\n",
    "axone.axis(\"off\")\n",
    "\n",
    "# axtwo\n",
    "locator = mdates.MonthLocator()  # every month\n",
    "fmt = mdates.DateFormatter('%b')\n",
    "sns.scatterplot(data=d, x=\"date\", y=\"species\", ax=axtwo)\n",
    "axtwo.xaxis.set_major_locator(locator)\n",
    "axtwo.xaxis.set_major_formatter(fmt)\n",
    "axtwo.set_ylabel(\"# species indentified\")\n",
    "axtwo.set_xlabel(\"\")\n",
    "\n",
    "# axthree\n",
    "b = a_single_column_table(axthree, a_summary.values, colWidths=[.6, .4])\n",
    "axthree.axis(\"off\")\n",
    "\n",
    "plt.show()"
   ]
  },
  {
   "cell_type": "markdown",
   "id": "71072c98",
   "metadata": {},
   "source": []
  },
  {
   "cell_type": "code",
   "execution_count": 169,
   "id": "b2bb2ff4",
   "metadata": {
    "tags": []
   },
   "outputs": [],
   "source": [
    "# number of unique species identified and changes in top 10 genus, species, identified, red_list species, not_indigenous species\n",
    "# number of instances and number of surveys\n",
    "# numbers per survey\n",
    "# series of monthly data, then series of quarterly data (feb-mar), (apr-may-jun),  (july-august-september-october)"
   ]
  },
  {
   "cell_type": "code",
   "execution_count": 170,
   "id": "16448a53-d027-4ad1-ae29-15586685cd48",
   "metadata": {},
   "outputs": [
    {
     "name": "stdout",
     "output_type": "stream",
     "text": [
      "[0 1 2 3]\n"
     ]
    },
    {
     "data": {
      "text/plain": [
       "[0.25, 0.25, 0.25, 0.25]"
      ]
     },
     "execution_count": 170,
     "metadata": {},
     "output_type": "execute_result"
    }
   ],
   "source": [
    "f = np.arange(4)\n",
    "print(f)\n",
    "[*[1/len(f)]*len(f)]"
   ]
  },
  {
   "cell_type": "code",
   "execution_count": 171,
   "id": "726c6131-982c-4141-9499-35a1c03f62b4",
   "metadata": {},
   "outputs": [
    {
     "data": {
      "text/html": [
       "<div>\n",
       "<style scoped>\n",
       "    .dataframe tbody tr th:only-of-type {\n",
       "        vertical-align: middle;\n",
       "    }\n",
       "\n",
       "    .dataframe tbody tr th {\n",
       "        vertical-align: top;\n",
       "    }\n",
       "\n",
       "    .dataframe thead th {\n",
       "        text-align: right;\n",
       "    }\n",
       "</style>\n",
       "<table border=\"1\" class=\"dataframe\">\n",
       "  <thead>\n",
       "    <tr style=\"text-align: right;\">\n",
       "      <th></th>\n",
       "      <th>month</th>\n",
       "      <th>species</th>\n",
       "      <th>loc_date</th>\n",
       "      <th>locname</th>\n",
       "    </tr>\n",
       "  </thead>\n",
       "  <tbody>\n",
       "    <tr>\n",
       "      <th>0</th>\n",
       "      <td>2</td>\n",
       "      <td>36</td>\n",
       "      <td>65</td>\n",
       "      <td>64</td>\n",
       "    </tr>\n",
       "    <tr>\n",
       "      <th>1</th>\n",
       "      <td>3</td>\n",
       "      <td>71</td>\n",
       "      <td>116</td>\n",
       "      <td>116</td>\n",
       "    </tr>\n",
       "    <tr>\n",
       "      <th>2</th>\n",
       "      <td>4</td>\n",
       "      <td>152</td>\n",
       "      <td>167</td>\n",
       "      <td>167</td>\n",
       "    </tr>\n",
       "    <tr>\n",
       "      <th>3</th>\n",
       "      <td>5</td>\n",
       "      <td>230</td>\n",
       "      <td>86</td>\n",
       "      <td>83</td>\n",
       "    </tr>\n",
       "    <tr>\n",
       "      <th>4</th>\n",
       "      <td>6</td>\n",
       "      <td>270</td>\n",
       "      <td>79</td>\n",
       "      <td>67</td>\n",
       "    </tr>\n",
       "    <tr>\n",
       "      <th>5</th>\n",
       "      <td>7</td>\n",
       "      <td>256</td>\n",
       "      <td>72</td>\n",
       "      <td>65</td>\n",
       "    </tr>\n",
       "    <tr>\n",
       "      <th>6</th>\n",
       "      <td>8</td>\n",
       "      <td>214</td>\n",
       "      <td>36</td>\n",
       "      <td>35</td>\n",
       "    </tr>\n",
       "    <tr>\n",
       "      <th>7</th>\n",
       "      <td>9</td>\n",
       "      <td>91</td>\n",
       "      <td>7</td>\n",
       "      <td>7</td>\n",
       "    </tr>\n",
       "  </tbody>\n",
       "</table>\n",
       "</div>"
      ],
      "text/plain": [
       "   month  species  loc_date  locname\n",
       "0      2       36        65       64\n",
       "1      3       71       116      116\n",
       "2      4      152       167      167\n",
       "3      5      230        86       83\n",
       "4      6      270        79       67\n",
       "5      7      256        72       65\n",
       "6      8      214        36       35\n",
       "7      9       91         7        7"
      ]
     },
     "execution_count": 171,
     "metadata": {},
     "output_type": "execute_result"
    }
   ],
   "source": [
    "t_one"
   ]
  },
  {
   "cell_type": "code",
   "execution_count": 172,
   "id": "db92712c-d5ee-4b0e-b436-b83b3d2be449",
   "metadata": {},
   "outputs": [
    {
     "data": {
      "text/plain": [
       "array([[  2,  36,  65,  64],\n",
       "       [  3,  71, 116, 116],\n",
       "       [  4, 152, 167, 167],\n",
       "       [  5, 230,  86,  83],\n",
       "       [  6, 270,  79,  67],\n",
       "       [  7, 256,  72,  65],\n",
       "       [  8, 214,  36,  35],\n",
       "       [  9,  91,   7,   7]])"
      ]
     },
     "execution_count": 172,
     "metadata": {},
     "output_type": "execute_result"
    }
   ],
   "source": [
    "data"
   ]
  },
  {
   "cell_type": "code",
   "execution_count": 173,
   "id": "85a0303f-0e71-40df-b95d-9f92d5ed063c",
   "metadata": {},
   "outputs": [
    {
     "data": {
      "text/plain": [
       "[0.4, 0.2, 0.2, 0.2]"
      ]
     },
     "execution_count": 173,
     "metadata": {},
     "output_type": "execute_result"
    }
   ],
   "source": [
    "[.4,.2,.2,.2]"
   ]
  },
  {
   "cell_type": "code",
   "execution_count": 174,
   "id": "50fe5a70-7779-4144-a1f5-9841e1e2ee4d",
   "metadata": {},
   "outputs": [],
   "source": [
    "bar_data = spd2.copy()\n",
    "dates = index=spd2[\"month\"].sort_values().unique()\n",
    "\n",
    "these_lists = [\"rch\",\"ni\", \"inv\", \"ongen\"]\n",
    "resampkey = \"M\"\n",
    "on=\"date\"\n",
    "by = \"loc_date\"\n",
    "\n",
    "not_these = [\"X\", 0]\n",
    "\n",
    "\n",
    "count_these = {}\n",
    "for a_list in these_lists:\n",
    "    count_these.update({a_list:[x for x in bar_data[a_list].unique() if x not in not_these]})\n",
    "    \n",
    "# resample monthly totals:\n",
    "bars={}\n",
    "for a_list in these_lists:\n",
    "    # for each category create an index of all months\n",
    "    # with a sample\n",
    "    month_index = pd.DataFrame(index=spd2[\"month\"].unique())\n",
    "    month_index.index.name = \"month\"\n",
    "    \n",
    "    # sum the occurences by month for each category\n",
    "    l_data = bar_data[bar_data[a_list].isin(count_these[a_list])].groupby([\"month\"], as_index=False)[a_list].count()\n",
    "    b_data = l_data.groupby(\"month\")[a_list].sum()\n",
    "    \n",
    "    for data in b_data.index:\n",
    "        month_index.loc[data, a_list]=b_data.loc[data]\n",
    "    month_index.fillna(0, inplace=True)\n",
    "    month_index.sort_index(inplace=True)\n",
    "    \n",
    "    bars.update({a_list: {\"data\": month_index.values.flatten()}})"
   ]
  },
  {
   "cell_type": "code",
   "execution_count": 175,
   "id": "b971114b-9311-4656-8ba7-b2fa4eb9fd22",
   "metadata": {
    "tags": []
   },
   "outputs": [
    {
     "data": {
      "image/png": "[encoded data removed]",
      "text/plain": [
       "<Figure size 864x576 with 1 Axes>"
      ]
     },
     "metadata": {
      "needs_background": "light"
     },
     "output_type": "display_data"
    }
   ],
   "source": [
    "tick_spacing = 1\n",
    "\n",
    "fig, ax = plt.subplots(figsize=(12, 8))\n",
    "a_stacked_bar_chart(ax, bars, xaxis=dates)\n",
    "plt.legend()\n",
    "\n",
    "\n",
    "ax.xaxis.set_major_locator(ticker.MultipleLocator(tick_spacing))\n",
    "\n",
    "\n",
    "plt.show()   "
   ]
  },
  {
   "cell_type": "code",
   "execution_count": 176,
   "id": "d915be8f-8a8f-4743-8f22-6c2f073cd358",
   "metadata": {
    "tags": []
   },
   "outputs": [],
   "source": [
    "# the data from year one\n",
    "bar_data = spd1.copy()\n",
    "\n",
    "# the dates for the end of each month that\n",
    "# has samples\n",
    "dates = index=spd1[\"month\"].sort_values().unique()\n",
    "\n",
    "# count the number of occurences for each category at each survey\n",
    "these_lists = [\"rch\",\"ni\", \"inv\", \"ongen\"]\n",
    "resampkey = \"M\"\n",
    "on=\"date\"\n",
    "by = \"loc_date\"\n",
    "\n",
    "# specify the values to count for each\n",
    "# category - column\n",
    "not_these = [\"X\", 0]\n",
    "\n",
    "count_these = {}\n",
    "for a_list in these_lists:\n",
    "    count_these.update({a_list:[x for x in bar_data[a_list].unique() if x not in not_these]})\n",
    "    \n",
    "# resample monthly totals:\n",
    "bars={}\n",
    "for a_list in these_lists:\n",
    "    # for each category create an index of all months\n",
    "    # with a sample\n",
    "    month_index = pd.DataFrame(index=spd1[\"month\"].unique())\n",
    "    month_index.index.name = \"month\"\n",
    "    \n",
    "    # sum the occurences by month for each category\n",
    "    l_data = bar_data[bar_data[a_list].isin(count_these[a_list])].groupby([\"month\"], as_index=False)[a_list].count()\n",
    "    b_data = l_data.groupby(\"month\")[a_list].sum()\n",
    "    \n",
    "    for data in b_data.index:\n",
    "        month_index.loc[data, a_list]=b_data.loc[data]\n",
    "    month_index.fillna(0, inplace=True)\n",
    "    month_index.sort_index(inplace=True)\n",
    "    \n",
    "    bars.update({a_list: {\"data\": month_index.values.flatten()}})"
   ]
  },
  {
   "cell_type": "code",
   "execution_count": 177,
   "id": "92e3b756-a825-4ade-9821-17fc2b89a2d5",
   "metadata": {
    "tags": []
   },
   "outputs": [
    {
     "data": {
      "image/png": "[encoded data removed]",
      "text/plain": [
       "<Figure size 864x576 with 1 Axes>"
      ]
     },
     "metadata": {
      "needs_background": "light"
     },
     "output_type": "display_data"
    }
   ],
   "source": [
    "tick_spacing = 1\n",
    "\n",
    "fig, ax = plt.subplots(figsize=(12, 8))\n",
    "a_stacked_bar_chart(ax, bars, xaxis=dates)\n",
    "plt.legend()\n",
    "\n",
    "\n",
    "ax.xaxis.set_major_locator(ticker.MultipleLocator(tick_spacing))\n",
    "\n",
    "\n",
    "plt.show()   "
   ]
  },
  {
   "cell_type": "code",
   "execution_count": null,
   "id": "9f3b9223-62ac-443e-afc8-a1813adb0703",
   "metadata": {},
   "outputs": [],
   "source": []
  },
  {
   "cell_type": "code",
   "execution_count": 16,
   "id": "aff294a2-aba1-4cbe-8526-cf01a1cc3a17",
   "metadata": {
    "tags": []
   },
   "outputs": [
    {
     "data": {
      "text/html": [
       "<div>\n",
       "<style scoped>\n",
       "    .dataframe tbody tr th:only-of-type {\n",
       "        vertical-align: middle;\n",
       "    }\n",
       "\n",
       "    .dataframe tbody tr th {\n",
       "        vertical-align: top;\n",
       "    }\n",
       "\n",
       "    .dataframe thead th {\n",
       "        text-align: right;\n",
       "    }\n",
       "</style>\n",
       "<table border=\"1\" class=\"dataframe\">\n",
       "  <thead>\n",
       "    <tr style=\"text-align: right;\">\n",
       "      <th></th>\n",
       "      <th>rch</th>\n",
       "      <th>ni</th>\n",
       "      <th>inv</th>\n",
       "      <th>ongen</th>\n",
       "    </tr>\n",
       "  </thead>\n",
       "  <tbody>\n",
       "    <tr>\n",
       "      <th>3</th>\n",
       "      <td>16.0</td>\n",
       "      <td>1.0</td>\n",
       "      <td>0.0</td>\n",
       "      <td>0.0</td>\n",
       "    </tr>\n",
       "    <tr>\n",
       "      <th>4</th>\n",
       "      <td>18.0</td>\n",
       "      <td>0.0</td>\n",
       "      <td>1.0</td>\n",
       "      <td>0.0</td>\n",
       "    </tr>\n",
       "    <tr>\n",
       "      <th>5</th>\n",
       "      <td>2.0</td>\n",
       "      <td>0.0</td>\n",
       "      <td>1.0</td>\n",
       "      <td>0.0</td>\n",
       "    </tr>\n",
       "    <tr>\n",
       "      <th>6</th>\n",
       "      <td>56.0</td>\n",
       "      <td>6.0</td>\n",
       "      <td>8.0</td>\n",
       "      <td>0.0</td>\n",
       "    </tr>\n",
       "    <tr>\n",
       "      <th>7</th>\n",
       "      <td>52.0</td>\n",
       "      <td>4.0</td>\n",
       "      <td>5.0</td>\n",
       "      <td>0.0</td>\n",
       "    </tr>\n",
       "    <tr>\n",
       "      <th>8</th>\n",
       "      <td>394.0</td>\n",
       "      <td>23.0</td>\n",
       "      <td>28.0</td>\n",
       "      <td>4.0</td>\n",
       "    </tr>\n",
       "    <tr>\n",
       "      <th>9</th>\n",
       "      <td>198.0</td>\n",
       "      <td>17.0</td>\n",
       "      <td>25.0</td>\n",
       "      <td>4.0</td>\n",
       "    </tr>\n",
       "    <tr>\n",
       "      <th>10</th>\n",
       "      <td>8.0</td>\n",
       "      <td>1.0</td>\n",
       "      <td>1.0</td>\n",
       "      <td>0.0</td>\n",
       "    </tr>\n",
       "    <tr>\n",
       "      <th>11</th>\n",
       "      <td>12.0</td>\n",
       "      <td>2.0</td>\n",
       "      <td>2.0</td>\n",
       "      <td>0.0</td>\n",
       "    </tr>\n",
       "    <tr>\n",
       "      <th>12</th>\n",
       "      <td>8.0</td>\n",
       "      <td>0.0</td>\n",
       "      <td>0.0</td>\n",
       "      <td>0.0</td>\n",
       "    </tr>\n",
       "  </tbody>\n",
       "</table>\n",
       "</div>"
      ],
      "text/plain": [
       "      rch    ni   inv  ongen\n",
       "3    16.0   1.0   0.0    0.0\n",
       "4    18.0   0.0   1.0    0.0\n",
       "5     2.0   0.0   1.0    0.0\n",
       "6    56.0   6.0   8.0    0.0\n",
       "7    52.0   4.0   5.0    0.0\n",
       "8   394.0  23.0  28.0    4.0\n",
       "9   198.0  17.0  25.0    4.0\n",
       "10    8.0   1.0   1.0    0.0\n",
       "11   12.0   2.0   2.0    0.0\n",
       "12    8.0   0.0   0.0    0.0"
      ]
     },
     "execution_count": 16,
     "metadata": {},
     "output_type": "execute_result"
    }
   ],
   "source": [
    "to_df = {x:bars[x][\"data\"] for x in bars.keys()}\n",
    "tdf = pd.DataFrame(to_df, index=dates)\n",
    "tdf"
   ]
  },
  {
   "cell_type": "code",
   "execution_count": null,
   "id": "6be61031-6041-4b78-b831-d294b0313f69",
   "metadata": {},
   "outputs": [],
   "source": [
    "spd.groupby([\"loc_date\", ])"
   ]
  },
  {
   "cell_type": "markdown",
   "id": "e0674201",
   "metadata": {},
   "source": [
    "As we can see, the absolute and relative number of species identified went up as the year went on with a peak in early summer. Since the population diversity of herbaceous non grass flowering plants grows through the year and then peaks before going down again this is exactly to be expected. Notice that population of identified plants changes significantly through time as one might expect - each of the ten most common species and genus changes over time.\n",
    "\n",
    "The second reason this is true is that the surveyor was not comfortable identifying most plants through leaves/rosettes and so species blooming later in the year would not be identified until then. This contribution to the skew in plants identified will go down in year three now that the surveyor has a strong basis in the local flora and can recognize future flowers based on leaf patterns for a significant number of the local species. If species cannot be identified, then genera can be also be more accurately noted.\n",
    "\n",
    "An additional bias is that the surveyor collected a number of \"empty\" surveys of different areas with only some of the city trees in flower (such as corylus avellana) during February. This is not really an accurate represenation of the survey areas, even necessarily through the month of february and early march. As such, this data has been left out aside from a few early survey sites with some populations of flower plants. In other words, lots of empty values are left out. This will be addressed by including at least family level taxonomic identification (e.g. poaceae 1, poaceae 2, salix sp) even in places without the herbaceous vascual\n",
    "\n",
    "The literature is clear that both late blooming and early blooming species are critically important for overwintering for small animals and especially insects. This will be taken into account to more accurately "
   ]
  },
  {
   "cell_type": "code",
   "execution_count": null,
   "id": "6a02844d",
   "metadata": {},
   "outputs": [],
   "source": []
  },
  {
   "cell_type": "code",
   "execution_count": null,
   "id": "8a43b1c7",
   "metadata": {},
   "outputs": [],
   "source": [
    "### Comparing lots, describing lots, there are four pulled out of the data here\n",
    "\n",
    "lot_list = [\"schwanen\", \"port\", \"taubenloch\"]\n",
    "\n",
    "sch = spd.loc[spd['lot'] == \"schwanen\"].copy()\n",
    "\n",
    "por = spd.loc[spd['lot'] == \"port\"]\n",
    "\n",
    "tau = spd.loc[spd['lot'] == \"taubenloch\"]\n",
    "\n",
    "fla = spd.loc[spd[\"lot\"] == \"flaess\"]\n",
    "\n",
    "\n",
    "# Compare numbers in key categories (here, not indigenous, watch list, black list, near threatened in MP)\n",
    "nisch = sch.loc[sch['ni'] =='ni']\n",
    "wlsch = sch.loc[sch['inv'] =='WL']\n",
    "blsch = sch.loc[sch['inv'] =='BL']\n",
    "odesch = sch.loc[sch['ode'] == \"ode\"]\n",
    "ntmpsch =  sch.loc[sch['rmp'] =='NT']\n",
    "vumpsch =  sch.loc[sch['rmp'] =='VU']\n",
    "\n",
    "print(F\"there is {ntmpsch.species.nunique()} species on the NT list\")\n",
    "print(F\"there is {wlsch.species.nunique()} species on the watch list\")\n",
    "print(F\"there is {blsch.species.nunique()} species on the black list\")\n",
    "print(F\"there is {odesch.species.nunique()} species on the ode list\")\n",
    "print(F\"there is {vumpsch.species.nunique()} species on the vulnerable list\")\n",
    "print(F\"there are {nisch.species.nunique()} non indigenous non invasive species\")\n"
   ]
  },
  {
   "cell_type": "code",
   "execution_count": 179,
   "id": "30aa5026-2d9a-4522-969d-26c9d0cae7a3",
   "metadata": {
    "tags": []
   },
   "outputs": [
    {
     "data": {
      "image/png": "[encoded data removed]",
      "text/plain": [
       "<Figure size 720x504 with 3 Axes>"
      ]
     },
     "metadata": {
      "needs_background": "light"
     },
     "output_type": "display_data"
    }
   ],
   "source": [
    "# axone summary values of the lot\n",
    "t_one = spd.groupby([\"lot\"], as_index=False).agg({\"species\":\"nunique\", \"loc_date\":\"nunique\", \"locname\":\"nunique\"})\n",
    "\n",
    "data = t_one.values\n",
    "colLabels = [*t_one.columns[:-2], \"nsamples\", \"nplaces\"]\n",
    "colWidths = [*[1/len(colLabels)]*len(colLabels)]\n",
    "bbox = [0, 0,1,1]\n",
    "\n",
    "# axtwo species identified per sample\n",
    "d = spd1.groupby([\"date\", \"locname\"], as_index=False).species.count()\n",
    "\n",
    "# axthree summary values\n",
    "summary={\n",
    "    \"number of samples\":spd1.loc.nunique(),\n",
    "    \"first sample\": spd1[\"date\"].min().date(),\n",
    "    \"last sample\":spd1[\"date\"].max().date(),\n",
    "    \"number of places\":spd1.locname.nunique(),\n",
    "    \"number of species\":spd1.species.nunique(),\n",
    "    \"number of families\":spd1.fam.nunique(),    \n",
    "\n",
    "}\n",
    "\n",
    "a_summary = pd.DataFrame.from_dict(summary, orient=\"index\").reset_index()\n",
    "\n",
    "\n",
    "fig = plt.figure(figsize=(10,7))\n",
    "\n",
    "gs = GridSpec(10,11)\n",
    "\n",
    "axone = fig.add_subplot(gs[:, 0:5])\n",
    "axtwo = fig.add_subplot(gs[0:5, 6:])\n",
    "axthree = fig.add_subplot(gs[6:, 6:])\n",
    "\n",
    "# axone\n",
    "table_one = a_simple_formatted_table(axone,data,colLabels=colLabels, colWidths=colWidths, bbox=bbox)\n",
    "axone.axis(\"off\")\n",
    "\n",
    "# axtwo\n",
    "locator = mdates.MonthLocator()  # every month\n",
    "fmt = mdates.DateFormatter('%b')\n",
    "sns.scatterplot(data=d, x=\"date\", y=\"species\", ax=axtwo)\n",
    "axtwo.xaxis.set_major_locator(locator)\n",
    "axtwo.xaxis.set_major_formatter(fmt)\n",
    "axtwo.set_ylabel(\"# species indentified\")\n",
    "axtwo.set_xlabel(\"\")\n",
    "\n",
    "# axthree\n",
    "b = a_single_column_table(axthree, a_summary.values, colWidths=[.6, .4])\n",
    "axthree.axis(\"off\")\n",
    "\n",
    "plt.show()"
   ]
  },
  {
   "cell_type": "code",
   "execution_count": null,
   "id": "11f9a113-7bb5-466d-96ad-a778d36c26af",
   "metadata": {},
   "outputs": [],
   "source": []
  },
  {
   "cell_type": "code",
   "execution_count": null,
   "id": "1fe8bdf2",
   "metadata": {},
   "outputs": [],
   "source": []
  },
  {
   "cell_type": "code",
   "execution_count": null,
   "id": "43df5ef0",
   "metadata": {},
   "outputs": [],
   "source": [
    "spd.project.unique()"
   ]
  },
  {
   "cell_type": "code",
   "execution_count": 178,
   "id": "e693d126",
   "metadata": {},
   "outputs": [
    {
     "data": {
      "text/plain": [
       "array(['medicago-lupulina', 'erophila-verna', 'senecio-vulgaris',\n",
       "       'muscari-neglectum', 'taraxacum', 'primula-acaulis',\n",
       "       'glechoma-hederacea', 'vinca-minor', 'prunus-spinosa',\n",
       "       'veronica-persica', 'salix-caprea', 'ranunculus-acris',\n",
       "       'cardamine-flexuosa', 'lamium-purpureum',\n",
       "       'capsella-bursa-pastoris', 'ranunculus-bulbosus',\n",
       "       'erodium-cicutarium', 'potentilla-verna', 'veronica-hederifolia',\n",
       "       'geranium-pyrenaicum', 'valerianella-locusta',\n",
       "       'arabidopsis-thaliana', 'sinapis-arvensis', 'cerastium-glomeratum',\n",
       "       'salvia-pratensis', 'sisymbrium-officinale', 'sanguisorba-minor',\n",
       "       'reseda-lutea', 'galium-mollugo', 'urtica-dioica',\n",
       "       'erigeron-annuus', 'plantago-lanceolata', 'trifolium-pratense',\n",
       "       'achillea-millefolium', 'veronica-arvensis', 'myosotis-arvensis',\n",
       "       'galium-aparine', 'papaver-rhoeas', 'kolkwitzia-amabilis',\n",
       "       'veronica-serpyllifolia', 'prunus-serotina', 'mahonia-aquifolium',\n",
       "       'geum-urbanum', 'alliaria-petiolata', 'lonicera-pileata',\n",
       "       'veronica-chaemaedrys', 'lepidium-virginicum', 'geranium-pusillum',\n",
       "       'vicia-sativa', 'rumex-obtusifolius', 'ranunculus-repens',\n",
       "       'equisetum-arvense', 'hedera-helix', 'bellis-perennis',\n",
       "       'geranium-dissectum', 'trifolium-repens', 'potentilla-reptans',\n",
       "       'rumex-crispus', 'ranunculus-ficaria', 'cardamine-hirsuta',\n",
       "       'forsythia-xintermedia', 'daucus-carota', 'trifolium-medium',\n",
       "       'rubus', 'buddleja-davidii', 'sonchus-asper',\n",
       "       'solidago-canadensis', 'hypochaeris-radicata', 'silene-vulgaris',\n",
       "       'medicago-sativa', 'origanum-vulgare', 'lapsana-communis',\n",
       "       'cirsium-arvense', 'silene-coronaria', 'senecio-jacobaea',\n",
       "       'robinia-pseudoacacia', 'geranium-robertianum',\n",
       "       'melissa-officinalis', 'hypericum-perforatum', 'cornus-sanguinea',\n",
       "       'lathyrus-latifolius', 'silene', 'knautia-arvensis',\n",
       "       'anagallis-arvensis', 'securigera-varia', 'verbascum-densiflorum',\n",
       "       'lactuca', 'tragopogon-dubius', 'convolvulus',\n",
       "       'leontodon-hispidus', 'silene-pratensis', 'polygonum-aviculare',\n",
       "       'lepidium-densiflorum', 'calystegia-sepium', 'verbena-officinalis',\n",
       "       'lotus-corniculatus', 'rosa', 'fraxinus-excelsior', 'solidago',\n",
       "       'vicia-sepium', 'heracleum-sphondylium', 'vicia-cracca',\n",
       "       'polygonum-persicaria', 'echium-vulgare', 'verbascum-thapsus',\n",
       "       'thymus-serpyllum', 'centaurea-jacea', 'trifolium-campestre',\n",
       "       'convolvulus-arvensis', 'rumex', 'crepis', 'petrorhagia-prolifera',\n",
       "       'lactuca-serriola', 'aquilegia-vulgaris', 'ranunculus', 'fraxinus',\n",
       "       'jasminum'], dtype=object)"
      ]
     },
     "execution_count": 178,
     "metadata": {},
     "output_type": "execute_result"
    }
   ],
   "source": [
    "# Describe and compare the renaturalization areas\n",
    "\n",
    "cyg = spd.loc[spd['project'] == \"renat-cygnes\"].copy\n",
    "\n",
    "suz = spd.loc[spd['project'] == \"renat-suze\"].copy\n",
    "\n",
    "pro = spd.loc[spd['project'] == \"pronat\"].copy\n",
    "\n",
    "neu = spd.loc[spd[\"project\"] == \"renat-neumatt\"].copy\n",
    "\n",
    "prosp = pro.species.unique()\n",
    "prosp"
   ]
  },
  {
   "cell_type": "code",
   "execution_count": null,
   "id": "56d1cf10",
   "metadata": {},
   "outputs": [],
   "source": [
    "spd['species'].value_counts()[:15].index.tolist()\n",
    "lots = spd[spd[\"lot\"] != \"X\"]\n",
    "lots['species'].value_counts()[:15].index.tolist()"
   ]
  },
  {
   "cell_type": "code",
   "execution_count": null,
   "id": "6729096a",
   "metadata": {},
   "outputs": [],
   "source": [
    "spd.river.unique()"
   ]
  },
  {
   "cell_type": "code",
   "execution_count": null,
   "id": "23988976",
   "metadata": {},
   "outputs": [],
   "source": [
    "# describe and compare the rivers: madretschkanal, suze, schuessinsel, and all suze length combined vs total\n",
    "\n",
    "suz = spd.loc[spd['river'] == \"suze\"]\n",
    "\n",
    "mad = spd.loc[spd['river'] == \"madretschkanal\"]\n",
    "\n",
    "sch = spd.loc[spd['river'] == \"schuessinsel\"]\n",
    "\n",
    "suz.head()"
   ]
  },
  {
   "cell_type": "code",
   "execution_count": null,
   "id": "5508755e",
   "metadata": {},
   "outputs": [],
   "source": []
  },
  {
   "cell_type": "code",
   "execution_count": null,
   "id": "e58ef03b",
   "metadata": {},
   "outputs": [],
   "source": [
    "# describe pro nature renaturalization areas, compare to lots, to other renats, to everything else \"berm\""
   ]
  },
  {
   "cell_type": "code",
   "execution_count": null,
   "id": "f7317f95",
   "metadata": {},
   "outputs": [],
   "source": []
  },
  {
   "cell_type": "code",
   "execution_count": null,
   "id": "57132bee",
   "metadata": {},
   "outputs": [],
   "source": []
  },
  {
   "cell_type": "code",
   "execution_count": null,
   "id": "9a30af8d",
   "metadata": {},
   "outputs": [],
   "source": [
    "sch.species.nunique()"
   ]
  },
  {
   "cell_type": "code",
   "execution_count": null,
   "id": "fbbf3627",
   "metadata": {},
   "outputs": [],
   "source": []
  },
  {
   "cell_type": "code",
   "execution_count": null,
   "id": "8ab079bc",
   "metadata": {},
   "outputs": [],
   "source": []
  }
 ],
 "metadata": {
  "kernelspec": {
   "display_name": "Python 3 (ipykernel)",
   "language": "python",
   "name": "python3"
  },
  "language_info": {
   "codemirror_mode": {
    "name": "ipython",
    "version": 3
   },
   "file_extension": ".py",
   "mimetype": "text/x-python",
   "name": "python",
   "nbconvert_exporter": "python",
   "pygments_lexer": "ipython3",
   "version": "3.8.12"
  }
 },
 "nbformat": 4,
 "nbformat_minor": 5
}
