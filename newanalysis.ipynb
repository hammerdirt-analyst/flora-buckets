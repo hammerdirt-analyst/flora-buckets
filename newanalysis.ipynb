{
 "cells": [
  {
   "cell_type": "code",
   "execution_count": 39,
   "id": "8d1d59ac-2753-450d-8dfa-ea707fe66c88",
   "metadata": {},
   "outputs": [],
   "source": [
    "# math and data packages\n",
    "import pandas as pd\n",
    "import numpy as np\n",
    "import math\n",
    "\n",
    "# charting and graphics\n",
    "import matplotlib as mpl\n",
    "import matplotlib.pyplot as plt\n",
    "import seaborn as sns\n",
    "\n",
    "# os and file types\n",
    "import os\n",
    "import sys\n",
    "import datetime as dt\n",
    "import json\n",
    "import csv\n",
    "\n",
    "# images and display\n",
    "import base64, io, IPython\n",
    "from PIL import Image as PILImage\n",
    "from IPython.display import Markdown as md\n",
    "from IPython.display import display, Math, Latex\n",
    "\n",
    "# import the master data\n",
    "spd=pd.read_csv(\"resources/inprocess/master.csv\")\n",
    "# drop unneeded columns\n",
    "spd = spd.drop(axis = 1,columns = [\"Unnamed: 0\",\"mattenstrasse-area-1\"])"
   ]
  },
  {
   "cell_type": "code",
   "execution_count": 40,
   "id": "e664059d-f109-4265-9c46-f02e0371a472",
   "metadata": {},
   "outputs": [
    {
     "data": {
      "text/plain": [
       "622"
      ]
     },
     "execution_count": 40,
     "metadata": {},
     "output_type": "execute_result"
    }
   ],
   "source": [
    "#spd.head()\n",
    "spd.species.nunique()"
   ]
  },
  {
   "cell_type": "code",
   "execution_count": 44,
   "id": "eedbfef8-ec18-41e4-8ef9-ed5e5d3458a9",
   "metadata": {},
   "outputs": [
    {
     "data": {
      "text/plain": [
       "array(['X', 'none', nan, 'schwanen', 'flaess', 'taubenloch', 'port'],\n",
       "      dtype=object)"
      ]
     },
     "execution_count": 44,
     "metadata": {},
     "output_type": "execute_result"
    }
   ],
   "source": [
    "spd.lot.unique()"
   ]
  },
  {
   "cell_type": "code",
   "execution_count": 58,
   "id": "418dc194-fdf1-463c-8ab3-a62932e6480d",
   "metadata": {},
   "outputs": [
    {
     "data": {
      "text/plain": [
       "Index(['date', 'species', 'year', 'location', 'biogeo', 'canton', 'river',\n",
       "       'lot', 'forest', 'project', 'city', 'rch', 'rmp', 'rju', 'fam', 'res',\n",
       "       'pri', 'inv', 'ode', 'ns', 'ongen', 'ni', 'cdf', 'biel', 'locname'],\n",
       "      dtype='object')"
      ]
     },
     "execution_count": 58,
     "metadata": {},
     "output_type": "execute_result"
    }
   ],
   "source": [
    "spd.columns"
   ]
  },
  {
   "cell_type": "code",
   "execution_count": 65,
   "id": "4cbbfe28-afe8-4795-8335-670b6c926e97",
   "metadata": {},
   "outputs": [
    {
     "data": {
      "text/html": [
       "<div>\n",
       "<style scoped>\n",
       "    .dataframe tbody tr th:only-of-type {\n",
       "        vertical-align: middle;\n",
       "    }\n",
       "\n",
       "    .dataframe tbody tr th {\n",
       "        vertical-align: top;\n",
       "    }\n",
       "\n",
       "    .dataframe thead th {\n",
       "        text-align: right;\n",
       "    }\n",
       "</style>\n",
       "<table border=\"1\" class=\"dataframe\">\n",
       "  <thead>\n",
       "    <tr style=\"text-align: right;\">\n",
       "      <th></th>\n",
       "      <th>date</th>\n",
       "      <th>species</th>\n",
       "      <th>year</th>\n",
       "      <th>location</th>\n",
       "      <th>biogeo</th>\n",
       "      <th>canton</th>\n",
       "      <th>river</th>\n",
       "      <th>lot</th>\n",
       "      <th>forest</th>\n",
       "      <th>project</th>\n",
       "      <th>...</th>\n",
       "      <th>res</th>\n",
       "      <th>pri</th>\n",
       "      <th>inv</th>\n",
       "      <th>ode</th>\n",
       "      <th>ns</th>\n",
       "      <th>ongen</th>\n",
       "      <th>ni</th>\n",
       "      <th>cdf</th>\n",
       "      <th>biel</th>\n",
       "      <th>locname</th>\n",
       "    </tr>\n",
       "  </thead>\n",
       "  <tbody>\n",
       "    <tr>\n",
       "      <th>0</th>\n",
       "      <td>2020-09-02</td>\n",
       "      <td>plantago-lanceolata</td>\n",
       "      <td>1</td>\n",
       "      <td>c</td>\n",
       "      <td>mp</td>\n",
       "      <td>be</td>\n",
       "      <td>madretschkanal</td>\n",
       "      <td>X</td>\n",
       "      <td>X</td>\n",
       "      <td>X</td>\n",
       "      <td>...</td>\n",
       "      <td>X</td>\n",
       "      <td>X</td>\n",
       "      <td>X</td>\n",
       "      <td>X</td>\n",
       "      <td>X</td>\n",
       "      <td>X</td>\n",
       "      <td>X</td>\n",
       "      <td>cdf</td>\n",
       "      <td>biel</td>\n",
       "      <td>alleestrasse-madretschkanal-1</td>\n",
       "    </tr>\n",
       "    <tr>\n",
       "      <th>1</th>\n",
       "      <td>2020-09-02</td>\n",
       "      <td>centaurea-nigra</td>\n",
       "      <td>1</td>\n",
       "      <td>c</td>\n",
       "      <td>mp</td>\n",
       "      <td>be</td>\n",
       "      <td>madretschkanal</td>\n",
       "      <td>X</td>\n",
       "      <td>X</td>\n",
       "      <td>X</td>\n",
       "      <td>...</td>\n",
       "      <td>X</td>\n",
       "      <td>X</td>\n",
       "      <td>X</td>\n",
       "      <td>X</td>\n",
       "      <td>ns</td>\n",
       "      <td>X</td>\n",
       "      <td>X</td>\n",
       "      <td>X</td>\n",
       "      <td>X</td>\n",
       "      <td>alleestrasse-madretschkanal-1</td>\n",
       "    </tr>\n",
       "    <tr>\n",
       "      <th>2</th>\n",
       "      <td>2020-09-02</td>\n",
       "      <td>plantago-media</td>\n",
       "      <td>1</td>\n",
       "      <td>c</td>\n",
       "      <td>mp</td>\n",
       "      <td>be</td>\n",
       "      <td>madretschkanal</td>\n",
       "      <td>X</td>\n",
       "      <td>X</td>\n",
       "      <td>X</td>\n",
       "      <td>...</td>\n",
       "      <td>X</td>\n",
       "      <td>X</td>\n",
       "      <td>X</td>\n",
       "      <td>X</td>\n",
       "      <td>X</td>\n",
       "      <td>X</td>\n",
       "      <td>X</td>\n",
       "      <td>cdf</td>\n",
       "      <td>biel</td>\n",
       "      <td>alleestrasse-madretschkanal-1</td>\n",
       "    </tr>\n",
       "    <tr>\n",
       "      <th>3</th>\n",
       "      <td>2020-09-02</td>\n",
       "      <td>chenopodium-album</td>\n",
       "      <td>1</td>\n",
       "      <td>c</td>\n",
       "      <td>mp</td>\n",
       "      <td>be</td>\n",
       "      <td>madretschkanal</td>\n",
       "      <td>X</td>\n",
       "      <td>X</td>\n",
       "      <td>X</td>\n",
       "      <td>...</td>\n",
       "      <td>X</td>\n",
       "      <td>X</td>\n",
       "      <td>X</td>\n",
       "      <td>X</td>\n",
       "      <td>X</td>\n",
       "      <td>X</td>\n",
       "      <td>X</td>\n",
       "      <td>cdf</td>\n",
       "      <td>biel</td>\n",
       "      <td>alleestrasse-madretschkanal-1</td>\n",
       "    </tr>\n",
       "    <tr>\n",
       "      <th>4</th>\n",
       "      <td>2020-09-02</td>\n",
       "      <td>centaurea-jacea</td>\n",
       "      <td>1</td>\n",
       "      <td>c</td>\n",
       "      <td>mp</td>\n",
       "      <td>be</td>\n",
       "      <td>madretschkanal</td>\n",
       "      <td>X</td>\n",
       "      <td>X</td>\n",
       "      <td>X</td>\n",
       "      <td>...</td>\n",
       "      <td>2.0</td>\n",
       "      <td>3.0</td>\n",
       "      <td>X</td>\n",
       "      <td>X</td>\n",
       "      <td>X</td>\n",
       "      <td>X</td>\n",
       "      <td>X</td>\n",
       "      <td>cdf</td>\n",
       "      <td>biel</td>\n",
       "      <td>alleestrasse-madretschkanal-1</td>\n",
       "    </tr>\n",
       "  </tbody>\n",
       "</table>\n",
       "<p>5 rows × 25 columns</p>\n",
       "</div>"
      ],
      "text/plain": [
       "         date              species  year location biogeo canton  \\\n",
       "0  2020-09-02  plantago-lanceolata     1        c     mp     be   \n",
       "1  2020-09-02      centaurea-nigra     1        c     mp     be   \n",
       "2  2020-09-02       plantago-media     1        c     mp     be   \n",
       "3  2020-09-02    chenopodium-album     1        c     mp     be   \n",
       "4  2020-09-02      centaurea-jacea     1        c     mp     be   \n",
       "\n",
       "            river lot forest project  ...  res  pri inv ode  ns ongen ni  cdf  \\\n",
       "0  madretschkanal   X      X       X  ...    X    X   X   X   X     X  X  cdf   \n",
       "1  madretschkanal   X      X       X  ...    X    X   X   X  ns     X  X    X   \n",
       "2  madretschkanal   X      X       X  ...    X    X   X   X   X     X  X  cdf   \n",
       "3  madretschkanal   X      X       X  ...    X    X   X   X   X     X  X  cdf   \n",
       "4  madretschkanal   X      X       X  ...  2.0  3.0   X   X   X     X  X  cdf   \n",
       "\n",
       "   biel                        locname  \n",
       "0  biel  alleestrasse-madretschkanal-1  \n",
       "1     X  alleestrasse-madretschkanal-1  \n",
       "2  biel  alleestrasse-madretschkanal-1  \n",
       "3  biel  alleestrasse-madretschkanal-1  \n",
       "4  biel  alleestrasse-madretschkanal-1  \n",
       "\n",
       "[5 rows x 25 columns]"
      ]
     },
     "execution_count": 65,
     "metadata": {},
     "output_type": "execute_result"
    }
   ],
   "source": [
    "spd.head()"
   ]
  },
  {
   "cell_type": "code",
   "execution_count": null,
   "id": "01295641-1b27-4a69-878a-70cc7a68bc98",
   "metadata": {},
   "outputs": [],
   "source": [
    "# summary statistics on the key categories - to discuss !"
   ]
  },
  {
   "cell_type": "code",
   "execution_count": 72,
   "id": "2a7e6d64-fd65-43aa-b9d1-433cbf82da80",
   "metadata": {},
   "outputs": [
    {
     "name": "stdout",
     "output_type": "stream",
     "text": [
      "there is 1 species on the NT list\n",
      "there is 0 species on the watch list\n",
      "there is 4 species on the black list\n",
      "there is 0 species on the vulnerable list\n",
      "there are 3 non indigenous non invasive species\n"
     ]
    }
   ],
   "source": [
    "### Comparing lots, describing lots, there are four pulled out of the data here\n",
    "\n",
    "sch = spd.loc[spd['lot'] == \"schwanen\"]\n",
    "\n",
    "por = spd.loc[spd['lot'] == \"port\"]\n",
    "\n",
    "tau = spd.loc[spd['lot'] == \"taubenloch\"]\n",
    "\n",
    "fla = spd.loc[spd[\"lot\"] == \"flaess\"]\n",
    "\n",
    "\n",
    "# Compare numbers in key categories (here, not indigenous, watch list, black list, near threatened in MP)\n",
    "nisch = sch.loc[sch['ni'] =='ni']\n",
    "wlsch = sch.loc[sch['inv'] =='WL']\n",
    "blsch = sch.loc[sch['inv'] =='BL']\n",
    "ntmpsch =  sch.loc[sch['rmp'] =='NT']\n",
    "vumpsch =  sch.loc[sch['rmp'] =='VU']\n",
    "\n",
    "print(F\"there is {ntmpsch.species.nunique()} species on the NT list\")\n",
    "print(F\"there is {wlsch.species.nunique()} species on the watch list\")\n",
    "print(F\"there is {blsch.species.nunique()} species on the black list\")\n",
    "print(F\"there is {vumpsch.species.nunique()} species on the vulnerable list\")\n",
    "print(F\"there are {nisch.species.nunique()} non indigenous non invasive species\")\n"
   ]
  },
  {
   "cell_type": "code",
   "execution_count": null,
   "id": "e5b2b271-f14e-40d3-9a11-bd748e96f19b",
   "metadata": {},
   "outputs": [],
   "source": [
    "# Describe Madretschkanal and Suze, compare them, describe cygnes renat area"
   ]
  },
  {
   "cell_type": "code",
   "execution_count": null,
   "id": "f385ce6b-e252-4b0e-8b7b-226d8f28eb6d",
   "metadata": {},
   "outputs": [],
   "source": [
    "# describe pro nature renaturalization areas, compare to lots, to other renats, to everything else \"berm\""
   ]
  },
  {
   "cell_type": "code",
   "execution_count": null,
   "id": "904c5977-dbec-4c68-b4db-5ead243e7b2d",
   "metadata": {},
   "outputs": [],
   "source": []
  },
  {
   "cell_type": "code",
   "execution_count": null,
   "id": "8504b077-1ac9-4a13-873f-11ef2d591a60",
   "metadata": {},
   "outputs": [],
   "source": []
  },
  {
   "cell_type": "code",
   "execution_count": 51,
   "id": "8870a9d2-4893-40d0-9460-329a43fb37ce",
   "metadata": {},
   "outputs": [
    {
     "data": {
      "text/plain": [
       "98"
      ]
     },
     "execution_count": 51,
     "metadata": {},
     "output_type": "execute_result"
    }
   ],
   "source": [
    "sch.species.nunique()"
   ]
  },
  {
   "cell_type": "code",
   "execution_count": 53,
   "id": "a778601d-c81c-4cca-aa43-b135e0634e6d",
   "metadata": {},
   "outputs": [
    {
     "data": {
      "text/plain": [
       "2"
      ]
     },
     "execution_count": 53,
     "metadata": {},
     "output_type": "execute_result"
    }
   ],
   "source": []
  },
  {
   "cell_type": "code",
   "execution_count": null,
   "id": "abf36013-1073-4259-8b98-47ffebda2854",
   "metadata": {},
   "outputs": [],
   "source": []
  }
 ],
 "metadata": {
  "kernelspec": {
   "display_name": "Python 3 (ipykernel)",
   "language": "python",
   "name": "python3"
  },
  "language_info": {
   "codemirror_mode": {
    "name": "ipython",
    "version": 3
   },
   "file_extension": ".py",
   "mimetype": "text/x-python",
   "name": "python",
   "nbconvert_exporter": "python",
   "pygments_lexer": "ipython3",
   "version": "3.8.12"
  }
 },
 "nbformat": 4,
 "nbformat_minor": 5
}
