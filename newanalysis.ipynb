{
 "cells": [
  {
   "cell_type": "code",
   "execution_count": 1,
   "id": "d7b9d9c0",
   "metadata": {
    "tags": []
   },
   "outputs": [],
   "source": [
    "# math and data packages\n",
    "import pandas as pd\n",
    "import numpy as np\n",
    "import math\n",
    "\n",
    "# charting and graphics\n",
    "import matplotlib as mpl\n",
    "import matplotlib.pyplot as plt\n",
    "from matplotlib import colors\n",
    "import seaborn as sns\n",
    "import matplotlib.ticker as ticker\n",
    "import matplotlib.dates as mdates\n",
    "from matplotlib.gridspec import GridSpec\n",
    "\n",
    "# os and file types\n",
    "import os\n",
    "import sys\n",
    "import datetime as dt\n",
    "import json\n",
    "import csv\n",
    "\n",
    "# images and display\n",
    "# import base64, io, IPython\n",
    "from PIL import Image as PILImage\n",
    "from IPython.display import Markdown as md\n",
    "from IPython.display import display\n",
    "\n",
    "# import survey data\n",
    "spd=pd.read_csv(\"resources/survey_data_lists_02_22.csv\")\n",
    "\n",
    "# convert date to dt format\n",
    "spd[\"date\"] = pd.to_datetime(spd[\"date\"])\n",
    "spd[\"month\"] = spd[\"date\"].dt.month\n",
    "# separate summary observations for each year\n",
    "spd1 = spd.loc[spd.year == 1].copy()\n",
    "spd2 = spd.loc[(spd[\"year\"] == 2)].copy()"
   ]
  },
  {
   "cell_type": "code",
   "execution_count": 2,
   "id": "fd7dd624",
   "metadata": {
    "tags": [
     "hide-input"
    ]
   },
   "outputs": [],
   "source": [
    "# functions that will be used in each subgroup, part of analysis and in the whole data\n",
    "\n",
    "# number of surveys per year per location (needs loc_date column)\n",
    "\n",
    "def nSamplesPerYearPlace(x):\n",
    "    \"\"\"returns samples per year for each location\n",
    "    param x: df\n",
    "    \"\"\"\n",
    "    return x.loc_date.nunique()\n",
    "\n",
    "def top_y_group(x,y,col):\n",
    "    \"\"\"returns list of top y number of unique elements in column col in passed df x\n",
    "    :param x: df\n",
    "    :param y: int, final rank to include in list of top most common elements\n",
    "    :param col: str, name of column to sort according to frequency of values\n",
    "    example: top_y_group(dataframe, 10, \"species\") returns top 10 values in species column of provided dataframe.\n",
    "    \"\"\"\n",
    "    return x[col].value_counts()[:y].index.tolist()\n",
    "\n",
    "def red_list(x,y, column_name=\"biogeo\"):\n",
    "    \"\"\"returns dataframe of species with the useful redlist codes\n",
    "    of the species in passed df x in biogeo region y.\n",
    "    :param x: df\n",
    "    :param y: str, bioregion (ju, mp, na)\n",
    "    :e.g.: {\"nt\": [carduus-crispus, alcea-rosea], vu = [\"cardamine-hirsuta\"], LC = ....}\n",
    "    \"\"\"\n",
    "    int_data = x.loc[x[\"biogeo\"] == y]\n",
    "    for i in [\"VU\", \"NT\", \"LC\", \"EN\", \"NE\", \"DD\"]:\n",
    "        if y == \"ju\":\n",
    "            int_data.loc[int_data[\"rju\"]==i]\n",
    "        elif y == \"mp\":\n",
    "            int_data.loc[int_data[\"rmp\"]==i]\n",
    "        else:\n",
    "            int_data.loc[int_data[\"rch\"]==i]\n",
    "    return int_data\n",
    "# returns a dataframe composed of the non-native status\n",
    "def no_redlist_status(x, ni=\"ni\", wl=\"WL\", bl=\"BL\", inv=\"inv\"):\n",
    "    nix = x.loc[x[ni] == ni]\n",
    "    wlx = x.loc[x[inv] == wl] \n",
    "    blx = x.loc[x[inv] == bl]\n",
    "    int_data = nix.append(wlx)\n",
    "    data = int_data.append(blx)\n",
    "    return data"
   ]
  },
  {
   "cell_type": "code",
   "execution_count": 3,
   "id": "6be3aec8",
   "metadata": {
    "tags": [
     "hide-input"
    ]
   },
   "outputs": [],
   "source": [
    "# functions\n",
    "\n",
    "# species per location/date combination (uniquely defines a sample)\n",
    "def nSpeciesPerSample(data):\n",
    "    return data.groupby([\"date\", \"place\"], as_index=False).species.count()\n",
    "\n",
    "def aSpeciesPerSample(data, species=[]):\n",
    "    \"\"\"The per sample data for a species\n",
    "    \"\"\"\n",
    "    new_data = nSpeciesPerSample(data[data[\"species\"].isin(species)])\n",
    "    new_data.rename(columns={\"species\":species[0]}, inplace=True)\n",
    "    return new_data\n",
    "\n",
    "# species per location\n",
    "def speciesPlaceNsamps(data):\n",
    "    return data.groupby([\"species\", \"place\"], as_index=False).loc_date.nunique()\n",
    "\n",
    "def pivot_this(data, colnames, index, column, value):\n",
    "    return data[colnames].pivot(index=index, columns=column, values=value).fillna(0)\n",
    "\n",
    "def speciesPerLocation(data,colnames, index=\"species\",columns=\"place\",values=\"loc_date\"):\n",
    "    \"\"\"Uses speciesPlaceNsamps to return a matrix of species and locations with value of\n",
    "    number of times identified at that location\n",
    "    \"\"\"\n",
    "    return pivot_this(data, colnames, index, columns, values)\n",
    "\n",
    "def speciesPlace(species_data, soi):\n",
    "    \"\"\"Uses speciesPerlocation to report on one species\"\"\"\n",
    "    return species_data.loc[soi, (species_data.loc[soi] > 0)]"
   ]
  },
  {
   "cell_type": "code",
   "execution_count": 4,
   "id": "dfbfbc4d",
   "metadata": {
    "tags": []
   },
   "outputs": [],
   "source": [
    "def make_a_summary_table(ax, data,colLabels, a_color=\"black\", font_size=12, s_et_bottom_row=True):\n",
    "    \n",
    "    \"\"\"Formats matplotlib table object.\n",
    "\n",
    "    Args:\n",
    "    ax: object: matplotlib table object\n",
    "    data: array: the 2d array used to generate the table object\n",
    "    cols_to_use: array: the list of column names\n",
    "    a_color: str: matplotlib named color, face and edgecolor of table cells\n",
    "    font_size: int: the font size for the table cells\n",
    "    s_et_bottom_row: bool: whether or not to draw bottom line on the last row\n",
    "\n",
    "    Returns:\n",
    "    The table object formatted.\n",
    "    \"\"\"\n",
    "\n",
    "    ax.auto_set_font_size(False)\n",
    "    the_cells = ax.get_celld()\n",
    "\n",
    "    line_color = colors.to_rgba(a_color)\n",
    "    banded_color = (*line_color[:-1], 0.1)\n",
    "\n",
    "    # the different areas of formatting\n",
    "    top_row = [(0, i) for i in np.arange(len(colLabels))]\n",
    "    bottom_row = [(len(data), i) for i in np.arange(len(colLabels))]\n",
    "    data_rows = [x for x in list(the_cells.keys()) if x not in top_row]\n",
    "        \n",
    "    for a_cell in top_row:\n",
    "        ax[a_cell].visible_edges = \"B\"\n",
    "        ax[a_cell].set_text_props(**{\"fontsize\": font_size})\n",
    "        ax[a_cell].set_edgecolor(\"black\")\n",
    "        ax[a_cell].PAD = .2\n",
    "        ax[a_cell].set_linewidth = 1\n",
    "        ax[a_cell].set_height(.5 / (len(data)))\n",
    "\n",
    "    for a_cell in data_rows:\n",
    "        ax[a_cell].set_height(.5 / (len(data)))\n",
    "        ax[a_cell].visible_edges = \"BT\"\n",
    "        ax[a_cell].set_text_props(**{\"fontsize\": font_size})\n",
    "        ax[a_cell].set_edgecolor(banded_color)\n",
    "        ax[a_cell]._text.set_horizontalalignment(\"center\")\n",
    "        ax[a_cell].set_linewidth = .1\n",
    "\n",
    "    if s_et_bottom_row is True:\n",
    "        \n",
    "        for a_cell in bottom_row:\n",
    "            ax[a_cell].visible_edges = \"B\"\n",
    "            ax[a_cell].set_edgecolor(line_color)\n",
    "            ax[a_cell].set_linewidth = 1\n",
    "\n",
    "    return ax\n",
    "\n",
    "\n",
    "\n",
    "def a_simple_formatted_table(ax,data,colLabels=[], a_color=\"black\", colWidths=[], bbox=[], **kwargs):\n",
    "    \"\"\"Makes a table with rows from a matplotlib axes object and a 2d array. Header row is\n",
    "    spererated from table body by a thicker black line. \n",
    "    \n",
    "    :param ax: An axes\n",
    "    :type ax: matplotlib axes\n",
    "    :param data: An array of the table values not including column names or labels\n",
    "    :type data: array\n",
    "    :param colLabels: The labels for the data table columns\n",
    "    :type colLabels: array\n",
    "    :param a_color: The color of the cell borders\n",
    "    :type a_color: str\n",
    "    :param colWidths: The width of each column in fractions of 1\n",
    "    :type colWdiths: array, x < 1\n",
    "    :param bbox: The location of the table in figure space\n",
    "    :type bbox: array\n",
    "    :return: A table on the provided axis\n",
    "    :rtype: matplotlib.axes\n",
    "    \n",
    "    \"\"\"\n",
    "    a = ax.table(data,  colLabels=colLabels, colWidths=colWidths, bbox=bbox, loc=\"lower center\", **kwargs)\n",
    "    t = make_a_summary_table(a, data, colLabels, a_color=a_color, font_size=12, s_et_bottom_row=False)\n",
    "    return t\n",
    "\n",
    "\n",
    "def a_stacked_bar_chart(ax, bars, xaxis=[], totals={}, palette={}, **kwargs):\n",
    "    \"\"\"Makes a stacked barchart given a matplotlib < ax > object\n",
    "    and a dictionary of values for each \"row\" of the stack.\n",
    "    \n",
    "    :param ax: A matplotlib axes object\n",
    "    :type ax: matplotlib.axes\n",
    "    :param bars: Dictionary of values for each row\n",
    "    :type bars: dict\n",
    "    :param xaxis: The values that define the xaxis, can be\n",
    "         date or categorical\n",
    "    :type xaxis: array\n",
    "    :param totals: A dictionary for a second non stacked bar chart.\n",
    "    :type totals: dict\n",
    "    :Return: A matplotlib axes object with a stacked barchart.    \n",
    "    \"\"\"\n",
    "    # set the bottom of the stacked bar chart\n",
    "    bottom = 0\n",
    "    \n",
    "    if totals:\n",
    "        # this is a seperate independent stack\n",
    "        # its value does not effect the value of <bottom>\n",
    "        ax.bar(xaxis, totals[\"data\"], bottom=bottom, label=totals[\"label\"], zorder=0)\n",
    "    else:\n",
    "        pass\n",
    "    \n",
    "    for a_bar in bars:\n",
    "        if palette:\n",
    "            ax.bar(xaxis, bars[a_bar][\"data\"], bottom=bottom, label=a_bar, color=palette[a_bar], zorder=2)\n",
    "        else:\n",
    "            ax.bar(xaxis, bars[a_bar][\"data\"], bottom=bottom, label=a_bar, zorder=2)\n",
    "        \n",
    "        # add the value of data to bottom\n",
    "        bottom += bars[a_bar][\"data\"]\n",
    "    \n",
    "    return ax\n",
    "\n",
    "def a_single_column_table(ax,data, fs=12, colWidths=[.7, .3], bbox=[0,0,1,1], kwargs={}):\n",
    "    \"\"\"Makes a table with rows from a matplotlib axes object and a 2d array. Header row is\n",
    "    spererated from table body by a thicker black line. \n",
    "    \n",
    "    :param ax: An axes\n",
    "    :type ax: matplotlib axes\n",
    "    :param data: An array of the table values not including column names or labels\n",
    "    :type data: array\n",
    "    :param fs: The font size for the cell data\n",
    "    :type fs: float, int\n",
    "    :param colWidths: The width of each column in fractions of 1\n",
    "    :type colWdiths: array, x < 1\n",
    "    :param bbox: The location of the table in figure space\n",
    "    :type bbox: array\n",
    "    :return: A table on the provided axis\n",
    "    :rtype: matplotlib.axes\n",
    "    \n",
    "    \"\"\"\n",
    "    \n",
    "    \n",
    "    a = ax.table(data, colWidths=colWidths, bbox=bbox, loc=\"lower center\", **kwargs)\n",
    "    a.auto_set_font_size(False)\n",
    "    a.set_fontsize(fs)\n",
    "\n",
    "    return a"
   ]
  },
  {
   "cell_type": "markdown",
   "id": "e1630a66",
   "metadata": {},
   "source": [
    "### Year one summary values\n",
    "\n",
    "*__Below left:__ The number of species, samples and locations sampled per month. __Top right:__ The number of unique species identified per sample. __Bottom right:__ The aggregated values for year one.*"
   ]
  },
  {
   "cell_type": "code",
   "execution_count": 5,
   "id": "55330ddd",
   "metadata": {
    "jupyter": {
     "source_hidden": true
    },
    "tags": []
   },
   "outputs": [
    {
     "data": {
      "image/png": "[encoded data removed]",
      "text/plain": [
       "<Figure size 720x504 with 3 Axes>"
      ]
     },
     "metadata": {
      "needs_background": "light"
     },
     "output_type": "display_data"
    }
   ],
   "source": [
    "# Question is how moveable are the values?\n",
    "\n",
    "# axone monthly summary values\n",
    "t_one = spd1.groupby([\"month\"], as_index=False).agg({\"species\":\"nunique\", \"loc_date\":\"nunique\", \"locname\":\"nunique\"})\n",
    "\n",
    "data = t_one.values\n",
    "colLabels = [*t_one.columns[:-2], \"nsamples\", \"nplaces\"]\n",
    "colWidths = [*[1/len(colLabels)]*len(colLabels)]\n",
    "bbox = [0, 0,1,1]\n",
    "\n",
    "# axtwo species identified per sample\n",
    "d1 = spd1.groupby([\"date\", \"locname\"], as_index=False).species.count()\n",
    "\n",
    "# axthree summary values\n",
    "summary={\n",
    "    \"number of samples\":spd1.loc_date.nunique(),\n",
    "    \"first sample\": spd1[\"date\"].min().date(),\n",
    "    \"last sample\":spd1[\"date\"].max().date(),\n",
    "    \"number of places\":spd1.locname.nunique(),\n",
    "    \"number of species\":spd1.species.nunique(),\n",
    "    \"number of families\":spd1.fam.nunique(),    \n",
    "\n",
    "}\n",
    "\n",
    "a_summary = pd.DataFrame.from_dict(summary, orient=\"index\").reset_index()\n",
    "\n",
    "\n",
    "fig = plt.figure(figsize=(10,7))\n",
    "\n",
    "gs = GridSpec(10,11)\n",
    "\n",
    "axone = fig.add_subplot(gs[:, 0:5])\n",
    "axtwo = fig.add_subplot(gs[0:5, 6:])\n",
    "axthree = fig.add_subplot(gs[6:, 6:])\n",
    "\n",
    "# axone\n",
    "table_one = a_simple_formatted_table(axone,data,colLabels=colLabels, colWidths=colWidths, bbox=bbox)\n",
    "axone.axis(\"off\")\n",
    "\n",
    "# axtwo\n",
    "locator = mdates.MonthLocator()  # every month\n",
    "fmt = mdates.DateFormatter('%b')\n",
    "sns.scatterplot(data=d1, x=\"date\", y=\"species\", ax=axtwo)\n",
    "axtwo.xaxis.set_major_locator(locator)\n",
    "axtwo.xaxis.set_major_formatter(fmt)\n",
    "axtwo.set_ylabel(\"# species indentified\")\n",
    "axtwo.set_xlabel(\"\")\n",
    "\n",
    "# axthree\n",
    "b = a_single_column_table(axthree, a_summary.values, colWidths=[.6, .4])\n",
    "axthree.axis(\"off\")\n",
    "\n",
    "plt.show()"
   ]
  },
  {
   "cell_type": "markdown",
   "id": "1a8eca48",
   "metadata": {},
   "source": [
    "Year 2 saw around 5x as many plants identified as in Year 1 due to the extra experience of the surveyor in identifying plants. In Year 3, given the extra experience of the surveyor, the expected number of observations will triple to around 18'000 - 22'000 observations through the year.\n",
    "\n",
    "Not only has experience improved plant recognition significantly, but the survey method and data pipeline are now much smoother. On top of this the processes to organize and analyze the data are now in place so the survey team is much freer to focus on identifying plants and entering them in the infoflora app."
   ]
  },
  {
   "cell_type": "markdown",
   "id": "e1738e8d",
   "metadata": {},
   "source": [
    "### Year two summary values\n",
    "\n",
    "*__Below left:__ The number of species, samples and locations sampled per month. __Top right:__ The number of unique species identified per sample. __Bottom right:__ The aggregated values for year two.*"
   ]
  },
  {
   "cell_type": "code",
   "execution_count": 6,
   "id": "91ea4a14",
   "metadata": {
    "tags": []
   },
   "outputs": [
    {
     "data": {
      "image/png": "[encoded data removed]",
      "text/plain": [
       "<Figure size 720x504 with 3 Axes>"
      ]
     },
     "metadata": {
      "needs_background": "light"
     },
     "output_type": "display_data"
    }
   ],
   "source": [
    "# axone monthly summary values\n",
    "t_one = spd2.groupby([\"month\"], as_index=False).agg({\"species\":\"nunique\", \"loc_date\":\"nunique\", \"locname\":\"nunique\"})\n",
    "\n",
    "data = t_one.values\n",
    "colLabels = [*t_one.columns[:-2], \"nsamples\", \"nplaces\"]\n",
    "colWidths = [*[1/len(colLabels)]*len(colLabels)]\n",
    "bbox = [0, 0,1,1]\n",
    "\n",
    "# axtwo species identified per sample\n",
    "d2 = spd2.groupby([\"date\", \"locname\"], as_index=False).species.count()\n",
    "\n",
    "# axthree summary values\n",
    "summary={\n",
    "    \"number of samples\":spd2.loc_date.nunique(),\n",
    "    \"first sample\": spd2[\"date\"].min().date(),\n",
    "    \"last sample\":spd2[\"date\"].max().date(),\n",
    "    \"number of places\":spd2.locname.nunique(),\n",
    "    \"number of species\":spd2.species.nunique(),\n",
    "    \"number of families\":spd2.fam.nunique(),    \n",
    "\n",
    "}\n",
    "\n",
    "a_summary = pd.DataFrame.from_dict(summary, orient=\"index\").reset_index()\n",
    "\n",
    "\n",
    "fig = plt.figure(figsize=(10,7))\n",
    "\n",
    "gs = GridSpec(10,11)\n",
    "\n",
    "axone = fig.add_subplot(gs[:, 0:5])\n",
    "axtwo = fig.add_subplot(gs[0:5, 6:])\n",
    "axthree = fig.add_subplot(gs[6:, 6:])\n",
    "\n",
    "# axone\n",
    "table_one = a_simple_formatted_table(axone,data,colLabels=colLabels, colWidths=colWidths, bbox=bbox)\n",
    "axone.axis(\"off\")\n",
    "\n",
    "# axtwo\n",
    "locator = mdates.MonthLocator()  # every month\n",
    "fmt = mdates.DateFormatter('%b')\n",
    "sns.scatterplot(data=d2, x=\"date\", y=\"species\", ax=axtwo)\n",
    "axtwo.xaxis.set_major_locator(locator)\n",
    "axtwo.xaxis.set_major_formatter(fmt)\n",
    "axtwo.set_ylabel(\"# species indentified\")\n",
    "axtwo.set_xlabel(\"\")\n",
    "\n",
    "# axthree\n",
    "b = a_single_column_table(axthree, a_summary.values, colWidths=[.6, .4])\n",
    "axthree.axis(\"off\")\n",
    "\n",
    "plt.show()"
   ]
  },
  {
   "cell_type": "markdown",
   "id": "ce5962cf-5640-411b-a854-99b89aee301f",
   "metadata": {},
   "source": [
    "### Red list observations 2020 2021\n",
    "\n",
    "The number and category of observed species on the redlist for the region Middle Plateau"
   ]
  },
  {
   "cell_type": "markdown",
   "id": "cc676e47-2fba-494d-bf3d-dac2556968fa",
   "metadata": {
    "tags": []
   },
   "source": [
    "*__Below left:__ monthly cumulative observations of redlist species year one. __Below right:__ monthly cumulative observations of redlist species year two. __Bottom:__ Redlist categories identified per survey 2020 - 2021.*"
   ]
  },
  {
   "cell_type": "code",
   "execution_count": 7,
   "id": "8318bd5a-a8ee-4aa2-bced-a237e37d8698",
   "metadata": {
    "tags": []
   },
   "outputs": [
    {
     "data": {
      "image/png": "[encoded data removed]",
      "text/plain": [
       "<Figure size 720x576 with 3 Axes>"
      ]
     },
     "metadata": {
      "needs_background": "light"
     },
     "output_type": "display_data"
    }
   ],
   "source": [
    "def periodic_value_counts(data, column, period=\"month\", exclude=[]):\n",
    "    a = data[~data[column].isin(exclude)]\n",
    "    b = pd.DataFrame(a.groupby(period)[column].value_counts()).rename(columns={column:\"data\"})\n",
    "    \n",
    "    return b.reset_index()\n",
    "\n",
    "def assgin_axis_values(data, period=\"month\", column=\"rch\", value=\"NT\", these_dates=[], bars={}):\n",
    "    \n",
    "    a_dates = data[data[column]== value][period].unique()\n",
    "    add_dates = [x for x in these_dates if x not in a_dates]\n",
    "    add_these = [{period:x, column:aval, \"data\":0} for x in add_dates]\n",
    "    data = data.append(add_these)\n",
    "    bars.update({aval:{\"data\":data[data[column] == aval].sort_values(by=\"month\")[\"data\"].values}})\n",
    "    \n",
    "    return data, bars\n",
    "\n",
    "# count the number of occurences for each category at each survey\n",
    "these_years = [spd1, spd2]\n",
    "these_dates = [x[\"month\"].sort_values().unique() for x in these_years]\n",
    "set_dates = list(set(these_dates[0]) | set(these_dates[1]))\n",
    "\n",
    "these_lists = [\"rch\",\"ni\", \"inv\", \"ongen\"]\n",
    "not_these = [\"X\",\"-\"]\n",
    "\n",
    "period = \"month\"\n",
    "column = \"rmp\"\n",
    "\n",
    "biogeo = \"mp\"\n",
    "\n",
    "a_palette = {\n",
    "    \"LC\":\"dodgerblue\",\n",
    "    \"EN\":\"crimson\",\n",
    "    \"NT\":\"magenta\",\n",
    "    \"VU\": \"plum\",\n",
    "    \"NE\":\"darkviolet\",\n",
    "    \"DD\":\"grey\",\n",
    "}\n",
    "    \n",
    "    \n",
    "    \n",
    "\n",
    "# make bar for bar plots\n",
    "# the unique values in the column of interest\n",
    "e = list(set(spd1[column].unique()) | set(spd2[column].unique()))\n",
    "e=[x for x in e if x not in not_these]\n",
    "\n",
    "# year one\n",
    "newDf = spd1[(spd1.biogeo == biogeo)&(~spd1[column].isin(not_these))]\n",
    "data_rch_yone = periodic_value_counts(newDf, column, exclude=not_these)\n",
    "\n",
    "red_list_yone_bars = {}\n",
    "for aval in e:\n",
    "    d_yone, _ = assgin_axis_values(data_rch_yone, period=period, column=column, value=aval, these_dates=set_dates, bars=red_list_yone_bars)\n",
    "\n",
    "# year two\n",
    "newDf2 = spd2[(spd2.biogeo == biogeo)&(~spd2[column].isin(not_these))]\n",
    "data_rch_ytwo = periodic_value_counts(newDf2, column, exclude=not_these)\n",
    "\n",
    "red_list_ytwo_bars = {}\n",
    "for aval in e:\n",
    "    d_ytwo,_ = assgin_axis_values(data_rch_ytwo, period=period, column=column, value=aval, these_dates=set_dates, bars=red_list_ytwo_bars)\n",
    "    \n",
    "\n",
    "# rmp status per survey\n",
    "rmp_stat = pd.DataFrame(spd[~spd[column].isin(not_these)].groupby([\"loc_date\",\"date\"]).rmp.value_counts()).rename(columns={column:\"data\"}).reset_index()\n",
    "\n",
    "\n",
    "\n",
    "tick_spacing = 1\n",
    "\n",
    "fig = plt.figure(figsize=(10,8))\n",
    "\n",
    "gs = GridSpec(10,11)\n",
    "\n",
    "axone = fig.add_subplot(gs[0:5, 0:5])\n",
    "axtwo = fig.add_subplot(gs[0:5, 6:])\n",
    "axthree = fig.add_subplot(gs[6:, :])\n",
    "\n",
    "a_stacked_bar_chart(axone, red_list_yone_bars, xaxis=set_dates, palette=a_palette)\n",
    "a_stacked_bar_chart(axtwo, red_list_ytwo_bars, xaxis=set_dates, palette=a_palette)\n",
    "\n",
    "xlabel = \"Month\"\n",
    "ylabel = \"Number of species\"\n",
    "\n",
    "\n",
    "axone.xaxis.set_major_locator(ticker.MultipleLocator(tick_spacing))\n",
    "axone.set_ylabel(ylabel, fontsize=14, labelpad=14)\n",
    "axone.set_xlabel(xlabel, fontsize=12)\n",
    "axone.set_title(\"2020\")\n",
    "axone.legend()\n",
    "axtwo.xaxis.set_major_locator(ticker.MultipleLocator(tick_spacing))\n",
    "axtwo.set_xlabel(xlabel, fontsize=12)\n",
    "axtwo.set_title(\"2021\")\n",
    "\n",
    "sns.scatterplot(data=rmp_stat, x=\"date\", y=\"data\", hue=\"rmp\", palette=a_palette, ax=axthree)\n",
    "axthree.set_ylabel(ylabel, fontsize=14, labelpad=14)\n",
    "axthree.set_xlabel(\"\")\n",
    "\n",
    "plt.show()   "
   ]
  },
  {
   "cell_type": "markdown",
   "id": "c5e53577-a898-4f66-9783-b67043d8a0d6",
   "metadata": {},
   "source": [
    "__Monthly totals redlist observations__\n",
    "\n",
    "*__Below left:__ Monthly totals for each redlist category year one. __Below right:__ Montlhy totals for each redlist catgegory year two. __Note:__ there were no samples recorded in Oct-Nov-Dec 2021*"
   ]
  },
  {
   "cell_type": "code",
   "execution_count": 8,
   "id": "fb434c11-3eb4-4bd9-8075-c4882e2ad6e5",
   "metadata": {
    "tags": []
   },
   "outputs": [
    {
     "ename": "SyntaxError",
     "evalue": "invalid syntax (4248757132.py, line 27)",
     "output_type": "error",
     "traceback": [
      "\u001b[0;36m  File \u001b[0;32m\"/tmp/ipykernel_5599/4248757132.py\"\u001b[0;36m, line \u001b[0;32m27\u001b[0m\n\u001b[0;31m    plt.show()\u001b[0m\n\u001b[0m    ^\u001b[0m\n\u001b[0;31mSyntaxError\u001b[0m\u001b[0;31m:\u001b[0m invalid syntax\n"
     ]
    }
   ],
   "source": [
    "yone = d_yone.pivot(columns=column, index=\"month\").fillna(0).astype(\"int\")\n",
    "yone.columns = yone.columns.get_level_values(1)\n",
    "yone_columns = [x for x in yone.columns if x not in not_these]\n",
    "yone = yone[yone_columns].reset_index()\n",
    "\n",
    "ytwo = d_ytwo.pivot(columns=column, index=\"month\").fillna(0).astype(\"int\")\n",
    "ytwo.columns = ytwo.columns.get_level_values(1)\n",
    "ytwo_columns = [x for x in ytwo.columns if x not in not_these]\n",
    "ytwo = ytwo[ytwo_columns].reset_index()\n",
    "\n",
    "fig, ax = plt.subplots(1,2, figsize=(9,8))\n",
    "\n",
    "axone = ax[0]\n",
    "axtwo = ax[1]\n",
    "\n",
    "# table one\n",
    "table_one = a_simple_formatted_table(axone,yone.values,colLabels=yone.columns, colWidths=[.28, *[.12]*6], bbox=bbox)\n",
    "axone.axis(\"off\")\n",
    "axone.set_title(\"2020\", fontsize=14)\n",
    "\n",
    "# table two\n",
    "table_two = a_simple_formatted_table(axtwo, ytwo.values, colLabels=ytwo.columns, colWidths=[.28, *[.12]*6], bbox=bbox)\n",
    "axtwo.axis(\"off\")\n",
    "axtwo.set_title(\"2021\", fontsize=14)\n",
    "\n",
    "plt.title(\"Monthly totals redlist observations\"\n",
    "plt.show()"
   ]
  },
  {
   "cell_type": "code",
   "execution_count": null,
   "id": "23bc0e50-6ee4-4031-9472-42c7a8bff396",
   "metadata": {},
   "outputs": [],
   "source": []
  },
  {
   "cell_type": "code",
   "execution_count": null,
   "id": "66d021a5",
   "metadata": {
    "tags": []
   },
   "outputs": [],
   "source": [
    "# number of unique species identified and changes in top 10 genus, species, identified, red_list species, not_indigenous species\n",
    "# number of instances and number of surveys\n",
    "# numbers per survey\n",
    "# series of monthly data, then series of quarterly data (feb-mar), (apr-may-jun),  (july-august-september-october)"
   ]
  },
  {
   "cell_type": "code",
   "execution_count": 9,
   "id": "ff66e4be-5ae3-4c95-b9c3-33d6082924b6",
   "metadata": {},
   "outputs": [
    {
     "ename": "NameError",
     "evalue": "name 'resample' is not defined",
     "output_type": "error",
     "traceback": [
      "\u001b[0;31m---------------------------------------------------------------------------\u001b[0m",
      "\u001b[0;31mNameError\u001b[0m                                 Traceback (most recent call last)",
      "\u001b[0;32m/tmp/ipykernel_5599/413444522.py\u001b[0m in \u001b[0;36m<module>\u001b[0;34m\u001b[0m\n\u001b[1;32m     25\u001b[0m     \u001b[0;31m# with a sample\u001b[0m\u001b[0;34m\u001b[0m\u001b[0;34m\u001b[0m\u001b[0;34m\u001b[0m\u001b[0m\n\u001b[1;32m     26\u001b[0m     \u001b[0mmonth_index\u001b[0m \u001b[0;34m=\u001b[0m \u001b[0mpd\u001b[0m\u001b[0;34m.\u001b[0m\u001b[0mDataFrame\u001b[0m\u001b[0;34m(\u001b[0m\u001b[0mindex\u001b[0m\u001b[0;34m=\u001b[0m\u001b[0mthese_dates\u001b[0m\u001b[0;34m[\u001b[0m\u001b[0;36m1\u001b[0m\u001b[0;34m]\u001b[0m\u001b[0;34m)\u001b[0m\u001b[0;34m\u001b[0m\u001b[0;34m\u001b[0m\u001b[0m\n\u001b[0;32m---> 27\u001b[0;31m     \u001b[0mmonth_index\u001b[0m\u001b[0;34m.\u001b[0m\u001b[0mindex\u001b[0m\u001b[0;34m.\u001b[0m\u001b[0mname\u001b[0m \u001b[0;34m=\u001b[0m \u001b[0mresample\u001b[0m\u001b[0;34m\u001b[0m\u001b[0;34m\u001b[0m\u001b[0m\n\u001b[0m\u001b[1;32m     28\u001b[0m \u001b[0;34m\u001b[0m\u001b[0m\n\u001b[1;32m     29\u001b[0m     \u001b[0;31m# sum the occurences by month for each category in count_these\u001b[0m\u001b[0;34m\u001b[0m\u001b[0;34m\u001b[0m\u001b[0;34m\u001b[0m\u001b[0m\n",
      "\u001b[0;31mNameError\u001b[0m: name 'resample' is not defined"
     ]
    }
   ],
   "source": [
    "# the data from year one\n",
    "\n",
    "bar_data_yone = spd1.copy()\n",
    "\n",
    "# the dates for the end of each month that\n",
    "# has samples\n",
    "# datesyone = spd1[\"month\"].sort_values().unique()\n",
    "\n",
    "\n",
    "\n",
    "# specify the values to count for each\n",
    "# category - column\n",
    "\n",
    "\n",
    "count_these = {}\n",
    "for a_list in these_lists:\n",
    "    count_these.update({a_list:[x for x in bar_data_yone[a_list].unique() if x not in not_these]})\n",
    "    \n",
    "# resample monthly totals:\n",
    "\n",
    " \n",
    "barsyone={}\n",
    "for a_list in these_lists:\n",
    "    # for each category create an index of all months\n",
    "    # with a sample\n",
    "    month_index = pd.DataFrame(index=these_dates[1])\n",
    "    month_index.index.name = resample\n",
    "    \n",
    "    # sum the occurences by month for each category in count_these\n",
    "    l_data = bar_data_yone[bar_data_yone[a_list].isin(count_these[a_list])].groupby([resample], as_index=False)[a_list].value_count()\n",
    "    b_data = l_data.groupby(resample)[a_list].sum()\n",
    "    \n",
    "    for data in b_data.index:\n",
    "        month_index.loc[data, a_list]=b_data.loc[data]\n",
    "    month_index.fillna(0, inplace=True)\n",
    "    month_index.sort_index(inplace=True)\n",
    "    \n",
    "    barsyone.update({a_list: {\"data\": month_index.values.flatten()}})"
   ]
  },
  {
   "cell_type": "code",
   "execution_count": 10,
   "id": "0dbec17d-a758-468a-beba-4490b0d93dcb",
   "metadata": {},
   "outputs": [
    {
     "data": {
      "text/plain": [
       "{}"
      ]
     },
     "execution_count": 10,
     "metadata": {},
     "output_type": "execute_result"
    }
   ],
   "source": [
    "barsyone"
   ]
  },
  {
   "cell_type": "code",
   "execution_count": 11,
   "id": "86c63045",
   "metadata": {},
   "outputs": [],
   "source": [
    "bar_data = spd2.copy()\n",
    "dates = index=spd2[\"month\"].sort_values().unique()\n",
    "\n",
    "these_lists = [\"rch\",\"ni\", \"inv\", \"ongen\"]\n",
    "resampkey = \"M\"\n",
    "on=\"date\"\n",
    "by = \"loc_date\"\n",
    "\n",
    "not_these = [\"X\", 0]\n",
    "\n",
    "\n",
    "count_these = {}\n",
    "for a_list in these_lists:\n",
    "    count_these.update({a_list:[x for x in bar_data[a_list].unique() if x not in not_these]})\n",
    "    \n",
    "# resample monthly totals:\n",
    "bars={}\n",
    "for a_list in these_lists:\n",
    "    # for each category create an index of all months\n",
    "    # with a sample\n",
    "    month_index = pd.DataFrame(index=spd2[\"month\"].unique())\n",
    "    month_index.index.name = \"month\"\n",
    "    \n",
    "    # sum the occurences by month for each category\n",
    "    l_data = bar_data[bar_data[a_list].isin(count_these[a_list])].groupby([\"month\"], as_index=False)[a_list].count()\n",
    "    b_data = l_data.groupby(\"month\")[a_list].sum()\n",
    "    \n",
    "    for data in b_data.index:\n",
    "        month_index.loc[data, a_list]=b_data.loc[data]\n",
    "    month_index.fillna(0, inplace=True)\n",
    "    month_index.sort_index(inplace=True)\n",
    "    \n",
    "    bars.update({a_list: {\"data\": month_index.values.flatten()}})"
   ]
  },
  {
   "cell_type": "code",
   "execution_count": 12,
   "id": "8beb8334-d1c1-4da6-9d81-5ead6c36398b",
   "metadata": {},
   "outputs": [
    {
     "data": {
      "text/plain": [
       "{'rch': {'data': array([ 142.,  561.,  878., 1099.,  983., 1047.,  513.,  115.])},\n",
       " 'ni': {'data': array([ 22.,  69., 147., 101.,  29.,  34.,  49.,   7.])},\n",
       " 'inv': {'data': array([ 3.,  9., 29., 24., 75., 77., 40., 10.])},\n",
       " 'ongen': {'data': array([  1.,  35., 108.,  69., 182., 116.,  43.,  12.])}}"
      ]
     },
     "execution_count": 12,
     "metadata": {},
     "output_type": "execute_result"
    }
   ],
   "source": [
    "bars"
   ]
  },
  {
   "cell_type": "code",
   "execution_count": 13,
   "id": "a75f9992",
   "metadata": {
    "tags": []
   },
   "outputs": [
    {
     "ename": "NameError",
     "evalue": "name 'datesyone' is not defined",
     "output_type": "error",
     "traceback": [
      "\u001b[0;31m---------------------------------------------------------------------------\u001b[0m",
      "\u001b[0;31mNameError\u001b[0m                                 Traceback (most recent call last)",
      "\u001b[0;32m/tmp/ipykernel_5599/858874661.py\u001b[0m in \u001b[0;36m<module>\u001b[0;34m\u001b[0m\n\u001b[1;32m      3\u001b[0m \u001b[0mfig\u001b[0m\u001b[0;34m,\u001b[0m \u001b[0maxs\u001b[0m \u001b[0;34m=\u001b[0m \u001b[0mplt\u001b[0m\u001b[0;34m.\u001b[0m\u001b[0msubplots\u001b[0m\u001b[0;34m(\u001b[0m\u001b[0;36m1\u001b[0m\u001b[0;34m,\u001b[0m\u001b[0;36m2\u001b[0m\u001b[0;34m,\u001b[0m \u001b[0mfigsize\u001b[0m\u001b[0;34m=\u001b[0m\u001b[0;34m(\u001b[0m\u001b[0;36m12\u001b[0m\u001b[0;34m,\u001b[0m \u001b[0;36m8\u001b[0m\u001b[0;34m)\u001b[0m\u001b[0;34m)\u001b[0m\u001b[0;34m\u001b[0m\u001b[0;34m\u001b[0m\u001b[0m\n\u001b[1;32m      4\u001b[0m \u001b[0ma_stacked_bar_chart\u001b[0m\u001b[0;34m(\u001b[0m\u001b[0maxs\u001b[0m\u001b[0;34m[\u001b[0m\u001b[0;36m0\u001b[0m\u001b[0;34m]\u001b[0m\u001b[0;34m,\u001b[0m \u001b[0mbars\u001b[0m\u001b[0;34m,\u001b[0m \u001b[0mxaxis\u001b[0m\u001b[0;34m=\u001b[0m\u001b[0mdates\u001b[0m\u001b[0;34m)\u001b[0m\u001b[0;34m\u001b[0m\u001b[0;34m\u001b[0m\u001b[0m\n\u001b[0;32m----> 5\u001b[0;31m \u001b[0ma_stacked_bar_chart\u001b[0m\u001b[0;34m(\u001b[0m\u001b[0maxs\u001b[0m\u001b[0;34m[\u001b[0m\u001b[0;36m1\u001b[0m\u001b[0;34m]\u001b[0m\u001b[0;34m,\u001b[0m \u001b[0mbarsyone\u001b[0m\u001b[0;34m,\u001b[0m \u001b[0mxaxis\u001b[0m\u001b[0;34m=\u001b[0m\u001b[0mdatesyone\u001b[0m\u001b[0;34m)\u001b[0m\u001b[0;34m\u001b[0m\u001b[0;34m\u001b[0m\u001b[0m\n\u001b[0m\u001b[1;32m      6\u001b[0m \u001b[0mplt\u001b[0m\u001b[0;34m.\u001b[0m\u001b[0mlegend\u001b[0m\u001b[0;34m(\u001b[0m\u001b[0;34m)\u001b[0m\u001b[0;34m\u001b[0m\u001b[0;34m\u001b[0m\u001b[0m\n\u001b[1;32m      7\u001b[0m \u001b[0;34m\u001b[0m\u001b[0m\n",
      "\u001b[0;31mNameError\u001b[0m: name 'datesyone' is not defined"
     ]
    },
    {
     "data": {
      "image/png": "[encoded data removed]",
      "text/plain": [
       "<Figure size 864x576 with 2 Axes>"
      ]
     },
     "metadata": {
      "needs_background": "light"
     },
     "output_type": "display_data"
    }
   ],
   "source": [
    "tick_spacing = 1\n",
    "\n",
    "fig, axs = plt.subplots(1,2, figsize=(12, 8))\n",
    "a_stacked_bar_chart(axs[0], bars, xaxis=dates)\n",
    "a_stacked_bar_chart(axs[1], barsyone, xaxis=datesyone)\n",
    "plt.legend()\n",
    "\n",
    "\n",
    "axs[0].xaxis.set_major_locator(ticker.MultipleLocator(tick_spacing))\n",
    "axs[1].xaxis.set_major_locator(ticker.MultipleLocator(tick_spacing))\n",
    "\n",
    "\n",
    "plt.show()   "
   ]
  },
  {
   "cell_type": "code",
   "execution_count": 14,
   "id": "a77a3b62-5c34-470b-866f-504e8e954069",
   "metadata": {},
   "outputs": [
    {
     "data": {
      "text/plain": [
       "Index(['Unnamed: 0', 'date', 'species', 'year', 'biogeo', 'canton', 'river',\n",
       "       'lot', 'forest', 'project', 'city', 'rch', 'rmp', 'rju', 'fam', 'res',\n",
       "       'pri', 'inv', 'ode', 'ns', 'ongen', 'ni', 'cdf', 'biel', 'locname',\n",
       "       'loc_date', 'genus', 'month'],\n",
       "      dtype='object')"
      ]
     },
     "execution_count": 14,
     "metadata": {},
     "output_type": "execute_result"
    }
   ],
   "source": [
    "spd2.columns"
   ]
  },
  {
   "cell_type": "code",
   "execution_count": 15,
   "id": "c7e88c63",
   "metadata": {
    "tags": []
   },
   "outputs": [
    {
     "data": {
      "text/plain": [
       "array(['X', 'schwanen', 'flaess', 'taubenloch', 'jura', 'port'],\n",
       "      dtype=object)"
      ]
     },
     "execution_count": 15,
     "metadata": {},
     "output_type": "execute_result"
    }
   ],
   "source": [
    "# monthly redlist break down\n",
    "spd2.lot.unique()"
   ]
  },
  {
   "cell_type": "code",
   "execution_count": 16,
   "id": "de724f50-51d7-424a-b1af-33d463a75b1e",
   "metadata": {},
   "outputs": [
    {
     "data": {
      "text/plain": [
       "lot\n",
       "X             66\n",
       "flaess        19\n",
       "jura          16\n",
       "port          22\n",
       "schwanen      29\n",
       "taubenloch     5\n",
       "Name: fam, dtype: int64"
      ]
     },
     "execution_count": 16,
     "metadata": {},
     "output_type": "execute_result"
    }
   ],
   "source": [
    "# location and lots\n",
    "spd2.groupby([\"lot\"]).fam.nunique()"
   ]
  },
  {
   "cell_type": "code",
   "execution_count": 17,
   "id": "579c61cd-4bcc-4c82-9a33-210b7b0c5ff2",
   "metadata": {},
   "outputs": [
    {
     "data": {
      "text/plain": [
       "lot\n",
       "X             6\n",
       "flaess        4\n",
       "jura          2\n",
       "port          3\n",
       "schwanen      3\n",
       "taubenloch    2\n",
       "Name: rch, dtype: int64"
      ]
     },
     "execution_count": 17,
     "metadata": {},
     "output_type": "execute_result"
    }
   ],
   "source": [
    "# detail of redlist columns for rch rmp\n",
    "# compare to non lots \n",
    "spd2.groupby([\"lot\"]).rch.nunique()"
   ]
  },
  {
   "cell_type": "code",
   "execution_count": 18,
   "id": "c7b05ce0-c718-4f3a-bbd4-5d7829eb2598",
   "metadata": {},
   "outputs": [
    {
     "data": {
      "text/plain": [
       "project\n",
       "X                560\n",
       "pronat            13\n",
       "renat-cygnes       5\n",
       "renat-neumatt      3\n",
       "renat-sund         1\n",
       "renat-suze        41\n",
       "renat-vor          1\n",
       "schuessinsel       1\n",
       "Name: loc_date, dtype: int64"
      ]
     },
     "execution_count": 18,
     "metadata": {},
     "output_type": "execute_result"
    }
   ],
   "source": [
    "# compare to non lots \n",
    "spd2.groupby([\"project\"]).loc_date.nunique()"
   ]
  },
  {
   "cell_type": "code",
   "execution_count": 19,
   "id": "9a523561",
   "metadata": {
    "tags": []
   },
   "outputs": [
    {
     "data": {
      "image/png": "[encoded data removed]",
      "text/plain": [
       "<Figure size 864x576 with 1 Axes>"
      ]
     },
     "metadata": {
      "needs_background": "light"
     },
     "output_type": "display_data"
    }
   ],
   "source": [
    "tick_spacing = 1\n",
    "\n",
    "fig, ax = plt.subplots(figsize=(12, 8))\n",
    "a_stacked_bar_chart(ax, bars, xaxis=dates)\n",
    "plt.legend()\n",
    "\n",
    "\n",
    "ax.xaxis.set_major_locator(ticker.MultipleLocator(tick_spacing))\n",
    "\n",
    "\n",
    "plt.show()   "
   ]
  },
  {
   "cell_type": "code",
   "execution_count": null,
   "id": "3e899c14",
   "metadata": {},
   "outputs": [],
   "source": []
  },
  {
   "cell_type": "code",
   "execution_count": 20,
   "id": "f07369e6",
   "metadata": {
    "tags": []
   },
   "outputs": [
    {
     "data": {
      "text/html": [
       "<div>\n",
       "<style scoped>\n",
       "    .dataframe tbody tr th:only-of-type {\n",
       "        vertical-align: middle;\n",
       "    }\n",
       "\n",
       "    .dataframe tbody tr th {\n",
       "        vertical-align: top;\n",
       "    }\n",
       "\n",
       "    .dataframe thead th {\n",
       "        text-align: right;\n",
       "    }\n",
       "</style>\n",
       "<table border=\"1\" class=\"dataframe\">\n",
       "  <thead>\n",
       "    <tr style=\"text-align: right;\">\n",
       "      <th></th>\n",
       "      <th>rch</th>\n",
       "      <th>ni</th>\n",
       "      <th>inv</th>\n",
       "      <th>ongen</th>\n",
       "    </tr>\n",
       "  </thead>\n",
       "  <tbody>\n",
       "    <tr>\n",
       "      <th>2</th>\n",
       "      <td>142.0</td>\n",
       "      <td>22.0</td>\n",
       "      <td>3.0</td>\n",
       "      <td>1.0</td>\n",
       "    </tr>\n",
       "    <tr>\n",
       "      <th>3</th>\n",
       "      <td>561.0</td>\n",
       "      <td>69.0</td>\n",
       "      <td>9.0</td>\n",
       "      <td>35.0</td>\n",
       "    </tr>\n",
       "    <tr>\n",
       "      <th>4</th>\n",
       "      <td>878.0</td>\n",
       "      <td>147.0</td>\n",
       "      <td>29.0</td>\n",
       "      <td>108.0</td>\n",
       "    </tr>\n",
       "    <tr>\n",
       "      <th>5</th>\n",
       "      <td>1099.0</td>\n",
       "      <td>101.0</td>\n",
       "      <td>24.0</td>\n",
       "      <td>69.0</td>\n",
       "    </tr>\n",
       "    <tr>\n",
       "      <th>6</th>\n",
       "      <td>983.0</td>\n",
       "      <td>29.0</td>\n",
       "      <td>75.0</td>\n",
       "      <td>182.0</td>\n",
       "    </tr>\n",
       "    <tr>\n",
       "      <th>7</th>\n",
       "      <td>1047.0</td>\n",
       "      <td>34.0</td>\n",
       "      <td>77.0</td>\n",
       "      <td>116.0</td>\n",
       "    </tr>\n",
       "    <tr>\n",
       "      <th>8</th>\n",
       "      <td>513.0</td>\n",
       "      <td>49.0</td>\n",
       "      <td>40.0</td>\n",
       "      <td>43.0</td>\n",
       "    </tr>\n",
       "    <tr>\n",
       "      <th>9</th>\n",
       "      <td>115.0</td>\n",
       "      <td>7.0</td>\n",
       "      <td>10.0</td>\n",
       "      <td>12.0</td>\n",
       "    </tr>\n",
       "  </tbody>\n",
       "</table>\n",
       "</div>"
      ],
      "text/plain": [
       "      rch     ni   inv  ongen\n",
       "2   142.0   22.0   3.0    1.0\n",
       "3   561.0   69.0   9.0   35.0\n",
       "4   878.0  147.0  29.0  108.0\n",
       "5  1099.0  101.0  24.0   69.0\n",
       "6   983.0   29.0  75.0  182.0\n",
       "7  1047.0   34.0  77.0  116.0\n",
       "8   513.0   49.0  40.0   43.0\n",
       "9   115.0    7.0  10.0   12.0"
      ]
     },
     "execution_count": 20,
     "metadata": {},
     "output_type": "execute_result"
    }
   ],
   "source": [
    "to_df = {x:bars[x][\"data\"] for x in bars.keys()}\n",
    "tdf = pd.DataFrame(to_df, index=dates)\n",
    "tdf"
   ]
  },
  {
   "cell_type": "code",
   "execution_count": 21,
   "id": "ce77eb64",
   "metadata": {},
   "outputs": [
    {
     "data": {
      "text/plain": [
       "<pandas.core.groupby.generic.DataFrameGroupBy object at 0x7f97302a3250>"
      ]
     },
     "execution_count": 21,
     "metadata": {},
     "output_type": "execute_result"
    }
   ],
   "source": [
    "spd.groupby([\"loc_date\", ])"
   ]
  },
  {
   "cell_type": "markdown",
   "id": "82e9b14f",
   "metadata": {},
   "source": [
    "As we can see, the absolute and relative number of species identified went up as the year went on with a peak in early summer. Since the population diversity of herbaceous non grass flowering plants grows through the year and then peaks before going down again this is exactly to be expected. Notice that population of identified plants changes significantly through time as one might expect - each of the ten most common species and genus changes over time.\n",
    "\n",
    "The second reason this is true is that the surveyor was not comfortable identifying most plants through leaves/rosettes and so species blooming later in the year would not be identified until then. This contribution to the skew in plants identified will go down in year three now that the surveyor has a strong basis in the local flora and can recognize future flowers based on leaf patterns for a significant number of the local species. If species cannot be identified, then genera can be also be more accurately noted.\n",
    "\n",
    "An additional bias is that the surveyor collected a number of \"empty\" surveys of different areas with only some of the city trees in flower (such as corylus avellana) during February. This is not really an accurate represenation of the survey areas, even necessarily through the month of february and early march. As such, this data has been left out aside from a few early survey sites with some populations of flower plants. In other words, lots of empty values are left out. This will be addressed by including at least family level taxonomic identification (e.g. poaceae 1, poaceae 2, salix sp) even in places without the herbaceous vascual\n",
    "\n",
    "The literature is clear that both late blooming and early blooming species are critically important for overwintering for small animals and especially insects. This will be taken into account to more accurately "
   ]
  },
  {
   "cell_type": "code",
   "execution_count": null,
   "id": "fa66e537",
   "metadata": {},
   "outputs": [],
   "source": []
  },
  {
   "cell_type": "code",
   "execution_count": 22,
   "id": "c2a21d06",
   "metadata": {},
   "outputs": [
    {
     "name": "stdout",
     "output_type": "stream",
     "text": [
      "there is 2 species on the NT list\n",
      "there is 0 species on the watch list\n",
      "there is 5 species on the black list\n",
      "there is 0 species on the ode list\n",
      "there is 0 species on the vulnerable list\n",
      "there are 6 non indigenous non invasive species\n"
     ]
    }
   ],
   "source": [
    "### Comparing lots, describing lots, there are four pulled out of the data here\n",
    "\n",
    "lot_list = [\"schwanen\", \"port\", \"taubenloch\"]\n",
    "\n",
    "sch = spd.loc[spd['lot'] == \"schwanen\"].copy()\n",
    "\n",
    "por = spd.loc[spd['lot'] == \"port\"]\n",
    "\n",
    "tau = spd.loc[spd['lot'] == \"taubenloch\"]\n",
    "\n",
    "fla = spd.loc[spd[\"lot\"] == \"flaess\"]\n",
    "\n",
    "\n",
    "# Compare numbers in key categories (here, not indigenous, watch list, black list, near threatened in MP)\n",
    "nisch = sch.loc[sch['ni'] =='ni']\n",
    "wlsch = sch.loc[sch['inv'] =='WL']\n",
    "blsch = sch.loc[sch['inv'] =='BL']\n",
    "odesch = sch.loc[sch['ode'] == \"ode\"]\n",
    "ntmpsch =  sch.loc[sch['rmp'] =='NT']\n",
    "vumpsch =  sch.loc[sch['rmp'] =='VU']\n",
    "\n",
    "print(F\"there is {ntmpsch.species.nunique()} species on the NT list\")\n",
    "print(F\"there is {wlsch.species.nunique()} species on the watch list\")\n",
    "print(F\"there is {blsch.species.nunique()} species on the black list\")\n",
    "print(F\"there is {odesch.species.nunique()} species on the ode list\")\n",
    "print(F\"there is {vumpsch.species.nunique()} species on the vulnerable list\")\n",
    "print(F\"there are {nisch.species.nunique()} non indigenous non invasive species\")\n"
   ]
  },
  {
   "cell_type": "code",
   "execution_count": 23,
   "id": "b3a79ed2",
   "metadata": {
    "tags": []
   },
   "outputs": [
    {
     "ename": "AttributeError",
     "evalue": "'_LocIndexer' object has no attribute 'nunique'",
     "output_type": "error",
     "traceback": [
      "\u001b[0;31m---------------------------------------------------------------------------\u001b[0m",
      "\u001b[0;31mAttributeError\u001b[0m                            Traceback (most recent call last)",
      "\u001b[0;32m/tmp/ipykernel_5599/1498279291.py\u001b[0m in \u001b[0;36m<module>\u001b[0;34m\u001b[0m\n\u001b[1;32m     12\u001b[0m \u001b[0;31m# axthree summary values\u001b[0m\u001b[0;34m\u001b[0m\u001b[0;34m\u001b[0m\u001b[0;34m\u001b[0m\u001b[0m\n\u001b[1;32m     13\u001b[0m summary={\n\u001b[0;32m---> 14\u001b[0;31m     \u001b[0;34m\"number of samples\"\u001b[0m\u001b[0;34m:\u001b[0m\u001b[0mspd1\u001b[0m\u001b[0;34m.\u001b[0m\u001b[0mloc\u001b[0m\u001b[0;34m.\u001b[0m\u001b[0mnunique\u001b[0m\u001b[0;34m(\u001b[0m\u001b[0;34m)\u001b[0m\u001b[0;34m,\u001b[0m\u001b[0;34m\u001b[0m\u001b[0;34m\u001b[0m\u001b[0m\n\u001b[0m\u001b[1;32m     15\u001b[0m     \u001b[0;34m\"first sample\"\u001b[0m\u001b[0;34m:\u001b[0m \u001b[0mspd1\u001b[0m\u001b[0;34m[\u001b[0m\u001b[0;34m\"date\"\u001b[0m\u001b[0;34m]\u001b[0m\u001b[0;34m.\u001b[0m\u001b[0mmin\u001b[0m\u001b[0;34m(\u001b[0m\u001b[0;34m)\u001b[0m\u001b[0;34m.\u001b[0m\u001b[0mdate\u001b[0m\u001b[0;34m(\u001b[0m\u001b[0;34m)\u001b[0m\u001b[0;34m,\u001b[0m\u001b[0;34m\u001b[0m\u001b[0;34m\u001b[0m\u001b[0m\n\u001b[1;32m     16\u001b[0m     \u001b[0;34m\"last sample\"\u001b[0m\u001b[0;34m:\u001b[0m\u001b[0mspd1\u001b[0m\u001b[0;34m[\u001b[0m\u001b[0;34m\"date\"\u001b[0m\u001b[0;34m]\u001b[0m\u001b[0;34m.\u001b[0m\u001b[0mmax\u001b[0m\u001b[0;34m(\u001b[0m\u001b[0;34m)\u001b[0m\u001b[0;34m.\u001b[0m\u001b[0mdate\u001b[0m\u001b[0;34m(\u001b[0m\u001b[0;34m)\u001b[0m\u001b[0;34m,\u001b[0m\u001b[0;34m\u001b[0m\u001b[0;34m\u001b[0m\u001b[0m\n",
      "\u001b[0;31mAttributeError\u001b[0m: '_LocIndexer' object has no attribute 'nunique'"
     ]
    }
   ],
   "source": [
    "# axone summary values of the lot\n",
    "t_one = spd.groupby([\"lot\"], as_index=False).agg({\"species\":\"nunique\", \"loc_date\":\"nunique\", \"locname\":\"nunique\"})\n",
    "\n",
    "data = t_one.values\n",
    "colLabels = [*t_one.columns[:-2], \"nsamples\", \"nplaces\"]\n",
    "colWidths = [*[1/len(colLabels)]*len(colLabels)]\n",
    "bbox = [0, 0,1,1]\n",
    "\n",
    "# axtwo species identified per sample\n",
    "d = spd1.groupby([\"date\", \"locname\"], as_index=False).species.count()\n",
    "\n",
    "# axthree summary values\n",
    "summary={\n",
    "    \"number of samples\":spd1.loc.nunique(),\n",
    "    \"first sample\": spd1[\"date\"].min().date(),\n",
    "    \"last sample\":spd1[\"date\"].max().date(),\n",
    "    \"number of places\":spd1.locname.nunique(),\n",
    "    \"number of species\":spd1.species.nunique(),\n",
    "    \"number of families\":spd1.fam.nunique(),    \n",
    "\n",
    "}\n",
    "\n",
    "a_summary = pd.DataFrame.from_dict(summary, orient=\"index\").reset_index()\n",
    "\n",
    "\n",
    "fig = plt.figure(figsize=(10,7))\n",
    "\n",
    "gs = GridSpec(10,11)\n",
    "\n",
    "axone = fig.add_subplot(gs[:, 0:5])\n",
    "axtwo = fig.add_subplot(gs[0:5, 6:])\n",
    "axthree = fig.add_subplot(gs[6:, 6:])\n",
    "\n",
    "# axone\n",
    "table_one = a_simple_formatted_table(axone,data,colLabels=colLabels, colWidths=colWidths, bbox=bbox)\n",
    "axone.axis(\"off\")\n",
    "\n",
    "# axtwo\n",
    "locator = mdates.MonthLocator()  # every month\n",
    "fmt = mdates.DateFormatter('%b')\n",
    "sns.scatterplot(data=d, x=\"date\", y=\"species\", ax=axtwo)\n",
    "axtwo.xaxis.set_major_locator(locator)\n",
    "axtwo.xaxis.set_major_formatter(fmt)\n",
    "axtwo.set_ylabel(\"# species indentified\")\n",
    "axtwo.set_xlabel(\"\")\n",
    "\n",
    "# axthree\n",
    "b = a_single_column_table(axthree, a_summary.values, colWidths=[.6, .4])\n",
    "axthree.axis(\"off\")\n",
    "\n",
    "plt.show()"
   ]
  },
  {
   "cell_type": "code",
   "execution_count": null,
   "id": "7f042d8e",
   "metadata": {},
   "outputs": [],
   "source": []
  },
  {
   "cell_type": "code",
   "execution_count": null,
   "id": "02665786",
   "metadata": {},
   "outputs": [],
   "source": []
  },
  {
   "cell_type": "code",
   "execution_count": 24,
   "id": "3e89c16a",
   "metadata": {},
   "outputs": [
    {
     "data": {
      "text/plain": [
       "array(['X', 'renat-suze', 'renat-cygnes', 'pronat', 'renat-neumatt',\n",
       "       'renat-sund', 'schuessinsel', 'renat-vor'], dtype=object)"
      ]
     },
     "execution_count": 24,
     "metadata": {},
     "output_type": "execute_result"
    }
   ],
   "source": [
    "spd.project.unique()"
   ]
  },
  {
   "cell_type": "code",
   "execution_count": 25,
   "id": "c4f0d53a",
   "metadata": {},
   "outputs": [
    {
     "ename": "AttributeError",
     "evalue": "'function' object has no attribute 'species'",
     "output_type": "error",
     "traceback": [
      "\u001b[0;31m---------------------------------------------------------------------------\u001b[0m",
      "\u001b[0;31mAttributeError\u001b[0m                            Traceback (most recent call last)",
      "\u001b[0;32m/tmp/ipykernel_5599/984351297.py\u001b[0m in \u001b[0;36m<module>\u001b[0;34m\u001b[0m\n\u001b[1;32m      9\u001b[0m \u001b[0mneu\u001b[0m \u001b[0;34m=\u001b[0m \u001b[0mspd\u001b[0m\u001b[0;34m.\u001b[0m\u001b[0mloc\u001b[0m\u001b[0;34m[\u001b[0m\u001b[0mspd\u001b[0m\u001b[0;34m[\u001b[0m\u001b[0;34m\"project\"\u001b[0m\u001b[0;34m]\u001b[0m \u001b[0;34m==\u001b[0m \u001b[0;34m\"renat-neumatt\"\u001b[0m\u001b[0;34m]\u001b[0m\u001b[0;34m.\u001b[0m\u001b[0mcopy\u001b[0m\u001b[0;34m\u001b[0m\u001b[0;34m\u001b[0m\u001b[0m\n\u001b[1;32m     10\u001b[0m \u001b[0;34m\u001b[0m\u001b[0m\n\u001b[0;32m---> 11\u001b[0;31m \u001b[0mprosp\u001b[0m \u001b[0;34m=\u001b[0m \u001b[0mpro\u001b[0m\u001b[0;34m.\u001b[0m\u001b[0mspecies\u001b[0m\u001b[0;34m.\u001b[0m\u001b[0munique\u001b[0m\u001b[0;34m(\u001b[0m\u001b[0;34m)\u001b[0m\u001b[0;34m\u001b[0m\u001b[0;34m\u001b[0m\u001b[0m\n\u001b[0m\u001b[1;32m     12\u001b[0m \u001b[0mprosp\u001b[0m\u001b[0;34m\u001b[0m\u001b[0;34m\u001b[0m\u001b[0m\n",
      "\u001b[0;31mAttributeError\u001b[0m: 'function' object has no attribute 'species'"
     ]
    }
   ],
   "source": [
    "# Describe and compare the renaturalization areas\n",
    "\n",
    "cyg = spd.loc[spd['project'] == \"renat-cygnes\"].copy\n",
    "\n",
    "suz = spd.loc[spd['project'] == \"renat-suze\"].copy\n",
    "\n",
    "pro = spd.loc[spd['project'] == \"pronat\"].copy\n",
    "\n",
    "neu = spd.loc[spd[\"project\"] == \"renat-neumatt\"].copy\n",
    "\n",
    "prosp = pro.species.unique()\n",
    "prosp"
   ]
  },
  {
   "cell_type": "code",
   "execution_count": null,
   "id": "3da2075b",
   "metadata": {},
   "outputs": [],
   "source": [
    "spd['species'].value_counts()[:15].index.tolist()\n",
    "lots = spd[spd[\"lot\"] != \"X\"]\n",
    "lots['species'].value_counts()[:15].index.tolist()"
   ]
  },
  {
   "cell_type": "code",
   "execution_count": null,
   "id": "6fff2d0b",
   "metadata": {},
   "outputs": [],
   "source": [
    "spd.river.unique()"
   ]
  },
  {
   "cell_type": "code",
   "execution_count": 26,
   "id": "05233ecd",
   "metadata": {},
   "outputs": [
    {
     "data": {
      "text/html": [
       "<div>\n",
       "<style scoped>\n",
       "    .dataframe tbody tr th:only-of-type {\n",
       "        vertical-align: middle;\n",
       "    }\n",
       "\n",
       "    .dataframe tbody tr th {\n",
       "        vertical-align: top;\n",
       "    }\n",
       "\n",
       "    .dataframe thead th {\n",
       "        text-align: right;\n",
       "    }\n",
       "</style>\n",
       "<table border=\"1\" class=\"dataframe\">\n",
       "  <thead>\n",
       "    <tr style=\"text-align: right;\">\n",
       "      <th></th>\n",
       "      <th>Unnamed: 0</th>\n",
       "      <th>date</th>\n",
       "      <th>species</th>\n",
       "      <th>year</th>\n",
       "      <th>biogeo</th>\n",
       "      <th>canton</th>\n",
       "      <th>river</th>\n",
       "      <th>lot</th>\n",
       "      <th>forest</th>\n",
       "      <th>project</th>\n",
       "      <th>...</th>\n",
       "      <th>ode</th>\n",
       "      <th>ns</th>\n",
       "      <th>ongen</th>\n",
       "      <th>ni</th>\n",
       "      <th>cdf</th>\n",
       "      <th>biel</th>\n",
       "      <th>locname</th>\n",
       "      <th>loc_date</th>\n",
       "      <th>genus</th>\n",
       "      <th>month</th>\n",
       "    </tr>\n",
       "  </thead>\n",
       "  <tbody>\n",
       "    <tr>\n",
       "      <th>65</th>\n",
       "      <td>66</td>\n",
       "      <td>2020-06-09</td>\n",
       "      <td>medicago-lupulina</td>\n",
       "      <td>1</td>\n",
       "      <td>mp</td>\n",
       "      <td>be</td>\n",
       "      <td>suze</td>\n",
       "      <td>X</td>\n",
       "      <td>X</td>\n",
       "      <td>X</td>\n",
       "      <td>...</td>\n",
       "      <td>X</td>\n",
       "      <td>X</td>\n",
       "      <td>X</td>\n",
       "      <td>X</td>\n",
       "      <td>cdf</td>\n",
       "      <td>biel</td>\n",
       "      <td>buerenstrasse-suze-1</td>\n",
       "      <td>('buerenstrasse-suze-1', '09.06.2020')</td>\n",
       "      <td>medicago</td>\n",
       "      <td>6</td>\n",
       "    </tr>\n",
       "    <tr>\n",
       "      <th>66</th>\n",
       "      <td>67</td>\n",
       "      <td>2020-06-09</td>\n",
       "      <td>cichorium-intybus</td>\n",
       "      <td>1</td>\n",
       "      <td>mp</td>\n",
       "      <td>be</td>\n",
       "      <td>suze</td>\n",
       "      <td>X</td>\n",
       "      <td>X</td>\n",
       "      <td>X</td>\n",
       "      <td>...</td>\n",
       "      <td>X</td>\n",
       "      <td>X</td>\n",
       "      <td>X</td>\n",
       "      <td>X</td>\n",
       "      <td>cdf</td>\n",
       "      <td>biel</td>\n",
       "      <td>buerenstrasse-suze-1</td>\n",
       "      <td>('buerenstrasse-suze-1', '09.06.2020')</td>\n",
       "      <td>cichorium</td>\n",
       "      <td>6</td>\n",
       "    </tr>\n",
       "    <tr>\n",
       "      <th>67</th>\n",
       "      <td>68</td>\n",
       "      <td>2020-06-09</td>\n",
       "      <td>potentilla-reptans</td>\n",
       "      <td>1</td>\n",
       "      <td>mp</td>\n",
       "      <td>be</td>\n",
       "      <td>suze</td>\n",
       "      <td>X</td>\n",
       "      <td>X</td>\n",
       "      <td>X</td>\n",
       "      <td>...</td>\n",
       "      <td>X</td>\n",
       "      <td>X</td>\n",
       "      <td>X</td>\n",
       "      <td>X</td>\n",
       "      <td>X</td>\n",
       "      <td>biel</td>\n",
       "      <td>buerenstrasse-suze-1</td>\n",
       "      <td>('buerenstrasse-suze-1', '09.06.2020')</td>\n",
       "      <td>potentilla</td>\n",
       "      <td>6</td>\n",
       "    </tr>\n",
       "    <tr>\n",
       "      <th>68</th>\n",
       "      <td>69</td>\n",
       "      <td>2020-06-09</td>\n",
       "      <td>papaver-rhoeas</td>\n",
       "      <td>1</td>\n",
       "      <td>mp</td>\n",
       "      <td>be</td>\n",
       "      <td>suze</td>\n",
       "      <td>X</td>\n",
       "      <td>X</td>\n",
       "      <td>X</td>\n",
       "      <td>...</td>\n",
       "      <td>X</td>\n",
       "      <td>X</td>\n",
       "      <td>X</td>\n",
       "      <td>X</td>\n",
       "      <td>X</td>\n",
       "      <td>biel</td>\n",
       "      <td>buerenstrasse-suze-1</td>\n",
       "      <td>('buerenstrasse-suze-1', '09.06.2020')</td>\n",
       "      <td>papaver</td>\n",
       "      <td>6</td>\n",
       "    </tr>\n",
       "    <tr>\n",
       "      <th>69</th>\n",
       "      <td>70</td>\n",
       "      <td>2020-06-09</td>\n",
       "      <td>hypericum-maculatum</td>\n",
       "      <td>1</td>\n",
       "      <td>mp</td>\n",
       "      <td>be</td>\n",
       "      <td>suze</td>\n",
       "      <td>X</td>\n",
       "      <td>X</td>\n",
       "      <td>X</td>\n",
       "      <td>...</td>\n",
       "      <td>X</td>\n",
       "      <td>X</td>\n",
       "      <td>X</td>\n",
       "      <td>X</td>\n",
       "      <td>cdf</td>\n",
       "      <td>biel</td>\n",
       "      <td>buerenstrasse-suze-1</td>\n",
       "      <td>('buerenstrasse-suze-1', '09.06.2020')</td>\n",
       "      <td>hypericum</td>\n",
       "      <td>6</td>\n",
       "    </tr>\n",
       "  </tbody>\n",
       "</table>\n",
       "<p>5 rows × 28 columns</p>\n",
       "</div>"
      ],
      "text/plain": [
       "    Unnamed: 0       date              species  year biogeo canton river lot  \\\n",
       "65          66 2020-06-09    medicago-lupulina     1     mp     be  suze   X   \n",
       "66          67 2020-06-09    cichorium-intybus     1     mp     be  suze   X   \n",
       "67          68 2020-06-09   potentilla-reptans     1     mp     be  suze   X   \n",
       "68          69 2020-06-09       papaver-rhoeas     1     mp     be  suze   X   \n",
       "69          70 2020-06-09  hypericum-maculatum     1     mp     be  suze   X   \n",
       "\n",
       "   forest project  ... ode ns ongen ni  cdf  biel               locname  \\\n",
       "65      X       X  ...   X  X     X  X  cdf  biel  buerenstrasse-suze-1   \n",
       "66      X       X  ...   X  X     X  X  cdf  biel  buerenstrasse-suze-1   \n",
       "67      X       X  ...   X  X     X  X    X  biel  buerenstrasse-suze-1   \n",
       "68      X       X  ...   X  X     X  X    X  biel  buerenstrasse-suze-1   \n",
       "69      X       X  ...   X  X     X  X  cdf  biel  buerenstrasse-suze-1   \n",
       "\n",
       "                                  loc_date       genus month  \n",
       "65  ('buerenstrasse-suze-1', '09.06.2020')    medicago     6  \n",
       "66  ('buerenstrasse-suze-1', '09.06.2020')   cichorium     6  \n",
       "67  ('buerenstrasse-suze-1', '09.06.2020')  potentilla     6  \n",
       "68  ('buerenstrasse-suze-1', '09.06.2020')     papaver     6  \n",
       "69  ('buerenstrasse-suze-1', '09.06.2020')   hypericum     6  \n",
       "\n",
       "[5 rows x 28 columns]"
      ]
     },
     "execution_count": 26,
     "metadata": {},
     "output_type": "execute_result"
    }
   ],
   "source": [
    "# describe and compare the rivers: madretschkanal, suze, schuessinsel, and all suze length combined vs total\n",
    "\n",
    "suz = spd.loc[spd['river'] == \"suze\"]\n",
    "\n",
    "mad = spd.loc[spd['river'] == \"madretschkanal\"]\n",
    "\n",
    "sch = spd.loc[spd['river'] == \"schuessinsel\"]\n",
    "\n",
    "suz.head()"
   ]
  },
  {
   "cell_type": "code",
   "execution_count": null,
   "id": "dae13369-275a-4b96-84d4-54a7abb9acd9",
   "metadata": {},
   "outputs": [],
   "source": []
  },
  {
   "cell_type": "code",
   "execution_count": null,
   "id": "1e051049-615f-42a7-a3fe-98c9cde3e204",
   "metadata": {},
   "outputs": [],
   "source": []
  },
  {
   "cell_type": "code",
   "execution_count": null,
   "id": "36bd5a48-9413-43f4-942c-955fad9162cd",
   "metadata": {},
   "outputs": [],
   "source": []
  },
  {
   "cell_type": "code",
   "execution_count": null,
   "id": "4ccecf98-6619-420f-b3e8-736978540217",
   "metadata": {},
   "outputs": [],
   "source": []
  }
 ],
 "metadata": {
  "kernelspec": {
   "display_name": "Python 3 (ipykernel)",
   "language": "python",
   "name": "python3"
  },
  "language_info": {
   "codemirror_mode": {
    "name": "ipython",
    "version": 3
   },
   "file_extension": ".py",
   "mimetype": "text/x-python",
   "name": "python",
   "nbconvert_exporter": "python",
   "pygments_lexer": "ipython3",
   "version": "3.8.12"
  }
 },
 "nbformat": 4,
 "nbformat_minor": 5
}
