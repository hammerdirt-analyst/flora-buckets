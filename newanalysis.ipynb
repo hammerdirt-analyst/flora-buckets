{
 "cells": [
  {
   "cell_type": "code",
   "execution_count": 1,
   "id": "8d1d59ac-2753-450d-8dfa-ea707fe66c88",
   "metadata": {},
   "outputs": [],
   "source": [
    "# math and data packages\n",
    "import pandas as pd\n",
    "import numpy as np\n",
    "import math\n",
    "\n",
    "# charting and graphics\n",
    "import matplotlib as mpl\n",
    "import matplotlib.pyplot as plt\n",
    "import seaborn as sns\n",
    "\n",
    "# os and file types\n",
    "import os\n",
    "import sys\n",
    "import datetime as dt\n",
    "import json\n",
    "import csv\n",
    "\n",
    "# images and display\n",
    "import base64, io, IPython\n",
    "from PIL import Image as PILImage\n",
    "from IPython.display import Markdown as md\n",
    "from IPython.display import display, Math, Latex\n",
    "\n",
    "# import the master data\n",
    "spd=pd.read_csv(\"resources/inprocess/master.csv\")\n",
    "# drop unneeded columns\n",
    "spd = spd.drop(axis = 1,columns = [\"Unnamed: 0\",\"mattenstrasse-area-1\"])\n",
    "\n",
    "# remove duplicates from merging of survey databases\n",
    "spd = spd[spd[\"locname\"] != \"ignore\"]"
   ]
  },
  {
   "cell_type": "code",
   "execution_count": 2,
   "id": "3b076458-ae6c-4150-884b-e507e6735bd5",
   "metadata": {},
   "outputs": [
    {
     "data": {
      "text/plain": [
       "Index(['date', 'species', 'year', 'location', 'biogeo', 'canton', 'river',\n",
       "       'lot', 'forest', 'project', 'city', 'rch', 'rmp', 'rju', 'fam', 'res',\n",
       "       'pri', 'inv', 'ode', 'ns', 'ongen', 'ni', 'cdf', 'biel', 'locname'],\n",
       "      dtype='object')"
      ]
     },
     "execution_count": 2,
     "metadata": {},
     "output_type": "execute_result"
    }
   ],
   "source": [
    "spd.columns"
   ]
  },
  {
   "cell_type": "code",
   "execution_count": 93,
   "id": "e664059d-f109-4265-9c46-f02e0371a472",
   "metadata": {},
   "outputs": [],
   "source": [
    "# functions that will be used in each subgroup, part of analysis and in the whole data\n",
    "\n",
    "# number of surveys per year per location (needs loc_date column)\n",
    "    \n",
    "def support_genus(x):\n",
    "    try: \n",
    "        int_data = x.split(\"-\")\n",
    "        data = int_data[:1]\n",
    "    except:\n",
    "        data = \"none\"\n",
    "    return data\n",
    "\n",
    "def nSamplesPerYearPlace(data):\n",
    "    return data.groupby(['year', 'place'], as_index=False).loc_date.nunique()\n",
    "\n",
    "def top_y_species(x,y):\n",
    "    \"returns list of top y number of unique species in passed df x\"\n",
    "    return x['species'].value_counts()[:y].index.tolist()\n",
    "\n",
    "def top_y_genus(x,y):\n",
    "    \"returns list of top y number of unique genus in passed df x\"\n",
    "    x[\"genus\"] = x.species.map(lambda x: support_genus(x))\n",
    "    return x['genus'].value_counts()[:y].index.tolist()\n",
    "\n",
    "def top_y_group(x,y,col):\n",
    "    \"returns list of top y number of unique elements in column col in passed df x\"\n",
    "    return x[col].value_counts()[:y].index.tolist()\n",
    "\n",
    "def red_list(x,y):\n",
    "    \"\"\"returns dictionary of species lists keyed on their redlist codes with a list of the species in passed df x in biogeo region y\"\"\"\n",
    "    \"\"\"e.g.: {\"nt\": [carduus-crispus, alcea-rosea], vu = [\"cardamine-hirsuta\"], LC = ....}\"\"\"\n",
    "    return x\n",
    "\n",
    "def not_indy(x):\n",
    "    \"\"\"returns a dictionary of species keyed on their non-native status in the passed df\"\"\"\n",
    "    return x\n",
    "\n",
    "def extract_status(x):\n",
    "    \"\"\"returns a dictionary of species keyed to the following status: ni, WL, BL, ode, \"\"\"\n"
   ]
  },
  {
   "cell_type": "code",
   "execution_count": 94,
   "id": "01295641-1b27-4a69-878a-70cc7a68bc98",
   "metadata": {},
   "outputs": [
    {
     "data": {
      "text/plain": [
       "[['veronica'],\n",
       " ['trifolium'],\n",
       " ['ranunculus'],\n",
       " ['taraxacum'],\n",
       " ['geranium'],\n",
       " ['hedera'],\n",
       " ['medicago'],\n",
       " ['senecio'],\n",
       " ['galium'],\n",
       " ['plantago']]"
      ]
     },
     "execution_count": 94,
     "metadata": {},
     "output_type": "execute_result"
    }
   ],
   "source": [
    "# summary statistics on the key categories - to discuss !\n",
    "spdg = top_y_genus(spd,10)\n",
    "spdg"
   ]
  },
  {
   "cell_type": "code",
   "execution_count": null,
   "id": "8683b89c-51a3-466d-8e88-aa2ea38bc484",
   "metadata": {},
   "outputs": [],
   "source": []
  },
  {
   "cell_type": "code",
   "execution_count": 95,
   "id": "7110a9c3-edf0-4272-abcd-c15d43ebfae2",
   "metadata": {},
   "outputs": [],
   "source": [
    "# surveys per year per location:\n",
    "\n",
    "\n",
    "# species per location/date combination (uniquely defines a sample)\n",
    "def nSpeciesPerSample(data):\n",
    "    return data.groupby([\"date\", \"place\"], as_index=False).species.count()\n",
    "\n",
    "def aSpeciesPerSample(data, species=[]):\n",
    "    \"\"\"The per sample data for a species\n",
    "    \"\"\"\n",
    "    new_data = nSpeciesPerSample(data[data[\"species\"].isin(species)])\n",
    "    new_data.rename(columns={\"species\":species[0]}, inplace=True)\n",
    "    return new_data\n",
    "\n",
    "# species per location\n",
    "def speciesPlaceNsamps(data):\n",
    "    return data.groupby([\"species\", \"place\"], as_index=False).loc_date.nunique()\n",
    "\n",
    "def pivot_this(data, colnames, index, column, value):\n",
    "    return data[colnames].pivot(index=index, columns=column, values=value).fillna(0)\n",
    "\n",
    "def speciesPerLocation(data,colnames, index=\"species\",columns=\"place\",values=\"loc_date\"):\n",
    "    \"\"\"Uses speciesPlaceNsamps to return a matrix of species and locations with value of\n",
    "    number of times identified at that location\n",
    "    \"\"\"\n",
    "    return pivot_this(data, colnames, index, columns, values)\n",
    "\n",
    "def speciesPlace(species_data, soi):\n",
    "    \"\"\"Uses speciesPerlocation to report on one species\"\"\"\n",
    "    return species_data.loc[soi, (species_data.loc[soi] > 0)]"
   ]
  },
  {
   "cell_type": "code",
   "execution_count": null,
   "id": "32e95449-ec96-4237-82e2-5fde16c4a987",
   "metadata": {},
   "outputs": [],
   "source": []
  },
  {
   "cell_type": "code",
   "execution_count": 96,
   "id": "66bd1e22-6ce2-4ae9-bf99-6eb079a0c55a",
   "metadata": {},
   "outputs": [],
   "source": [
    "# Date summary, year 1 and year 2 basic differences"
   ]
  },
  {
   "cell_type": "markdown",
   "id": "e9e909af-e528-48b7-8066-09507f8b6ad3",
   "metadata": {},
   "source": [
    "Year 2 saw around 5x as many plants identified as in Year 1 due to the extra experience of the surveyor in identifying plants. In Year 3, given the extra experience of the surveyor, the expected number of observations will triple to around 18'000 - 22'000 observations through the year.\n",
    "\n",
    "Not only has experience improved plant recognition significantly, but the survey method and data pipeline are now much smoother. On top of this the processes to organize and analyze the data are now in place so the survey team is much freer to focus on identifying plants and entering them in the infoflora app."
   ]
  },
  {
   "cell_type": "code",
   "execution_count": 97,
   "id": "73371bc4-c991-4a61-bbb1-7911f14a2f41",
   "metadata": {},
   "outputs": [],
   "source": [
    "# number of unique species identified and changes in top 10 genus, species, identified, red_list species, not_indigenous species\n",
    "# number of instances and number of surveys\n",
    "# numbers per survey\n",
    "# series of monthly data, then series of quarterly data (feb-mar), (apr-may-jun),  (july-august-september-october)\n",
    "\n"
   ]
  },
  {
   "cell_type": "markdown",
   "id": "1c4a7da5-e215-4ea7-bb50-ca8ae3dc9530",
   "metadata": {},
   "source": [
    "As we can see, the absolute and relative number of species identified went up as the year went on with a peak in early summer. Since the population diversity of herbaceous non grass flowering plants grows through the year and then peaks before going down again this is exactly to be expected. Notice that population of identified plants changes significantly through time as one might expect - each of the ten most common species and genus changes over time.\n",
    "\n",
    "The second reason this is true is that the surveyor was not comfortable identifying most plants through leaves/rosettes and so species blooming later in the year would not be identified until then. This contribution to the skew in plants identified will go down in year three now that the surveyor has a strong basis in the local flora and can recognize future flowers based on leaf patterns for a significant number of the local species. If species cannot be identified, then genera can be also be more accurately noted.\n",
    "\n",
    "An additional bias is that the surveyor collected a number of \"empty\" surveys of different areas with only some of the city trees in flower (such as corylus avellana) during February. This is not really an accurate represenation of the survey areas, even necessarily through the month of february and early march. As such, this data has been left out aside from a few early survey sites with some populations of flower plants. In other words, lots of empty values are left out. This will be addressed by including at least family level taxonomic identification (e.g. poaceae 1, poaceae 2, salix sp) even in places without the herbaceous vascual\n",
    "\n",
    "The literature is clear that both late blooming and early blooming species are critically important for overwintering for small animals and especially insects. This will be taken into account to more accurately "
   ]
  },
  {
   "cell_type": "code",
   "execution_count": null,
   "id": "bd12d7d1-a7f2-4e53-b002-39fd5e9721c2",
   "metadata": {},
   "outputs": [],
   "source": []
  },
  {
   "cell_type": "code",
   "execution_count": 98,
   "id": "2a7e6d64-fd65-43aa-b9d1-433cbf82da80",
   "metadata": {},
   "outputs": [
    {
     "name": "stdout",
     "output_type": "stream",
     "text": [
      "there is 1 species on the NT list\n",
      "there is 0 species on the watch list\n",
      "there is 4 species on the black list\n",
      "there is 0 species on the ode list\n",
      "there is 0 species on the vulnerable list\n",
      "there are 3 non indigenous non invasive species\n"
     ]
    }
   ],
   "source": [
    "### Comparing lots, describing lots, there are four pulled out of the data here\n",
    "\n",
    "lot_list = [\"schwanen\", \"port\", \"taubenloch\"]\n",
    "\n",
    "sch = spd.loc[spd['lot'] == \"schwanen\"]\n",
    "\n",
    "por = spd.loc[spd['lot'] == \"port\"]\n",
    "\n",
    "tau = spd.loc[spd['lot'] == \"taubenloch\"]\n",
    "\n",
    "fla = spd.loc[spd[\"lot\"] == \"flaess\"]\n",
    "\n",
    "\n",
    "# Compare numbers in key categories (here, not indigenous, watch list, black list, near threatened in MP)\n",
    "nisch = sch.loc[sch['ni'] =='ni']\n",
    "wlsch = sch.loc[sch['inv'] =='WL']\n",
    "blsch = sch.loc[sch['inv'] =='BL']\n",
    "odesch = sch.loc[sch['ode'] == \"ode\"]\n",
    "ntmpsch =  sch.loc[sch['rmp'] =='NT']\n",
    "vumpsch =  sch.loc[sch['rmp'] =='VU']\n",
    "\n",
    "print(F\"there is {ntmpsch.species.nunique()} species on the NT list\")\n",
    "print(F\"there is {wlsch.species.nunique()} species on the watch list\")\n",
    "print(F\"there is {blsch.species.nunique()} species on the black list\")\n",
    "print(F\"there is {odesch.species.nunique()} species on the ode list\")\n",
    "print(F\"there is {vumpsch.species.nunique()} species on the vulnerable list\")\n",
    "print(F\"there are {nisch.species.nunique()} non indigenous non invasive species\")\n"
   ]
  },
  {
   "cell_type": "code",
   "execution_count": null,
   "id": "32f8109d-c252-4b86-8bfa-6d25adbf3b73",
   "metadata": {},
   "outputs": [],
   "source": []
  },
  {
   "cell_type": "code",
   "execution_count": 99,
   "id": "cdbad2e6-ea27-4882-b856-c8a8fa8ff711",
   "metadata": {},
   "outputs": [],
   "source": [
    "a = top_y_species(sch,15)\n",
    "c = top_y_species(sch,10)"
   ]
  },
  {
   "cell_type": "code",
   "execution_count": 100,
   "id": "4c4f4449-dce4-488f-93a1-2cde4d2b8b94",
   "metadata": {},
   "outputs": [
    {
     "data": {
      "text/plain": [
       "pandas.core.frame.DataFrame"
      ]
     },
     "execution_count": 100,
     "metadata": {},
     "output_type": "execute_result"
    }
   ],
   "source": [
    "type(sch)"
   ]
  },
  {
   "cell_type": "code",
   "execution_count": 101,
   "id": "d0c79a1f-5b51-44f0-bf84-c0ac3454ec04",
   "metadata": {},
   "outputs": [
    {
     "name": "stderr",
     "output_type": "stream",
     "text": [
      "/tmp/ipykernel_24071/1522445634.py:22: SettingWithCopyWarning: \n",
      "A value is trying to be set on a copy of a slice from a DataFrame.\n",
      "Try using .loc[row_indexer,col_indexer] = value instead\n",
      "\n",
      "See the caveats in the documentation: https://pandas.pydata.org/pandas-docs/stable/user_guide/indexing.html#returning-a-view-versus-a-copy\n",
      "  x[\"genus\"] = x.species.map(lambda x: support_genus(x))\n"
     ]
    }
   ],
   "source": [
    "b = top_y_genus(sch,15)"
   ]
  },
  {
   "cell_type": "code",
   "execution_count": 102,
   "id": "a163bdd4-396c-428d-8ff7-2fb85839530e",
   "metadata": {},
   "outputs": [],
   "source": [
    "spdy = top_y_genus(spd,25)\n"
   ]
  },
  {
   "cell_type": "code",
   "execution_count": 103,
   "id": "db727206-b7cf-47f0-9385-79f254e404fe",
   "metadata": {},
   "outputs": [
    {
     "data": {
      "text/plain": [
       "array(['X', 'renat-suze', nan, 'renat-cygnes', 'pronat', 'renat-neumatt',\n",
       "       'renat-sund', 'renat-vor'], dtype=object)"
      ]
     },
     "execution_count": 103,
     "metadata": {},
     "output_type": "execute_result"
    }
   ],
   "source": [
    "spd.project.unique()"
   ]
  },
  {
   "cell_type": "code",
   "execution_count": 10,
   "id": "e5b2b271-f14e-40d3-9a11-bd748e96f19b",
   "metadata": {},
   "outputs": [
    {
     "data": {
      "text/plain": [
       "array(['medicago-lupulina', 'erophila-verna', 'senecio-vulgaris',\n",
       "       'muscari-neglectum', 'taraxacum', 'primula-acaulis',\n",
       "       'glechoma-hederacea', 'vinca-minor', 'prunus-spinosa',\n",
       "       'veronica-persica', 'salix-caprea', 'ranunculus-acris',\n",
       "       'cardamine-flexuosa', 'lamium-purpureum',\n",
       "       'capsella-bursa-pastoris', 'ranunculus-bulbosus',\n",
       "       'erodium-cicutarium', 'potentilla-verna', 'veronica-hederifolia',\n",
       "       'geranium-pyrenaicum', 'valerianella-locusta',\n",
       "       'arabidopsis-thaliana', 'sinapis-arvensis', 'cerastium-glomeratum',\n",
       "       'salvia-pratensis', 'sisymbrium-officinale', 'sanguisorba-minor',\n",
       "       'reseda-lutea', 'galium-mollugo', 'urtica-dioica',\n",
       "       'erigeron-annuus', 'plantago-lanceolata', 'trifolium-pratense',\n",
       "       'achillea-millefolium', 'veronica-arvensis', 'myosotis-arvensis',\n",
       "       'galium-aparine', 'papaver-rhoeas', 'kolkwitzia-amabilis',\n",
       "       'veronica-serpyllifolia', 'prunus-serotina', 'mahonia-aquifolium',\n",
       "       'geum-urbanum', 'alliaria-petiolata', 'lonicera-pileata',\n",
       "       'veronica-chaemaedrys', 'lepidium-virginicum', 'geranium-pusillum',\n",
       "       'vicia-sativa', 'rumex-obtusifolius', 'ranunculus-repens',\n",
       "       'equisetum-arvense', 'hedera-helix', 'bellis-perennis',\n",
       "       'geranium-dissectum', 'trifolium-repens', 'potentilla-reptans',\n",
       "       'rumex-crispus', 'ranunculus-ficaria', 'cardamine-hirsuta',\n",
       "       'forsythia-xintermedia', 'daucus-carota', 'trifolium-medium',\n",
       "       'rubus', 'buddleja-davidii', 'sonchus-asper',\n",
       "       'solidago-canadensis', 'hypochaeris-radicata', 'silene-vulgaris',\n",
       "       'medicago-sativa', 'origanum-vulgare', 'lapsana-communis',\n",
       "       'cirsium-arvense', 'silene-coronaria', 'senecio-jacobaea',\n",
       "       'robinia-pseudoacacia', 'geranium-robertianum',\n",
       "       'melissa-officinalis', 'hypericum-perforatum', 'cornus-sanguinea',\n",
       "       'lathyrus-latifolius', 'silene', 'knautia-arvensis',\n",
       "       'anagallis-arvensis', 'securigera-varia', 'verbascum-densiflorum',\n",
       "       'lactuca', 'tragopogon-dubius', 'convolvulus',\n",
       "       'leontodon-hispidus', 'silene-pratensis', 'polygonum-aviculare',\n",
       "       'lepidium-densiflorum', 'calystegia-sepium', 'verbena-officinalis',\n",
       "       'lotus-corniculatus', 'rosa', 'fraxinus-excelsior', 'solidago',\n",
       "       'vicia-sepium', 'heracleum-sphondylium', 'vicia-cracca',\n",
       "       'polygonum-persicaria', 'echium-vulgare', 'verbascum-thapsus',\n",
       "       'thymus-serpyllum', 'centaurea-jacea', 'trifolium-campestre',\n",
       "       'convolvulus-arvensis', 'rumex', 'crepis', 'petrorhagia-prolifera',\n",
       "       'lactuca-serriola', 'aquilegia-vulgaris', 'ranunculus', 'fraxinus',\n",
       "       'jasminum'], dtype=object)"
      ]
     },
     "execution_count": 10,
     "metadata": {},
     "output_type": "execute_result"
    }
   ],
   "source": [
    "# Describe and compare the renaturalization areas\n",
    "\n",
    "cyg = spd.loc[spd['project'] == \"renat-cygnes\"]\n",
    "\n",
    "suz = spd.loc[spd['project'] == \"renat-suze\"]\n",
    "\n",
    "pro = spd.loc[spd['project'] == \"pronat\"]\n",
    "\n",
    "neu = spd.loc[spd[\"project\"] == \"renat-neumatt\"]\n",
    "\n",
    "prosp = pro.species.unique()\n",
    "prosp"
   ]
  },
  {
   "cell_type": "code",
   "execution_count": 32,
   "id": "e8be25bc-384e-4766-81a5-85c50331badd",
   "metadata": {},
   "outputs": [
    {
     "data": {
      "text/plain": [
       "['taraxacum',\n",
       " 'veronica-persica',\n",
       " 'erigeron-annuus',\n",
       " 'tussilago-farfara',\n",
       " 'lotus-corniculatus',\n",
       " 'medicago-lupulina',\n",
       " 'daucus-carota',\n",
       " 'plantago-lanceolata',\n",
       " 'veronica-hederifolia',\n",
       " 'cardamine-hirsuta',\n",
       " 'bellis-perennis',\n",
       " 'urtica-dioica',\n",
       " 'trifolium-repens',\n",
       " 'achillea-millefolium',\n",
       " 'galium-mollugo']"
      ]
     },
     "execution_count": 32,
     "metadata": {},
     "output_type": "execute_result"
    }
   ],
   "source": [
    "spd['species'].value_counts()[:15].index.tolist()\n",
    "lots = spd[spd[\"lot\"] != \"X\"]\n",
    "lots['species'].value_counts()[:15].index.tolist()"
   ]
  },
  {
   "cell_type": "code",
   "execution_count": 16,
   "id": "0f73a28e-41f6-4769-8e3f-03cc3b5d011d",
   "metadata": {},
   "outputs": [
    {
     "data": {
      "text/plain": [
       "array(['madretschkanal', 'schuessinsel', 'suze', nan, 'neuenburgersee',\n",
       "       'bielersee', 'orvine', 'leugene', 'emme', 'doubs', 'thunersee',\n",
       "       'X', 'none', 'thun'], dtype=object)"
      ]
     },
     "execution_count": 16,
     "metadata": {},
     "output_type": "execute_result"
    }
   ],
   "source": [
    "spd.river.unique()"
   ]
  },
  {
   "cell_type": "code",
   "execution_count": 27,
   "id": "54326572-bc2e-48c9-a0bc-ed7a64631927",
   "metadata": {},
   "outputs": [
    {
     "data": {
      "text/html": [
       "<div>\n",
       "<style scoped>\n",
       "    .dataframe tbody tr th:only-of-type {\n",
       "        vertical-align: middle;\n",
       "    }\n",
       "\n",
       "    .dataframe tbody tr th {\n",
       "        vertical-align: top;\n",
       "    }\n",
       "\n",
       "    .dataframe thead th {\n",
       "        text-align: right;\n",
       "    }\n",
       "</style>\n",
       "<table border=\"1\" class=\"dataframe\">\n",
       "  <thead>\n",
       "    <tr style=\"text-align: right;\">\n",
       "      <th></th>\n",
       "      <th>date</th>\n",
       "      <th>species</th>\n",
       "      <th>year</th>\n",
       "      <th>location</th>\n",
       "      <th>biogeo</th>\n",
       "      <th>canton</th>\n",
       "      <th>river</th>\n",
       "      <th>lot</th>\n",
       "      <th>forest</th>\n",
       "      <th>project</th>\n",
       "      <th>...</th>\n",
       "      <th>res</th>\n",
       "      <th>pri</th>\n",
       "      <th>inv</th>\n",
       "      <th>ode</th>\n",
       "      <th>ns</th>\n",
       "      <th>ongen</th>\n",
       "      <th>ni</th>\n",
       "      <th>cdf</th>\n",
       "      <th>biel</th>\n",
       "      <th>locname</th>\n",
       "    </tr>\n",
       "  </thead>\n",
       "  <tbody>\n",
       "    <tr>\n",
       "      <th>66</th>\n",
       "      <td>09.06.2020</td>\n",
       "      <td>medicago-lupulina</td>\n",
       "      <td>1</td>\n",
       "      <td>c</td>\n",
       "      <td>mp</td>\n",
       "      <td>be</td>\n",
       "      <td>suze</td>\n",
       "      <td>X</td>\n",
       "      <td>X</td>\n",
       "      <td>X</td>\n",
       "      <td>...</td>\n",
       "      <td>X</td>\n",
       "      <td>X</td>\n",
       "      <td>X</td>\n",
       "      <td>X</td>\n",
       "      <td>X</td>\n",
       "      <td>X</td>\n",
       "      <td>X</td>\n",
       "      <td>cdf</td>\n",
       "      <td>biel</td>\n",
       "      <td>buerenstrasse-suze-1</td>\n",
       "    </tr>\n",
       "    <tr>\n",
       "      <th>67</th>\n",
       "      <td>09.06.2020</td>\n",
       "      <td>cichorium-intybus</td>\n",
       "      <td>1</td>\n",
       "      <td>c</td>\n",
       "      <td>mp</td>\n",
       "      <td>be</td>\n",
       "      <td>suze</td>\n",
       "      <td>X</td>\n",
       "      <td>X</td>\n",
       "      <td>X</td>\n",
       "      <td>...</td>\n",
       "      <td>X</td>\n",
       "      <td>X</td>\n",
       "      <td>X</td>\n",
       "      <td>X</td>\n",
       "      <td>X</td>\n",
       "      <td>X</td>\n",
       "      <td>X</td>\n",
       "      <td>cdf</td>\n",
       "      <td>biel</td>\n",
       "      <td>buerenstrasse-suze-1</td>\n",
       "    </tr>\n",
       "    <tr>\n",
       "      <th>68</th>\n",
       "      <td>09.06.2020</td>\n",
       "      <td>potentilla-reptans</td>\n",
       "      <td>1</td>\n",
       "      <td>c</td>\n",
       "      <td>mp</td>\n",
       "      <td>be</td>\n",
       "      <td>suze</td>\n",
       "      <td>X</td>\n",
       "      <td>X</td>\n",
       "      <td>X</td>\n",
       "      <td>...</td>\n",
       "      <td>X</td>\n",
       "      <td>X</td>\n",
       "      <td>X</td>\n",
       "      <td>X</td>\n",
       "      <td>X</td>\n",
       "      <td>X</td>\n",
       "      <td>X</td>\n",
       "      <td>X</td>\n",
       "      <td>biel</td>\n",
       "      <td>buerenstrasse-suze-1</td>\n",
       "    </tr>\n",
       "    <tr>\n",
       "      <th>69</th>\n",
       "      <td>09.06.2020</td>\n",
       "      <td>papaver-rhoeas</td>\n",
       "      <td>1</td>\n",
       "      <td>c</td>\n",
       "      <td>mp</td>\n",
       "      <td>be</td>\n",
       "      <td>suze</td>\n",
       "      <td>X</td>\n",
       "      <td>X</td>\n",
       "      <td>X</td>\n",
       "      <td>...</td>\n",
       "      <td>X</td>\n",
       "      <td>X</td>\n",
       "      <td>X</td>\n",
       "      <td>X</td>\n",
       "      <td>X</td>\n",
       "      <td>X</td>\n",
       "      <td>X</td>\n",
       "      <td>X</td>\n",
       "      <td>biel</td>\n",
       "      <td>buerenstrasse-suze-1</td>\n",
       "    </tr>\n",
       "    <tr>\n",
       "      <th>70</th>\n",
       "      <td>09.06.2020</td>\n",
       "      <td>hypericum-maculatum</td>\n",
       "      <td>1</td>\n",
       "      <td>c</td>\n",
       "      <td>mp</td>\n",
       "      <td>be</td>\n",
       "      <td>suze</td>\n",
       "      <td>X</td>\n",
       "      <td>X</td>\n",
       "      <td>X</td>\n",
       "      <td>...</td>\n",
       "      <td>X</td>\n",
       "      <td>X</td>\n",
       "      <td>X</td>\n",
       "      <td>X</td>\n",
       "      <td>X</td>\n",
       "      <td>X</td>\n",
       "      <td>X</td>\n",
       "      <td>cdf</td>\n",
       "      <td>biel</td>\n",
       "      <td>buerenstrasse-suze-1</td>\n",
       "    </tr>\n",
       "  </tbody>\n",
       "</table>\n",
       "<p>5 rows × 25 columns</p>\n",
       "</div>"
      ],
      "text/plain": [
       "          date              species  year location biogeo canton river lot  \\\n",
       "66  09.06.2020    medicago-lupulina     1        c     mp     be  suze   X   \n",
       "67  09.06.2020    cichorium-intybus     1        c     mp     be  suze   X   \n",
       "68  09.06.2020   potentilla-reptans     1        c     mp     be  suze   X   \n",
       "69  09.06.2020       papaver-rhoeas     1        c     mp     be  suze   X   \n",
       "70  09.06.2020  hypericum-maculatum     1        c     mp     be  suze   X   \n",
       "\n",
       "   forest project  ... res pri inv ode ns ongen ni  cdf  biel  \\\n",
       "66      X       X  ...   X   X   X   X  X     X  X  cdf  biel   \n",
       "67      X       X  ...   X   X   X   X  X     X  X  cdf  biel   \n",
       "68      X       X  ...   X   X   X   X  X     X  X    X  biel   \n",
       "69      X       X  ...   X   X   X   X  X     X  X    X  biel   \n",
       "70      X       X  ...   X   X   X   X  X     X  X  cdf  biel   \n",
       "\n",
       "                 locname  \n",
       "66  buerenstrasse-suze-1  \n",
       "67  buerenstrasse-suze-1  \n",
       "68  buerenstrasse-suze-1  \n",
       "69  buerenstrasse-suze-1  \n",
       "70  buerenstrasse-suze-1  \n",
       "\n",
       "[5 rows x 25 columns]"
      ]
     },
     "execution_count": 27,
     "metadata": {},
     "output_type": "execute_result"
    }
   ],
   "source": [
    "# describe and compare the rivers: madretschkanal, suze, schuessinsel, and all suze length combined vs total\n",
    "\n",
    "suz = spd.loc[spd['river'] == \"suze\"]\n",
    "\n",
    "mad = spd.loc[spd['river'] == \"madretschkanal\"]\n",
    "\n",
    "sch = spd.loc[spd['river'] == \"schuessinsel\"]\n",
    "\n",
    "suz.head()"
   ]
  },
  {
   "cell_type": "code",
   "execution_count": null,
   "id": "0fba3cab-d26f-42f3-b5b4-ddc1f6d9c7e8",
   "metadata": {},
   "outputs": [],
   "source": []
  },
  {
   "cell_type": "code",
   "execution_count": null,
   "id": "f385ce6b-e252-4b0e-8b7b-226d8f28eb6d",
   "metadata": {},
   "outputs": [],
   "source": [
    "# describe pro nature renaturalization areas, compare to lots, to other renats, to everything else \"berm\""
   ]
  },
  {
   "cell_type": "code",
   "execution_count": null,
   "id": "904c5977-dbec-4c68-b4db-5ead243e7b2d",
   "metadata": {},
   "outputs": [],
   "source": []
  },
  {
   "cell_type": "code",
   "execution_count": null,
   "id": "8504b077-1ac9-4a13-873f-11ef2d591a60",
   "metadata": {},
   "outputs": [],
   "source": []
  },
  {
   "cell_type": "code",
   "execution_count": 51,
   "id": "8870a9d2-4893-40d0-9460-329a43fb37ce",
   "metadata": {},
   "outputs": [
    {
     "data": {
      "text/plain": [
       "98"
      ]
     },
     "execution_count": 51,
     "metadata": {},
     "output_type": "execute_result"
    }
   ],
   "source": [
    "sch.species.nunique()"
   ]
  },
  {
   "cell_type": "code",
   "execution_count": 53,
   "id": "a778601d-c81c-4cca-aa43-b135e0634e6d",
   "metadata": {},
   "outputs": [
    {
     "data": {
      "text/plain": [
       "2"
      ]
     },
     "execution_count": 53,
     "metadata": {},
     "output_type": "execute_result"
    }
   ],
   "source": []
  },
  {
   "cell_type": "code",
   "execution_count": null,
   "id": "abf36013-1073-4259-8b98-47ffebda2854",
   "metadata": {},
   "outputs": [],
   "source": []
  }
 ],
 "metadata": {
  "kernelspec": {
   "display_name": "Python 3 (ipykernel)",
   "language": "python",
   "name": "python3"
  },
  "language_info": {
   "codemirror_mode": {
    "name": "ipython",
    "version": 3
   },
   "file_extension": ".py",
   "mimetype": "text/x-python",
   "name": "python",
   "nbconvert_exporter": "python",
   "pygments_lexer": "ipython3",
   "version": "3.8.12"
  }
 },
 "nbformat": 4,
 "nbformat_minor": 5
}
