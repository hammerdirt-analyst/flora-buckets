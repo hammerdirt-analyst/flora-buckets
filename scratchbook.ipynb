{
 "cells": [
  {
   "cell_type": "markdown",
   "id": "e0d6e06f-4019-46da-9135-19223ee721fa",
   "metadata": {},
   "source": [
    "Scratch workbook for calculations to avoid cluttering the main analysis file."
   ]
  },
  {
   "cell_type": "code",
   "execution_count": 18,
   "id": "326e4736-9840-47b9-be3e-fd5bb3ae1665",
   "metadata": {
    "tags": [
     "hide-input"
    ]
   },
   "outputs": [],
   "source": [
    "# import packages, files and the data set needed\n",
    "\n",
    "# Import packages and files\n",
    "\n",
    "# math and data packages\n",
    "import pandas as pd\n",
    "import numpy as np\n",
    "import math\n",
    "from scipy import ndimage\n",
    "\n",
    "# charting and graphics\n",
    "import matplotlib as mpl\n",
    "import matplotlib.pyplot as plt\n",
    "from matplotlib import colors\n",
    "import seaborn as sns\n",
    "import matplotlib.ticker as ticker\n",
    "import matplotlib.dates as mdates\n",
    "from matplotlib.gridspec import GridSpec\n",
    "import matplotlib.image as mpimg\n",
    "\n",
    "# os and file types\n",
    "import os\n",
    "import sys\n",
    "import datetime as dt\n",
    "import json\n",
    "import csv\n",
    "\n",
    "# images and display\n",
    "import base64, io, IPython\n",
    "from PIL import Image as PILImage\n",
    "from IPython.display import Markdown as md\n",
    "from IPython.display import display\n",
    "\n",
    "# import survey data and initialize datetime\n",
    "spd=pd.read_csv(\"resources/survey_data_lists_02_22.csv\")\n",
    "spd[\"date\"] = pd.to_datetime(spd['date'], errors='coerce', format='%Y-%m-%d')\n",
    "spd[\"month\"] = spd[\"date\"].dt.month\n",
    "\n",
    "# create column of mutually exclusive plant characteristics from dataset\n",
    "spdint1 = spd[spd[\"inv\"]!=\"X\"].copy()\n",
    "spdint1[\"allstats\"] = spdint1[\"inv\"]\n",
    "spdint2 = spd[spd[\"ns\"]!=\"X\"].copy()\n",
    "spdint2[\"allstats\"] = spdint2[\"ns\"]\n",
    "spdint3 = spd[spd[\"rch\"]!=\"X\"].copy()\n",
    "spdint3[\"allstats\"] = spdint3[\"rch\"]\n",
    "spdint4 = spd[spd[\"ni\"]!=\"X\"].copy()\n",
    "spdint4[\"allstats\"] = spdint4[\"ni\"]\n",
    "spdint5 = spd[spd[\"ongen\"]!=\"X\"].copy()\n",
    "spdint5[\"allstats\"] = spdint5[\"ongen\"]\n",
    "spd_allstats = pd.concat([spdint1, spdint2, spdint3, spdint4, spdint5])\n",
    "\n",
    "# create yearly data for later charting use\n",
    "spd1 = spd_allstats.loc[spd_allstats.year == 1].copy()\n",
    "spd2 = spd_allstats.loc[(spd_allstats[\"year\"] == 2)].copy()\n",
    "\n",
    "#import 5X5 data\n",
    "biel51 = pd.read_csv(\"resources/atlas5x5/Atlas5x5_580_220.csv\", encoding = \"utf-16\")\n",
    "biel52 = pd.read_csv(\"resources/atlas5x5/Atlas5x5_580_215.csv\", encoding = \"utf-16\")\n",
    "biel53 = pd.read_csv(\"resources/atlas5x5/Atlas5x5_580_220.csv\", encoding = \"utf-16\")\n",
    "biel54 = pd.read_csv(\"resources/atlas5x5/Atlas5x5_580_220.csv\", encoding = \"utf-16\")\n",
    "\n",
    "ger=pd.read_csv(\"resources/germ_data.csv\")"
   ]
  },
  {
   "cell_type": "code",
   "execution_count": 19,
   "id": "45430694-1107-41b7-963f-ebaf901f2d70",
   "metadata": {},
   "outputs": [],
   "source": [
    "# comparison with 5x5 observations around biel\n",
    "\n",
    "# set up the 4 5x5 km observation boxes from infoflora that meet in Biel/Bienne into one database indexed on species.\n",
    "\n",
    "# convert the infoflora species name to species slugs to be compatible\n",
    "def to_slug(x):\n",
    "    try: \n",
    "        int_data = x.split()\n",
    "        data = int_data[:2]\n",
    "        data = \"-\".join(data)\n",
    "        data = data.lower()\n",
    "    except:\n",
    "        data = \"none\"\n",
    "    return data\n",
    "\n",
    "for a in biel51.species:\n",
    "    biel51[\"species\"] = biel51[\"species\"].map(lambda x: to_slug(x))\n",
    "biel51[\"biel51\"] = \"biel51\"\n",
    "biel51.set_index(\"species\", inplace=True, drop=True)\n",
    "\n",
    "for a in biel52.species:\n",
    "    biel52[\"species\"] = biel52[\"species\"].map(lambda x: to_slug(x))\n",
    "biel52[\"biel51\"] = \"biel52\"\n",
    "biel52.set_index(\"species\", inplace=True, drop=True)\n",
    "\n",
    "for a in biel53.species:\n",
    "    biel53[\"species\"] = biel53[\"species\"].map(lambda x: to_slug(x))\n",
    "biel53[\"biel53\"] = \"biel53\"\n",
    "biel53.set_index(\"species\", inplace=True, drop=True)\n",
    "\n",
    "for a in biel54.species:\n",
    "    biel54[\"species\"] = biel54[\"species\"].map(lambda x: to_slug(x))\n",
    "biel54[\"biel54\"] = \"biel54\"\n",
    "biel54.set_index(\"species\", inplace=True, drop=True)\n",
    "a = biel51.index\n",
    "\n",
    "# combine the observations into a dataframe indexed on species\n",
    "biel_species = set([*biel51.index, *biel52.index, *biel53.index, *biel54.index])\n",
    "bs = pd.DataFrame(index=biel_species)\n",
    "bs[\"biel\"] = \"biel\"\n",
    "\n",
    "\n",
    "# remove the \"ongen\" observations from the survey dataset as they won't be in the infoflora observations\n",
    "\n",
    "spd_ongenno = spd_allstats[spd_allstats[\"species\"].str.contains(\"-\")]\n",
    "\n",
    "# make list in data of species identified in infoflora that were not identified in surveys\n",
    "\n",
    "data = []\n",
    "\n",
    "for a in spd_ongenno.species.unique():\n",
    "    if a not in bs.index:\n",
    "        data.append(a)\n",
    "notin5x5 = pd.DataFrame({\"col\":data})\n"
   ]
  },
  {
   "cell_type": "code",
   "execution_count": 20,
   "id": "c66b4a64-8b15-4e9a-8802-395b08f3992c",
   "metadata": {},
   "outputs": [],
   "source": [
    "# calculate species that were in the\n",
    "biel = spd_ongenno.biel.value_counts()\n",
    "cdf = spd_ongenno.cdf.value_counts()\n",
    "noneint = spd_ongenno[spd_ongenno.biel==\"X\"]\n",
    "none = noneint[noneint.cdf==\"X\"]\n",
    "specieslist = none.species.unique()"
   ]
  },
  {
   "cell_type": "markdown",
   "id": "5be3c901-4427-43e1-a3d2-88611d917b36",
   "metadata": {},
   "source": [
    "## Germination"
   ]
  },
  {
   "cell_type": "markdown",
   "id": "0a4bd9cf-5569-4f16-ba7b-84607c1efd2f",
   "metadata": {},
   "source": [
    "### non-date columns information"
   ]
  },
  {
   "cell_type": "code",
   "execution_count": 21,
   "id": "140d4354-8e3b-430d-840a-40d32bcdb619",
   "metadata": {},
   "outputs": [],
   "source": [
    "# sloc = storage location column; indicates where the seeds were stored, grosso modo\n",
    "# pmet = planting-method column; indicates how the seeds were planted. All followed about the same protocol so maybe not necessary, only rhinanthus differed.\n",
    "# density = density of seeds used (small, medium, high)\n",
    "# area = indicates how many germination cells or how what fraction of a container was dedicated to the plants\n",
    "# colm = collection month\n",
    "# coly = collection year\n",
    "# collection column indicates whether the seed originated with volo or was collected by me\n",
    "# container column indicates which container the seeds were planted in. plastic trays used cells, concrete containers were divided into 6 or into 2.\n",
    "# origin column indicates where the seed came from\n",
    "# geo column provides a useful grouping: Biel (cygnes-lot, port-lot, alt-stadt, biel-cff, a-5, felseck, zentralplatz), \n",
    "# port 34 (ursula-albrecht + port-34),\n",
    "# canton-bern (lobsigen, pres-la-patte, jorat, cdf-forest, cdf-cff, pfeidli, bern, rubigen),\n",
    "# ticino (ticino)"
   ]
  },
  {
   "cell_type": "code",
   "execution_count": null,
   "id": "cdc6e3d5-cc67-4475-a194-4b6371360e3d",
   "metadata": {},
   "outputs": [],
   "source": []
  },
  {
   "cell_type": "code",
   "execution_count": 22,
   "id": "afc40315-2842-43f6-9fc0-0acf12cf7908",
   "metadata": {},
   "outputs": [],
   "source": [
    "## start to play with berms and stuff (second part of location string e.g. Bermenstrasse-berm-1)"
   ]
  },
  {
   "cell_type": "code",
   "execution_count": 23,
   "id": "ae17ee22-776a-48fd-a40b-183c7b762fff",
   "metadata": {},
   "outputs": [],
   "source": [
    "## project column, lots column, river column, forest column,"
   ]
  },
  {
   "cell_type": "code",
   "execution_count": null,
   "id": "6862be7a-1d73-43cb-b4b7-8836e583b137",
   "metadata": {},
   "outputs": [],
   "source": []
  }
 ],
 "metadata": {
  "kernelspec": {
   "display_name": "Python 3 (ipykernel)",
   "language": "python",
   "name": "python3"
  },
  "language_info": {
   "codemirror_mode": {
    "name": "ipython",
    "version": 3
   },
   "file_extension": ".py",
   "mimetype": "text/x-python",
   "name": "python",
   "nbconvert_exporter": "python",
   "pygments_lexer": "ipython3",
   "version": "3.7.6"
  }
 },
 "nbformat": 4,
 "nbformat_minor": 5
}
