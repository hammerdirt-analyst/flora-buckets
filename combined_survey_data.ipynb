{
 "cells": [
  {
   "cell_type": "markdown",
   "id": "common-spanish",
   "metadata": {},
   "source": [
    "# Preprocessing"
   ]
  },
  {
   "cell_type": "code",
   "execution_count": 1,
   "id": "stunning-sperm",
   "metadata": {},
   "outputs": [],
   "source": [
    "# math and data packages\n",
    "import pandas as pd\n",
    "import numpy as np\n",
    "import math\n",
    "\n",
    "# charting and graphics\n",
    "import matplotlib as mpl\n",
    "import matplotlib.pyplot as plt\n",
    "import seaborn as sns\n",
    "\n",
    "# os and file types\n",
    "import os\n",
    "import sys\n",
    "import datetime as dt\n",
    "import json\n",
    "import csv\n",
    "\n",
    "# images and display\n",
    "import base64, io, IPython\n",
    "from PIL import Image as PILImage\n",
    "from IPython.display import Markdown as md\n",
    "from IPython.display import display, Math, Latex\n",
    "\n"
   ]
  },
  {
   "cell_type": "markdown",
   "id": "drawn-individual",
   "metadata": {},
   "source": [
    "## Import data\n",
    "\n",
    "Fix any known formatting problems here"
   ]
  },
  {
   "cell_type": "code",
   "execution_count": 2,
   "id": "94ddcdff-733e-4a53-a662-602c6642e5e7",
   "metadata": {},
   "outputs": [
    {
     "name": "stdout",
     "output_type": "stream",
     "text": [
      "<class 'pandas.core.frame.DataFrame'>\n",
      "RangeIndex: 935 entries, 0 to 934\n",
      "Data columns (total 5 columns):\n",
      " #   Column  Non-Null Count  Dtype \n",
      "---  ------  --------------  ----- \n",
      " 0   place   935 non-null    object\n",
      " 1   date    935 non-null    object\n",
      " 2   time    756 non-null    object\n",
      " 3   sci     935 non-null    object\n",
      " 4   name    671 non-null    object\n",
      "dtypes: object(5)\n",
      "memory usage: 36.6+ KB\n"
     ]
    }
   ],
   "source": [
    "# make slugs for species and places\n",
    "\n",
    "# function to make the species slugs\n",
    "def to_slug(x):\n",
    "    try: \n",
    "        int_data = x.strip().split()\n",
    "        data = int_data[:2]\n",
    "        data = \"-\".join(data)\n",
    "        data = data.lower()\n",
    "    except:\n",
    "        data = \"none\"\n",
    "    return data\n",
    "\n",
    "survey_data = pd.read_csv(\"resources/surveys.csv\")\n",
    "a, b = pd.read_csv(\"resources/data-2021-1.csv\"), pd.read_csv(\"resources/data-2021-2.csv\")\n",
    "survey_data.info()"
   ]
  },
  {
   "cell_type": "code",
   "execution_count": 3,
   "id": "fa6978f5-efda-43a9-aa51-527a352442fa",
   "metadata": {},
   "outputs": [
    {
     "data": {
      "text/plain": [
       "0    03.04.21\n",
       "1    03.04.21\n",
       "2    03.04.21\n",
       "3    03.04.21\n",
       "4    03.04.21\n",
       "Name: date, dtype: object"
      ]
     },
     "execution_count": 3,
     "metadata": {},
     "output_type": "execute_result"
    }
   ],
   "source": [
    "a[\"date\"].head()"
   ]
  },
  {
   "cell_type": "code",
   "execution_count": 4,
   "id": "d7570173-1bd3-4a7b-b048-75c89b30aaea",
   "metadata": {},
   "outputs": [],
   "source": [
    "a[\"adate\"] = a[\"date\"].astype(str)\n",
    "a[\"date\"] = a[\"adate\"].map(lambda x: f\"20{x[-2:]}-{x[3:5]}-{x[:2]}\")\n",
    "a = a[~(a['date'] == \"20an--na\")]"
   ]
  },
  {
   "cell_type": "code",
   "execution_count": 5,
   "id": "6752b3b5-a207-445d-a364-f25233f1e678",
   "metadata": {},
   "outputs": [
    {
     "data": {
      "text/plain": [
       "0    2021-04-03\n",
       "1    2021-04-03\n",
       "2    2021-04-03\n",
       "3    2021-04-03\n",
       "4    2021-04-03\n",
       "Name: date, dtype: object"
      ]
     },
     "execution_count": 5,
     "metadata": {},
     "output_type": "execute_result"
    }
   ],
   "source": [
    "a[\"date\"].head()"
   ]
  },
  {
   "cell_type": "code",
   "execution_count": 6,
   "id": "b7b0d390-b11e-42aa-a83b-e555454cd9d7",
   "metadata": {},
   "outputs": [
    {
     "data": {
      "text/plain": [
       "0    06/27/21 06:59 PM\n",
       "1    06/27/21 07:00 PM\n",
       "2    06/27/21 07:00 PM\n",
       "3    06/27/21 07:00 PM\n",
       "4    06/27/21 07:00 PM\n",
       "Name: date, dtype: object"
      ]
     },
     "execution_count": 6,
     "metadata": {},
     "output_type": "execute_result"
    }
   ],
   "source": [
    "b[\"date\"].head()"
   ]
  },
  {
   "cell_type": "code",
   "execution_count": 7,
   "id": "ed584ff8-1435-42ce-9483-3436102e9ad4",
   "metadata": {},
   "outputs": [
    {
     "data": {
      "text/plain": [
       "0    2021-06-27\n",
       "1    2021-06-27\n",
       "2    2021-06-27\n",
       "3    2021-06-27\n",
       "4    2021-06-27\n",
       "Name: date, dtype: object"
      ]
     },
     "execution_count": 7,
     "metadata": {},
     "output_type": "execute_result"
    }
   ],
   "source": [
    "b[\"adate\"] = b[\"date\"].map(lambda x: x[:8])\n",
    "b[\"date\"] =  b[\"adate\"].map(lambda x: f\"20{x[-2:]}-{x[0:2]}-{x[3:5]}\")\n",
    "b[\"date\"].head()"
   ]
  },
  {
   "cell_type": "code",
   "execution_count": 8,
   "id": "ff120bfe-6673-4ee7-86f1-e360f6dd1f95",
   "metadata": {},
   "outputs": [
    {
     "data": {
      "text/plain": [
       "'2021-03-23'"
      ]
     },
     "execution_count": 8,
     "metadata": {},
     "output_type": "execute_result"
    }
   ],
   "source": [
    "b[\"date\"].min()"
   ]
  },
  {
   "cell_type": "code",
   "execution_count": 9,
   "id": "bec3bd79-f599-4bcf-ac8a-9c065cbe75ee",
   "metadata": {},
   "outputs": [
    {
     "data": {
      "text/plain": [
       "'2021-02-01'"
      ]
     },
     "execution_count": 9,
     "metadata": {},
     "output_type": "execute_result"
    }
   ],
   "source": [
    "a[\"date\"].min()"
   ]
  },
  {
   "cell_type": "code",
   "execution_count": 10,
   "id": "69077fe2-c2a6-483c-953f-eb922794bb81",
   "metadata": {},
   "outputs": [],
   "source": [
    "survey_data.rename(columns={\"sci\":\"species\"}, inplace=True)\n",
    "survey_data['loc_date'] = list(zip(survey_data.place, survey_data['date']))\n",
    "survey_data[\"year\"]=1"
   ]
  },
  {
   "cell_type": "code",
   "execution_count": 11,
   "id": "9c9f539e-4a9a-405d-ba04-cafe6d386607",
   "metadata": {},
   "outputs": [
    {
     "data": {
      "text/html": [
       "<div>\n",
       "<style scoped>\n",
       "    .dataframe tbody tr th:only-of-type {\n",
       "        vertical-align: middle;\n",
       "    }\n",
       "\n",
       "    .dataframe tbody tr th {\n",
       "        vertical-align: top;\n",
       "    }\n",
       "\n",
       "    .dataframe thead th {\n",
       "        text-align: right;\n",
       "    }\n",
       "</style>\n",
       "<table border=\"1\" class=\"dataframe\">\n",
       "  <thead>\n",
       "    <tr style=\"text-align: right;\">\n",
       "      <th></th>\n",
       "      <th>place</th>\n",
       "      <th>date</th>\n",
       "      <th>time</th>\n",
       "      <th>species</th>\n",
       "      <th>name</th>\n",
       "      <th>loc_date</th>\n",
       "      <th>year</th>\n",
       "    </tr>\n",
       "  </thead>\n",
       "  <tbody>\n",
       "    <tr>\n",
       "      <th>0</th>\n",
       "      <td>alleestrasse 1</td>\n",
       "      <td>2020-09-02</td>\n",
       "      <td>11:09:04 AM</td>\n",
       "      <td>plantago lanceolata</td>\n",
       "      <td>plantain lancéolé</td>\n",
       "      <td>(alleestrasse 1, 2020-09-02)</td>\n",
       "      <td>1</td>\n",
       "    </tr>\n",
       "    <tr>\n",
       "      <th>1</th>\n",
       "      <td>alleestrasse 1</td>\n",
       "      <td>2020-09-02</td>\n",
       "      <td>11:08:19 AM</td>\n",
       "      <td>centaurea nigra</td>\n",
       "      <td>centaurée noire</td>\n",
       "      <td>(alleestrasse 1, 2020-09-02)</td>\n",
       "      <td>1</td>\n",
       "    </tr>\n",
       "    <tr>\n",
       "      <th>2</th>\n",
       "      <td>alleestrasse 1</td>\n",
       "      <td>2020-09-02</td>\n",
       "      <td>11:06:59 AM</td>\n",
       "      <td>plantago media</td>\n",
       "      <td>plantain moyen</td>\n",
       "      <td>(alleestrasse 1, 2020-09-02)</td>\n",
       "      <td>1</td>\n",
       "    </tr>\n",
       "    <tr>\n",
       "      <th>3</th>\n",
       "      <td>alleestrasse 1</td>\n",
       "      <td>2020-09-02</td>\n",
       "      <td>11:06:05 AM</td>\n",
       "      <td>chenopodium album agg.</td>\n",
       "      <td>chénopode blanc</td>\n",
       "      <td>(alleestrasse 1, 2020-09-02)</td>\n",
       "      <td>1</td>\n",
       "    </tr>\n",
       "    <tr>\n",
       "      <th>4</th>\n",
       "      <td>alleestrasse 1</td>\n",
       "      <td>2020-09-02</td>\n",
       "      <td>11:05:18 AM</td>\n",
       "      <td>centaurea jacea agg.</td>\n",
       "      <td>centaurée jacée</td>\n",
       "      <td>(alleestrasse 1, 2020-09-02)</td>\n",
       "      <td>1</td>\n",
       "    </tr>\n",
       "  </tbody>\n",
       "</table>\n",
       "</div>"
      ],
      "text/plain": [
       "            place        date         time                 species  \\\n",
       "0  alleestrasse 1  2020-09-02  11:09:04 AM     plantago lanceolata   \n",
       "1  alleestrasse 1  2020-09-02  11:08:19 AM         centaurea nigra   \n",
       "2  alleestrasse 1  2020-09-02  11:06:59 AM          plantago media   \n",
       "3  alleestrasse 1  2020-09-02  11:06:05 AM  chenopodium album agg.   \n",
       "4  alleestrasse 1  2020-09-02  11:05:18 AM    centaurea jacea agg.   \n",
       "\n",
       "                name                      loc_date  year  \n",
       "0  plantain lancéolé  (alleestrasse 1, 2020-09-02)     1  \n",
       "1    centaurée noire  (alleestrasse 1, 2020-09-02)     1  \n",
       "2     plantain moyen  (alleestrasse 1, 2020-09-02)     1  \n",
       "3    chénopode blanc  (alleestrasse 1, 2020-09-02)     1  \n",
       "4    centaurée jacée  (alleestrasse 1, 2020-09-02)     1  "
      ]
     },
     "execution_count": 11,
     "metadata": {},
     "output_type": "execute_result"
    }
   ],
   "source": [
    "survey_data.head()"
   ]
  },
  {
   "cell_type": "code",
   "execution_count": 12,
   "id": "052ec47f-4b0c-434c-8e11-33d77d8b87ac",
   "metadata": {},
   "outputs": [
    {
     "name": "stdout",
     "output_type": "stream",
     "text": [
      "<class 'pandas.core.frame.DataFrame'>\n",
      "Int64Index: 3199 entries, 0 to 3198\n",
      "Data columns (total 11 columns):\n",
      " #   Column           Non-Null Count  Dtype  \n",
      "---  ------           --------------  -----  \n",
      " 0   date             3199 non-null   object \n",
      " 1   place            3199 non-null   object \n",
      " 2   feature          3199 non-null   object \n",
      " 3   number           3199 non-null   float64\n",
      " 4   species          3195 non-null   object \n",
      " 5   quantity         1683 non-null   object \n",
      " 6   confidence       2130 non-null   float64\n",
      " 7   no_flowers       64 non-null     object \n",
      " 8   notes            60 non-null     object \n",
      " 9   Full-place-name  3199 non-null   object \n",
      " 10  adate            3199 non-null   object \n",
      "dtypes: float64(2), object(9)\n",
      "memory usage: 299.9+ KB\n"
     ]
    }
   ],
   "source": [
    "a.info()"
   ]
  },
  {
   "cell_type": "code",
   "execution_count": 13,
   "id": "99d97921-2fbc-4a7e-84c6-ef58332975e1",
   "metadata": {},
   "outputs": [
    {
     "data": {
      "text/html": [
       "<div>\n",
       "<style scoped>\n",
       "    .dataframe tbody tr th:only-of-type {\n",
       "        vertical-align: middle;\n",
       "    }\n",
       "\n",
       "    .dataframe tbody tr th {\n",
       "        vertical-align: top;\n",
       "    }\n",
       "\n",
       "    .dataframe thead th {\n",
       "        text-align: right;\n",
       "    }\n",
       "</style>\n",
       "<table border=\"1\" class=\"dataframe\">\n",
       "  <thead>\n",
       "    <tr style=\"text-align: right;\">\n",
       "      <th></th>\n",
       "      <th>date</th>\n",
       "      <th>place</th>\n",
       "      <th>feature</th>\n",
       "      <th>number</th>\n",
       "      <th>species</th>\n",
       "      <th>quantity</th>\n",
       "      <th>confidence</th>\n",
       "      <th>no_flowers</th>\n",
       "      <th>notes</th>\n",
       "      <th>Full-place-name</th>\n",
       "      <th>adate</th>\n",
       "      <th>year</th>\n",
       "    </tr>\n",
       "  </thead>\n",
       "  <tbody>\n",
       "    <tr>\n",
       "      <th>0</th>\n",
       "      <td>2021-04-03</td>\n",
       "      <td>zukunftstrasse</td>\n",
       "      <td>box</td>\n",
       "      <td>1.0</td>\n",
       "      <td>Viburnum farreri</td>\n",
       "      <td>2</td>\n",
       "      <td>2.0</td>\n",
       "      <td>NaN</td>\n",
       "      <td>NaN</td>\n",
       "      <td>zukunftstrasse-box-1</td>\n",
       "      <td>03.04.21</td>\n",
       "      <td>2</td>\n",
       "    </tr>\n",
       "    <tr>\n",
       "      <th>1</th>\n",
       "      <td>2021-04-03</td>\n",
       "      <td>zukunftstrasse</td>\n",
       "      <td>box</td>\n",
       "      <td>1.0</td>\n",
       "      <td>Quercus suber</td>\n",
       "      <td>1</td>\n",
       "      <td>1.0</td>\n",
       "      <td>NaN</td>\n",
       "      <td>NaN</td>\n",
       "      <td>zukunftstrasse-box-1</td>\n",
       "      <td>03.04.21</td>\n",
       "      <td>2</td>\n",
       "    </tr>\n",
       "    <tr>\n",
       "      <th>2</th>\n",
       "      <td>2021-04-03</td>\n",
       "      <td>zukunftstrasse</td>\n",
       "      <td>box</td>\n",
       "      <td>1.0</td>\n",
       "      <td>Prunus avium</td>\n",
       "      <td>1</td>\n",
       "      <td>0.0</td>\n",
       "      <td>NaN</td>\n",
       "      <td>NaN</td>\n",
       "      <td>zukunftstrasse-box-1</td>\n",
       "      <td>03.04.21</td>\n",
       "      <td>2</td>\n",
       "    </tr>\n",
       "    <tr>\n",
       "      <th>3</th>\n",
       "      <td>2021-04-03</td>\n",
       "      <td>zukunftstrasse</td>\n",
       "      <td>box</td>\n",
       "      <td>2.0</td>\n",
       "      <td>Viburnum farreri</td>\n",
       "      <td>2</td>\n",
       "      <td>2.0</td>\n",
       "      <td>NaN</td>\n",
       "      <td>NaN</td>\n",
       "      <td>zukunftstrasse-box-2</td>\n",
       "      <td>03.04.21</td>\n",
       "      <td>2</td>\n",
       "    </tr>\n",
       "    <tr>\n",
       "      <th>4</th>\n",
       "      <td>2021-04-03</td>\n",
       "      <td>zukunftstrasse</td>\n",
       "      <td>box</td>\n",
       "      <td>2.0</td>\n",
       "      <td>Quercus suber</td>\n",
       "      <td>1</td>\n",
       "      <td>1.0</td>\n",
       "      <td>NaN</td>\n",
       "      <td>NaN</td>\n",
       "      <td>zukunftstrasse-box-2</td>\n",
       "      <td>03.04.21</td>\n",
       "      <td>2</td>\n",
       "    </tr>\n",
       "  </tbody>\n",
       "</table>\n",
       "</div>"
      ],
      "text/plain": [
       "         date           place feature  number           species quantity  \\\n",
       "0  2021-04-03  zukunftstrasse     box     1.0  Viburnum farreri        2   \n",
       "1  2021-04-03  zukunftstrasse     box     1.0     Quercus suber        1   \n",
       "2  2021-04-03  zukunftstrasse     box     1.0      Prunus avium        1   \n",
       "3  2021-04-03  zukunftstrasse     box     2.0  Viburnum farreri        2   \n",
       "4  2021-04-03  zukunftstrasse     box     2.0     Quercus suber        1   \n",
       "\n",
       "   confidence no_flowers notes       Full-place-name     adate  year  \n",
       "0         2.0        NaN   NaN  zukunftstrasse-box-1  03.04.21     2  \n",
       "1         1.0        NaN   NaN  zukunftstrasse-box-1  03.04.21     2  \n",
       "2         0.0        NaN   NaN  zukunftstrasse-box-1  03.04.21     2  \n",
       "3         2.0        NaN   NaN  zukunftstrasse-box-2  03.04.21     2  \n",
       "4         1.0        NaN   NaN  zukunftstrasse-box-2  03.04.21     2  "
      ]
     },
     "execution_count": 13,
     "metadata": {},
     "output_type": "execute_result"
    }
   ],
   "source": [
    "a[\"year\"]=2\n",
    "a.head()"
   ]
  },
  {
   "cell_type": "code",
   "execution_count": 14,
   "id": "ae740796-1bee-41f3-b539-c89ff23c1659",
   "metadata": {},
   "outputs": [
    {
     "name": "stdout",
     "output_type": "stream",
     "text": [
      "<class 'pandas.core.frame.DataFrame'>\n",
      "RangeIndex: 3813 entries, 0 to 3812\n",
      "Data columns (total 20 columns):\n",
      " #   Column                Non-Null Count  Dtype  \n",
      "---  ------                --------------  -----  \n",
      " 0   obs_id                3809 non-null   float64\n",
      " 1   date                  3813 non-null   object \n",
      " 2   place                 3813 non-null   object \n",
      " 3   species               3813 non-null   object \n",
      " 4   determinavit_cf       3809 non-null   object \n",
      " 5   municipality.id       3811 non-null   float64\n",
      " 6   municipality.name     3811 non-null   object \n",
      " 7   municipality_expert   3809 non-null   object \n",
      " 8   srid                  3809 non-null   float64\n",
      " 9   x                     3809 non-null   float64\n",
      " 10  y                     3809 non-null   float64\n",
      " 11  geometry              3809 non-null   object \n",
      " 12  xy_type               3809 non-null   object \n",
      " 13  xy_precision          3809 non-null   float64\n",
      " 14  geo_expert            3809 non-null   object \n",
      " 15  altitude_min          3809 non-null   float64\n",
      " 16  altitude_max          1178 non-null   float64\n",
      " 17  altitude_expert       3809 non-null   object \n",
      " 18  supplements.obs_type  0 non-null      float64\n",
      " 19  adate                 3813 non-null   object \n",
      "dtypes: float64(9), object(11)\n",
      "memory usage: 595.9+ KB\n"
     ]
    }
   ],
   "source": [
    "b.info()"
   ]
  },
  {
   "cell_type": "code",
   "execution_count": 15,
   "id": "42a0a2e8-fdb7-4b2f-8dbe-9b2d40c40ed5",
   "metadata": {},
   "outputs": [],
   "source": [
    "bcolumns = [\"date\", \"place\", \"species\", \"year\"]\n",
    "b[\"year\"]=2"
   ]
  },
  {
   "cell_type": "code",
   "execution_count": 16,
   "id": "f00de637-5be7-4078-bc7d-7abbede86db6",
   "metadata": {},
   "outputs": [],
   "source": [
    "c = pd.concat([survey_data[bcolumns], a[bcolumns], b[bcolumns]])"
   ]
  },
  {
   "cell_type": "code",
   "execution_count": 17,
   "id": "8ffd5b16-876c-4b2f-b167-1a59cb9627bc",
   "metadata": {},
   "outputs": [
    {
     "data": {
      "text/html": [
       "<div>\n",
       "<style scoped>\n",
       "    .dataframe tbody tr th:only-of-type {\n",
       "        vertical-align: middle;\n",
       "    }\n",
       "\n",
       "    .dataframe tbody tr th {\n",
       "        vertical-align: top;\n",
       "    }\n",
       "\n",
       "    .dataframe thead th {\n",
       "        text-align: right;\n",
       "    }\n",
       "</style>\n",
       "<table border=\"1\" class=\"dataframe\">\n",
       "  <thead>\n",
       "    <tr style=\"text-align: right;\">\n",
       "      <th></th>\n",
       "      <th>date</th>\n",
       "      <th>place</th>\n",
       "      <th>species</th>\n",
       "      <th>year</th>\n",
       "    </tr>\n",
       "  </thead>\n",
       "  <tbody>\n",
       "    <tr>\n",
       "      <th>0</th>\n",
       "      <td>2020-09-02</td>\n",
       "      <td>alleestrasse 1</td>\n",
       "      <td>plantago lanceolata</td>\n",
       "      <td>1</td>\n",
       "    </tr>\n",
       "    <tr>\n",
       "      <th>1</th>\n",
       "      <td>2020-09-02</td>\n",
       "      <td>alleestrasse 1</td>\n",
       "      <td>centaurea nigra</td>\n",
       "      <td>1</td>\n",
       "    </tr>\n",
       "    <tr>\n",
       "      <th>2</th>\n",
       "      <td>2020-09-02</td>\n",
       "      <td>alleestrasse 1</td>\n",
       "      <td>plantago media</td>\n",
       "      <td>1</td>\n",
       "    </tr>\n",
       "    <tr>\n",
       "      <th>3</th>\n",
       "      <td>2020-09-02</td>\n",
       "      <td>alleestrasse 1</td>\n",
       "      <td>chenopodium album agg.</td>\n",
       "      <td>1</td>\n",
       "    </tr>\n",
       "    <tr>\n",
       "      <th>4</th>\n",
       "      <td>2020-09-02</td>\n",
       "      <td>alleestrasse 1</td>\n",
       "      <td>centaurea jacea agg.</td>\n",
       "      <td>1</td>\n",
       "    </tr>\n",
       "  </tbody>\n",
       "</table>\n",
       "</div>"
      ],
      "text/plain": [
       "         date           place                 species  year\n",
       "0  2020-09-02  alleestrasse 1     plantago lanceolata     1\n",
       "1  2020-09-02  alleestrasse 1         centaurea nigra     1\n",
       "2  2020-09-02  alleestrasse 1          plantago media     1\n",
       "3  2020-09-02  alleestrasse 1  chenopodium album agg.     1\n",
       "4  2020-09-02  alleestrasse 1    centaurea jacea agg.     1"
      ]
     },
     "execution_count": 17,
     "metadata": {},
     "output_type": "execute_result"
    }
   ],
   "source": [
    "c.head()"
   ]
  },
  {
   "cell_type": "code",
   "execution_count": 18,
   "id": "73d28f3a-73eb-4e06-add2-b62b85f0c01f",
   "metadata": {},
   "outputs": [
    {
     "data": {
      "text/html": [
       "<div>\n",
       "<style scoped>\n",
       "    .dataframe tbody tr th:only-of-type {\n",
       "        vertical-align: middle;\n",
       "    }\n",
       "\n",
       "    .dataframe tbody tr th {\n",
       "        vertical-align: top;\n",
       "    }\n",
       "\n",
       "    .dataframe thead th {\n",
       "        text-align: right;\n",
       "    }\n",
       "</style>\n",
       "<table border=\"1\" class=\"dataframe\">\n",
       "  <thead>\n",
       "    <tr style=\"text-align: right;\">\n",
       "      <th></th>\n",
       "      <th>date</th>\n",
       "      <th>place</th>\n",
       "      <th>species</th>\n",
       "      <th>year</th>\n",
       "      <th>loc_date</th>\n",
       "      <th>acopy</th>\n",
       "    </tr>\n",
       "  </thead>\n",
       "  <tbody>\n",
       "    <tr>\n",
       "      <th>0</th>\n",
       "      <td>2020-09-02</td>\n",
       "      <td>alleestrasse 1</td>\n",
       "      <td>plantago-lanceolata</td>\n",
       "      <td>1</td>\n",
       "      <td>(alleestrasse 1, 2020-09-02)</td>\n",
       "      <td>plantago lanceolata</td>\n",
       "    </tr>\n",
       "    <tr>\n",
       "      <th>1</th>\n",
       "      <td>2020-09-02</td>\n",
       "      <td>alleestrasse 1</td>\n",
       "      <td>centaurea-jacea</td>\n",
       "      <td>1</td>\n",
       "      <td>(alleestrasse 1, 2020-09-02)</td>\n",
       "      <td>centaurea jacea</td>\n",
       "    </tr>\n",
       "    <tr>\n",
       "      <th>2</th>\n",
       "      <td>2020-09-02</td>\n",
       "      <td>alleestrasse 1</td>\n",
       "      <td>plantago-media</td>\n",
       "      <td>1</td>\n",
       "      <td>(alleestrasse 1, 2020-09-02)</td>\n",
       "      <td>plantago media</td>\n",
       "    </tr>\n",
       "    <tr>\n",
       "      <th>3</th>\n",
       "      <td>2020-09-02</td>\n",
       "      <td>alleestrasse 1</td>\n",
       "      <td>chenopodium-album</td>\n",
       "      <td>1</td>\n",
       "      <td>(alleestrasse 1, 2020-09-02)</td>\n",
       "      <td>chenopodium album agg.</td>\n",
       "    </tr>\n",
       "    <tr>\n",
       "      <th>4</th>\n",
       "      <td>2020-09-02</td>\n",
       "      <td>alleestrasse 1</td>\n",
       "      <td>centaurea-jacea</td>\n",
       "      <td>1</td>\n",
       "      <td>(alleestrasse 1, 2020-09-02)</td>\n",
       "      <td>centaurea jacea agg.</td>\n",
       "    </tr>\n",
       "  </tbody>\n",
       "</table>\n",
       "</div>"
      ],
      "text/plain": [
       "         date           place              species  year  \\\n",
       "0  2020-09-02  alleestrasse 1  plantago-lanceolata     1   \n",
       "1  2020-09-02  alleestrasse 1      centaurea-jacea     1   \n",
       "2  2020-09-02  alleestrasse 1       plantago-media     1   \n",
       "3  2020-09-02  alleestrasse 1    chenopodium-album     1   \n",
       "4  2020-09-02  alleestrasse 1      centaurea-jacea     1   \n",
       "\n",
       "                       loc_date                   acopy  \n",
       "0  (alleestrasse 1, 2020-09-02)     plantago lanceolata  \n",
       "1  (alleestrasse 1, 2020-09-02)         centaurea jacea  \n",
       "2  (alleestrasse 1, 2020-09-02)          plantago media  \n",
       "3  (alleestrasse 1, 2020-09-02)  chenopodium album agg.  \n",
       "4  (alleestrasse 1, 2020-09-02)    centaurea jacea agg.  "
      ]
     },
     "execution_count": 18,
     "metadata": {},
     "output_type": "execute_result"
    }
   ],
   "source": [
    "c[\"loc_date\"], a[\"loc_date\"], b[\"loc_date\"] = list(zip(c.place, c[\"date\"])), list(zip(a.place, a[\"date\"])), list(zip(b.place, b[\"date\"]))\n",
    "\n",
    "c[\"acopy\"] = c.species\n",
    "\n",
    "replacedict = {\n",
    "    'verbanum bonariensis ':'verbena bonariensis',\n",
    "    'medicago varia':'medicago sativa',\n",
    "    \"oenothera\":\"oenothera biennis\",\n",
    "    \"geranium pratens\":\"geranium pratense\",\n",
    "    \"oenothera biennis \": \"oenothera biennis\",\n",
    "    \"oenothera biennis agg.\": \"oenothera biennis\",\n",
    "    \"solidalgo canadensis\": \"solidago canadensis\",\n",
    "    \"verbascum lynchitis\":\"verbascum lychnitis\",\n",
    "    \"verbascum negris\":\"verbascum nigrum\",\n",
    "    \"securigea varia\": \"securigera varia\",\n",
    "    \"melilotus officianalis\": \"melilotus officinalis\",\n",
    "    \"knautia maxima\": \"knautia dipsacifolia\",\n",
    "    \"hieracium aurantiacum\":\"pilosella aurantiaca\",\n",
    "    \"sysimbrium officinale\":\"sisymbrium officinale\",\n",
    "    \"geranium robertanium\":\"geranium robertianum\",\n",
    "    \"mycelis muralis\": \"lactuca muralis\",\n",
    "    \"calamintha-nepeta\":\"clinopodium nepeta\",\n",
    "    \"polygonum-persicaria\":\"persicaria maculosa\",\n",
    "    \"sorbus-aria\":\"aria edulis\",\n",
    "    \"taraxacum\": \"taraxacum officinale\",\n",
    "    \"jacobaea vulgaris\" : \"senecio jacobaea\",\n",
    "    \"erigeron canadensis\" : \"conyza canadensis\",\n",
    "    \"rorippa islandica\" : \"rorippa palustris\",\n",
    "    \"malus sylvestris\" : \"malus domestica\",\n",
    "    \"hylotelephium telephium\" : \"sedum telephium\",\n",
    "    \"lactuca muralis\": \"mycelis muralis\",\n",
    "    \"chaenorhinum minus\": \"chaenorrhinum minus\",\n",
    "    \"erigeron canadensis\": \"conzya canadensis\",\n",
    "    \"erigeron canadensis\": \"conzya canadensis\",\n",
    "    \"borkhausenia intermedia\": \"scandosorbus intermedia\",\n",
    "    \"centaurea nigra\" : \"centaurea jacea\"\n",
    "}\n",
    "\n",
    "# function to assign the correct value of the key is in the samples dictionary.\n",
    "def replace_names(x,keys):\n",
    "    \n",
    "    if x in keys:\n",
    "        data = keys[x]\n",
    "    else:\n",
    "        data = x\n",
    "    \n",
    "    return data\n",
    "c[\"acopy\"] = c.acopy.map(lambda x: replace_names(x,replacedict))\n",
    "\n",
    "\n",
    "c[\"species\"] = c.acopy.map(lambda x: to_slug(x))\n",
    "\n",
    "c.head()   "
   ]
  },
  {
   "cell_type": "code",
   "execution_count": 19,
   "id": "a578152a-3c7d-4b34-8c61-f34364eab85e",
   "metadata": {},
   "outputs": [
    {
     "name": "stdout",
     "output_type": "stream",
     "text": [
      "560 417 143\n"
     ]
    }
   ],
   "source": [
    "print(c.loc_date.nunique(), (a.loc_date.nunique() + b.loc_date.nunique()), survey_data.loc_date.nunique())"
   ]
  },
  {
   "cell_type": "code",
   "execution_count": 20,
   "id": "a284c491-220c-420d-b40b-be0205e2be06",
   "metadata": {},
   "outputs": [
    {
     "data": {
      "text/plain": [
       "year\n",
       "1    143\n",
       "2    417\n",
       "Name: loc_date, dtype: int64"
      ]
     },
     "execution_count": 20,
     "metadata": {},
     "output_type": "execute_result"
    }
   ],
   "source": [
    "c.groupby(\"year\").loc_date.nunique()"
   ]
  },
  {
   "cell_type": "code",
   "execution_count": 21,
   "id": "81b063ec-18fa-486c-a0b2-97ad6cb45c68",
   "metadata": {},
   "outputs": [
    {
     "name": "stdout",
     "output_type": "stream",
     "text": [
      "377 267 111\n"
     ]
    }
   ],
   "source": [
    "print(c.place.nunique(), (a.place.nunique() + b.place.nunique()), survey_data.place.nunique())"
   ]
  },
  {
   "cell_type": "code",
   "execution_count": 22,
   "id": "d26b4e28-9b5b-4a4e-8894-8a3b21921a71",
   "metadata": {},
   "outputs": [
    {
     "data": {
      "text/plain": [
       "year\n",
       "1    111\n",
       "2    267\n",
       "Name: place, dtype: int64"
      ]
     },
     "execution_count": 22,
     "metadata": {},
     "output_type": "execute_result"
    }
   ],
   "source": [
    "c.groupby(\"year\").place.nunique()"
   ]
  },
  {
   "cell_type": "code",
   "execution_count": 23,
   "id": "31ebee6d-b928-4516-b300-5a9f6cfb4cfb",
   "metadata": {},
   "outputs": [],
   "source": [
    "def asplit(x):\n",
    "    akey=x\n",
    "    int_data = x.strip().split(\"-\")\n",
    "    return int_data, akey\n",
    "\n",
    "def check_length(x):\n",
    "    data = len(x[0])\n",
    "    return data, x[0], x[1]\n",
    "\n",
    "def new_data(data, suffixes, threecharacters, twocharacters):\n",
    "    \n",
    "    if data[0] == 1:        \n",
    "        if data[1][0].endswith(suffixes):\n",
    "            new_x = data[1][:-4]\n",
    "        elif data[1][0].endswith(threecharacters):\n",
    "            new_x = data[1][:-3]\n",
    "        else:\n",
    "            new_x = data[1][0]\n",
    "    else:\n",
    "        \n",
    "        if data[1][1] in suffixes:\n",
    "            new_x = data[1][0]\n",
    "        elif data[1][1].endswith(threecharacters):\n",
    "            new_x = data[1][0]\n",
    "        elif data[1][1].endswith(twocharacters):\n",
    "            new_x = data[1][0]\n",
    "        else:\n",
    "            new_x = \"-\".join(data[1])            \n",
    "    \n",
    "    return {data[2]:new_x}\n",
    "            \n",
    "# data = \"-\".join(data)           \n",
    "intermediate = [asplit(x) for x in c.species.sort_values().unique()]\n",
    "\n",
    "lengths = [check_length(x) for x in intermediate]\n",
    "\n",
    "new_names = [new_data(x, (\"cf.\", \"sp.\"), (\"sp\", \"cf\"), (\"x\")) for x in lengths]\n",
    "\n",
    "re_names = {k:v for x in new_names for k,v in x.items()}\n",
    "\n",
    "def replace_genus(x, key):\n",
    "    return key[x]"
   ]
  },
  {
   "cell_type": "code",
   "execution_count": 24,
   "id": "263ecbcd-73aa-4edb-bcd2-22f5efb68e21",
   "metadata": {},
   "outputs": [
    {
     "name": "stdout",
     "output_type": "stream",
     "text": [
      "<class 'pandas.core.frame.DataFrame'>\n",
      "Int64Index: 7943 entries, 0 to 7946\n",
      "Data columns (total 5 columns):\n",
      " #   Column    Non-Null Count  Dtype \n",
      "---  ------    --------------  ----- \n",
      " 0   date      7943 non-null   object\n",
      " 1   place     7943 non-null   object\n",
      " 2   species   7943 non-null   object\n",
      " 3   year      7943 non-null   int64 \n",
      " 4   loc_date  7943 non-null   object\n",
      "dtypes: int64(1), object(4)\n",
      "memory usage: 372.3+ KB\n"
     ]
    }
   ],
   "source": [
    "c[\"newname\"] = c.species.map(lambda x: replace_genus(x, re_names))\n",
    "c[\"species\"] = c.newname\n",
    "\n",
    "c.drop([\"newname\", \"acopy\"], axis=1, inplace=True)\n",
    "c = c.reset_index(drop=True)\n",
    "\n",
    "c = c[~c.species.isin([\"none\"])]\n",
    "c.info()"
   ]
  },
  {
   "cell_type": "code",
   "execution_count": 25,
   "id": "a969dd70-e4a0-4017-ab60-ff5fd7cd5b6d",
   "metadata": {},
   "outputs": [
    {
     "name": "stdout",
     "output_type": "stream",
     "text": [
      "659 239\n"
     ]
    }
   ],
   "source": [
    "print(c.species.nunique(),  len(set([to_slug(x) for x in survey_data.species.unique()])))"
   ]
  },
  {
   "cell_type": "code",
   "execution_count": 26,
   "id": "79c43f30-f6b6-424c-a258-ed9674d777f7",
   "metadata": {},
   "outputs": [
    {
     "data": {
      "text/plain": [
       "year\n",
       "1    232\n",
       "2    590\n",
       "Name: species, dtype: int64"
      ]
     },
     "execution_count": 26,
     "metadata": {},
     "output_type": "execute_result"
    }
   ],
   "source": [
    "c.groupby(\"year\").species.nunique()"
   ]
  },
  {
   "cell_type": "code",
   "execution_count": 27,
   "id": "5c7e539a-39a7-4c05-b092-04327c6796e2",
   "metadata": {},
   "outputs": [],
   "source": [
    "c.to_csv(\"resources/inprocess/combined_survey_data.csv\", index=False)"
   ]
  },
  {
   "cell_type": "code",
   "execution_count": 28,
   "id": "89821571-baed-4b37-b893-b181e3630c37",
   "metadata": {},
   "outputs": [],
   "source": [
    "# n per static count of surveys locations and speicies\n",
    "def nSurveys(data, query=\"species\", args=[]):\n",
    "    return data[data[query].isin(args)].loc_date.nunique()\n",
    "\n",
    "def nLocation(data, species=\"species\", genus_species=[]):\n",
    "    return data[data[species].isin(genus_species)].place.nunique()\n",
    "\n",
    "def nSpecies(data, place=\"place\", places=[]):\n",
    "    return data[data[place].isin(places)].species.nunique()\n",
    "\n",
    "def total_sls(data):\n",
    "    surveys = data.loc_date.nunique()\n",
    "    locations = data.place.nunique()\n",
    "    species = data.species.nunique()\n",
    "    \n",
    "    return {\"surveys\":surveys, \"places\":locations, \"species\":species}\n",
    "\n",
    "c[\"date\"] = pd.to_datetime(c[\"date\"])\n",
    "c[\"month\"] = c[\"date\"].dt.month\n",
    "genus_species = c.species.unique()\n",
    "places = c.place.unique()\n",
    "\n",
    "x = c[c[\"place\"].isin(places)].copy()"
   ]
  },
  {
   "cell_type": "code",
   "execution_count": 29,
   "id": "0dfcb748-60bb-446f-bf8a-0239c6cc4da1",
   "metadata": {},
   "outputs": [
    {
     "data": {
      "text/html": [
       "<div>\n",
       "<style scoped>\n",
       "    .dataframe tbody tr th:only-of-type {\n",
       "        vertical-align: middle;\n",
       "    }\n",
       "\n",
       "    .dataframe tbody tr th {\n",
       "        vertical-align: top;\n",
       "    }\n",
       "\n",
       "    .dataframe thead th {\n",
       "        text-align: right;\n",
       "    }\n",
       "</style>\n",
       "<table border=\"1\" class=\"dataframe\">\n",
       "  <thead>\n",
       "    <tr style=\"text-align: right;\">\n",
       "      <th></th>\n",
       "      <th>year</th>\n",
       "      <th>place</th>\n",
       "      <th>loc_date</th>\n",
       "    </tr>\n",
       "  </thead>\n",
       "  <tbody>\n",
       "    <tr>\n",
       "      <th>0</th>\n",
       "      <td>1</td>\n",
       "      <td>alleestrasse 1</td>\n",
       "      <td>2</td>\n",
       "    </tr>\n",
       "    <tr>\n",
       "      <th>1</th>\n",
       "      <td>1</td>\n",
       "      <td>alleestrasse 2</td>\n",
       "      <td>1</td>\n",
       "    </tr>\n",
       "    <tr>\n",
       "      <th>2</th>\n",
       "      <td>1</td>\n",
       "      <td>alleestrasse 3</td>\n",
       "      <td>2</td>\n",
       "    </tr>\n",
       "    <tr>\n",
       "      <th>3</th>\n",
       "      <td>1</td>\n",
       "      <td>alleestrasse 4</td>\n",
       "      <td>3</td>\n",
       "    </tr>\n",
       "    <tr>\n",
       "      <th>4</th>\n",
       "      <td>1</td>\n",
       "      <td>bluets 1</td>\n",
       "      <td>1</td>\n",
       "    </tr>\n",
       "  </tbody>\n",
       "</table>\n",
       "</div>"
      ],
      "text/plain": [
       "   year           place  loc_date\n",
       "0     1  alleestrasse 1         2\n",
       "1     1  alleestrasse 2         1\n",
       "2     1  alleestrasse 3         2\n",
       "3     1  alleestrasse 4         3\n",
       "4     1        bluets 1         1"
      ]
     },
     "execution_count": 29,
     "metadata": {},
     "output_type": "execute_result"
    }
   ],
   "source": [
    "# location report:\n",
    "\n",
    "# surveys per year per location:\n",
    "def nSamplesPerYearPlace(data):\n",
    "    return data.groupby(['year', 'place'], as_index=False).loc_date.nunique()\n",
    "\n",
    "def nSpeciesPerSample(data):\n",
    "    return data.groupby([\"loc_date\", \"date\", \"place\"], as_index=False).species.count()\n",
    "\n",
    "def aSpeciesPerSample(data, species=[]):\n",
    "    \"\"\"The per sample data for a species\n",
    "    \"\"\"\n",
    "    new_data = nSpeciesPerSample(data[data[\"species\"].isin(species)])\n",
    "    new_data.rename(columns={\"species\":species[0]}, inplace=True)\n",
    "    return new_data\n",
    "\n",
    "def speciesPlaceNsamps(data):\n",
    "    return data.groupby([\"species\", \"place\"], as_index=False).loc_date.nunique()\n",
    "\n",
    "def pivot_this(data, colnames, index, column, value):\n",
    "    return data[colnames].pivot(index=index, columns=column, values=value).fillna(0)\n",
    "\n",
    "def speciesPerLocation(data,colnames, index=\"species\",columns=\"place\",values=\"loc_date\"):\n",
    "    \"\"\"Uses speciesPlaceNsamps to return a matrix of species and locations with value of\n",
    "    number of times identified at that location\n",
    "    \"\"\"\n",
    "    return pivot_this(data, colnames, index, columns, values)\n",
    "\n",
    "def speciesPlace(species_data, soi):\n",
    "    \"\"\"Uses speciesPerlocation to report on one species\"\"\"\n",
    "    return species_data.loc[soi, (species_data.loc[soi] > 0)]\n",
    "\n",
    "# samples per year per location\n",
    "samps_year = nSamplesPerYearPlace(x)\n",
    "samps_year.head()"
   ]
  },
  {
   "cell_type": "code",
   "execution_count": 30,
   "id": "2a7fe629-0729-4390-89a9-3b496efb65f9",
   "metadata": {},
   "outputs": [
    {
     "data": {
      "text/plain": [
       "year\n",
       "1    143\n",
       "2    414\n",
       "Name: loc_date, dtype: int64"
      ]
     },
     "execution_count": 30,
     "metadata": {},
     "output_type": "execute_result"
    }
   ],
   "source": [
    "# samples per year\n",
    "samps_year.groupby(\"year\").loc_date.sum()"
   ]
  },
  {
   "cell_type": "code",
   "execution_count": 31,
   "id": "ad7ba217-58f0-45b3-9107-11ffa509cfeb",
   "metadata": {},
   "outputs": [
    {
     "data": {
      "text/html": [
       "<div>\n",
       "<style scoped>\n",
       "    .dataframe tbody tr th:only-of-type {\n",
       "        vertical-align: middle;\n",
       "    }\n",
       "\n",
       "    .dataframe tbody tr th {\n",
       "        vertical-align: top;\n",
       "    }\n",
       "\n",
       "    .dataframe thead th {\n",
       "        text-align: right;\n",
       "    }\n",
       "</style>\n",
       "<table border=\"1\" class=\"dataframe\">\n",
       "  <thead>\n",
       "    <tr style=\"text-align: right;\">\n",
       "      <th></th>\n",
       "      <th>loc_date</th>\n",
       "      <th>date</th>\n",
       "      <th>place</th>\n",
       "      <th>species</th>\n",
       "    </tr>\n",
       "  </thead>\n",
       "  <tbody>\n",
       "    <tr>\n",
       "      <th>0</th>\n",
       "      <td>(Alexander-Moser-Strasse, 2021-04-12)</td>\n",
       "      <td>2021-04-12</td>\n",
       "      <td>Alexander-Moser-Strasse</td>\n",
       "      <td>11</td>\n",
       "    </tr>\n",
       "    <tr>\n",
       "      <th>1</th>\n",
       "      <td>(Alexander-moser-strasser-berm-1, 2021-08-09)</td>\n",
       "      <td>2021-08-09</td>\n",
       "      <td>Alexander-moser-strasser-berm-1</td>\n",
       "      <td>8</td>\n",
       "    </tr>\n",
       "    <tr>\n",
       "      <th>2</th>\n",
       "      <td>(Alfermee-beach-1, 2021-08-20)</td>\n",
       "      <td>2021-08-20</td>\n",
       "      <td>Alfermee-beach-1</td>\n",
       "      <td>30</td>\n",
       "    </tr>\n",
       "    <tr>\n",
       "      <th>3</th>\n",
       "      <td>(Alfermee-forest-1, 2021-08-20)</td>\n",
       "      <td>2021-08-20</td>\n",
       "      <td>Alfermee-forest-1</td>\n",
       "      <td>21</td>\n",
       "    </tr>\n",
       "    <tr>\n",
       "      <th>4</th>\n",
       "      <td>(Alfred-aebi-strasse, 2021-03-28)</td>\n",
       "      <td>2021-03-28</td>\n",
       "      <td>Alfred-aebi-strasse</td>\n",
       "      <td>9</td>\n",
       "    </tr>\n",
       "  </tbody>\n",
       "</table>\n",
       "</div>"
      ],
      "text/plain": [
       "                                        loc_date       date  \\\n",
       "0          (Alexander-Moser-Strasse, 2021-04-12) 2021-04-12   \n",
       "1  (Alexander-moser-strasser-berm-1, 2021-08-09) 2021-08-09   \n",
       "2                 (Alfermee-beach-1, 2021-08-20) 2021-08-20   \n",
       "3                (Alfermee-forest-1, 2021-08-20) 2021-08-20   \n",
       "4              (Alfred-aebi-strasse, 2021-03-28) 2021-03-28   \n",
       "\n",
       "                             place  species  \n",
       "0          Alexander-Moser-Strasse       11  \n",
       "1  Alexander-moser-strasser-berm-1        8  \n",
       "2                 Alfermee-beach-1       30  \n",
       "3                Alfermee-forest-1       21  \n",
       "4              Alfred-aebi-strasse        9  "
      ]
     },
     "execution_count": 31,
     "metadata": {},
     "output_type": "execute_result"
    }
   ],
   "source": [
    "# n species per sample\n",
    "aplot = nSpeciesPerSample(x)\n",
    "aplot.head()"
   ]
  },
  {
   "cell_type": "code",
   "execution_count": 32,
   "id": "77377f4a-bd8e-4504-a11e-eea5dd712830",
   "metadata": {},
   "outputs": [
    {
     "data": {
      "image/png": "[encoded data removed]",
      "text/plain": [
       "<Figure size 432x288 with 1 Axes>"
      ]
     },
     "metadata": {
      "needs_background": "light"
     },
     "output_type": "display_data"
    }
   ],
   "source": [
    "fig, ax=plt.subplots()\n",
    "ax.scatter(x=pd.to_datetime(aplot[\"date\"]), y=aplot.species, edgecolor=\"white\")\n",
    "ax.set_title(\"number of species per survey\")\n",
    "ax.tick_params(rotation=45)\n",
    "plt.show()"
   ]
  },
  {
   "cell_type": "code",
   "execution_count": 33,
   "id": "9adfff6d-66b7-42f7-9a99-d9d0249b26b9",
   "metadata": {},
   "outputs": [
    {
     "name": "stdout",
     "output_type": "stream",
     "text": [
      "<class 'pandas.core.frame.DataFrame'>\n",
      "Index: 659 entries, abies-alba to viola-reichenbachiana\n",
      "Columns: 375 entries, Alexander-Moser-Strasse to zukunftstrasse\n",
      "dtypes: float64(375)\n",
      "memory usage: 1.9+ MB\n"
     ]
    }
   ],
   "source": [
    "colnames = [\"species\", \"place\", \"loc_date\"]\n",
    "species_data = speciesPerLocation(speciesPlaceNsamps(x),colnames)\n",
    "species_data.info()"
   ]
  },
  {
   "cell_type": "code",
   "execution_count": 34,
   "id": "3c3de67c-c102-4573-bbb4-d8349b960521",
   "metadata": {},
   "outputs": [
    {
     "data": {
      "text/html": [
       "<div>\n",
       "<style scoped>\n",
       "    .dataframe tbody tr th:only-of-type {\n",
       "        vertical-align: middle;\n",
       "    }\n",
       "\n",
       "    .dataframe tbody tr th {\n",
       "        vertical-align: top;\n",
       "    }\n",
       "\n",
       "    .dataframe thead th {\n",
       "        text-align: right;\n",
       "    }\n",
       "</style>\n",
       "<table border=\"1\" class=\"dataframe\">\n",
       "  <thead>\n",
       "    <tr style=\"text-align: right;\">\n",
       "      <th>place</th>\n",
       "      <th>Alexander-Moser-Strasse</th>\n",
       "      <th>Alexander-moser-strasser-berm-1</th>\n",
       "      <th>Alfermee-beach-1</th>\n",
       "      <th>Alfermee-forest-1</th>\n",
       "      <th>Alfred-aebi-strasse</th>\n",
       "      <th>Alfred-aebi-strasse-area-1</th>\n",
       "      <th>Alfred-aebi-strasse-area-10</th>\n",
       "      <th>Alfred-aebi-strasse-area-2</th>\n",
       "      <th>Alfred-aebi-strasse-area-3</th>\n",
       "      <th>Alleestrasse</th>\n",
       "    </tr>\n",
       "    <tr>\n",
       "      <th>species</th>\n",
       "      <th></th>\n",
       "      <th></th>\n",
       "      <th></th>\n",
       "      <th></th>\n",
       "      <th></th>\n",
       "      <th></th>\n",
       "      <th></th>\n",
       "      <th></th>\n",
       "      <th></th>\n",
       "      <th></th>\n",
       "    </tr>\n",
       "  </thead>\n",
       "  <tbody>\n",
       "    <tr>\n",
       "      <th>abies-alba</th>\n",
       "      <td>0.0</td>\n",
       "      <td>0.0</td>\n",
       "      <td>0.0</td>\n",
       "      <td>0.0</td>\n",
       "      <td>0.0</td>\n",
       "      <td>0.0</td>\n",
       "      <td>0.0</td>\n",
       "      <td>0.0</td>\n",
       "      <td>0.0</td>\n",
       "      <td>0.0</td>\n",
       "    </tr>\n",
       "    <tr>\n",
       "      <th>acer</th>\n",
       "      <td>0.0</td>\n",
       "      <td>0.0</td>\n",
       "      <td>0.0</td>\n",
       "      <td>0.0</td>\n",
       "      <td>0.0</td>\n",
       "      <td>0.0</td>\n",
       "      <td>1.0</td>\n",
       "      <td>0.0</td>\n",
       "      <td>1.0</td>\n",
       "      <td>0.0</td>\n",
       "    </tr>\n",
       "    <tr>\n",
       "      <th>acer-campestre</th>\n",
       "      <td>0.0</td>\n",
       "      <td>0.0</td>\n",
       "      <td>1.0</td>\n",
       "      <td>0.0</td>\n",
       "      <td>1.0</td>\n",
       "      <td>0.0</td>\n",
       "      <td>0.0</td>\n",
       "      <td>0.0</td>\n",
       "      <td>0.0</td>\n",
       "      <td>0.0</td>\n",
       "    </tr>\n",
       "    <tr>\n",
       "      <th>acer-negundo</th>\n",
       "      <td>0.0</td>\n",
       "      <td>0.0</td>\n",
       "      <td>0.0</td>\n",
       "      <td>0.0</td>\n",
       "      <td>0.0</td>\n",
       "      <td>0.0</td>\n",
       "      <td>0.0</td>\n",
       "      <td>0.0</td>\n",
       "      <td>0.0</td>\n",
       "      <td>0.0</td>\n",
       "    </tr>\n",
       "    <tr>\n",
       "      <th>acer-platanoides</th>\n",
       "      <td>0.0</td>\n",
       "      <td>0.0</td>\n",
       "      <td>0.0</td>\n",
       "      <td>0.0</td>\n",
       "      <td>0.0</td>\n",
       "      <td>0.0</td>\n",
       "      <td>0.0</td>\n",
       "      <td>0.0</td>\n",
       "      <td>0.0</td>\n",
       "      <td>0.0</td>\n",
       "    </tr>\n",
       "  </tbody>\n",
       "</table>\n",
       "</div>"
      ],
      "text/plain": [
       "place             Alexander-Moser-Strasse  Alexander-moser-strasser-berm-1  \\\n",
       "species                                                                      \n",
       "abies-alba                            0.0                              0.0   \n",
       "acer                                  0.0                              0.0   \n",
       "acer-campestre                        0.0                              0.0   \n",
       "acer-negundo                          0.0                              0.0   \n",
       "acer-platanoides                      0.0                              0.0   \n",
       "\n",
       "place             Alfermee-beach-1  Alfermee-forest-1  Alfred-aebi-strasse  \\\n",
       "species                                                                      \n",
       "abies-alba                     0.0                0.0                  0.0   \n",
       "acer                           0.0                0.0                  0.0   \n",
       "acer-campestre                 1.0                0.0                  1.0   \n",
       "acer-negundo                   0.0                0.0                  0.0   \n",
       "acer-platanoides               0.0                0.0                  0.0   \n",
       "\n",
       "place             Alfred-aebi-strasse-area-1  Alfred-aebi-strasse-area-10  \\\n",
       "species                                                                     \n",
       "abies-alba                               0.0                          0.0   \n",
       "acer                                     0.0                          1.0   \n",
       "acer-campestre                           0.0                          0.0   \n",
       "acer-negundo                             0.0                          0.0   \n",
       "acer-platanoides                         0.0                          0.0   \n",
       "\n",
       "place             Alfred-aebi-strasse-area-2  Alfred-aebi-strasse-area-3  \\\n",
       "species                                                                    \n",
       "abies-alba                               0.0                         0.0   \n",
       "acer                                     0.0                         1.0   \n",
       "acer-campestre                           0.0                         0.0   \n",
       "acer-negundo                             0.0                         0.0   \n",
       "acer-platanoides                         0.0                         0.0   \n",
       "\n",
       "place             Alleestrasse  \n",
       "species                         \n",
       "abies-alba                 0.0  \n",
       "acer                       0.0  \n",
       "acer-campestre             0.0  \n",
       "acer-negundo               0.0  \n",
       "acer-platanoides           0.0  "
      ]
     },
     "execution_count": 34,
     "metadata": {},
     "output_type": "execute_result"
    }
   ],
   "source": [
    "# of times seen per location\n",
    "species_data[species_data.columns[:10]].head()"
   ]
  },
  {
   "cell_type": "code",
   "execution_count": 35,
   "id": "eef64674-8561-4c2b-a8d5-c1d93dbd1cc1",
   "metadata": {},
   "outputs": [
    {
     "data": {
      "text/plain": [
       "place\n",
       "Alfred-aebi-strasse-area-10    1.0\n",
       "Alfred-aebi-strasse-area-3     1.0\n",
       "Alleestrasse-lot-1             1.0\n",
       "Freiburgstrasse-berm-1         1.0\n",
       "Freiburgstrasse-berm-2         1.0\n",
       "Gartenstrasse-area-1           1.0\n",
       "Mettstrasse-area-1             1.0\n",
       "Mettstrasse-area-2             1.0\n",
       "Muehlestrasse-suze-1           1.0\n",
       "Sbb-area-2                     1.0\n",
       "Sbb-area-3                     1.0\n",
       "Schwanengasse-area-1           1.0\n",
       "Seefelsweg-berm-1              1.0\n",
       "ignore                         2.0\n",
       "mettstrasse                    1.0\n",
       "schloesslifeld                 1.0\n",
       "Name: acer, dtype: float64"
      ]
     },
     "execution_count": 35,
     "metadata": {},
     "output_type": "execute_result"
    }
   ],
   "source": [
    "# locations and number of times where a species was spotted\n",
    "soi = \"acer\"\n",
    "a_species_data = speciesPlace(species_data, soi)\n",
    "a_species_data"
   ]
  },
  {
   "cell_type": "code",
   "execution_count": 36,
   "id": "dbd18729-05a9-4ffa-b4f0-63aae5ab8b8b",
   "metadata": {},
   "outputs": [
    {
     "data": {
      "text/plain": [
       "species\n",
       "abies-alba           1.0\n",
       "acer                17.0\n",
       "acer-campestre       7.0\n",
       "acer-negundo         1.0\n",
       "acer-platanoides     1.0\n",
       "dtype: float64"
      ]
     },
     "execution_count": 36,
     "metadata": {},
     "output_type": "execute_result"
    }
   ],
   "source": [
    "# of times seen in total\n",
    "species_data.sum(axis=1).head()"
   ]
  },
  {
   "cell_type": "code",
   "execution_count": 37,
   "id": "b122a3de-892b-4206-9c51-58fcfcf2a339",
   "metadata": {},
   "outputs": [
    {
     "data": {
      "text/plain": [
       "species\n",
       "abies-alba                   0.001795\n",
       "acer                         0.030521\n",
       "acer-campestre               0.012567\n",
       "acer-negundo                 0.001795\n",
       "acer-platanoides             0.001795\n",
       "                               ...   \n",
       "vincetoxicum-hirundinaria    0.001795\n",
       "viola-alba                   0.005386\n",
       "viola-hirta                  0.007181\n",
       "viola-odorata                0.046679\n",
       "viola-reichenbachiana        0.016158\n",
       "Length: 659, dtype: float64"
      ]
     },
     "execution_count": 37,
     "metadata": {},
     "output_type": "execute_result"
    }
   ],
   "source": [
    "# of times it was seen relation to number of surveys\n",
    "dtotals = total_sls(x)\n",
    "species_data.sum(axis=1)/dtotals[\"surveys\"]                    "
   ]
  },
  {
   "cell_type": "code",
   "execution_count": 38,
   "id": "cf9acda7-6361-4573-9977-5d3ebb4f738f",
   "metadata": {},
   "outputs": [],
   "source": [
    "# the persample data for a species\n",
    "a_species_data = aSpeciesPerSample(x, species=[\"veronica-hederifolia\"])"
   ]
  },
  {
   "cell_type": "code",
   "execution_count": 39,
   "id": "df3bc643-da37-4fc2-b398-2535d852e99f",
   "metadata": {},
   "outputs": [
    {
     "data": {
      "image/png": "[encoded data removed]",
      "text/plain": [
       "<Figure size 432x288 with 1 Axes>"
      ]
     },
     "metadata": {
      "needs_background": "light"
     },
     "output_type": "display_data"
    }
   ],
   "source": [
    "fig, ax=plt.subplots()\n",
    "ax.scatter(x=pd.to_datetime(a_species_data[\"date\"]), y=a_species_data[\"veronica-hederifolia\"], edgecolor=\"white\")\n",
    "ax.set_title(\"veronica-hederifolia per survey\")\n",
    "ax.tick_params(rotation=45)\n",
    "plt.show()"
   ]
  },
  {
   "cell_type": "code",
   "execution_count": 40,
   "id": "8dc97043-f891-4d4b-960a-e9faeaad0de9",
   "metadata": {},
   "outputs": [
    {
     "data": {
      "text/html": [
       "<div>\n",
       "<style scoped>\n",
       "    .dataframe tbody tr th:only-of-type {\n",
       "        vertical-align: middle;\n",
       "    }\n",
       "\n",
       "    .dataframe tbody tr th {\n",
       "        vertical-align: top;\n",
       "    }\n",
       "\n",
       "    .dataframe thead th {\n",
       "        text-align: right;\n",
       "    }\n",
       "</style>\n",
       "<table border=\"1\" class=\"dataframe\">\n",
       "  <thead>\n",
       "    <tr style=\"text-align: right;\">\n",
       "      <th></th>\n",
       "      <th>loc_date</th>\n",
       "      <th>date</th>\n",
       "      <th>place</th>\n",
       "      <th>veronica-hederifolia</th>\n",
       "    </tr>\n",
       "  </thead>\n",
       "  <tbody>\n",
       "    <tr>\n",
       "      <th>0</th>\n",
       "      <td>(Alfred-aebi-strasse, 2021-03-28)</td>\n",
       "      <td>2021-03-28</td>\n",
       "      <td>Alfred-aebi-strasse</td>\n",
       "      <td>1</td>\n",
       "    </tr>\n",
       "    <tr>\n",
       "      <th>1</th>\n",
       "      <td>(Alfred-aebi-strasse, 2021-04-04)</td>\n",
       "      <td>2021-04-04</td>\n",
       "      <td>Alfred-aebi-strasse</td>\n",
       "      <td>2</td>\n",
       "    </tr>\n",
       "    <tr>\n",
       "      <th>2</th>\n",
       "      <td>(Alleestrasse, 2021-04-04)</td>\n",
       "      <td>2021-04-04</td>\n",
       "      <td>Alleestrasse</td>\n",
       "      <td>2</td>\n",
       "    </tr>\n",
       "    <tr>\n",
       "      <th>3</th>\n",
       "      <td>(Alleestrasse, 2021-04-10)</td>\n",
       "      <td>2021-04-10</td>\n",
       "      <td>Alleestrasse</td>\n",
       "      <td>2</td>\n",
       "    </tr>\n",
       "    <tr>\n",
       "      <th>4</th>\n",
       "      <td>(Alleestrasse, 2021-05-07)</td>\n",
       "      <td>2021-05-07</td>\n",
       "      <td>Alleestrasse</td>\n",
       "      <td>1</td>\n",
       "    </tr>\n",
       "  </tbody>\n",
       "</table>\n",
       "</div>"
      ],
      "text/plain": [
       "                            loc_date       date                place  \\\n",
       "0  (Alfred-aebi-strasse, 2021-03-28) 2021-03-28  Alfred-aebi-strasse   \n",
       "1  (Alfred-aebi-strasse, 2021-04-04) 2021-04-04  Alfred-aebi-strasse   \n",
       "2         (Alleestrasse, 2021-04-04) 2021-04-04         Alleestrasse   \n",
       "3         (Alleestrasse, 2021-04-10) 2021-04-10         Alleestrasse   \n",
       "4         (Alleestrasse, 2021-05-07) 2021-05-07         Alleestrasse   \n",
       "\n",
       "   veronica-hederifolia  \n",
       "0                     1  \n",
       "1                     2  \n",
       "2                     2  \n",
       "3                     2  \n",
       "4                     1  "
      ]
     },
     "execution_count": 40,
     "metadata": {},
     "output_type": "execute_result"
    }
   ],
   "source": [
    "a_species_data.head()"
   ]
  },
  {
   "cell_type": "markdown",
   "id": "juvenile-locator",
   "metadata": {},
   "source": [
    "## Determine wether or not a species was detected within a geographic limit\n",
    "\n",
    "The territory is divided into different segments. Flora-helvitica and WS maps have different geographic bounds. Here the presence or not of a species within the confines of one of the different boundaries is determined."
   ]
  },
  {
   "cell_type": "markdown",
   "id": "superb-resistance",
   "metadata": {},
   "source": [
    "### Key the species to the different maps it was identified in\n"
   ]
  },
  {
   "cell_type": "markdown",
   "id": "lovely-percentage",
   "metadata": {},
   "source": [
    "## Format date column to ISO standard"
   ]
  },
  {
   "cell_type": "code",
   "execution_count": null,
   "id": "1d5a1226-19dd-4d69-8249-eb821d83ca3b",
   "metadata": {},
   "outputs": [],
   "source": []
  }
 ],
 "metadata": {
  "kernelspec": {
   "display_name": "Python 3 (ipykernel)",
   "language": "python",
   "name": "python3"
  },
  "language_info": {
   "codemirror_mode": {
    "name": "ipython",
    "version": 3
   },
   "file_extension": ".py",
   "mimetype": "text/x-python",
   "name": "python",
   "nbconvert_exporter": "python",
   "pygments_lexer": "ipython3",
   "version": "3.7.6"
  }
 },
 "nbformat": 4,
 "nbformat_minor": 5
}
