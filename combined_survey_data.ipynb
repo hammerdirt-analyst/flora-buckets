{
 "cells": [
  {
   "cell_type": "markdown",
   "id": "common-spanish",
   "metadata": {},
   "source": [
    "# Preprocessing"
   ]
  },
  {
   "cell_type": "code",
   "execution_count": 5,
   "id": "stunning-sperm",
   "metadata": {},
   "outputs": [],
   "source": [
    "# math and data packages\n",
    "import pandas as pd\n",
    "import numpy as np\n",
    "import math\n",
    "\n",
    "# charting and graphics\n",
    "import matplotlib as mpl\n",
    "import matplotlib.pyplot as plt\n",
    "import seaborn as sns\n",
    "\n",
    "# os and file types\n",
    "import os\n",
    "import sys\n",
    "import datetime as dt\n",
    "import json\n",
    "import csv\n",
    "\n",
    "# images and display\n",
    "import base64, io, IPython\n",
    "from PIL import Image as PILImage\n",
    "from IPython.display import Markdown as md\n",
    "from IPython.display import display, Math, Latex"
   ]
  },
  {
   "cell_type": "markdown",
   "id": "drawn-individual",
   "metadata": {},
   "source": [
    "## Import data\n",
    "\n",
    "Fix any known formatting problems here"
   ]
  },
  {
   "cell_type": "code",
   "execution_count": 6,
   "id": "94ddcdff-733e-4a53-a662-602c6642e5e7",
   "metadata": {},
   "outputs": [
    {
     "name": "stdout",
     "output_type": "stream",
     "text": [
      "<class 'pandas.core.frame.DataFrame'>\n",
      "RangeIndex: 935 entries, 0 to 934\n",
      "Data columns (total 5 columns):\n",
      " #   Column  Non-Null Count  Dtype \n",
      "---  ------  --------------  ----- \n",
      " 0   place   935 non-null    object\n",
      " 1   date    935 non-null    object\n",
      " 2   time    756 non-null    object\n",
      " 3   sci     935 non-null    object\n",
      " 4   name    671 non-null    object\n",
      "dtypes: object(5)\n",
      "memory usage: 36.6+ KB\n"
     ]
    }
   ],
   "source": [
    "# make slugs for species and places\n",
    "\n",
    "# function to make the species slugs\n",
    "def to_slug(x):\n",
    "    try: \n",
    "        int_data = x.strip().split()\n",
    "        data = int_data[:2]\n",
    "        data = \"-\".join(data)\n",
    "        data = data.lower()\n",
    "    except:\n",
    "        data = \"none\"\n",
    "    return data\n",
    "\n",
    "survey_data = pd.read_csv(\"resources/surveys.csv\")\n",
    "a, b = pd.read_csv(\"resources/data-2021-1.csv\"), pd.read_csv(\"resources/data-2021-2.csv\", encoding = \"UTF-16\")\n",
    "survey_data.info()"
   ]
  },
  {
   "cell_type": "code",
   "execution_count": 7,
   "id": "fa6978f5-efda-43a9-aa51-527a352442fa",
   "metadata": {},
   "outputs": [
    {
     "data": {
      "text/plain": [
       "0    03.04.21\n",
       "1    03.04.21\n",
       "2    03.04.21\n",
       "3    03.04.21\n",
       "4    03.04.21\n",
       "Name: date, dtype: object"
      ]
     },
     "execution_count": 7,
     "metadata": {},
     "output_type": "execute_result"
    }
   ],
   "source": [
    "a[\"date\"].head()"
   ]
  },
  {
   "cell_type": "code",
   "execution_count": 8,
   "id": "cd837961-f696-4eae-ae3b-5a00aa310cba",
   "metadata": {},
   "outputs": [],
   "source": [
    "# standardize the date column in the 2021 data"
   ]
  },
  {
   "cell_type": "code",
   "execution_count": 9,
   "id": "d7570173-1bd3-4a7b-b048-75c89b30aaea",
   "metadata": {},
   "outputs": [
    {
     "data": {
      "text/plain": [
       "0    2021-06-27\n",
       "1    2021-06-27\n",
       "2    2021-06-27\n",
       "3    2021-06-27\n",
       "4    2021-06-27\n",
       "Name: date, dtype: object"
      ]
     },
     "execution_count": 9,
     "metadata": {},
     "output_type": "execute_result"
    }
   ],
   "source": [
    "a[\"adate\"] = a[\"date\"].astype(str)\n",
    "a[\"date\"] = a[\"adate\"].map(lambda x: f\"20{x[-2:]}-{x[3:5]}-{x[:2]}\")\n",
    "a = a[~(a['date'] == \"20an--na\")]\n",
    "\n",
    "b[\"adate\"] = b[\"date\"].map(lambda x: x[:8])\n",
    "b[\"date\"] =  b[\"adate\"].map(lambda x: f\"20{x[-2:]}-{x[0:2]}-{x[3:5]}\")\n",
    "b[\"date\"].head()"
   ]
  },
  {
   "cell_type": "code",
   "execution_count": 10,
   "id": "ed584ff8-1435-42ce-9483-3436102e9ad4",
   "metadata": {},
   "outputs": [
    {
     "data": {
      "text/html": [
       "<div>\n",
       "<style scoped>\n",
       "    .dataframe tbody tr th:only-of-type {\n",
       "        vertical-align: middle;\n",
       "    }\n",
       "\n",
       "    .dataframe tbody tr th {\n",
       "        vertical-align: top;\n",
       "    }\n",
       "\n",
       "    .dataframe thead th {\n",
       "        text-align: right;\n",
       "    }\n",
       "</style>\n",
       "<table border=\"1\" class=\"dataframe\">\n",
       "  <thead>\n",
       "    <tr style=\"text-align: right;\">\n",
       "      <th></th>\n",
       "      <th>date</th>\n",
       "      <th>place</th>\n",
       "      <th>feature</th>\n",
       "      <th>number</th>\n",
       "      <th>species</th>\n",
       "      <th>quantity</th>\n",
       "      <th>confidence</th>\n",
       "      <th>no_flowers</th>\n",
       "      <th>notes</th>\n",
       "      <th>Full-place-name</th>\n",
       "      <th>adate</th>\n",
       "    </tr>\n",
       "  </thead>\n",
       "  <tbody>\n",
       "    <tr>\n",
       "      <th>0</th>\n",
       "      <td>2021-04-03</td>\n",
       "      <td>zukunftstrasse</td>\n",
       "      <td>box</td>\n",
       "      <td>1</td>\n",
       "      <td>Viburnum farreri</td>\n",
       "      <td>2</td>\n",
       "      <td>2.0</td>\n",
       "      <td>NaN</td>\n",
       "      <td>NaN</td>\n",
       "      <td>zukunftstrasse-box-1</td>\n",
       "      <td>03.04.21</td>\n",
       "    </tr>\n",
       "    <tr>\n",
       "      <th>1</th>\n",
       "      <td>2021-04-03</td>\n",
       "      <td>zukunftstrasse</td>\n",
       "      <td>box</td>\n",
       "      <td>1</td>\n",
       "      <td>Quercus suber</td>\n",
       "      <td>1</td>\n",
       "      <td>1.0</td>\n",
       "      <td>NaN</td>\n",
       "      <td>NaN</td>\n",
       "      <td>zukunftstrasse-box-1</td>\n",
       "      <td>03.04.21</td>\n",
       "    </tr>\n",
       "    <tr>\n",
       "      <th>2</th>\n",
       "      <td>2021-04-03</td>\n",
       "      <td>zukunftstrasse</td>\n",
       "      <td>box</td>\n",
       "      <td>1</td>\n",
       "      <td>Prunus avium</td>\n",
       "      <td>1</td>\n",
       "      <td>0.0</td>\n",
       "      <td>NaN</td>\n",
       "      <td>NaN</td>\n",
       "      <td>zukunftstrasse-box-1</td>\n",
       "      <td>03.04.21</td>\n",
       "    </tr>\n",
       "    <tr>\n",
       "      <th>3</th>\n",
       "      <td>2021-04-03</td>\n",
       "      <td>zukunftstrasse</td>\n",
       "      <td>box</td>\n",
       "      <td>2</td>\n",
       "      <td>Viburnum farreri</td>\n",
       "      <td>2</td>\n",
       "      <td>2.0</td>\n",
       "      <td>NaN</td>\n",
       "      <td>NaN</td>\n",
       "      <td>zukunftstrasse-box-2</td>\n",
       "      <td>03.04.21</td>\n",
       "    </tr>\n",
       "    <tr>\n",
       "      <th>4</th>\n",
       "      <td>2021-04-03</td>\n",
       "      <td>zukunftstrasse</td>\n",
       "      <td>box</td>\n",
       "      <td>2</td>\n",
       "      <td>Quercus suber</td>\n",
       "      <td>1</td>\n",
       "      <td>1.0</td>\n",
       "      <td>NaN</td>\n",
       "      <td>NaN</td>\n",
       "      <td>zukunftstrasse-box-2</td>\n",
       "      <td>03.04.21</td>\n",
       "    </tr>\n",
       "  </tbody>\n",
       "</table>\n",
       "</div>"
      ],
      "text/plain": [
       "         date           place feature  number           species quantity  \\\n",
       "0  2021-04-03  zukunftstrasse     box       1  Viburnum farreri        2   \n",
       "1  2021-04-03  zukunftstrasse     box       1     Quercus suber        1   \n",
       "2  2021-04-03  zukunftstrasse     box       1      Prunus avium        1   \n",
       "3  2021-04-03  zukunftstrasse     box       2  Viburnum farreri        2   \n",
       "4  2021-04-03  zukunftstrasse     box       2     Quercus suber        1   \n",
       "\n",
       "   confidence no_flowers notes       Full-place-name     adate  \n",
       "0         2.0        NaN   NaN  zukunftstrasse-box-1  03.04.21  \n",
       "1         1.0        NaN   NaN  zukunftstrasse-box-1  03.04.21  \n",
       "2         0.0        NaN   NaN  zukunftstrasse-box-1  03.04.21  \n",
       "3         2.0        NaN   NaN  zukunftstrasse-box-2  03.04.21  \n",
       "4         1.0        NaN   NaN  zukunftstrasse-box-2  03.04.21  "
      ]
     },
     "execution_count": 10,
     "metadata": {},
     "output_type": "execute_result"
    }
   ],
   "source": [
    "a.head()"
   ]
  },
  {
   "cell_type": "code",
   "execution_count": 11,
   "id": "15a9c56c-d9af-4197-9777-a1b28cf25fd9",
   "metadata": {},
   "outputs": [],
   "source": [
    "#combine the three place name columns in the first 2021 dataset into one column, rename to match\n",
    "#convention in other data sets\n",
    "a[\"locname\"] = a[\"place\"]\n",
    "a['place']=a.apply(lambda x:'%s-%s-%s' % (x['locname'],x['feature'], x[\"number\"]),axis=1)"
   ]
  },
  {
   "cell_type": "code",
   "execution_count": 16,
   "id": "ff120bfe-6673-4ee7-86f1-e360f6dd1f95",
   "metadata": {},
   "outputs": [
    {
     "data": {
      "text/plain": [
       "'2021-03-23'"
      ]
     },
     "execution_count": 16,
     "metadata": {},
     "output_type": "execute_result"
    }
   ],
   "source": [
    "b[\"date\"].min()"
   ]
  },
  {
   "cell_type": "code",
   "execution_count": 17,
   "id": "bec3bd79-f599-4bcf-ac8a-9c065cbe75ee",
   "metadata": {},
   "outputs": [
    {
     "data": {
      "text/plain": [
       "'2021-02-01'"
      ]
     },
     "execution_count": 17,
     "metadata": {},
     "output_type": "execute_result"
    }
   ],
   "source": [
    "a[\"date\"].min()"
   ]
  },
  {
   "cell_type": "code",
   "execution_count": 18,
   "id": "69077fe2-c2a6-483c-953f-eb922794bb81",
   "metadata": {},
   "outputs": [],
   "source": [
    "#create a \"species\" column for all three data sets.\n",
    "survey_data.rename(columns={\"sci\":\"species\"}, inplace=True)\n",
    "survey_data['loc_date'] = list(zip(survey_data.place, survey_data['date']))\n",
    "b[\"species\"] = b[\"taxon.taxon_name\"]"
   ]
  },
  {
   "cell_type": "code",
   "execution_count": 19,
   "id": "5d778aab-a2ef-49b8-bdb0-ff824f14de4d",
   "metadata": {},
   "outputs": [
    {
     "data": {
      "text/html": [
       "<div>\n",
       "<style scoped>\n",
       "    .dataframe tbody tr th:only-of-type {\n",
       "        vertical-align: middle;\n",
       "    }\n",
       "\n",
       "    .dataframe tbody tr th {\n",
       "        vertical-align: top;\n",
       "    }\n",
       "\n",
       "    .dataframe thead th {\n",
       "        text-align: right;\n",
       "    }\n",
       "</style>\n",
       "<table border=\"1\" class=\"dataframe\">\n",
       "  <thead>\n",
       "    <tr style=\"text-align: right;\">\n",
       "      <th></th>\n",
       "      <th>obs_id</th>\n",
       "      <th>date</th>\n",
       "      <th>taxon.taxon_name</th>\n",
       "      <th>place</th>\n",
       "      <th>taxon.no_isfs</th>\n",
       "      <th>taxon_orig</th>\n",
       "      <th>taxon_expert</th>\n",
       "      <th>determinavit_cf</th>\n",
       "      <th>determinavit</th>\n",
       "      <th>introduced</th>\n",
       "      <th>...</th>\n",
       "      <th>supplements.depth_min</th>\n",
       "      <th>supplements.depth_max</th>\n",
       "      <th>supplements.sexe</th>\n",
       "      <th>supplements.releve_stratum</th>\n",
       "      <th>supplements.cover_abs</th>\n",
       "      <th>supplements.cat_aggregation</th>\n",
       "      <th>supplements.substrate</th>\n",
       "      <th>last_modified_when</th>\n",
       "      <th>adate</th>\n",
       "      <th>species</th>\n",
       "    </tr>\n",
       "  </thead>\n",
       "  <tbody>\n",
       "    <tr>\n",
       "      <th>0</th>\n",
       "      <td>10902042.0</td>\n",
       "      <td>2021-06-27</td>\n",
       "      <td>Lapsana communis L.</td>\n",
       "      <td>Schneidergaessli-area-1</td>\n",
       "      <td>226900.0</td>\n",
       "      <td>Lapsana communis</td>\n",
       "      <td>O</td>\n",
       "      <td>-</td>\n",
       "      <td>NaN</td>\n",
       "      <td>X</td>\n",
       "      <td>...</td>\n",
       "      <td>NaN</td>\n",
       "      <td>NaN</td>\n",
       "      <td>NaN</td>\n",
       "      <td>NaN</td>\n",
       "      <td>NaN</td>\n",
       "      <td>NaN</td>\n",
       "      <td>NaN</td>\n",
       "      <td>09/12/21 05:09 PM</td>\n",
       "      <td>06/27/21</td>\n",
       "      <td>Lapsana communis L.</td>\n",
       "    </tr>\n",
       "    <tr>\n",
       "      <th>1</th>\n",
       "      <td>10902041.0</td>\n",
       "      <td>2021-06-27</td>\n",
       "      <td>Medicago sativa L.</td>\n",
       "      <td>Schneidergaessli-area-1</td>\n",
       "      <td>256000.0</td>\n",
       "      <td>Medicago sativa</td>\n",
       "      <td>O</td>\n",
       "      <td>-</td>\n",
       "      <td>NaN</td>\n",
       "      <td>X</td>\n",
       "      <td>...</td>\n",
       "      <td>NaN</td>\n",
       "      <td>NaN</td>\n",
       "      <td>NaN</td>\n",
       "      <td>NaN</td>\n",
       "      <td>NaN</td>\n",
       "      <td>NaN</td>\n",
       "      <td>NaN</td>\n",
       "      <td>09/12/21 05:09 PM</td>\n",
       "      <td>06/27/21</td>\n",
       "      <td>Medicago sativa L.</td>\n",
       "    </tr>\n",
       "    <tr>\n",
       "      <th>2</th>\n",
       "      <td>10902040.0</td>\n",
       "      <td>2021-06-27</td>\n",
       "      <td>Geranium pyrenaicum Burm. f.</td>\n",
       "      <td>Schneidergaessli-area-1</td>\n",
       "      <td>188600.0</td>\n",
       "      <td>Geranium pyrenaicum</td>\n",
       "      <td>O</td>\n",
       "      <td>-</td>\n",
       "      <td>NaN</td>\n",
       "      <td>X</td>\n",
       "      <td>...</td>\n",
       "      <td>NaN</td>\n",
       "      <td>NaN</td>\n",
       "      <td>NaN</td>\n",
       "      <td>NaN</td>\n",
       "      <td>NaN</td>\n",
       "      <td>NaN</td>\n",
       "      <td>NaN</td>\n",
       "      <td>09/12/21 05:09 PM</td>\n",
       "      <td>06/27/21</td>\n",
       "      <td>Geranium pyrenaicum Burm. f.</td>\n",
       "    </tr>\n",
       "    <tr>\n",
       "      <th>3</th>\n",
       "      <td>10902039.0</td>\n",
       "      <td>2021-06-27</td>\n",
       "      <td>Trifolium repens L.</td>\n",
       "      <td>Schneidergaessli-area-1</td>\n",
       "      <td>427100.0</td>\n",
       "      <td>Trifolium repens</td>\n",
       "      <td>O</td>\n",
       "      <td>-</td>\n",
       "      <td>NaN</td>\n",
       "      <td>X</td>\n",
       "      <td>...</td>\n",
       "      <td>NaN</td>\n",
       "      <td>NaN</td>\n",
       "      <td>NaN</td>\n",
       "      <td>NaN</td>\n",
       "      <td>NaN</td>\n",
       "      <td>NaN</td>\n",
       "      <td>NaN</td>\n",
       "      <td>09/12/21 05:09 PM</td>\n",
       "      <td>06/27/21</td>\n",
       "      <td>Trifolium repens L.</td>\n",
       "    </tr>\n",
       "    <tr>\n",
       "      <th>4</th>\n",
       "      <td>10902038.0</td>\n",
       "      <td>2021-06-27</td>\n",
       "      <td>Lotus corniculatus aggr.</td>\n",
       "      <td>Schneidergaessli-area-1</td>\n",
       "      <td>244410.0</td>\n",
       "      <td>Lotus corniculatus aggr.</td>\n",
       "      <td>O</td>\n",
       "      <td>-</td>\n",
       "      <td>NaN</td>\n",
       "      <td>X</td>\n",
       "      <td>...</td>\n",
       "      <td>NaN</td>\n",
       "      <td>NaN</td>\n",
       "      <td>NaN</td>\n",
       "      <td>NaN</td>\n",
       "      <td>NaN</td>\n",
       "      <td>NaN</td>\n",
       "      <td>NaN</td>\n",
       "      <td>09/12/21 05:09 PM</td>\n",
       "      <td>06/27/21</td>\n",
       "      <td>Lotus corniculatus aggr.</td>\n",
       "    </tr>\n",
       "  </tbody>\n",
       "</table>\n",
       "<p>5 rows × 55 columns</p>\n",
       "</div>"
      ],
      "text/plain": [
       "       obs_id        date              taxon.taxon_name  \\\n",
       "0  10902042.0  2021-06-27           Lapsana communis L.   \n",
       "1  10902041.0  2021-06-27            Medicago sativa L.   \n",
       "2  10902040.0  2021-06-27  Geranium pyrenaicum Burm. f.   \n",
       "3  10902039.0  2021-06-27           Trifolium repens L.   \n",
       "4  10902038.0  2021-06-27      Lotus corniculatus aggr.   \n",
       "\n",
       "                     place  taxon.no_isfs                taxon_orig  \\\n",
       "0  Schneidergaessli-area-1       226900.0          Lapsana communis   \n",
       "1  Schneidergaessli-area-1       256000.0           Medicago sativa   \n",
       "2  Schneidergaessli-area-1       188600.0       Geranium pyrenaicum   \n",
       "3  Schneidergaessli-area-1       427100.0          Trifolium repens   \n",
       "4  Schneidergaessli-area-1       244410.0  Lotus corniculatus aggr.   \n",
       "\n",
       "  taxon_expert determinavit_cf  determinavit introduced  ...  \\\n",
       "0            O               -           NaN          X  ...   \n",
       "1            O               -           NaN          X  ...   \n",
       "2            O               -           NaN          X  ...   \n",
       "3            O               -           NaN          X  ...   \n",
       "4            O               -           NaN          X  ...   \n",
       "\n",
       "  supplements.depth_min  supplements.depth_max supplements.sexe  \\\n",
       "0                   NaN                    NaN              NaN   \n",
       "1                   NaN                    NaN              NaN   \n",
       "2                   NaN                    NaN              NaN   \n",
       "3                   NaN                    NaN              NaN   \n",
       "4                   NaN                    NaN              NaN   \n",
       "\n",
       "  supplements.releve_stratum supplements.cover_abs  \\\n",
       "0                        NaN                   NaN   \n",
       "1                        NaN                   NaN   \n",
       "2                        NaN                   NaN   \n",
       "3                        NaN                   NaN   \n",
       "4                        NaN                   NaN   \n",
       "\n",
       "   supplements.cat_aggregation  supplements.substrate  last_modified_when  \\\n",
       "0                          NaN                    NaN   09/12/21 05:09 PM   \n",
       "1                          NaN                    NaN   09/12/21 05:09 PM   \n",
       "2                          NaN                    NaN   09/12/21 05:09 PM   \n",
       "3                          NaN                    NaN   09/12/21 05:09 PM   \n",
       "4                          NaN                    NaN   09/12/21 05:09 PM   \n",
       "\n",
       "      adate                       species  \n",
       "0  06/27/21           Lapsana communis L.  \n",
       "1  06/27/21            Medicago sativa L.  \n",
       "2  06/27/21  Geranium pyrenaicum Burm. f.  \n",
       "3  06/27/21           Trifolium repens L.  \n",
       "4  06/27/21      Lotus corniculatus aggr.  \n",
       "\n",
       "[5 rows x 55 columns]"
      ]
     },
     "execution_count": 19,
     "metadata": {},
     "output_type": "execute_result"
    }
   ],
   "source": [
    "b.head()"
   ]
  },
  {
   "cell_type": "code",
   "execution_count": null,
   "id": "052ec47f-4b0c-434c-8e11-33d77d8b87ac",
   "metadata": {},
   "outputs": [],
   "source": []
  },
  {
   "cell_type": "code",
   "execution_count": 20,
   "id": "99d97921-2fbc-4a7e-84c6-ef58332975e1",
   "metadata": {},
   "outputs": [],
   "source": [
    "# set the year to 2 for 2021 observations, year to 1 for 2020 observations\n",
    "a[\"year\"]=2\n",
    "b[\"year\"] =2\n",
    "survey_data[\"year\"]=1"
   ]
  },
  {
   "cell_type": "code",
   "execution_count": 21,
   "id": "42a0a2e8-fdb7-4b2f-8dbe-9b2d40c40ed5",
   "metadata": {},
   "outputs": [],
   "source": [
    "bcolumns = [\"date\", \"place\", \"species\", \"year\"]"
   ]
  },
  {
   "cell_type": "code",
   "execution_count": 22,
   "id": "f00de637-5be7-4078-bc7d-7abbede86db6",
   "metadata": {},
   "outputs": [],
   "source": [
    "c = pd.concat([survey_data[bcolumns], a[bcolumns], b[bcolumns]])"
   ]
  },
  {
   "cell_type": "code",
   "execution_count": 23,
   "id": "8ffd5b16-876c-4b2f-b167-1a59cb9627bc",
   "metadata": {},
   "outputs": [
    {
     "data": {
      "text/html": [
       "<div>\n",
       "<style scoped>\n",
       "    .dataframe tbody tr th:only-of-type {\n",
       "        vertical-align: middle;\n",
       "    }\n",
       "\n",
       "    .dataframe tbody tr th {\n",
       "        vertical-align: top;\n",
       "    }\n",
       "\n",
       "    .dataframe thead th {\n",
       "        text-align: right;\n",
       "    }\n",
       "</style>\n",
       "<table border=\"1\" class=\"dataframe\">\n",
       "  <thead>\n",
       "    <tr style=\"text-align: right;\">\n",
       "      <th></th>\n",
       "      <th>date</th>\n",
       "      <th>place</th>\n",
       "      <th>species</th>\n",
       "      <th>year</th>\n",
       "    </tr>\n",
       "  </thead>\n",
       "  <tbody>\n",
       "    <tr>\n",
       "      <th>0</th>\n",
       "      <td>2020-09-02</td>\n",
       "      <td>alleestrasse 1</td>\n",
       "      <td>plantago lanceolata</td>\n",
       "      <td>1</td>\n",
       "    </tr>\n",
       "    <tr>\n",
       "      <th>1</th>\n",
       "      <td>2020-09-02</td>\n",
       "      <td>alleestrasse 1</td>\n",
       "      <td>centaurea nigra</td>\n",
       "      <td>1</td>\n",
       "    </tr>\n",
       "    <tr>\n",
       "      <th>2</th>\n",
       "      <td>2020-09-02</td>\n",
       "      <td>alleestrasse 1</td>\n",
       "      <td>plantago media</td>\n",
       "      <td>1</td>\n",
       "    </tr>\n",
       "    <tr>\n",
       "      <th>3</th>\n",
       "      <td>2020-09-02</td>\n",
       "      <td>alleestrasse 1</td>\n",
       "      <td>chenopodium album agg.</td>\n",
       "      <td>1</td>\n",
       "    </tr>\n",
       "    <tr>\n",
       "      <th>4</th>\n",
       "      <td>2020-09-02</td>\n",
       "      <td>alleestrasse 1</td>\n",
       "      <td>centaurea jacea agg.</td>\n",
       "      <td>1</td>\n",
       "    </tr>\n",
       "  </tbody>\n",
       "</table>\n",
       "</div>"
      ],
      "text/plain": [
       "         date           place                 species  year\n",
       "0  2020-09-02  alleestrasse 1     plantago lanceolata     1\n",
       "1  2020-09-02  alleestrasse 1         centaurea nigra     1\n",
       "2  2020-09-02  alleestrasse 1          plantago media     1\n",
       "3  2020-09-02  alleestrasse 1  chenopodium album agg.     1\n",
       "4  2020-09-02  alleestrasse 1    centaurea jacea agg.     1"
      ]
     },
     "execution_count": 23,
     "metadata": {},
     "output_type": "execute_result"
    }
   ],
   "source": [
    "c.head()"
   ]
  },
  {
   "cell_type": "code",
   "execution_count": 24,
   "id": "73d28f3a-73eb-4e06-add2-b62b85f0c01f",
   "metadata": {},
   "outputs": [
    {
     "data": {
      "text/html": [
       "<div>\n",
       "<style scoped>\n",
       "    .dataframe tbody tr th:only-of-type {\n",
       "        vertical-align: middle;\n",
       "    }\n",
       "\n",
       "    .dataframe tbody tr th {\n",
       "        vertical-align: top;\n",
       "    }\n",
       "\n",
       "    .dataframe thead th {\n",
       "        text-align: right;\n",
       "    }\n",
       "</style>\n",
       "<table border=\"1\" class=\"dataframe\">\n",
       "  <thead>\n",
       "    <tr style=\"text-align: right;\">\n",
       "      <th></th>\n",
       "      <th>date</th>\n",
       "      <th>place</th>\n",
       "      <th>species</th>\n",
       "      <th>year</th>\n",
       "      <th>loc_date</th>\n",
       "      <th>acopy</th>\n",
       "    </tr>\n",
       "  </thead>\n",
       "  <tbody>\n",
       "    <tr>\n",
       "      <th>0</th>\n",
       "      <td>2020-09-02</td>\n",
       "      <td>alleestrasse 1</td>\n",
       "      <td>plantago-lanceolata</td>\n",
       "      <td>1</td>\n",
       "      <td>(alleestrasse 1, 2020-09-02)</td>\n",
       "      <td>plantago lanceolata</td>\n",
       "    </tr>\n",
       "    <tr>\n",
       "      <th>1</th>\n",
       "      <td>2020-09-02</td>\n",
       "      <td>alleestrasse 1</td>\n",
       "      <td>centaurea-nigra</td>\n",
       "      <td>1</td>\n",
       "      <td>(alleestrasse 1, 2020-09-02)</td>\n",
       "      <td>centaurea nigra</td>\n",
       "    </tr>\n",
       "    <tr>\n",
       "      <th>2</th>\n",
       "      <td>2020-09-02</td>\n",
       "      <td>alleestrasse 1</td>\n",
       "      <td>plantago-media</td>\n",
       "      <td>1</td>\n",
       "      <td>(alleestrasse 1, 2020-09-02)</td>\n",
       "      <td>plantago media</td>\n",
       "    </tr>\n",
       "    <tr>\n",
       "      <th>3</th>\n",
       "      <td>2020-09-02</td>\n",
       "      <td>alleestrasse 1</td>\n",
       "      <td>chenopodium-album</td>\n",
       "      <td>1</td>\n",
       "      <td>(alleestrasse 1, 2020-09-02)</td>\n",
       "      <td>chenopodium album agg.</td>\n",
       "    </tr>\n",
       "    <tr>\n",
       "      <th>4</th>\n",
       "      <td>2020-09-02</td>\n",
       "      <td>alleestrasse 1</td>\n",
       "      <td>centaurea-jacea</td>\n",
       "      <td>1</td>\n",
       "      <td>(alleestrasse 1, 2020-09-02)</td>\n",
       "      <td>centaurea jacea agg.</td>\n",
       "    </tr>\n",
       "  </tbody>\n",
       "</table>\n",
       "</div>"
      ],
      "text/plain": [
       "         date           place              species  year  \\\n",
       "0  2020-09-02  alleestrasse 1  plantago-lanceolata     1   \n",
       "1  2020-09-02  alleestrasse 1      centaurea-nigra     1   \n",
       "2  2020-09-02  alleestrasse 1       plantago-media     1   \n",
       "3  2020-09-02  alleestrasse 1    chenopodium-album     1   \n",
       "4  2020-09-02  alleestrasse 1      centaurea-jacea     1   \n",
       "\n",
       "                       loc_date                   acopy  \n",
       "0  (alleestrasse 1, 2020-09-02)     plantago lanceolata  \n",
       "1  (alleestrasse 1, 2020-09-02)         centaurea nigra  \n",
       "2  (alleestrasse 1, 2020-09-02)          plantago media  \n",
       "3  (alleestrasse 1, 2020-09-02)  chenopodium album agg.  \n",
       "4  (alleestrasse 1, 2020-09-02)    centaurea jacea agg.  "
      ]
     },
     "execution_count": 24,
     "metadata": {},
     "output_type": "execute_result"
    }
   ],
   "source": [
    "c[\"loc_date\"], a[\"loc_date\"], b[\"loc_date\"] = list(zip(c.place, c[\"date\"])), list(zip(a.place, a[\"date\"])), list(zip(b.place, b[\"date\"]))\n",
    "\n",
    "c[\"acopy\"] = c.species\n",
    "\n",
    "c[\"species\"] = c.acopy.map(lambda x: to_slug(x))\n",
    "\n",
    "c.head()   "
   ]
  },
  {
   "cell_type": "code",
   "execution_count": 25,
   "id": "a578152a-3c7d-4b34-8c61-f34364eab85e",
   "metadata": {},
   "outputs": [
    {
     "name": "stdout",
     "output_type": "stream",
     "text": [
      "785 642 143\n"
     ]
    }
   ],
   "source": [
    "print(c.loc_date.nunique(), (a.loc_date.nunique() + b.loc_date.nunique()), survey_data.loc_date.nunique())"
   ]
  },
  {
   "cell_type": "code",
   "execution_count": 26,
   "id": "a284c491-220c-420d-b40b-be0205e2be06",
   "metadata": {},
   "outputs": [
    {
     "data": {
      "text/plain": [
       "year\n",
       "1    143\n",
       "2    642\n",
       "Name: loc_date, dtype: int64"
      ]
     },
     "execution_count": 26,
     "metadata": {},
     "output_type": "execute_result"
    }
   ],
   "source": [
    "c.groupby(\"year\").loc_date.nunique()"
   ]
  },
  {
   "cell_type": "code",
   "execution_count": 27,
   "id": "81b063ec-18fa-486c-a0b2-97ad6cb45c68",
   "metadata": {},
   "outputs": [
    {
     "name": "stdout",
     "output_type": "stream",
     "text": [
      "575 489 111\n"
     ]
    }
   ],
   "source": [
    "print(c.place.nunique(), (a.place.nunique() + b.place.nunique()), survey_data.place.nunique())"
   ]
  },
  {
   "cell_type": "code",
   "execution_count": 28,
   "id": "d26b4e28-9b5b-4a4e-8894-8a3b21921a71",
   "metadata": {},
   "outputs": [
    {
     "data": {
      "text/plain": [
       "year\n",
       "1    111\n",
       "2    464\n",
       "Name: place, dtype: int64"
      ]
     },
     "execution_count": 28,
     "metadata": {},
     "output_type": "execute_result"
    }
   ],
   "source": [
    "c.groupby(\"year\").place.nunique()"
   ]
  },
  {
   "cell_type": "code",
   "execution_count": 29,
   "id": "31ebee6d-b928-4516-b300-5a9f6cfb4cfb",
   "metadata": {},
   "outputs": [],
   "source": [
    "def asplit(x):\n",
    "    akey=x\n",
    "    int_data = x.strip().split(\"-\")\n",
    "    return int_data, akey\n",
    "\n",
    "def check_length(x):\n",
    "    data = len(x[0])\n",
    "    return data, x[0], x[1]\n",
    "\n",
    "def new_data(data, suffixes, threecharacters, twocharacters):\n",
    "    \n",
    "    if data[0] == 1:        \n",
    "        if data[1][0].endswith(suffixes):\n",
    "            new_x = data[1][:-4]\n",
    "        elif data[1][0].endswith(threecharacters):\n",
    "            new_x = data[1][:-3]\n",
    "        else:\n",
    "            new_x = data[1][0]\n",
    "    else:\n",
    "        \n",
    "        if data[1][1] in suffixes:\n",
    "            new_x = data[1][0]\n",
    "        elif data[1][1].endswith(threecharacters):\n",
    "            new_x = data[1][0]\n",
    "        elif data[1][1].endswith(twocharacters):\n",
    "            new_x = data[1][0]\n",
    "        else:\n",
    "            new_x = \"-\".join(data[1])            \n",
    "    \n",
    "    return {data[2]:new_x}\n",
    "            \n",
    "# data = \"-\".join(data)           \n",
    "intermediate = [asplit(x) for x in c.species.sort_values().unique()]\n",
    "\n",
    "lengths = [check_length(x) for x in intermediate]\n",
    "\n",
    "new_names = [new_data(x, (\"cf.\", \"sp.\"), (\"sp\", \"cf\"), (\"x\")) for x in lengths]\n",
    "\n",
    "re_names = {k:v for x in new_names for k,v in x.items()}\n",
    "\n",
    "def replace_genus(x, key):\n",
    "    return key[x]"
   ]
  },
  {
   "cell_type": "code",
   "execution_count": 30,
   "id": "263ecbcd-73aa-4edb-bcd2-22f5efb68e21",
   "metadata": {},
   "outputs": [
    {
     "name": "stdout",
     "output_type": "stream",
     "text": [
      "<class 'pandas.core.frame.DataFrame'>\n",
      "Int64Index: 7986 entries, 0 to 7986\n",
      "Data columns (total 5 columns):\n",
      " #   Column    Non-Null Count  Dtype \n",
      "---  ------    --------------  ----- \n",
      " 0   date      7986 non-null   object\n",
      " 1   place     7986 non-null   object\n",
      " 2   species   7986 non-null   object\n",
      " 3   year      7986 non-null   int64 \n",
      " 4   loc_date  7986 non-null   object\n",
      "dtypes: int64(1), object(4)\n",
      "memory usage: 374.3+ KB\n"
     ]
    }
   ],
   "source": [
    "c[\"newname\"] = c.species.map(lambda x: replace_genus(x, re_names))\n",
    "c[\"species\"] = c.newname\n",
    "\n",
    "c.drop([\"newname\", \"acopy\"], axis=1, inplace=True)\n",
    "c = c.reset_index(drop=True)\n",
    "\n",
    "c = c[~c.species.isin([\"none\"])]\n",
    "c.info()"
   ]
  },
  {
   "cell_type": "code",
   "execution_count": 31,
   "id": "a969dd70-e4a0-4017-ab60-ff5fd7cd5b6d",
   "metadata": {},
   "outputs": [
    {
     "name": "stdout",
     "output_type": "stream",
     "text": [
      "661 239\n"
     ]
    }
   ],
   "source": [
    "print(c.species.nunique(),  len(set([to_slug(x) for x in survey_data.species.unique()])))"
   ]
  },
  {
   "cell_type": "code",
   "execution_count": 32,
   "id": "79c43f30-f6b6-424c-a258-ed9674d777f7",
   "metadata": {},
   "outputs": [
    {
     "data": {
      "text/plain": [
       "year\n",
       "1    239\n",
       "2    586\n",
       "Name: species, dtype: int64"
      ]
     },
     "execution_count": 32,
     "metadata": {},
     "output_type": "execute_result"
    }
   ],
   "source": [
    "c.groupby(\"year\").species.nunique()"
   ]
  },
  {
   "cell_type": "code",
   "execution_count": 33,
   "id": "5c7e539a-39a7-4c05-b092-04327c6796e2",
   "metadata": {},
   "outputs": [],
   "source": [
    "c.to_csv(\"resources/inprocess/combined_survey_data.csv\", index=False)"
   ]
  },
  {
   "cell_type": "code",
   "execution_count": 34,
   "id": "89821571-baed-4b37-b893-b181e3630c37",
   "metadata": {},
   "outputs": [],
   "source": [
    "# n per static count of surveys locations and speicies\n",
    "def nSurveys(data, query=\"species\", args=[]):\n",
    "    return data[data[query].isin(args)].loc_date.nunique()\n",
    "\n",
    "def nLocation(data, species=\"species\", genus_species=[]):\n",
    "    return data[data[species].isin(genus_species)].place.nunique()\n",
    "\n",
    "def nSpecies(data, place=\"place\", places=[]):\n",
    "    return data[data[place].isin(places)].species.nunique()\n",
    "\n",
    "def total_sls(data):\n",
    "    surveys = data.loc_date.nunique()\n",
    "    locations = data.place.nunique()\n",
    "    species = data.species.nunique()\n",
    "    \n",
    "    return {\"surveys\":surveys, \"places\":locations, \"species\":species}\n",
    "\n",
    "c[\"date\"] = pd.to_datetime(c[\"date\"])\n",
    "c[\"month\"] = c[\"date\"].dt.month\n",
    "genus_species = c.species.unique()\n",
    "places = c.place.unique()\n",
    "\n",
    "x = c[c[\"place\"].isin(places)].copy()"
   ]
  },
  {
   "cell_type": "code",
   "execution_count": 59,
   "id": "0dfcb748-60bb-446f-bf8a-0239c6cc4da1",
   "metadata": {},
   "outputs": [
    {
     "ename": "NameError",
     "evalue": "name 'x' is not defined",
     "output_type": "error",
     "traceback": [
      "\u001b[0;31m---------------------------------------------------------------------------\u001b[0m",
      "\u001b[0;31mNameError\u001b[0m                                 Traceback (most recent call last)",
      "\u001b[0;32m/var/folders/qm/b_vqfzj15gv6xshfw418_dfm0000gn/T/ipykernel_4339/3508712831.py\u001b[0m in \u001b[0;36m<module>\u001b[0;34m\u001b[0m\n\u001b[1;32m     32\u001b[0m \u001b[0;34m\u001b[0m\u001b[0m\n\u001b[1;32m     33\u001b[0m \u001b[0;31m# samples per year per location\u001b[0m\u001b[0;34m\u001b[0m\u001b[0;34m\u001b[0m\u001b[0;34m\u001b[0m\u001b[0m\n\u001b[0;32m---> 34\u001b[0;31m \u001b[0msamps_year\u001b[0m \u001b[0;34m=\u001b[0m \u001b[0mnSamplesPerYearPlace\u001b[0m\u001b[0;34m(\u001b[0m\u001b[0mx\u001b[0m\u001b[0;34m)\u001b[0m\u001b[0;34m\u001b[0m\u001b[0;34m\u001b[0m\u001b[0m\n\u001b[0m\u001b[1;32m     35\u001b[0m \u001b[0msamps_year\u001b[0m\u001b[0;34m.\u001b[0m\u001b[0mhead\u001b[0m\u001b[0;34m(\u001b[0m\u001b[0;34m)\u001b[0m\u001b[0;34m\u001b[0m\u001b[0;34m\u001b[0m\u001b[0m\n",
      "\u001b[0;31mNameError\u001b[0m: name 'x' is not defined"
     ]
    }
   ],
   "source": [
    "# location report:\n",
    "\n",
    "# surveys per year per location:\n",
    "def nSamplesPerYearPlace(data):\n",
    "    return data.groupby(['year', 'place'], as_index=False).loc_date.nunique()\n",
    "\n",
    "def nSpeciesPerSample(data):\n",
    "    return data.groupby([\"loc_date\", \"date\", \"place\"], as_index=False).species.count()\n",
    "\n",
    "def aSpeciesPerSample(data, species=[]):\n",
    "    \"\"\"The per sample data for a species\n",
    "    \"\"\"\n",
    "    new_data = nSpeciesPerSample(data[data[\"species\"].isin(species)])\n",
    "    new_data.rename(columns={\"species\":species[0]}, inplace=True)\n",
    "    return new_data\n",
    "\n",
    "def speciesPlaceNsamps(data):\n",
    "    return data.groupby([\"species\", \"place\"], as_index=False).loc_date.nunique()\n",
    "\n",
    "def pivot_this(data, colnames, index, column, value):\n",
    "    return data[colnames].pivot(index=index, columns=column, values=value).fillna(0)\n",
    "\n",
    "def speciesPerLocation(data,colnames, index=\"species\",columns=\"place\",values=\"loc_date\"):\n",
    "    \"\"\"Uses speciesPlaceNsamps to return a matrix of species and locations with value of\n",
    "    number of times identified at that location\n",
    "    \"\"\"\n",
    "    return pivot_this(data, colnames, index, columns, values)\n",
    "\n",
    "def speciesPlace(species_data, soi):\n",
    "    \"\"\"Uses speciesPerlocation to report on one species\"\"\"\n",
    "    return species_data.loc[soi, (species_data.loc[soi] > 0)]\n",
    "\n",
    "# samples per year per location\n",
    "samps_year = nSamplesPerYearPlace(x)\n",
    "samps_year.head()"
   ]
  },
  {
   "cell_type": "code",
   "execution_count": 60,
   "id": "a56895a9-71a1-47fa-963a-fe3d683c9eca",
   "metadata": {},
   "outputs": [
    {
     "ename": "NameError",
     "evalue": "name 'samps_year' is not defined",
     "output_type": "error",
     "traceback": [
      "\u001b[0;31m---------------------------------------------------------------------------\u001b[0m",
      "\u001b[0;31mNameError\u001b[0m                                 Traceback (most recent call last)",
      "\u001b[0;32m/var/folders/qm/b_vqfzj15gv6xshfw418_dfm0000gn/T/ipykernel_4339/4135078547.py\u001b[0m in \u001b[0;36m<module>\u001b[0;34m\u001b[0m\n\u001b[0;32m----> 1\u001b[0;31m \u001b[0msamps_year\u001b[0m\u001b[0;34m.\u001b[0m\u001b[0mloc_date\u001b[0m\u001b[0;34m.\u001b[0m\u001b[0munique\u001b[0m\u001b[0;34m(\u001b[0m\u001b[0;34m)\u001b[0m\u001b[0;34m\u001b[0m\u001b[0;34m\u001b[0m\u001b[0m\n\u001b[0m",
      "\u001b[0;31mNameError\u001b[0m: name 'samps_year' is not defined"
     ]
    }
   ],
   "source": [
    "samps_year.loc_date.unique()"
   ]
  },
  {
   "cell_type": "code",
   "execution_count": 61,
   "id": "2a7fe629-0729-4390-89a9-3b496efb65f9",
   "metadata": {},
   "outputs": [
    {
     "ename": "NameError",
     "evalue": "name 'samps_year' is not defined",
     "output_type": "error",
     "traceback": [
      "\u001b[0;31m---------------------------------------------------------------------------\u001b[0m",
      "\u001b[0;31mNameError\u001b[0m                                 Traceback (most recent call last)",
      "\u001b[0;32m/var/folders/qm/b_vqfzj15gv6xshfw418_dfm0000gn/T/ipykernel_4339/3260549087.py\u001b[0m in \u001b[0;36m<module>\u001b[0;34m\u001b[0m\n\u001b[1;32m      1\u001b[0m \u001b[0;31m# samples per year\u001b[0m\u001b[0;34m\u001b[0m\u001b[0;34m\u001b[0m\u001b[0;34m\u001b[0m\u001b[0m\n\u001b[0;32m----> 2\u001b[0;31m \u001b[0msamps_year\u001b[0m\u001b[0;34m.\u001b[0m\u001b[0mgroupby\u001b[0m\u001b[0;34m(\u001b[0m\u001b[0;34m\"year\"\u001b[0m\u001b[0;34m)\u001b[0m\u001b[0;34m.\u001b[0m\u001b[0mloc_date\u001b[0m\u001b[0;34m.\u001b[0m\u001b[0msum\u001b[0m\u001b[0;34m(\u001b[0m\u001b[0;34m)\u001b[0m\u001b[0;34m\u001b[0m\u001b[0;34m\u001b[0m\u001b[0m\n\u001b[0m",
      "\u001b[0;31mNameError\u001b[0m: name 'samps_year' is not defined"
     ]
    }
   ],
   "source": [
    "# samples per year\n",
    "samps_year.groupby(\"year\").loc_date.sum()"
   ]
  },
  {
   "cell_type": "code",
   "execution_count": 62,
   "id": "ad7ba217-58f0-45b3-9107-11ffa509cfeb",
   "metadata": {},
   "outputs": [
    {
     "ename": "NameError",
     "evalue": "name 'x' is not defined",
     "output_type": "error",
     "traceback": [
      "\u001b[0;31m---------------------------------------------------------------------------\u001b[0m",
      "\u001b[0;31mNameError\u001b[0m                                 Traceback (most recent call last)",
      "\u001b[0;32m/var/folders/qm/b_vqfzj15gv6xshfw418_dfm0000gn/T/ipykernel_4339/1756100349.py\u001b[0m in \u001b[0;36m<module>\u001b[0;34m\u001b[0m\n\u001b[1;32m      1\u001b[0m \u001b[0;31m# n species per sample\u001b[0m\u001b[0;34m\u001b[0m\u001b[0;34m\u001b[0m\u001b[0;34m\u001b[0m\u001b[0m\n\u001b[0;32m----> 2\u001b[0;31m \u001b[0maplot\u001b[0m \u001b[0;34m=\u001b[0m \u001b[0mnSpeciesPerSample\u001b[0m\u001b[0;34m(\u001b[0m\u001b[0mx\u001b[0m\u001b[0;34m)\u001b[0m\u001b[0;34m\u001b[0m\u001b[0;34m\u001b[0m\u001b[0m\n\u001b[0m\u001b[1;32m      3\u001b[0m \u001b[0maplot\u001b[0m\u001b[0;34m.\u001b[0m\u001b[0mhead\u001b[0m\u001b[0;34m(\u001b[0m\u001b[0;34m)\u001b[0m\u001b[0;34m\u001b[0m\u001b[0;34m\u001b[0m\u001b[0m\n",
      "\u001b[0;31mNameError\u001b[0m: name 'x' is not defined"
     ]
    }
   ],
   "source": [
    "# n species per sample\n",
    "aplot = nSpeciesPerSample(x)\n",
    "aplot.head()"
   ]
  },
  {
   "cell_type": "code",
   "execution_count": 63,
   "id": "77377f4a-bd8e-4504-a11e-eea5dd712830",
   "metadata": {},
   "outputs": [
    {
     "ename": "NameError",
     "evalue": "name 'aplot' is not defined",
     "output_type": "error",
     "traceback": [
      "\u001b[0;31m---------------------------------------------------------------------------\u001b[0m",
      "\u001b[0;31mNameError\u001b[0m                                 Traceback (most recent call last)",
      "\u001b[0;32m/var/folders/qm/b_vqfzj15gv6xshfw418_dfm0000gn/T/ipykernel_4339/3630329673.py\u001b[0m in \u001b[0;36m<module>\u001b[0;34m\u001b[0m\n\u001b[1;32m      1\u001b[0m \u001b[0mfig\u001b[0m\u001b[0;34m,\u001b[0m \u001b[0max\u001b[0m\u001b[0;34m=\u001b[0m\u001b[0mplt\u001b[0m\u001b[0;34m.\u001b[0m\u001b[0msubplots\u001b[0m\u001b[0;34m(\u001b[0m\u001b[0;34m)\u001b[0m\u001b[0;34m\u001b[0m\u001b[0;34m\u001b[0m\u001b[0m\n\u001b[0;32m----> 2\u001b[0;31m \u001b[0max\u001b[0m\u001b[0;34m.\u001b[0m\u001b[0mscatter\u001b[0m\u001b[0;34m(\u001b[0m\u001b[0mx\u001b[0m\u001b[0;34m=\u001b[0m\u001b[0mpd\u001b[0m\u001b[0;34m.\u001b[0m\u001b[0mto_datetime\u001b[0m\u001b[0;34m(\u001b[0m\u001b[0maplot\u001b[0m\u001b[0;34m[\u001b[0m\u001b[0;34m\"date\"\u001b[0m\u001b[0;34m]\u001b[0m\u001b[0;34m)\u001b[0m\u001b[0;34m,\u001b[0m \u001b[0my\u001b[0m\u001b[0;34m=\u001b[0m\u001b[0maplot\u001b[0m\u001b[0;34m.\u001b[0m\u001b[0mspecies\u001b[0m\u001b[0;34m,\u001b[0m \u001b[0medgecolor\u001b[0m\u001b[0;34m=\u001b[0m\u001b[0;34m\"white\"\u001b[0m\u001b[0;34m)\u001b[0m\u001b[0;34m\u001b[0m\u001b[0;34m\u001b[0m\u001b[0m\n\u001b[0m\u001b[1;32m      3\u001b[0m \u001b[0max\u001b[0m\u001b[0;34m.\u001b[0m\u001b[0mset_title\u001b[0m\u001b[0;34m(\u001b[0m\u001b[0;34m\"number of species per survey\"\u001b[0m\u001b[0;34m)\u001b[0m\u001b[0;34m\u001b[0m\u001b[0;34m\u001b[0m\u001b[0m\n\u001b[1;32m      4\u001b[0m \u001b[0max\u001b[0m\u001b[0;34m.\u001b[0m\u001b[0mtick_params\u001b[0m\u001b[0;34m(\u001b[0m\u001b[0mrotation\u001b[0m\u001b[0;34m=\u001b[0m\u001b[0;36m45\u001b[0m\u001b[0;34m)\u001b[0m\u001b[0;34m\u001b[0m\u001b[0;34m\u001b[0m\u001b[0m\n\u001b[1;32m      5\u001b[0m \u001b[0mplt\u001b[0m\u001b[0;34m.\u001b[0m\u001b[0mshow\u001b[0m\u001b[0;34m(\u001b[0m\u001b[0;34m)\u001b[0m\u001b[0;34m\u001b[0m\u001b[0;34m\u001b[0m\u001b[0m\n",
      "\u001b[0;31mNameError\u001b[0m: name 'aplot' is not defined"
     ]
    },
    {
     "data": {
      "image/png": "[encoded data removed]",
      "text/plain": [
       "<Figure size 432x288 with 1 Axes>"
      ]
     },
     "metadata": {
      "needs_background": "light"
     },
     "output_type": "display_data"
    }
   ],
   "source": [
    "fig, ax=plt.subplots()\n",
    "ax.scatter(x=pd.to_datetime(aplot[\"date\"]), y=aplot.species, edgecolor=\"white\")\n",
    "ax.set_title(\"number of species per survey\")\n",
    "ax.tick_params(rotation=45)\n",
    "plt.show()"
   ]
  },
  {
   "cell_type": "code",
   "execution_count": 64,
   "id": "9adfff6d-66b7-42f7-9a99-d9d0249b26b9",
   "metadata": {},
   "outputs": [
    {
     "ename": "NameError",
     "evalue": "name 'x' is not defined",
     "output_type": "error",
     "traceback": [
      "\u001b[0;31m---------------------------------------------------------------------------\u001b[0m",
      "\u001b[0;31mNameError\u001b[0m                                 Traceback (most recent call last)",
      "\u001b[0;32m/var/folders/qm/b_vqfzj15gv6xshfw418_dfm0000gn/T/ipykernel_4339/3016558232.py\u001b[0m in \u001b[0;36m<module>\u001b[0;34m\u001b[0m\n\u001b[1;32m      1\u001b[0m \u001b[0mcolnames\u001b[0m \u001b[0;34m=\u001b[0m \u001b[0;34m[\u001b[0m\u001b[0;34m\"species\"\u001b[0m\u001b[0;34m,\u001b[0m \u001b[0;34m\"place\"\u001b[0m\u001b[0;34m,\u001b[0m \u001b[0;34m\"loc_date\"\u001b[0m\u001b[0;34m]\u001b[0m\u001b[0;34m\u001b[0m\u001b[0;34m\u001b[0m\u001b[0m\n\u001b[0;32m----> 2\u001b[0;31m \u001b[0mspecies_data\u001b[0m \u001b[0;34m=\u001b[0m \u001b[0mspeciesPerLocation\u001b[0m\u001b[0;34m(\u001b[0m\u001b[0mspeciesPlaceNsamps\u001b[0m\u001b[0;34m(\u001b[0m\u001b[0mx\u001b[0m\u001b[0;34m)\u001b[0m\u001b[0;34m,\u001b[0m\u001b[0mcolnames\u001b[0m\u001b[0;34m)\u001b[0m\u001b[0;34m\u001b[0m\u001b[0;34m\u001b[0m\u001b[0m\n\u001b[0m\u001b[1;32m      3\u001b[0m \u001b[0mspecies_data\u001b[0m\u001b[0;34m.\u001b[0m\u001b[0minfo\u001b[0m\u001b[0;34m(\u001b[0m\u001b[0;34m)\u001b[0m\u001b[0;34m\u001b[0m\u001b[0;34m\u001b[0m\u001b[0m\n",
      "\u001b[0;31mNameError\u001b[0m: name 'x' is not defined"
     ]
    }
   ],
   "source": [
    "colnames = [\"species\", \"place\", \"loc_date\"]\n",
    "species_data = speciesPerLocation(speciesPlaceNsamps(x),colnames)\n",
    "species_data.info()"
   ]
  },
  {
   "cell_type": "code",
   "execution_count": 65,
   "id": "3c3de67c-c102-4573-bbb4-d8349b960521",
   "metadata": {},
   "outputs": [
    {
     "ename": "NameError",
     "evalue": "name 'species_data' is not defined",
     "output_type": "error",
     "traceback": [
      "\u001b[0;31m---------------------------------------------------------------------------\u001b[0m",
      "\u001b[0;31mNameError\u001b[0m                                 Traceback (most recent call last)",
      "\u001b[0;32m/var/folders/qm/b_vqfzj15gv6xshfw418_dfm0000gn/T/ipykernel_4339/2508317315.py\u001b[0m in \u001b[0;36m<module>\u001b[0;34m\u001b[0m\n\u001b[1;32m      1\u001b[0m \u001b[0;31m# of times seen per location\u001b[0m\u001b[0;34m\u001b[0m\u001b[0;34m\u001b[0m\u001b[0;34m\u001b[0m\u001b[0m\n\u001b[0;32m----> 2\u001b[0;31m \u001b[0mspecies_data\u001b[0m\u001b[0;34m[\u001b[0m\u001b[0mspecies_data\u001b[0m\u001b[0;34m.\u001b[0m\u001b[0mcolumns\u001b[0m\u001b[0;34m[\u001b[0m\u001b[0;34m:\u001b[0m\u001b[0;36m10\u001b[0m\u001b[0;34m]\u001b[0m\u001b[0;34m]\u001b[0m\u001b[0;34m.\u001b[0m\u001b[0mhead\u001b[0m\u001b[0;34m(\u001b[0m\u001b[0;34m)\u001b[0m\u001b[0;34m\u001b[0m\u001b[0;34m\u001b[0m\u001b[0m\n\u001b[0m",
      "\u001b[0;31mNameError\u001b[0m: name 'species_data' is not defined"
     ]
    }
   ],
   "source": [
    "# of times seen per location\n",
    "species_data[species_data.columns[:10]].head()"
   ]
  },
  {
   "cell_type": "code",
   "execution_count": 66,
   "id": "eef64674-8561-4c2b-a8d5-c1d93dbd1cc1",
   "metadata": {},
   "outputs": [
    {
     "ename": "NameError",
     "evalue": "name 'species_data' is not defined",
     "output_type": "error",
     "traceback": [
      "\u001b[0;31m---------------------------------------------------------------------------\u001b[0m",
      "\u001b[0;31mNameError\u001b[0m                                 Traceback (most recent call last)",
      "\u001b[0;32m/var/folders/qm/b_vqfzj15gv6xshfw418_dfm0000gn/T/ipykernel_4339/2617205926.py\u001b[0m in \u001b[0;36m<module>\u001b[0;34m\u001b[0m\n\u001b[1;32m      1\u001b[0m \u001b[0;31m# locations and number of times where a species was spotted\u001b[0m\u001b[0;34m\u001b[0m\u001b[0;34m\u001b[0m\u001b[0;34m\u001b[0m\u001b[0m\n\u001b[1;32m      2\u001b[0m \u001b[0msoi\u001b[0m \u001b[0;34m=\u001b[0m \u001b[0;34m\"acer\"\u001b[0m\u001b[0;34m\u001b[0m\u001b[0;34m\u001b[0m\u001b[0m\n\u001b[0;32m----> 3\u001b[0;31m \u001b[0ma_species_data\u001b[0m \u001b[0;34m=\u001b[0m \u001b[0mspeciesPlace\u001b[0m\u001b[0;34m(\u001b[0m\u001b[0mspecies_data\u001b[0m\u001b[0;34m,\u001b[0m \u001b[0msoi\u001b[0m\u001b[0;34m)\u001b[0m\u001b[0;34m\u001b[0m\u001b[0;34m\u001b[0m\u001b[0m\n\u001b[0m\u001b[1;32m      4\u001b[0m \u001b[0ma_species_data\u001b[0m\u001b[0;34m\u001b[0m\u001b[0;34m\u001b[0m\u001b[0m\n",
      "\u001b[0;31mNameError\u001b[0m: name 'species_data' is not defined"
     ]
    }
   ],
   "source": [
    "# locations and number of times where a species was spotted\n",
    "soi = \"acer\"\n",
    "a_species_data = speciesPlace(species_data, soi)\n",
    "a_species_data"
   ]
  },
  {
   "cell_type": "code",
   "execution_count": 67,
   "id": "dbd18729-05a9-4ffa-b4f0-63aae5ab8b8b",
   "metadata": {},
   "outputs": [
    {
     "ename": "NameError",
     "evalue": "name 'species_data' is not defined",
     "output_type": "error",
     "traceback": [
      "\u001b[0;31m---------------------------------------------------------------------------\u001b[0m",
      "\u001b[0;31mNameError\u001b[0m                                 Traceback (most recent call last)",
      "\u001b[0;32m/var/folders/qm/b_vqfzj15gv6xshfw418_dfm0000gn/T/ipykernel_4339/3150214118.py\u001b[0m in \u001b[0;36m<module>\u001b[0;34m\u001b[0m\n\u001b[1;32m      1\u001b[0m \u001b[0;31m# of times seen in total\u001b[0m\u001b[0;34m\u001b[0m\u001b[0;34m\u001b[0m\u001b[0;34m\u001b[0m\u001b[0m\n\u001b[0;32m----> 2\u001b[0;31m \u001b[0mspecies_data\u001b[0m\u001b[0;34m.\u001b[0m\u001b[0msum\u001b[0m\u001b[0;34m(\u001b[0m\u001b[0maxis\u001b[0m\u001b[0;34m=\u001b[0m\u001b[0;36m1\u001b[0m\u001b[0;34m)\u001b[0m\u001b[0;34m.\u001b[0m\u001b[0mhead\u001b[0m\u001b[0;34m(\u001b[0m\u001b[0;34m)\u001b[0m\u001b[0;34m\u001b[0m\u001b[0;34m\u001b[0m\u001b[0m\n\u001b[0m",
      "\u001b[0;31mNameError\u001b[0m: name 'species_data' is not defined"
     ]
    }
   ],
   "source": [
    "# of times seen in total\n",
    "species_data.sum(axis=1).head()"
   ]
  },
  {
   "cell_type": "code",
   "execution_count": 68,
   "id": "b122a3de-892b-4206-9c51-58fcfcf2a339",
   "metadata": {},
   "outputs": [
    {
     "ename": "NameError",
     "evalue": "name 'x' is not defined",
     "output_type": "error",
     "traceback": [
      "\u001b[0;31m---------------------------------------------------------------------------\u001b[0m",
      "\u001b[0;31mNameError\u001b[0m                                 Traceback (most recent call last)",
      "\u001b[0;32m/var/folders/qm/b_vqfzj15gv6xshfw418_dfm0000gn/T/ipykernel_4339/104388273.py\u001b[0m in \u001b[0;36m<module>\u001b[0;34m\u001b[0m\n\u001b[1;32m      1\u001b[0m \u001b[0;31m# of times it was seen relation to number of surveys\u001b[0m\u001b[0;34m\u001b[0m\u001b[0;34m\u001b[0m\u001b[0;34m\u001b[0m\u001b[0m\n\u001b[0;32m----> 2\u001b[0;31m \u001b[0mdtotals\u001b[0m \u001b[0;34m=\u001b[0m \u001b[0mtotal_sls\u001b[0m\u001b[0;34m(\u001b[0m\u001b[0mx\u001b[0m\u001b[0;34m)\u001b[0m\u001b[0;34m\u001b[0m\u001b[0;34m\u001b[0m\u001b[0m\n\u001b[0m\u001b[1;32m      3\u001b[0m \u001b[0ms\u001b[0m \u001b[0;34m=\u001b[0m \u001b[0mspecies_data\u001b[0m\u001b[0;34m.\u001b[0m\u001b[0msum\u001b[0m\u001b[0;34m(\u001b[0m\u001b[0maxis\u001b[0m\u001b[0;34m=\u001b[0m\u001b[0;36m1\u001b[0m\u001b[0;34m)\u001b[0m\u001b[0;34m/\u001b[0m\u001b[0mdtotals\u001b[0m\u001b[0;34m[\u001b[0m\u001b[0;34m\"surveys\"\u001b[0m\u001b[0;34m]\u001b[0m\u001b[0;34m\u001b[0m\u001b[0;34m\u001b[0m\u001b[0m\n\u001b[1;32m      4\u001b[0m \u001b[0ms\u001b[0m\u001b[0;34m.\u001b[0m\u001b[0msort_values\u001b[0m\u001b[0;34m(\u001b[0m\u001b[0mascending\u001b[0m\u001b[0;34m=\u001b[0m\u001b[0;32mFalse\u001b[0m\u001b[0;34m)\u001b[0m\u001b[0;34m\u001b[0m\u001b[0;34m\u001b[0m\u001b[0m\n",
      "\u001b[0;31mNameError\u001b[0m: name 'x' is not defined"
     ]
    }
   ],
   "source": [
    "# of times it was seen relation to number of surveys\n",
    "dtotals = total_sls(x)\n",
    "s = species_data.sum(axis=1)/dtotals[\"surveys\"]\n",
    "s.sort_values(ascending=False)"
   ]
  },
  {
   "cell_type": "code",
   "execution_count": 69,
   "id": "cf9acda7-6361-4573-9977-5d3ebb4f738f",
   "metadata": {},
   "outputs": [
    {
     "ename": "NameError",
     "evalue": "name 'x' is not defined",
     "output_type": "error",
     "traceback": [
      "\u001b[0;31m---------------------------------------------------------------------------\u001b[0m",
      "\u001b[0;31mNameError\u001b[0m                                 Traceback (most recent call last)",
      "\u001b[0;32m/var/folders/qm/b_vqfzj15gv6xshfw418_dfm0000gn/T/ipykernel_4339/3462741705.py\u001b[0m in \u001b[0;36m<module>\u001b[0;34m\u001b[0m\n\u001b[1;32m      1\u001b[0m \u001b[0;31m# the persample data for a species\u001b[0m\u001b[0;34m\u001b[0m\u001b[0;34m\u001b[0m\u001b[0;34m\u001b[0m\u001b[0m\n\u001b[0;32m----> 2\u001b[0;31m \u001b[0ma_species_data\u001b[0m \u001b[0;34m=\u001b[0m \u001b[0maSpeciesPerSample\u001b[0m\u001b[0;34m(\u001b[0m\u001b[0mx\u001b[0m\u001b[0;34m,\u001b[0m \u001b[0mspecies\u001b[0m\u001b[0;34m=\u001b[0m\u001b[0;34m[\u001b[0m\u001b[0;34m\"veronica-hederifolia\"\u001b[0m\u001b[0;34m]\u001b[0m\u001b[0;34m)\u001b[0m\u001b[0;34m\u001b[0m\u001b[0;34m\u001b[0m\u001b[0m\n\u001b[0m",
      "\u001b[0;31mNameError\u001b[0m: name 'x' is not defined"
     ]
    }
   ],
   "source": [
    "# the persample data for a species\n",
    "a_species_data = aSpeciesPerSample(x, species=[\"veronica-hederifolia\"])"
   ]
  },
  {
   "cell_type": "code",
   "execution_count": 70,
   "id": "df3bc643-da37-4fc2-b398-2535d852e99f",
   "metadata": {},
   "outputs": [
    {
     "ename": "NameError",
     "evalue": "name 'a_species_data' is not defined",
     "output_type": "error",
     "traceback": [
      "\u001b[0;31m---------------------------------------------------------------------------\u001b[0m",
      "\u001b[0;31mNameError\u001b[0m                                 Traceback (most recent call last)",
      "\u001b[0;32m/var/folders/qm/b_vqfzj15gv6xshfw418_dfm0000gn/T/ipykernel_4339/3292831499.py\u001b[0m in \u001b[0;36m<module>\u001b[0;34m\u001b[0m\n\u001b[1;32m      1\u001b[0m \u001b[0mfig\u001b[0m\u001b[0;34m,\u001b[0m \u001b[0max\u001b[0m\u001b[0;34m=\u001b[0m\u001b[0mplt\u001b[0m\u001b[0;34m.\u001b[0m\u001b[0msubplots\u001b[0m\u001b[0;34m(\u001b[0m\u001b[0;34m)\u001b[0m\u001b[0;34m\u001b[0m\u001b[0;34m\u001b[0m\u001b[0m\n\u001b[0;32m----> 2\u001b[0;31m \u001b[0max\u001b[0m\u001b[0;34m.\u001b[0m\u001b[0mscatter\u001b[0m\u001b[0;34m(\u001b[0m\u001b[0mx\u001b[0m\u001b[0;34m=\u001b[0m\u001b[0mpd\u001b[0m\u001b[0;34m.\u001b[0m\u001b[0mto_datetime\u001b[0m\u001b[0;34m(\u001b[0m\u001b[0ma_species_data\u001b[0m\u001b[0;34m[\u001b[0m\u001b[0;34m\"date\"\u001b[0m\u001b[0;34m]\u001b[0m\u001b[0;34m)\u001b[0m\u001b[0;34m,\u001b[0m \u001b[0my\u001b[0m\u001b[0;34m=\u001b[0m\u001b[0ma_species_data\u001b[0m\u001b[0;34m[\u001b[0m\u001b[0;34m\"veronica-hederifolia\"\u001b[0m\u001b[0;34m]\u001b[0m\u001b[0;34m,\u001b[0m \u001b[0medgecolor\u001b[0m\u001b[0;34m=\u001b[0m\u001b[0;34m\"white\"\u001b[0m\u001b[0;34m)\u001b[0m\u001b[0;34m\u001b[0m\u001b[0;34m\u001b[0m\u001b[0m\n\u001b[0m\u001b[1;32m      3\u001b[0m \u001b[0max\u001b[0m\u001b[0;34m.\u001b[0m\u001b[0mset_title\u001b[0m\u001b[0;34m(\u001b[0m\u001b[0;34m\"veronica-hederifolia per survey\"\u001b[0m\u001b[0;34m)\u001b[0m\u001b[0;34m\u001b[0m\u001b[0;34m\u001b[0m\u001b[0m\n\u001b[1;32m      4\u001b[0m \u001b[0max\u001b[0m\u001b[0;34m.\u001b[0m\u001b[0mtick_params\u001b[0m\u001b[0;34m(\u001b[0m\u001b[0mrotation\u001b[0m\u001b[0;34m=\u001b[0m\u001b[0;36m45\u001b[0m\u001b[0;34m)\u001b[0m\u001b[0;34m\u001b[0m\u001b[0;34m\u001b[0m\u001b[0m\n\u001b[1;32m      5\u001b[0m \u001b[0mplt\u001b[0m\u001b[0;34m.\u001b[0m\u001b[0mshow\u001b[0m\u001b[0;34m(\u001b[0m\u001b[0;34m)\u001b[0m\u001b[0;34m\u001b[0m\u001b[0;34m\u001b[0m\u001b[0m\n",
      "\u001b[0;31mNameError\u001b[0m: name 'a_species_data' is not defined"
     ]
    },
    {
     "data": {
      "image/png": "[encoded data removed]",
      "text/plain": [
       "<Figure size 432x288 with 1 Axes>"
      ]
     },
     "metadata": {
      "needs_background": "light"
     },
     "output_type": "display_data"
    }
   ],
   "source": [
    "fig, ax=plt.subplots()\n",
    "ax.scatter(x=pd.to_datetime(a_species_data[\"date\"]), y=a_species_data[\"veronica-hederifolia\"], edgecolor=\"white\")\n",
    "ax.set_title(\"veronica-hederifolia per survey\")\n",
    "ax.tick_params(rotation=45)\n",
    "plt.show()"
   ]
  },
  {
   "cell_type": "code",
   "execution_count": 71,
   "id": "8dc97043-f891-4d4b-960a-e9faeaad0de9",
   "metadata": {},
   "outputs": [
    {
     "ename": "NameError",
     "evalue": "name 'a_species_data' is not defined",
     "output_type": "error",
     "traceback": [
      "\u001b[0;31m---------------------------------------------------------------------------\u001b[0m",
      "\u001b[0;31mNameError\u001b[0m                                 Traceback (most recent call last)",
      "\u001b[0;32m/var/folders/qm/b_vqfzj15gv6xshfw418_dfm0000gn/T/ipykernel_4339/1387661764.py\u001b[0m in \u001b[0;36m<module>\u001b[0;34m\u001b[0m\n\u001b[0;32m----> 1\u001b[0;31m \u001b[0ma_species_data\u001b[0m\u001b[0;34m.\u001b[0m\u001b[0mhead\u001b[0m\u001b[0;34m(\u001b[0m\u001b[0;34m)\u001b[0m\u001b[0;34m\u001b[0m\u001b[0;34m\u001b[0m\u001b[0m\n\u001b[0m",
      "\u001b[0;31mNameError\u001b[0m: name 'a_species_data' is not defined"
     ]
    }
   ],
   "source": [
    "a_species_data.head()"
   ]
  },
  {
   "cell_type": "markdown",
   "id": "juvenile-locator",
   "metadata": {},
   "source": [
    "## Determine wether or not a species was detected within a geographic limit\n",
    "\n",
    "The territory is divided into different segments. Flora-helvitica and WS maps have different geographic bounds. Here the presence or not of a species within the confines of one of the different boundaries is determined."
   ]
  },
  {
   "cell_type": "markdown",
   "id": "superb-resistance",
   "metadata": {},
   "source": [
    "### Key the species to the different maps it was identified in\n"
   ]
  },
  {
   "cell_type": "markdown",
   "id": "lovely-percentage",
   "metadata": {},
   "source": [
    "## Format date column to ISO standard"
   ]
  },
  {
   "cell_type": "code",
   "execution_count": null,
   "id": "1d5a1226-19dd-4d69-8249-eb821d83ca3b",
   "metadata": {},
   "outputs": [],
   "source": []
  }
 ],
 "metadata": {
  "kernelspec": {
   "display_name": "Python 3 (ipykernel)",
   "language": "python",
   "name": "python3"
  },
  "language_info": {
   "codemirror_mode": {
    "name": "ipython",
    "version": 3
   },
   "file_extension": ".py",
   "mimetype": "text/x-python",
   "name": "python",
   "nbconvert_exporter": "python",
   "pygments_lexer": "ipython3",
   "version": "3.8.12"
  }
 },
 "nbformat": 4,
 "nbformat_minor": 5
}
