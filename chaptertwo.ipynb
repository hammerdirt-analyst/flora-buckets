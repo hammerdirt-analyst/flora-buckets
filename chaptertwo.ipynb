{
 "cells": [
  {
   "cell_type": "markdown",
   "id": "8f7f85ee-9023-4a55-8988-ace0d512a3f6",
   "metadata": {},
   "source": [
    "# Site Analysis\n",
    "\n",
    "This section of the report dives into certain site groupings. These groupings range from examining the limited countryside surveys conducted to a closer look at sections of urban Biel/Bienne.\n",
    "\n",
    "* Grouping of Madretschkanal and Suze waterways\n",
    "* Empty lots\n",
    "* Renaturalization and special maintenance projects\n",
    "* Rough grouping of types (railroad berms)\n"
   ]
  },
  {
   "cell_type": "code",
   "execution_count": null,
   "id": "266486fa-7222-40bf-a8fe-bddbce1e1881",
   "metadata": {},
   "outputs": [],
   "source": [
    "# import statements"
   ]
  },
  {
   "cell_type": "code",
   "execution_count": null,
   "id": "433ee597-2ff2-4477-8274-9e74505e8fd3",
   "metadata": {},
   "outputs": [],
   "source": [
    "# insert a nice picture"
   ]
  },
  {
   "cell_type": "markdown",
   "id": "028163e9-68f3-4aa8-958c-b366758b38f4",
   "metadata": {},
   "source": [
    "## Madretschkanal and Suze\n",
    "\n",
    "These sections of the city have the most overlap in terms of surveys from year 1 and year 2. Both also contain renaturalization sites where money was invested to beautify and provide ecological services. Rivers are often regarded, and ideally also function, as highways for biodiversity and wildlife through urban and periurban spaces. In addition to the river itself, the banks of the river often play host to diverse environments and semi wild plants where insects, fungus and small animals can find refuge and move throughout the urbanized region.\n"
   ]
  },
  {
   "cell_type": "code",
   "execution_count": null,
   "id": "5408446b-d9cc-4159-99d8-8a3c135d06e0",
   "metadata": {},
   "outputs": [],
   "source": [
    "# analysis - lets go !"
   ]
  }
 ],
 "metadata": {
  "kernelspec": {
   "display_name": "Python 3 (ipykernel)",
   "language": "python",
   "name": "python3"
  },
  "language_info": {
   "codemirror_mode": {
    "name": "ipython",
    "version": 3
   },
   "file_extension": ".py",
   "mimetype": "text/x-python",
   "name": "python",
   "nbconvert_exporter": "python",
   "pygments_lexer": "ipython3",
   "version": "3.8.12"
  }
 },
 "nbformat": 4,
 "nbformat_minor": 5
}
