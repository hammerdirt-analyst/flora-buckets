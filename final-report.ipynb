{
 "cells": [
  {
   "cell_type": "code",
   "execution_count": 1,
   "id": "8260db90",
   "metadata": {
    "tags": [
     "hide-input"
    ]
   },
   "outputs": [],
   "source": [
    "# math and data packages\n",
    "import pandas as pd\n",
    "import numpy as np\n",
    "import math\n",
    "\n",
    "# charting and graphics\n",
    "import matplotlib as mpl\n",
    "import matplotlib.pyplot as plt\n",
    "import seaborn as sns\n",
    "import matplotlib.image as mpimg\n",
    "from matplotlib import colors\n",
    "from matplotlib.colors import LinearSegmentedColormap\n",
    "import matplotlib.dates as mdates\n",
    "from matplotlib.gridspec import GridSpec\n",
    "\n",
    "# os and file types\n",
    "import os\n",
    "import sys\n",
    "import datetime as dt\n",
    "import json\n",
    "import csv\n",
    "\n",
    "# images and display\n",
    "import base64, io, IPython\n",
    "from PIL import Image as PILImage\n",
    "from IPython.display import Markdown as md\n",
    "from IPython.display import display, Math, Latex"
   ]
  },
  {
   "cell_type": "markdown",
   "id": "2d34771f",
   "metadata": {},
   "source": [
    "# The flowers at the water's edge: a report on the flora of the urban Suze river"
   ]
  },
  {
   "cell_type": "markdown",
   "id": "571a3d84",
   "metadata": {},
   "source": [
    "## Abstract\n",
    "\n",
    "This report concludes a 2020 hammerdirt pilot project in identifying plant species along the urban Suze river and its Madretschkanal variant from June - September 2020. The objective was to use plant recognition web and smartphone applications combined with the Flora Helvetica guidebook to identify herbaceous plants, construct an initial set of data on the flowering plants along the urban Suze river, and provide initial analysis and lessons learned to guide further project development."
   ]
  },
  {
   "cell_type": "code",
   "execution_count": 2,
   "id": "cbac8f42",
   "metadata": {
    "tags": [
     "hide-input"
    ]
   },
   "outputs": [],
   "source": [
    "# this_picture = PILImage.open(\"resources/pictures/carduus-crispus.JPG\")\n",
    "# output = io.BytesIO()\n",
    "# this_picture.thumbnail((800, 1200))\n",
    "# this_picture.save(output, format='PNG')\n",
    "# encoded_string = base64.b64encode(output.getvalue()).decode()\n",
    "\n",
    "# html = '<img src=\"data:image/png;base64,{}\"/>'.format(encoded_string)\n",
    "# md(html)"
   ]
  },
  {
   "cell_type": "markdown",
   "id": "1db5e4de",
   "metadata": {},
   "source": [
    "*Carduus crispus growing on the banks of the Madretschkanal*"
   ]
  },
  {
   "cell_type": "markdown",
   "id": "2e1e8dd2",
   "metadata": {},
   "source": []
  },
  {
   "cell_type": "markdown",
   "id": "935001a0",
   "metadata": {},
   "source": [
    "## Background\n",
    "\n",
    "Ecological systems in Europe are under intense stress from various human pressures. Extinction rates are high and on the rise, especially among species dependent on ecological niches that have experienced significant decline, such as wetland habitats and wildflower meadows. The current rate of extinction globally is estimated to be around 10X - 100X higher than the background extinction rate, and is often characterized by extinction without replacement, which further leads to the loss of integrity of ecological systems. In addition to extinctions, we see the rarefaction of formerly common species and a general decline in the total mass of wild mammals, birds and insects. An example of this which prompted serious reflection among scientists, civil society and governments is a 2017 paper which identified a 75% decline between 1989 and 2017 in flying insect mass in nature reserves in Southern Germany. Where long term data on insect populations is available, all evidence points to a long term decline across Europe with an estimated 10% of pollinator species being considered threatened with extinction. Europe's flora faces similar challenges: half of the continents endemic tree species are threatened.\n",
    "<p>&nbsp;</p>\n",
    "In Switzerland, more than a quarter of Swiss vascular plants are under threat with \"thousands of local extinctions\" of sensitive and endangered species. These localized extinctions are most prominent in Switzerland's Central Plateau region. This is partially due to the unique bio-geography of this region and partially due to the intense human pressures on the Central Plateau, home to most of Switzerland's agricultural output and where 70% of the population lives and works. 60% of the vascular plant species evaluated for the International Union of the Conservation of Nature's Redlist are classified as potentially or actually regionally threatened in the Central Plateau, followed by 50% of evaluated species for the Jura. As Biel lies on the border between two regions, the city has an opportunity and a responsibility to act.\n",
    "<p>&nbsp;</p>\n",
    "As the researchers who identified these local extinctions put it :\n",
    "> Our study presents clear evidence that current efforts\n",
    "to conserve threatened plant species are insufficient to\n",
    "achieve national and international targets (Convention\n",
    "on Biological Diversity (CBD), 2011; Swiss Biodiversity\n",
    "Strategy 2012) for maintaining biodiversity. The current\n",
    "paradigm of protecting and restoring threatened habitats\n",
    "is failing to avert extinctions. Going forward, we need to\n",
    "develop a comprehensive landscape approach, involving\n",
    "the creation of ecological infrastructure and translocation\n",
    "and assisted migration of threatened species into suitable\n",
    "habitats.\n",
    "\n",
    "Similarly, the situation for insects and especially pollinators, often taken as key biological indicators, is extremely worrying. Of the 226 butterfly and moth species monitored nationally (out of some 3700 lepidotpera species confirmed in Switzerland), just over 50% are considered to be under threat or potentially under threat.  Switzerland has not escaped the pan European decline in insect populations and diversity and researchers are clear that significant steps need to be taken immediately to reverse these trends. Most of this loss is occurring due to insecticides, ever increasing intensification of agriculture, and continued artificialisation of land for residential, agricultural or commercial purposes.\n",
    "<p>&nbsp;</p>\n",
    "While national actors work to set standards and engage in international negotiations to protect biodiversity and ecosystem health on a global scale, local public and private actors have significant room to maneuver. It is well known that one way to mitigate some of the anthropologic pressure is a judicious use of public spaces, such as road verges, railroad berms and parks, that balances their potential as habitats with the needs and requirements of the city's inhabitants. Allowing spaces to go un-mowed, sowing flower beds, and creating micro-habitats strategically throughout urban and suburban areas are small, relatively cost-neutral steps that can have marginal but important impacts. In fact, studies have shown that (sub)urban green spaces and road verges can provide plants, insects and birds with suitable conditions to pursue their life cycles and even become a \"last refuge\" for certain species.\n",
    "<p>&nbsp;</p>\n",
    "At the same time, it is important to consider the effectiveness of the actions being taken by local authorities. Annual flower meadows for pollinators are an increasingly common sight in different countries, yet provide only a fraction of the resources of perennial meadows, which themselves do not provide resources as continuously throughout the year as remnant weed populations. There are many factors to consider, and unraveling the complex web of ecosystem interdependence remains on the frontier of science. Beyond the ecological questions, there is also the question of genetic diversity. A significant part of biodiversity that had been overlooked until relatively recently, genetic diversity is required for the long term health and success of populations. This project will not address these questions directly, but will build the knowledge to begin addressing them during the second iteration. "
   ]
  },
  {
   "cell_type": "code",
   "execution_count": 3,
   "id": "7070f01b",
   "metadata": {
    "tags": [
     "hide-input",
     "hide-output"
    ]
   },
   "outputs": [
    {
     "data": {
      "image/png": "[encoded data removed]",
      "text/plain": [
       "<Figure size 504x360 with 1 Axes>"
      ]
     },
     "metadata": {},
     "output_type": "display_data"
    }
   ],
   "source": [
    "# a convenience function to make pretty tables:\n",
    "def make_a_summary_table(ax, data, cols_to_use, a_color='dodgerblue', font_size=12, s_et_bottom_row=True):\n",
    "    \"\"\" Makes a table of values with alternate row cololrs.\n",
    "\n",
    "    Args:\n",
    "        ax: object: matplotlib table object\n",
    "        data: array: the 2d array used to generate the table object\n",
    "        cols_to_use: array: the list of column names\n",
    "        a_color: str: matplotlib named color, face and edgecolor of table cells\n",
    "        font_size: int: the font size for the table cells\n",
    "        s_et_bottom_row: bool: whether or not to draw bottom line on the last row\n",
    "\n",
    "    Returns:\n",
    "        The table object formatted.\n",
    "    \"\"\"\n",
    "\n",
    "    ax.auto_set_font_size(False)\n",
    "    the_cells = ax.get_celld()\n",
    "\n",
    "    line_color = colors.to_rgba(a_color)\n",
    "    banded_color = (*line_color[:-1], 0.1)\n",
    "\n",
    "    # the different areas of formatting\n",
    "    top_row = [(0, i) for i, x in enumerate(cols_to_use)]\n",
    "    bottom_row = [(len(data), i) for i, x in enumerate(cols_to_use)]\n",
    "    top_columns = top_row[1:]\n",
    "    data_rows = [x for x in list(the_cells.keys()) if x not in top_row]\n",
    "    odd_rows = [x for x in data_rows if x[0] % 2 > 0]\n",
    "    first_column = [x for x in data_rows if x[1] == 0]\n",
    "\n",
    "    # make the first cell a littel smaller than the others\n",
    "    ax[0, 0].set_height(1 / (len(data)))\n",
    "    ax[0, 0].set_text_props(**{'va': 'top'})\n",
    "\n",
    "    for a_cell in top_row:\n",
    "        ax[a_cell].visible_edges = 'B'\n",
    "        ax[a_cell].set_text_props(**{'fontsize': font_size})\n",
    "        ax[a_cell].set_edgecolor('white')\n",
    "        ax[a_cell].PAD = .2\n",
    "\n",
    "    for a_cell in top_columns:\n",
    "        ax[a_cell].set_height((1.25 / (len(data))))\n",
    "        ax[a_cell].set_text_props(**{'va': 'center'})\n",
    "\n",
    "        ax[a_cell].set_edgecolor(line_color)\n",
    "        ax[a_cell].visible_edges = 'T'\n",
    "\n",
    "    for a_cell in odd_rows:\n",
    "        ax[a_cell].set_facecolor(banded_color)\n",
    "\n",
    "    for a_cell in data_rows:\n",
    "        ax[a_cell].set_height(.75 / (len(data)))\n",
    "        ax[a_cell].visible_edges = 'BTLR'\n",
    "        ax[a_cell].set_text_props(**{'fontsize': font_size})\n",
    "        ax[a_cell].set_edgecolor('white')\n",
    "        ax[a_cell]._text.set_horizontalalignment('center')\n",
    "\n",
    "    for a_cell in first_column:\n",
    "        ax[a_cell]._text.set_horizontalalignment('right')\n",
    "        ax[a_cell].PAD = .02\n",
    "\n",
    "    if s_et_bottom_row is True:\n",
    "        for a_cell in bottom_row:\n",
    "            ax[a_cell].visible_edges = 'B'\n",
    "        ax[a_cell].set_edgecolor(line_color)\n",
    "\n",
    "    return ax\n",
    "\n",
    "# convenience function \n",
    "def hide_spines_ticks_grids(an_ax):\n",
    "    \"\"\"Removes spines, ticks and grid from matplotlib axis object\n",
    "\n",
    "    Args:\n",
    "        an_ax: object: matplotlib axis\n",
    "\n",
    "    Returns:\n",
    "          nothing\n",
    "\n",
    "    \"\"\"\n",
    "    for spine in an_ax.spines.values():\n",
    "        spine.set_visible(False)\n",
    "    an_ax.tick_params(bottom=False, labelbottom=False, left=False, labelleft=False)\n",
    "    an_ax.grid(False)\n",
    "    \n",
    "\n",
    "# table from page 20\n",
    "p20_rlist = {\n",
    "    \"-\": [738, 732, 381, 452, 696, 411],\n",
    "    \"NE\":[200, 194, 206, 203, 200, 205],\n",
    "    \"NA\":[87, 80, 65, 41, 33, 18],\n",
    "    \"DD\":[90, 99, 108, 134, 130, 150],\n",
    "    \"Total\":[1095, 1105, 760, 830, 1059, 784]\n",
    "}\n",
    "\n",
    "# put the dict to a df and format the output with commas\n",
    "p20rlist = pd.DataFrame.from_dict(p20_rlist, orient='index', columns=[\"JU\", \"MP\", \"NA\", \"WA\",\"EA\", \"SA\"])\n",
    "som_data = p20rlist.applymap(lambda x: F\"{x:,}\")\n",
    "data = som_data.reset_index()\n",
    "\n",
    "fig, axs = plt.subplots(figsize=(len(data.columns),len(data)))\n",
    "\n",
    "# clean up the axis\n",
    "hide_spines_ticks_grids(axs)\n",
    "\n",
    "# add a table to the axis with data\n",
    "the_table_ax = axs.table(data.values,  colLabels=data.columns, colWidths=[.14]*7, bbox=[0, 0, 1, 1])\n",
    "\n",
    "# make the table pretty\n",
    "a_summary_table_one = make_a_summary_table(the_table_ax,data,data.columns, font_size=16, s_et_bottom_row=False)\n",
    "\n",
    "# remove the cell text from [0,0], the index name\n",
    "a_summary_table_one.get_celld()[(0,0)].get_text().set_text(\" \")\n",
    "\n",
    "plt.tight_layout()\n",
    "plt.show()\n",
    "plt.close()"
   ]
  },
  {
   "cell_type": "markdown",
   "id": "2a1211f4",
   "metadata": {},
   "source": [
    "## Objectives\n",
    "\n",
    "The overall goal of this report is to build the base of knowledge needed to generate a revenue stream that sustainably creates local ecological value. I chose to survey the urban Suze river and its Madretschkanal variant in Biel because I live in the neighborhood. There are numerous habitats available along the river and this urban-suburban mix is a habitat similar to the lived environment of millions of other people in medium size cities across continental Europe and who could thus benefit from the lessons learned and products and services developed as this project goes forward in the next years.\n",
    "<p>&nbsp;</p>\n",
    "The specific objectives of this report are the following:\n",
    "* Create an initial dataset of vascular plants along the Suze river\n",
    "* Provide a framework to engage with the local bio-geography and the actors involved\n",
    "* Identify next steps for bringing sustainable value to the local economy based on the local flora"
   ]
  },
  {
   "cell_type": "markdown",
   "id": "9e143aa8",
   "metadata": {},
   "source": [
    "## Survey Locations\n",
    "\n",
    "The bulk of the survey sites are located along the suze river and its Madretschkanal variant. They lie primarily between the exit of the Suze river from the Taubenloch gorges and the end of the river into Lake Biel / Thiel river. Along this stretch of the river, as with many urban settings, there are many varied habitats, from deep shade to full pavement to (wild) flower strips maintained for ecological and aesthetic purposes. The sites are managed by the municipality to a greater or less degree and all areas surveyed were open access to the public and chosen to be reasonably accessible for an average person.\n",
    "<p>&nbsp;</p>\n",
    "Surveys were carried out essentially on the Central Plateau in the city of Bienne, at the foot of the first range of the Jura mountains. In addition, a few surveys were conducted near Lac de Neuchatel and Lac de Thoune, in the Jura, and on the other side of Lac de Bienne. I organized the survey locations using Google MyMaps. The survey locations were generally chosen so that the geographic extent of the survey location would be more or less clear from the satellite imagery."
   ]
  },
  {
   "cell_type": "code",
   "execution_count": 4,
   "id": "b051b614",
   "metadata": {
    "tags": [
     "hide-input"
    ]
   },
   "outputs": [],
   "source": [
    "# this_picture = PILImage.open(\"resources/pictures/suze-2.JPG\")\n",
    "# output = io.BytesIO()\n",
    "# this_picture.thumbnail((800, 1200))\n",
    "# this_picture.save(output, format='PNG')\n",
    "# encoded_string = base64.b64encode(output.getvalue()).decode()\n",
    "\n",
    "# html = '<img src=\"data:image/png;base64,{}\"/>'.format(encoded_string)\n",
    "# md(html)"
   ]
  },
  {
   "cell_type": "markdown",
   "id": "42579996",
   "metadata": {},
   "source": [
    "*The undergrowth is dominated by Heracleum sphondylium on this stretch of the Madretschkanal in late summer*"
   ]
  },
  {
   "cell_type": "code",
   "execution_count": 5,
   "id": "b7f55d40",
   "metadata": {
    "tags": [
     "hide-input"
    ]
   },
   "outputs": [],
   "source": [
    "# this_picture = PILImage.open(\"resources/pictures/suze-4.JPG\")\n",
    "# output = io.BytesIO()\n",
    "# this_picture.thumbnail((800, 1200))\n",
    "# this_picture.save(output, format='PNG')\n",
    "# encoded_string = base64.b64encode(output.getvalue()).decode()\n",
    "\n",
    "# html = '<img src=\"data:image/png;base64,{}\"/>'.format(encoded_string)\n",
    "# md(html)"
   ]
  },
  {
   "cell_type": "markdown",
   "id": "8bba4f97",
   "metadata": {},
   "source": [
    "*This bit of ground about 150 meters south of the Taubenloch Gorge hosted prominent Malva alcea plants.*"
   ]
  },
  {
   "cell_type": "code",
   "execution_count": 6,
   "id": "50b408eb",
   "metadata": {
    "tags": [
     "hide-input"
    ]
   },
   "outputs": [],
   "source": [
    "# this_picture = PILImage.open(\"resources/pictures/eupatorium-suze.JPG\")\n",
    "# this_picture  = this_picture.rotate(90)\n",
    "# output = io.BytesIO()\n",
    "# this_picture.thumbnail((800, 1200))\n",
    "# this_picture.save(output, format='jpeg')\n",
    "# encoded_string = base64.b64encode(output.getvalue()).decode()\n",
    "\n",
    "# html = '<img src=\"data:image/png;base64,{}\"/>'.format(encoded_string)\n",
    "# md(html)"
   ]
  },
  {
   "cell_type": "markdown",
   "id": "a16cb5bd",
   "metadata": {},
   "source": [
    "*A patch of Eupatorium cannabinium growing along the Suze*"
   ]
  },
  {
   "cell_type": "code",
   "execution_count": 7,
   "id": "0e072c12",
   "metadata": {
    "tags": [
     "hide-input"
    ]
   },
   "outputs": [],
   "source": [
    "# this_picture = PILImage.open(\"resources/pictures/MyMaps.png\")\n",
    "# # this_picture  = this_picture.rotate(90)\n",
    "# output = io.BytesIO()\n",
    "# this_picture.thumbnail((800, 1200))\n",
    "# this_picture.save(output, format='jpeg')\n",
    "# encoded_string = base64.b64encode(output.getvalue()).decode()\n",
    "\n",
    "# html = '<img src=\"data:image/png;base64,{}\"/>'.format(encoded_string)\n",
    "# md(html)"
   ]
  },
  {
   "cell_type": "markdown",
   "id": "520f1f54",
   "metadata": {},
   "source": [
    "*The survey sites along the urban suze river as saved in Google MyMaps*"
   ]
  },
  {
   "cell_type": "markdown",
   "id": "17c7fe2b",
   "metadata": {},
   "source": [
    "## Survey period\n",
    "The survey period stretched from June - September 2020, with the majority of plant observations accomplished in August and September 2020. This is because as I gained experience I was able to identify plants more quickly in the field and I expanded the range of plants identified. Surveys were not conducted on rainy days to avoid harming the recording tools and because many flowers close during the rain and are thus much more difficult to identify. In addition, I surveyed at mixed times of the day ranging from morning until evening, depending on when I had an opportunity to conduct surveys. Data on time of day was dropped from this report as it was not uniformly recorded, but has been maintained in the local dataset for about 60% of the observations. Some sites were surveyed multiple times while others were surveyed once. \n",
    "<p>&nbsp;</p>\n",
    "The following table summarizes the timing of surveys and the survey period.\n",
    "<p>&nbsp;</p>"
   ]
  },
  {
   "cell_type": "markdown",
   "id": "463da532",
   "metadata": {},
   "source": [
    "*Number of species recorded per sample. June 01, 2020 through September 31, 2020*"
   ]
  },
  {
   "cell_type": "code",
   "execution_count": 8,
   "id": "5fb022de",
   "metadata": {
    "tags": [
     "hide-input"
    ]
   },
   "outputs": [
    {
     "data": {
      "image/png": "[encoded data removed]",
      "text/plain": [
       "<Figure size 720x360 with 2 Axes>"
      ]
     },
     "metadata": {},
     "output_type": "display_data"
    }
   ],
   "source": [
    "# the survey data\n",
    "sdata = pd.read_csv(\"resources/hd_samples_2020.csv\")\n",
    "sdata['date'] = pd.to_datetime(sdata.date)\n",
    "sdata = sdata[(sdata.date > \"2020-05-31\")&(sdata.date < \"2020-10-01\")].copy()\n",
    "\n",
    "# set some variables for the charts\n",
    "xlab_k14 = {'labelpad':10, 'fontsize':14}\n",
    "sns.set_style('whitegrid')\n",
    "\n",
    "fig, axs = plt.subplots(1, 2, figsize=(10,5))\n",
    "\n",
    "ax = axs[0]\n",
    "\n",
    "data = sdata.groupby(['loc_date', 'date'], as_index=False).species_slug.nunique()\n",
    "\n",
    "sns.scatterplot(data=data, x='date', y=data.species_slug, ax=ax)\n",
    "ax.xaxis.set_major_locator(mdates.MonthLocator(interval=1))\n",
    "ax.xaxis.set_major_formatter(mdates.DateFormatter('%b'))\n",
    "# ax.get_legend().remove()\n",
    "ax.set_xlabel(\" \")\n",
    "ax.set_ylabel(\"Number of species per sample\", **xlab_k14)\n",
    "axtwo = axs[1]\n",
    "\n",
    "sdata['month'] = sdata.date.dt.month_name()\n",
    "sdata['eom'] = sdata['date'].map(lambda x: pd.Period(x, freq='M').end_time.date())\n",
    "\n",
    "data = sdata.groupby(['month', 'eom'], as_index=False).agg({'species_slug':'nunique', 'loc_date':'nunique'})\n",
    "datax = data.sort_values(by=\"eom\")\n",
    "data = datax[[\"month\", \"species_slug\", \"loc_date\"]].copy()\n",
    "data.rename(columns={\"species_slug\":\"n species\", \"loc_date\":\"n samples\"}, inplace=True)\n",
    "\n",
    "# clean up the axis\n",
    "hide_spines_ticks_grids(axtwo)\n",
    "\n",
    "# add a table to the axis with data\n",
    "the_table_ax = axtwo.table(data.values,  colLabels=data.columns, colWidths=[.33, .33, .33], bbox=[0, 0, 1, 1])\n",
    "\n",
    "# make the table pretty\n",
    "a_summary_table_one = make_a_summary_table(the_table_ax,data,data.columns, font_size=16, s_et_bottom_row=False)\n",
    "\n",
    "# remove the cell text from [0,0], the index name\n",
    "a_summary_table_one.get_celld()[(0,0)].get_text().set_text(\" \")\n",
    "\n",
    "plt.tight_layout()\n",
    "plt.show()"
   ]
  },
  {
   "cell_type": "markdown",
   "id": "780aa3fc",
   "metadata": {},
   "source": [
    "*Number of species and samples per month June through September 2020*"
   ]
  },
  {
   "cell_type": "markdown",
   "id": "480c1f8f",
   "metadata": {},
   "source": [
    "## Data sources\n",
    "\n",
    "The primary source of reference data is Info Flora, the organization charged with monitoring plant ecology nationally in Switzerland and making the data available to the public and for research and reporting purposes. The data sets downloaded were the following: </p>\n",
    "\n",
    "* Bio-geographical regions: The locations of botanical observations in Switzerland are available to the public in one of two ways. In conforming with international standards, exact data is not provided to the public except upon special request to minimize potential damage the public may cause to the plants for one reason or another. The first aggregation of observations is done by dividing Switzerland into hundreds of bio-geographical regions, called the Welten Sutter maps. The second divides Switzerland into 5x5 kilometer squares and aggregates the data in each square. The Welten Sutter and 5x5 species lists that coincided with the locations of my surveys were downloaded to compare my observations to those I would be expected to encounter based on these data sources.\n",
    "* Invasive species: Info Flora also maintains a list of potentially and actually invasive species, classified into \"watch list\" and \"black list\". Watch list species threaten to expand and become an issue and planting them should be discouraged, while black list species have already had a significant environmental, economic or human effect in Switzerland. In addition, this list includes the species barred from being sold, planted or used commercially.\n",
    "* IUCN Red List: The International Union for the Conservation of Nature red list is the international standard for tracking the threats faced by different species. For Switzerland, this list is also managed by Info Flora. The latest dataset was downloaded to determine the protection status of the different categories of species identified.\n",
    "* Other: Two other data sets were downloaded from the Info Flora website, the list of under-sampled taxa and the list of species that appear on the certification exams for the Swiss Botanical Society. With these data sets I wanted to find out how relevant the certification list of species is to the flora I found around Biel, as well as see if there were any under-sampled taxa identified in my surveys.\n",
    "* GBIF: The Global Biodiversity Information Facility hosts an Info Flora dataset available for use to the public. This data was downloaded and inspected but not put to use.\n",
    "\n",
    "There are a number of other potentially useful data sources available through the work of third parties. The data previously discussed provided more than enough of a foundation for the introductory analysis that is the primary objective of this report, and thus third party data was not included in this report. To name a few interesting data sources for 2021 that could requested to build off of this analysis:\n",
    "\n",
    "* Request more detailed geographical data from Info Flora on the species identified in and around Biel\n",
    "* Request the dataset of the Cadastre des Arbes of Bienne to easily import the majority of tree species in and around Bienne\n",
    "* Integrate biogeographical data on inverterbates tied to specific plant speices identified."
   ]
  },
  {
   "cell_type": "markdown",
   "id": "8454f337",
   "metadata": {},
   "source": [
    "## Tools\n",
    "\n",
    "The tools used in this project amounted to about CHF 400 (not counting my camera and smartphone), the most significant expenditure being the 5th edition of Flora Helvetica. My botanical kit was comprised of the following:\n",
    "    \n",
    "* Botanical loop 8x/16X\n",
    "* Digital Microscope 60X-300X\n",
    "* Flora Helvetica 5th edition\n",
    "* Scissors, knife, razorblade\n",
    "* Glass containers, a few tupperwares, plastic and paper bags\n",
    "* Samsung A7 smartphone\n",
    "* Sony Cybershot digital camera\n",
    "\n",
    "A number of different plant identificaiton application were downloaded and tried, with <a href=\"https://floraincognita.com/\">Flora Incognita</a> and <a href=\"https://plantnet.org/\">PlantNet</a> being clearly the two most appropriate options. I chose to record my observations primarily in Flora Incognita for this project, which was not the superior option. Although the PlantNet tool has a few advantages over Flora Incognita, neither of these were the most suitable ways to record and store the mass of observations. It is unnecessary to store a picture for every single observation, especially for common species. In addition, the nomenclature is not the same across Info Flora, Plant Net and Flora Incognita. It is thus superior to use the nomenclature of Info Flora to store the survey data for compatbility with datasets provided by Info Flora and to ease ultimate submission of the observations to Info Flora as well. As such, this should be done via the <a href=\"https://www.infoflora.ch/fr/participer/mes-observations/app/florapp.html\">Florapp</a> application or recorded in a botanical journal and subsequently entered into a database using the same nomenclature.\n",
    "<p>&nbsp;</p>\n",
    "Below is a short comparison of the PlantNet and Info Flora applications.\n",
    "\n",
    "* Both applications generally came up with the same usually accurate top reccomended observation.\n",
    "* Both applications allow for easy export to CSV.\n",
    "* Both applications are user friendly and accessible.\n",
    "* PlantNet offered more reccomendations for similar species\n",
    "* PlantNet has a significantly higher investment in the look, useability, and frontend of the user portal.\n",
    "* PlantNet's GPS was significantly more accurate, while Flora Incognita's could be off by 500 meters in the same location.\n",
    "* Neither application allowed the user to simply enter plant observations without photos.\n",
    "* Neither application is linked formally to Switzerland's national database managed by Info Flora.\n",
    "\n",
    "Since Florapp, the application from Info Flora to record vascular plants in Switzerland, will be offering an automic plant identification service, I expect that this will become the clearly superior option for both identification and survey purposes.\n",
    "<p>&nbsp;</p>"
   ]
  },
  {
   "cell_type": "markdown",
   "id": "5596b612",
   "metadata": {},
   "source": [
    "*The different plant identification and data storage applications*"
   ]
  },
  {
   "cell_type": "code",
   "execution_count": 9,
   "id": "b7a1940c",
   "metadata": {
    "tags": [
     "hide-input"
    ]
   },
   "outputs": [],
   "source": [
    "# fig = plt.figure(figsize=(12,8))\n",
    "\n",
    "# # check gridspec at:\n",
    "# # https://matplotlib.org/stable/api/_as_gen/matplotlib.gridspec.GridSpec.html\n",
    "# gs = GridSpec(8,14, figure=fig)\n",
    "\n",
    "# # read images\n",
    "# # check mp images at https://matplotlib.org/stable/tutorials/introductory/images.html\n",
    "# img_A = mpimg.imread('resources/pictures/FloraIncognita.jpg')\n",
    "# img_B = mpimg.imread('resources/pictures/FlorApp.jpg')\n",
    "# img_c = mpimg.imread('resources/pictures/PlantNet.jpg')\n",
    "\n",
    "# # assign a grid space\n",
    "# axone = fig.add_subplot(gs[:, 0:5])\n",
    "# axtwo = fig.add_subplot(gs[:, 5:10])\n",
    "# axthree = fig.add_subplot(gs[2:,10:])\n",
    "\n",
    "# # titles for each image\n",
    "# titles = [\"Flora Incognita\", \"FlorApp\", \"PlantNet\"]\n",
    "\n",
    "# # format each axis\n",
    "# for i, an_ax in enumerate([axone, axtwo, axthree]):\n",
    "#     hide_spines_ticks_grids(an_ax)\n",
    "#     an_ax.set_xlabel(titles[i], fontsize=16, loc='left', labelpad=15)\n",
    "    \n",
    "# # show images\n",
    "# axone.imshow(img_A)\n",
    "# axtwo.imshow(img_B)\n",
    "# axthree.imshow(img_c)\n",
    "\n",
    "\n",
    "# plt.tight_layout()\n",
    "# plt.show()\n"
   ]
  },
  {
   "cell_type": "markdown",
   "id": "922b8370",
   "metadata": {},
   "source": [
    "## Methodology\n",
    "\n",
    "The surveys attempt to answer the question “what are the different types of herbaceous plants flowering in this location?\" At first I focused on herbaceous plants that I felt I had a good chance to identify, namely the plants in full bloom that were relatively tall and recognizeable, such as the *Alcea rosea* pictured below. Although passingly familiar with some of the flora of North America, I had never examined in detail the flora around me in Europe. Plants were identified both in situ and ex situ by combining the two automatic plant identification tools mentioned previously and the 4th edition of the Flora Helvetica guidebook. For June and July, I used primarily PlantNet, while from July 31st through September 30th, I used the FloraIncognita application as the principal method to record and store the species observations. I did not identify subspecies.\n",
    "<p>&nbsp;</p>\n",
    "The approach was the following:\n",
    "1. first the plant would be identified with a picture through PlantNet or Flora Incognita\n",
    "2. then the most likely species was searched in Flora Helvetica to determine if the match was correct or not. If confirmed, the result was accepted and stored in the application.\n",
    "3. If the match was unsatisfactory, the other suggested species were examined until a good match was found. \n",
    "4. If no species was a satisfactory match, it was either ignored (there were many plants that I could not identify, especially in June and July) or saved as unknown. If it was saved as unknown a sample and/or detailed pictures were taken for examination at home. In the interest of preserving the flora examined, relatively few samples were taken.\n",
    "5. Samples were exmained under a microscope to identify plant anatomy and some samples were dried and preserved.\n",
    "\n",
    "This methodology allowed me to get started identifying plants right away thanks to the automated suggestions from the identification apps. At the same time, the thorough use of the guidebook allowed me to verify these identifications and be much more confident in reporting these observations. By gradually increasing the groups of herbaceous plants that I identified during the surveys, I was able to take the time needed to be fairly certain about my observations even from the beginning of this project. As time went on, I included further herbaceous plants, shrubs and small trees and especially more of the plants from the Asteraceae family (the so-called Darn Yellow Composites). As such, the range of species increased over time and by the end of the survey period, the tall trees, decorative-type shrubbery, and grasses remained the only groups that I had made little effort to identify. \n",
    "<p>&nbsp;</p>\n",
    "A survey is uniquely identified by a place name and a date and is composed of a collection of individual species observations, each of which records the following information: place, date and scientific name. I chose many survey locations to be somewhat measurable and recognizable from satellite imagery and I relied on the GPS point stored by the Flora Incognita application and Google MyMaps. The upside of such a regime is that it allowed me to place the records on a map of the city while I focus on the actual identification of plants and introduction to botany and plant anatomy. The downside is that I do not have length records and some of the survey locations are inexact due to poor GPS readings identified only towards the end of the project. Included with each survey are pictures of the survey locations, pictures of many of the individual plant species, and notes/drawings that acocmpany the survey. The place name corresponds to a gps coordinate. \n",
    "<p>&nbsp;</p>\n",
    "After initially attempting to follow a simple and a belt transect methodology for these surveys, I realized that the surey sites were not conducive to such a methodology nor did I have the necessary botanical experience. Since I was surveying only a range of species and only those that were in flower, I was not able to identify enough species along the transect points without laying them out in a deliberate fashion which ruins the transect. Therefore I simply identified to the best of my ability all of the plants on a given survey site."
   ]
  },
  {
   "cell_type": "code",
   "execution_count": 10,
   "id": "16fcd085",
   "metadata": {
    "tags": [
     "hide-input"
    ]
   },
   "outputs": [],
   "source": [
    "# this_picture = PILImage.open(\"resources/pictures/alcea-rosea.JPG\")\n",
    "# output = io.BytesIO()\n",
    "# this_picture.thumbnail((800, 1200))\n",
    "# this_picture.save(output, format='jpeg')\n",
    "# encoded_string = base64.b64encode(output.getvalue()).decode()\n",
    "\n",
    "# html = '<img src=\"data:image/png;base64,{}\"/>'.format(encoded_string)\n",
    "# md(html)"
   ]
  },
  {
   "cell_type": "markdown",
   "id": "747f7eb0",
   "metadata": {},
   "source": [
    "*Alcea rosea is a large, easy to recognize plant.*"
   ]
  },
  {
   "cell_type": "code",
   "execution_count": 11,
   "id": "b9fec854",
   "metadata": {
    "tags": [
     "hide-input"
    ]
   },
   "outputs": [],
   "source": [
    "# this_picture = PILImage.open(\"resources/pictures/energie-2.JPG\")\n",
    "# output = io.BytesIO()\n",
    "# this_picture.thumbnail((800, 1200))\n",
    "# this_picture.save(output, format='jpeg')\n",
    "# encoded_string = base64.b64encode(output.getvalue()).decode()\n",
    "\n",
    "# html = '<img src=\"data:image/png;base64,{}\"/>'.format(encoded_string)\n",
    "# md(html)"
   ]
  },
  {
   "cell_type": "markdown",
   "id": "c503a78f",
   "metadata": {},
   "source": [
    "*Another large, easy to recognize plant is the vine Clematis vitalba which thrived throughout the survey area.*"
   ]
  },
  {
   "cell_type": "code",
   "execution_count": 12,
   "id": "9ac123c9",
   "metadata": {
    "tags": [
     "hide-input"
    ]
   },
   "outputs": [],
   "source": [
    "# this_picture = PILImage.open(\"resources/pictures/matricaria-1-out.JPG\")\n",
    "# output = io.BytesIO()\n",
    "# this_picture.thumbnail((800, 1200))\n",
    "# this_picture.save(output, format='jpeg')\n",
    "# encoded_string = base64.b64encode(output.getvalue()).decode()\n",
    "\n",
    "# html = '<img src=\"data:image/png;base64,{}\"/>'.format(encoded_string)\n",
    "# md(html)"
   ]
  },
  {
   "cell_type": "markdown",
   "id": "7f92a6dc",
   "metadata": {},
   "source": [
    "*Many members of the Asteraceae family, like this Matricaria chamomilla are much more difficult to identify.*"
   ]
  },
  {
   "cell_type": "markdown",
   "id": "2d5b97c2",
   "metadata": {},
   "source": [
    "## Results\n",
    "\n",
    "Summary statistics\n",
    "\n",
    "There was a wide variation in species identified and in the number of species on each site. The most common genus and species are summarized in the table below. These results should be interpreted carefully. For example, *Trifolium Pratense* and *Trifolium medium* look quite similar and are both included under *T. pratense* in this data set. In addition, *Trifolium repens* was not included in the surveys until near the end of the survey period, despite being extremely common. In addition, the near total exclusion of very common species such as *Lontodon sp.*, *Taraxacum sp.* and *crepis sp.* from this dataset certainly affects these results. This will be in part corrected in the 2021 surveys, although efficiently identifying members of the Asteraceae family is an art form that takes years."
   ]
  },
  {
   "cell_type": "code",
   "execution_count": 13,
   "id": "e426b2b3",
   "metadata": {
    "tags": [
     "hide-input"
    ]
   },
   "outputs": [
    {
     "data": {
      "text/markdown": [
       "\n",
       "There were 227 different species indentified in 119 surveys from\n",
       "98 different locations.\n"
      ],
      "text/plain": [
       "<IPython.core.display.Markdown object>"
      ]
     },
     "execution_count": 13,
     "metadata": {},
     "output_type": "execute_result"
    }
   ],
   "source": [
    "# all the survey locations\n",
    "survey_locations = pd.read_csv(\"resources/map-keys.csv\")\n",
    "\n",
    "# the locations concerned by this report\n",
    "report_locations = pd.read_csv(\"resources/locations_in_report.csv\")\n",
    "r_locs = report_locations.place.unique()\n",
    "\n",
    "# the survey results for the locations within the sampling period and geographic constrains\n",
    "s_data = sdata[sdata.place_slug.isin(r_locs)].copy()\n",
    "p_this = sdata.agg({'species_slug':'nunique', 'loc_date':'nunique', 'place_slug':'nunique'})\n",
    "\n",
    "a_summary = F\"\"\"\n",
    "There were {p_this.loc['species_slug']} different species indentified in {p_this.loc['loc_date']} surveys from\n",
    "{p_this.loc['place_slug']} different locations.\n",
    "\"\"\"\n",
    "md(a_summary)"
   ]
  },
  {
   "cell_type": "markdown",
   "id": "8a547d96",
   "metadata": {},
   "source": [
    "### The ten genus and species recorded the most often"
   ]
  },
  {
   "cell_type": "markdown",
   "id": "0756489b",
   "metadata": {},
   "source": [
    "*__Right:__ the ten species recorded the most often. __Left:__ the ten genus recorded the most often*"
   ]
  },
  {
   "cell_type": "code",
   "execution_count": 14,
   "id": "03ce2ac3",
   "metadata": {
    "tags": [
     "hide-input"
    ]
   },
   "outputs": [
    {
     "data": {
      "image/png": "[encoded data removed]",
      "text/plain": [
       "<Figure size 576x576 with 2 Axes>"
      ]
     },
     "metadata": {},
     "output_type": "display_data"
    }
   ],
   "source": [
    "# top ten most commonly identified species (species_topten):\n",
    "species_topten = s_data.species_slug.value_counts().sort_values(ascending=False)[:10]\n",
    "\n",
    "# top ten most commonly identified genus (genus_topten)\n",
    "# make a column of the first word of the species_slug\n",
    "s_data['genusx'] = s_data.species_slug.str.split('-')\n",
    "s_data['genus']  = s_data.genusx.map(lambda x: x[0])\n",
    "\n",
    "# get the value counts\n",
    "genus_topten = s_data.genus.value_counts().sort_values(ascending=False)[:10]\n",
    "\n",
    "# put that in a table\n",
    "fig, axs = plt.subplots(1,2, figsize=(8,8))\n",
    "\n",
    "axone=axs[0]\n",
    "\n",
    "data = list(zip(species_topten.index.values, species_topten.values))\n",
    "\n",
    "collabels = [\"species\", \"sightings\"]\n",
    "# clean up the axis\n",
    "hide_spines_ticks_grids(axone)\n",
    "\n",
    "# add a table to the axis with data\n",
    "the_table_ax = axone.table(data,  colLabels=collabels, colWidths=[.7, .3], bbox=[0, 0, 1, 1])\n",
    "\n",
    "# make the table pretty\n",
    "a_summary_table_one = make_a_summary_table(the_table_ax,data,collabels, font_size=14, s_et_bottom_row=False)\n",
    "\n",
    "axtwo=axs[1]\n",
    "\n",
    "data=list(zip(genus_topten.index.values, genus_topten.values))\n",
    "\n",
    "collabels = [\"genus\", \"sightings\"]\n",
    "# clean up the axis\n",
    "hide_spines_ticks_grids(axtwo)\n",
    "\n",
    "# add a table to the axis with data\n",
    "the_table_ax = axtwo.table(data,  colLabels=collabels, colWidths=[.6, .4], bbox=[0, 0, 1, 1])\n",
    "\n",
    "# make the table pretty\n",
    "a_summary_table_one = make_a_summary_table(the_table_ax,data,collabels, font_size=14, s_et_bottom_row=False)\n",
    "\n",
    "plt.tight_layout()\n",
    "plt.show()"
   ]
  },
  {
   "cell_type": "markdown",
   "id": "e69f05b0",
   "metadata": {},
   "source": [
    "*The ten genus recorded the most often*"
   ]
  },
  {
   "cell_type": "markdown",
   "id": "03a8804e",
   "metadata": {},
   "source": [
    "### *The ten survey locations with the highest number of unique species*"
   ]
  },
  {
   "cell_type": "code",
   "execution_count": 15,
   "id": "db422ca7",
   "metadata": {
    "tags": [
     "hide-input"
    ]
   },
   "outputs": [
    {
     "data": {
      "image/png": "[encoded data removed]",
      "text/plain": [
       "<Figure size 288x504 with 1 Axes>"
      ]
     },
     "metadata": {},
     "output_type": "display_data"
    }
   ],
   "source": [
    "# The ten survey locations with the highest number of unique species (sl_mostspecies)\n",
    "sl_mostspecies = s_data.groupby('place_slug', as_index=False).species_slug.nunique().sort_values(by='species_slug', ascending=False)\n",
    "\n",
    "# put that in a table\n",
    "fig, axs = plt.subplots(figsize=(4,7))\n",
    "\n",
    "axone=axs\n",
    "\n",
    "data = sl_mostspecies[:10].values\n",
    "\n",
    "collabels = [\"location\", \"n species\"]\n",
    "# clean up the axis\n",
    "hide_spines_ticks_grids(axone)\n",
    "\n",
    "# add a table to the axis with data\n",
    "the_table_ax = axone.table(data,  colLabels=collabels, colWidths=[.7, .3], bbox=[0, 0, 1, 1])\n",
    "\n",
    "# make the table pretty\n",
    "a_summary_table_one = make_a_summary_table(the_table_ax,data,collabels, font_size=14, s_et_bottom_row=False)\n",
    "\n",
    "plt.tight_layout()\n",
    "plt.show()"
   ]
  },
  {
   "cell_type": "code",
   "execution_count": 16,
   "id": "097f470d",
   "metadata": {
    "tags": [
     "hide-input"
    ]
   },
   "outputs": [],
   "source": [
    "# get the value counts per species per location\n",
    "# this does not seem important given the request below\n",
    "species_type_count_location = pd.DataFrame(s_data[['place_slug', 'species_slug']].value_counts())\n",
    "genus_type_count_location = pd.DataFrame(s_data[['place_slug', 'genus']].value_counts())\n",
    "st_cl = species_type_count_location.reset_index()\n",
    "gt_cl = genus_type_count_location.reset_index()\n",
    "\n",
    "# solve for a summary of the number of genus and species at a specific location\n",
    "buren2_species = st_cl.loc[st_cl.place_slug == 'buren-2']"
   ]
  },
  {
   "cell_type": "markdown",
   "id": "a3064602",
   "metadata": {},
   "source": [
    "### Identified plants on IUCN red list\n",
    "\n",
    "The IUCN maintains the world's leading database of information on extinction and rarefaction risk in animal, fungus and plant life. Switzerland follows the IUCN protocols and recently updated its database with data from 2019. Checked against this database, almost all species identified during the surveys were classified as \"LC\" or Least Concern on a national level, and also within the Jura and Middle Plateau regions. This result is to be expected as only the most robust and common species would be expected to be found in such an urban setting. There were however 3 species that were identified as Near Threatened, namely *Epilobium dodonaei*, *Dipsacus pilosus*, and *Cyclamen hederifolium*. High resolution pictures are available for the first two below. The E. dodonaei appeared to be planted by a resident along the river and the C. hederifolium appeared to be planted by the Ville de Bienne in the Parc Municipal. On the other hand, the D. pilosus appeared to be spontaneous with no obvious source nearby. One other species, Carduus personata, is of Least Concern on a national level, but is considered Near Threatened in the Middle Plateau.\n",
    "\n"
   ]
  },
  {
   "cell_type": "markdown",
   "id": "a6a15b41",
   "metadata": {},
   "source": [
    "*Species identified during the sampling period that are on the IUCN red list*\n",
    "\n",
    "*NT = Near Threatened*"
   ]
  },
  {
   "cell_type": "code",
   "execution_count": 17,
   "id": "5575ca62",
   "metadata": {
    "tags": [
     "hide-input"
    ]
   },
   "outputs": [
    {
     "ename": "AttributeError",
     "evalue": "'DataFrame' object has no attribute 'scientific_name'",
     "output_type": "error",
     "traceback": [
      "\u001b[0;31m---------------------------------------------------------------------------\u001b[0m",
      "\u001b[0;31mAttributeError\u001b[0m                            Traceback (most recent call last)",
      "\u001b[0;32m/tmp/ipykernel_8773/698912970.py\u001b[0m in \u001b[0;36m<module>\u001b[0;34m\u001b[0m\n\u001b[1;32m     35\u001b[0m \u001b[0;34m\u001b[0m\u001b[0m\n\u001b[1;32m     36\u001b[0m \u001b[0mred_list_data\u001b[0m\u001b[0;34m=\u001b[0m\u001b[0mpd\u001b[0m\u001b[0;34m.\u001b[0m\u001b[0mread_csv\u001b[0m\u001b[0;34m(\u001b[0m\u001b[0;34m\"resources/redlist.csv\"\u001b[0m\u001b[0;34m)\u001b[0m\u001b[0;34m\u001b[0m\u001b[0;34m\u001b[0m\u001b[0m\n\u001b[0;32m---> 37\u001b[0;31m \u001b[0mred_list_data\u001b[0m\u001b[0;34m[\u001b[0m\u001b[0;34m'slug'\u001b[0m\u001b[0;34m]\u001b[0m \u001b[0;34m=\u001b[0m \u001b[0mred_list_data\u001b[0m\u001b[0;34m.\u001b[0m\u001b[0mscientific_name\u001b[0m\u001b[0;34m.\u001b[0m\u001b[0mmap\u001b[0m\u001b[0;34m(\u001b[0m\u001b[0;32mlambda\u001b[0m \u001b[0mx\u001b[0m\u001b[0;34m:\u001b[0m \u001b[0mto_species_slug\u001b[0m\u001b[0;34m(\u001b[0m\u001b[0mx\u001b[0m\u001b[0;34m)\u001b[0m\u001b[0;34m)\u001b[0m\u001b[0;34m\u001b[0m\u001b[0;34m\u001b[0m\u001b[0m\n\u001b[0m\u001b[1;32m     38\u001b[0m \u001b[0mrmap\u001b[0m \u001b[0;34m=\u001b[0m \u001b[0mred_list_data\u001b[0m\u001b[0;34m[\u001b[0m\u001b[0;34m[\u001b[0m\u001b[0;34m'slug'\u001b[0m\u001b[0;34m,\u001b[0m \u001b[0;34m'CH'\u001b[0m\u001b[0;34m]\u001b[0m\u001b[0;34m]\u001b[0m\u001b[0;34m.\u001b[0m\u001b[0mset_index\u001b[0m\u001b[0;34m(\u001b[0m\u001b[0;34m'slug'\u001b[0m\u001b[0;34m)\u001b[0m\u001b[0;34m\u001b[0m\u001b[0;34m\u001b[0m\u001b[0m\n\u001b[1;32m     39\u001b[0m \u001b[0mrmapju\u001b[0m \u001b[0;34m=\u001b[0m \u001b[0mred_list_data\u001b[0m\u001b[0;34m[\u001b[0m\u001b[0;34m[\u001b[0m\u001b[0;34m'slug'\u001b[0m\u001b[0;34m,\u001b[0m \u001b[0;34m'JU'\u001b[0m\u001b[0;34m]\u001b[0m\u001b[0;34m]\u001b[0m\u001b[0;34m.\u001b[0m\u001b[0mset_index\u001b[0m\u001b[0;34m(\u001b[0m\u001b[0;34m'slug'\u001b[0m\u001b[0;34m)\u001b[0m\u001b[0;34m\u001b[0m\u001b[0;34m\u001b[0m\u001b[0m\n",
      "\u001b[0;32m~/anaconda3/envs/ppenv/lib/python3.7/site-packages/pandas/core/generic.py\u001b[0m in \u001b[0;36m__getattr__\u001b[0;34m(self, name)\u001b[0m\n\u001b[1;32m   5485\u001b[0m         ):\n\u001b[1;32m   5486\u001b[0m             \u001b[0;32mreturn\u001b[0m \u001b[0mself\u001b[0m\u001b[0;34m[\u001b[0m\u001b[0mname\u001b[0m\u001b[0;34m]\u001b[0m\u001b[0;34m\u001b[0m\u001b[0;34m\u001b[0m\u001b[0m\n\u001b[0;32m-> 5487\u001b[0;31m         \u001b[0;32mreturn\u001b[0m \u001b[0mobject\u001b[0m\u001b[0;34m.\u001b[0m\u001b[0m__getattribute__\u001b[0m\u001b[0;34m(\u001b[0m\u001b[0mself\u001b[0m\u001b[0;34m,\u001b[0m \u001b[0mname\u001b[0m\u001b[0;34m)\u001b[0m\u001b[0;34m\u001b[0m\u001b[0;34m\u001b[0m\u001b[0m\n\u001b[0m\u001b[1;32m   5488\u001b[0m \u001b[0;34m\u001b[0m\u001b[0m\n\u001b[1;32m   5489\u001b[0m     \u001b[0;32mdef\u001b[0m \u001b[0m__setattr__\u001b[0m\u001b[0;34m(\u001b[0m\u001b[0mself\u001b[0m\u001b[0;34m,\u001b[0m \u001b[0mname\u001b[0m\u001b[0;34m:\u001b[0m \u001b[0mstr\u001b[0m\u001b[0;34m,\u001b[0m \u001b[0mvalue\u001b[0m\u001b[0;34m)\u001b[0m \u001b[0;34m->\u001b[0m \u001b[0;32mNone\u001b[0m\u001b[0;34m:\u001b[0m\u001b[0;34m\u001b[0m\u001b[0;34m\u001b[0m\u001b[0m\n",
      "\u001b[0;31mAttributeError\u001b[0m: 'DataFrame' object has no attribute 'scientific_name'"
     ]
    }
   ],
   "source": [
    "#insert epilobium dodonaie-jpg and dipsacus-pilosela.jpg below.\n",
    "\n",
    "# rename the columns with the following dictionairies\n",
    "endangerdict = {\n",
    "    \"LC\": \"Least Concern\",\n",
    "    \"NT\": \"Near Threatened\",\n",
    "    \"VU\": \"Vulnerable\",\n",
    "    \"EN\": \"Endangered\",\n",
    "    \"CR\": \"Critically Endangered\",\n",
    "    \"DD\": \"Data deficient\",\n",
    "    \"NE\": \"Not Evaluated\",\n",
    "    \"RE\": \"Regionally Extinct\",\n",
    "    \"CR\": \"Critically Endagered, probably extinct\",\n",
    "    \"-\": \"UNKNOWN\",\n",
    "    \"NA\": \"NA\"\n",
    "}\n",
    "\n",
    "\n",
    "# map this to\n",
    "# df.this_key.map(lamda x: region_dict[x])\n",
    "regiondict = {\n",
    "    \"JU\": \"Jura\",\n",
    "    \"MP\": \"Central Plateau\",\n",
    "    \"CH\": \"National\"\n",
    "}\n",
    "\n",
    "def to_species_slug(x):\n",
    "    try: \n",
    "        int_data = x.split()\n",
    "        data = \"-\".join(int_data)\n",
    "        data = data.lower()\n",
    "    except:\n",
    "        data = \"none\"\n",
    "    return data\n",
    "\n",
    "red_list_data=pd.read_csv(\"resources/redlist.csv\")\n",
    "red_list_data['slug'] = red_list_data.scientific_name.map(lambda x: to_species_slug(x))\n",
    "rmap = red_list_data[['slug', 'CH']].set_index('slug')\n",
    "rmapju = red_list_data[['slug', 'JU']].set_index('slug')\n",
    "rmapmp = red_list_data[['slug', 'MP']].set_index('slug')\n",
    "def assign_rlist_status_to_survey_data(x, amap=rmap):\n",
    "    try:\n",
    "        data=amap.loc[x][0]\n",
    "    except:\n",
    "        data=\"ND\"\n",
    "    \n",
    "    return data\n",
    "\n",
    "s_data[\"CH\"] = s_data.species_slug.map(lambda x: assign_rlist_status_to_survey_data(x, amap=rmap))\n",
    "s_data[\"JU\"]= s_data.species_slug.map(lambda x: assign_rlist_status_to_survey_data(x, amap=rmapju))\n",
    "s_data[\"MP\"]= s_data.species_slug.map(lambda x: assign_rlist_status_to_survey_data(x, amap=rmapmp))\n",
    "\n",
    "a = s_data.groupby(['species_slug', 'CH', 'JU', 'MP'], as_index=False).agg({'loc_date':'nunique', 'place_slug':'nunique'})\n",
    "\n",
    "# species with no data from red list\n",
    "norlist_data = a[a.CH == 'ND']\n",
    "\n",
    "# NT = near threatened = first level of being endangered\n",
    "# geolocate these points\n",
    "near_threatened = s_data[(s_data.CH==\"NT\")|(s_data.JU == \"NT\")|(s_data.MP == \"NT\")].copy()\n",
    "\n",
    "data = near_threatened[['date', 'species_slug', 'place_slug', 'CH', 'JU', 'MP']].copy()\n",
    "data['date'] =data['date'].dt.strftime(\"%Y-%b-%d\")\n",
    "data.rename(columns={'species_slug':'species', 'place_slug':'location'}, inplace=True)\n",
    "\n",
    "# put that in a table\n",
    "fig, axs = plt.subplots(figsize=(9,len(data)*.7))\n",
    "\n",
    "axone=axs\n",
    "\n",
    "collabels = data.columns\n",
    "\n",
    "# clean up the axis\n",
    "hide_spines_ticks_grids(axone)\n",
    "\n",
    "# add a table to the axis with data\n",
    "the_table_ax = axone.table(data.values,  colLabels=collabels, colWidths=[.15, .25, .2, .08, .08, .08], bbox=[0, 0, 1, 1])\n",
    "\n",
    "# make the table pretty\n",
    "a_summary_table_one = make_a_summary_table(the_table_ax,data.values,collabels, font_size=12, s_et_bottom_row=False)\n",
    "\n",
    "plt.tight_layout()\n",
    "plt.show()"
   ]
  },
  {
   "cell_type": "markdown",
   "id": "e3f64053",
   "metadata": {},
   "source": [
    "### Biogeographic regions\n",
    "\n",
    "The survey data was also compared with the official survey data available from Info Flora in both the Welten Sutter and the 5x5 observation maps. There were several species that did not appear on these maps because they are not indigenous to Switzerland and more commonly appear in private gardens in heavily urbanized and suburbanized settings with a few escapees into the immediate environs."
   ]
  },
  {
   "cell_type": "code",
   "execution_count": 20,
   "id": "bec28111",
   "metadata": {
    "tags": [
     "hide-input"
    ]
   },
   "outputs": [
    {
     "data": {
      "image/png": "[encoded data removed]",
      "text/plain": [
       "<Figure size 288x720 with 1 Axes>"
      ]
     },
     "metadata": {},
     "output_type": "display_data"
    }
   ],
   "source": [
    "# from the surveys:\n",
    "# identify any plants NOT on the Welten Sutter or 5X5 observations list for their region\n",
    "# more clear def -- this goes to map data\n",
    "\n",
    "# this is the record of each species and on what map it has been recorded\n",
    "observed = pd.read_csv(\"resources/species_map_located.csv\")\n",
    "\n",
    "# index to the species\n",
    "observed.set_index('species_slug', inplace=True)\n",
    "\n",
    "# gather the columns for each map\n",
    "b = observed[['585215', '585220', '580220', '580215', '625165', '625170', '550185',\n",
    "       '575210', '600200', '575245', '545180', '575215']]\n",
    "\n",
    "# survey location information has the map number for each location\n",
    "survey_locations = pd.read_csv(\"resources/map-keys.csv\")\n",
    "s_locs = survey_locations[survey_locations.place.isin(sdata.place_slug.unique())].copy()\n",
    "\n",
    "# these are duplicate records for the survey locations\n",
    "s_locs = s_locs.drop([107, 110])\n",
    "\n",
    "# key place to map number\n",
    "s_ws = s_locs[['place', 'ws']].set_index('place')\n",
    "s_5x = s_locs[['place', '5x5']].set_index('place')\n",
    "\n",
    "# key species to map number by the place\n",
    "s_data['ws'] = s_data.place_slug.map(lambda x: s_ws.loc[x, 'ws'])\n",
    "s_data['5x'] = s_data.place_slug.map(lambda x: s_5x.loc[x, '5x5'])\n",
    "\n",
    "# collect all the unique species recorded for the survey periond\n",
    "myspecs = s_data.species_slug.unique()\n",
    "\n",
    "# places to store values\n",
    "success = []\n",
    "no_success = []\n",
    "no_match = []\n",
    "match_no_element = []\n",
    "\n",
    "# check for a previous occrence of each species on the ws maps\n",
    "for a_spec in myspecs:\n",
    "    a = s_data[s_data.species_slug == a_spec].ws.unique()\n",
    "    for element in a:\n",
    "        try:\n",
    "            c = b.loc[a_spec][str(element)] == 0\n",
    "            if c:\n",
    "                success.append((a_spec, element))\n",
    "            else:\n",
    "                    no_success.append((a_spec, element))\n",
    "        except:\n",
    "            # recorded observations that do not appear in observed\n",
    "            match_no_element.append((a_spec, element))\n",
    "            \n",
    "# check for a previous occrence of each species on the 5x maps\n",
    "for a_spec in myspecs:\n",
    "\n",
    "    a = s_data[s_data.species_slug == a_spec]['5x'].unique()\n",
    "    for element in a:\n",
    "        try:\n",
    "            c = b.loc[a_spec][str(element)] == 0\n",
    "            if c:\n",
    "                success.append((a_spec, element))\n",
    "            else:\n",
    "                no_success.append((a_spec, element))\n",
    "        except:\n",
    "            match_no_element.append((a_spec, element))\n",
    "\n",
    "\n",
    "# these are the species that were not previously identified on the ws or 5x5 map\n",
    "data = success\n",
    "\n",
    "# put that in a table\n",
    "fig, axs = plt.subplots(figsize=(4,10))\n",
    "\n",
    "axone=axs\n",
    "\n",
    "collabels = [\"genus-species\", \"map\"]\n",
    "\n",
    "# clean up the axis\n",
    "hide_spines_ticks_grids(axone)\n",
    "\n",
    "# add a table to the axis with data\n",
    "the_table_ax = axone.table(data,  colLabels=collabels, colWidths=[.7, .3], bbox=[0, 0, 1, 1])\n",
    "\n",
    "# make the table pretty\n",
    "a_summary_table_one = make_a_summary_table(the_table_ax,data,collabels, font_size=14, s_et_bottom_row=False)\n",
    "\n",
    "plt.tight_layout()\n",
    "plt.show()"
   ]
  },
  {
   "cell_type": "markdown",
   "id": "5f4597b0",
   "metadata": {},
   "source": [
    "### Non-native species\n",
    "\n",
    "Four varieties of invasive species were repeatedly encountered:\n",
    "\n",
    "* Erigeron Annuus, a North American species of the Asteraceae family that in considered invasive across Switzerland and Europe. In Switzerland it is generally restricted to areas of less than 1000 meters of altitude (<a href=\"https://www.infoflora.ch/assets/content/documents/neophytes/inva_erig_ann_f.pdf\">Info Flora fact sheet</a>)\n",
    "* Solidago sp: Solidago Canadensis, S. gigantea, S. nemoralis. Again, three members of the Asteraceae family imported from North America and restricted to less than 1000 meters of altitutde. It is likely that I was unable to distinguish between these three plants properly during this survey, so I have chosen to group them all under Solidago sp. as I had not encountered any of the other members of the Solidago genus. (<a href=\"https://www.infoflora.ch/assets/content/documents/neophytes/inva_soli_can_f.pdf\">Info Flora fact sheet</a>)\n",
    "* Buddleja davidii, a Chinese shrubby tree introduced for its ornate, strongly scented purple flowers. It has since naturalized and has a problematic tendency to interrupt normal patterns of plant secession in disturbed areas. A plant of the Central Plateau. (<a href=\"https://www.infoflora.ch/assets/content/documents/neophytes/inva_budd_dav_f.pdf\">Info Flora fact sheet</a>)\n",
    "* Senecio Inaequidens, another member of the Asteraceae family, but from South Africa, restricted largely to the Central Plateau and areas under 1000 meters of altitude. Its habitat is largley road vergers and railroad berms. (<a href=\"https://www.infoflora.ch/assets/content/documents/neophytes/inva_sene_ina_f.pdf\">Info Flora fact sheet</a>)\n",
    "* Interestingly, no Reynoutriea japonica (<a href=\"https://www.infoflora.ch/assets/content/documents/neophytes/inva_reyn_jap_f.pdf\">Info Flora fact sheet</a>) were encountered during the surveys.\n",
    "\n",
    "Conyza canadensis, another member of the Astereaceaea family from North America with some potential for , was relatively common in disturbed areas.\n",
    "\n",
    "\n",
    "\n",
    "\n"
   ]
  },
  {
   "cell_type": "code",
   "execution_count": 21,
   "id": "94c636ab",
   "metadata": {
    "tags": [
     "hide-input"
    ]
   },
   "outputs": [],
   "source": [
    "# fig, ax = plt.subplots(1,2, figsize=(16,9))\n",
    "\n",
    "# # read in images\n",
    "# img_A = mpimg.imread('resources/pictures/solidalgo-1.JPG')\n",
    "# img_B = mpimg.imread('resources/pictures/iledelasuze2.JPG')\n",
    "\n",
    "# # titlels for the images\n",
    "# titles = [\"Solidago sp\", \"Erigeron annuus\"]\n",
    "\n",
    "# for i, an_ax in enumerate([ax[0], ax[1]]):\n",
    "#     hide_spines_ticks_grids(an_ax)\n",
    "#     an_ax.set_title(titles[i], fontsize=18, ha='left', loc='left', pad=15)    \n",
    "\n",
    "# ax[0].imshow(img_A)\n",
    "\n",
    "# ax[1].imshow(img_B)\n",
    "\n",
    "# plt.tight_layout()\n",
    "\n",
    "# plt.show()"
   ]
  },
  {
   "cell_type": "markdown",
   "id": "dcdf7cc9",
   "metadata": {},
   "source": [
    "*Left: Thick patch of Solidago sp. in an empty lot near the Madretschkanal\". Right: Erigeron annuus on the Ile de la  Suze park*"
   ]
  },
  {
   "cell_type": "markdown",
   "id": "0d6a7ba3",
   "metadata": {},
   "source": [
    "### Survey locations and number of species identified"
   ]
  },
  {
   "cell_type": "markdown",
   "id": "feb1d35e",
   "metadata": {},
   "source": [
    "*sample gis output*"
   ]
  },
  {
   "cell_type": "code",
   "execution_count": 22,
   "id": "ab4f9edb",
   "metadata": {
    "tags": [
     "hide-input"
    ]
   },
   "outputs": [
    {
     "ename": "NameError",
     "evalue": "name 'near_threatened' is not defined",
     "output_type": "error",
     "traceback": [
      "\u001b[0;31m---------------------------------------------------------------------------\u001b[0m",
      "\u001b[0;31mNameError\u001b[0m                                 Traceback (most recent call last)",
      "\u001b[0;32m/tmp/ipykernel_8773/404690720.py\u001b[0m in \u001b[0;36m<module>\u001b[0;34m\u001b[0m\n\u001b[1;32m      1\u001b[0m \u001b[0;31m# format near threatened map layer\u001b[0m\u001b[0;34m\u001b[0m\u001b[0;34m\u001b[0m\u001b[0;34m\u001b[0m\u001b[0m\n\u001b[0;32m----> 2\u001b[0;31m \u001b[0mnt_tomap\u001b[0m \u001b[0;34m=\u001b[0m \u001b[0mnear_threatened\u001b[0m\u001b[0;34m[\u001b[0m\u001b[0;34m[\u001b[0m\u001b[0;34m'species_slug'\u001b[0m\u001b[0;34m,\u001b[0m \u001b[0;34m'place_slug'\u001b[0m\u001b[0;34m,\u001b[0m \u001b[0;34m'str_date'\u001b[0m\u001b[0;34m,\u001b[0m \u001b[0;34m'JU'\u001b[0m\u001b[0;34m]\u001b[0m\u001b[0;34m]\u001b[0m\u001b[0;34m[\u001b[0m\u001b[0mnear_threatened\u001b[0m\u001b[0;34m.\u001b[0m\u001b[0mJU\u001b[0m \u001b[0;34m==\u001b[0m \u001b[0;34m'NT'\u001b[0m\u001b[0;34m]\u001b[0m\u001b[0;34m.\u001b[0m\u001b[0mcopy\u001b[0m\u001b[0;34m(\u001b[0m\u001b[0;34m)\u001b[0m\u001b[0;34m\u001b[0m\u001b[0;34m\u001b[0m\u001b[0m\n\u001b[0m\u001b[1;32m      3\u001b[0m \u001b[0mnt_locs\u001b[0m \u001b[0;34m=\u001b[0m \u001b[0ms_locs\u001b[0m\u001b[0;34m[\u001b[0m\u001b[0ms_locs\u001b[0m\u001b[0;34m.\u001b[0m\u001b[0mplace\u001b[0m\u001b[0;34m.\u001b[0m\u001b[0misin\u001b[0m\u001b[0;34m(\u001b[0m\u001b[0mnt_tomap\u001b[0m\u001b[0;34m.\u001b[0m\u001b[0mplace_slug\u001b[0m\u001b[0;34m.\u001b[0m\u001b[0munique\u001b[0m\u001b[0;34m(\u001b[0m\u001b[0;34m)\u001b[0m\u001b[0;34m)\u001b[0m\u001b[0;34m]\u001b[0m\u001b[0;34m.\u001b[0m\u001b[0mcopy\u001b[0m\u001b[0;34m(\u001b[0m\u001b[0;34m)\u001b[0m\u001b[0;34m\u001b[0m\u001b[0;34m\u001b[0m\u001b[0m\n\u001b[1;32m      4\u001b[0m \u001b[0;34m\u001b[0m\u001b[0m\n\u001b[1;32m      5\u001b[0m \u001b[0mnt_locs\u001b[0m\u001b[0;34m.\u001b[0m\u001b[0mset_index\u001b[0m\u001b[0;34m(\u001b[0m\u001b[0;34m'place'\u001b[0m\u001b[0;34m,\u001b[0m \u001b[0minplace\u001b[0m\u001b[0;34m=\u001b[0m\u001b[0;32mTrue\u001b[0m\u001b[0;34m)\u001b[0m\u001b[0;34m\u001b[0m\u001b[0;34m\u001b[0m\u001b[0m\n",
      "\u001b[0;31mNameError\u001b[0m: name 'near_threatened' is not defined"
     ]
    }
   ],
   "source": [
    "# format near threatened map layer\n",
    "nt_tomap = near_threatened[['species_slug', 'place_slug', 'str_date', 'JU']][near_threatened.JU == 'NT'].copy()\n",
    "nt_locs = s_locs[s_locs.place.isin(nt_tomap.place_slug.unique())].copy()\n",
    "\n",
    "nt_locs.set_index('place', inplace=True)\n",
    "nt_map = nt_tomap.set_index('place_slug')\n",
    "\n",
    "nt_map = pd.concat([nt_locs, nt_map], axis=1)\n",
    "\n",
    "nt_map.reset_index(inplace=True)\n",
    "nt_map.to_csv('resources/near_threatened.csv', index=False)\n",
    "\n",
    "# map results to gis data\n",
    "sp_loc = sl_mostspecies.set_index('place_slug').species_slug\n",
    "\n",
    "# ! this needs to be recovered  what is the data source for inv_specs? !\n",
    "# insert table with the locations invasive species were identified (rows = locations, columns = invasive species)\n",
    "# make map points that designate location and push tabe to append\n",
    "# spinv = inv_specs.species_slug.unique()\n",
    "\n",
    "# only the surveys that have a red list species:\n",
    "# sd_inv = sdata[sdata.species_slug.isin(spinv)].copy()\n",
    "# n_inv_specs_location = sd_inv.groupby([ 'place_slug'], as_index=False).species_slug.nunique()\n",
    "\n",
    "# inv_loc =n_inv_specs_location.set_index('place_slug').species_slug\n",
    "\n",
    "# def add_zero_if_exception(x, key):\n",
    "#     try:\n",
    "#         data = key.loc[x]\n",
    "#     except:\n",
    "#         data = 0\n",
    "#     return data\n",
    "\n",
    "# # export gis file with location data and # of species identified both periods\n",
    "# the periods need to be defined\n",
    "s_locs['n species'] = s_locs[s_locs.place.isin(s_data.place_slug.unique())].place.map(lambda x: sp_loc.loc[x])\n",
    "# s_locs['n invspecs'] = s_locs.place.map(lambda x: add_zero_if_exception(x, inv_loc))\n",
    "\n",
    "filename = \"hdbot_final_map_2.csv\"\n",
    "s_locs.to_csv(F\"resources/{filename}\", index=False)\n",
    "\n",
    "this_picture = PILImage.open(\"resources/final_map.jpeg\")\n",
    "output = io.BytesIO()\n",
    "this_picture.thumbnail((800, 1200))\n",
    "this_picture.save(output, format='jpeg')\n",
    "encoded_string = base64.b64encode(output.getvalue()).decode()\n",
    "\n",
    "html = '<img src=\"data:image/png;base64,{}\"/>'.format(encoded_string)\n",
    "md(html)"
   ]
  },
  {
   "cell_type": "markdown",
   "id": "be3d110a",
   "metadata": {},
   "source": [
    "## Lessons Learned and Reccomendations\n",
    "\n",
    "The objective of this pilot project was to learn to identify herbaceous plants, construct an initial dataset on the flowering plants along the urban Suze river, and provide initial analysis and lessons learned to guide further project development. The first objective was unambiguously reached and I now have a familiarity with the common plants, outside of grasses, that grow along the Suze river, and by extension a good grasp of the plants around the city of Bienne more generally. The second objective was reached as well, but in a less satisfactory manner. With some 900 observations, I was able to engage with the biogeographic data sets available and provide simple analysis. At the same time, the learning process significantly slowed the collection of data. In addition, the GPS coordinates reported by Flora Incognita were not verified and later found to be off on the order of 250 meters for every single observation. The locations were largely reconstructed via photos, memory and imagery available through Google Maps and Swiss Topo, but many observations were also unfortunately lost. Nonetheless, I was able to identify some plant communities and give some indications of the herbaceous plants one finds along ths urban Suze river.\n",
    "\n",
    "The third objective has also been reached. In addition to surveying, I researched current Swiss and French initiatives in citizen science related to conservation of insects and plants as well as read articles, papers and books on ecology, botany, zoology, entomology, horticulture, geology and climate change. The key general points that I took away from this background reading are the following:\n",
    "\n",
    "* The situation is serious. There is a generalized decline across all indicators of ecological health across the world.\n",
    "* The central plateau of Switzerland has many species that are locally menaced with many species that \n",
    "* There is a market and an appetite for products that create ecosystem services.\n",
    "* species diversity is only one part of biodiversity and ecological health. The diversity of ecological systems in which species interact is also an aspect of biodiversity, as is the genetic diversity within species' populations.\n",
    "* Floral resources should be available from March to October to support hibernating pollinators and other insects.\n",
    "\n",
    "In order to build on this dataset for 2021, the following is recommended for a 2021 round of surveying:\n",
    "\n",
    "* In addition to surveying, value should be created during the survey itself. One obvious way to do this is to remove invasive species when encountered during the surveys to inhibit their proliferation in the public spaces.\n",
    "* The surveys should be repeated starting from March 2021 to capture earlier blooming plant species (especially in March, April and May) as well as to capture some of the surrounding forested regions (e.g. the vorhölzli, längholzli) and other urban green spaces not restricted to the Suze river. The surveys should include a wider diversity of plants from the outset now that the surveyor has a good grasp on the local flora.\n",
    "* Identification of actors around Biel/Bienne constructively engaged in protecting biodiversity of plants, including the genetic diversity provided by wild populations.\n",
    "* Integration of info species data on pollinators and creation of a link to their preferred floral resources\n",
    "* Integration of plant data from the City of Bienne (Cadastre des arbres)\n",
    "* Use of Info Flora's FlorApp or a dedicated botany journal to exclusively record observations.\n",
    "\n",
    "During the 2021 surey process, I will engage further with the field of horticulture with the end goal of developing a product that can bring value to the city of Bienne based on the plants that I find (or don't find) living in the city."
   ]
  },
  {
   "cell_type": "code",
   "execution_count": null,
   "id": "63647598",
   "metadata": {},
   "outputs": [],
   "source": []
  }
 ],
 "metadata": {
  "kernelspec": {
   "display_name": "Python 3 (ipykernel)",
   "language": "python",
   "name": "python3"
  },
  "language_info": {
   "codemirror_mode": {
    "name": "ipython",
    "version": 3
   },
   "file_extension": ".py",
   "mimetype": "text/x-python",
   "name": "python",
   "nbconvert_exporter": "python",
   "pygments_lexer": "ipython3",
   "version": "3.8.12"
  }
 },
 "nbformat": 4,
 "nbformat_minor": 5
}
