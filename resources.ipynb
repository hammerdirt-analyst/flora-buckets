{
 "cells": [
  {
   "cell_type": "markdown",
   "id": "77220f0b",
   "metadata": {
    "tags": []
   },
   "source": [
    "# Conclusion, regional actors and further resources\n",
    "\n",
    "This chapter summarizes the previous sections and provides compilation of links and further resources."
   ]
  },
  {
   "cell_type": "code",
   "execution_count": 1,
   "id": "6dc4b08c",
   "metadata": {
    "tags": [
     "hide-input"
    ]
   },
   "outputs": [],
   "source": [
    "# import statements\n",
    "\n",
    "# math and data packages\n",
    "import pandas as pd\n",
    "import numpy as np\n",
    "import math\n",
    "\n",
    "# charting and graphics\n",
    "import matplotlib as mpl\n",
    "import matplotlib.pyplot as plt\n",
    "import seaborn as sns\n",
    "import matplotlib.image as mpimg\n",
    "from matplotlib import colors\n",
    "from matplotlib.colors import LinearSegmentedColormap\n",
    "import matplotlib.dates as mdates\n",
    "from matplotlib.gridspec import GridSpec\n",
    "\n",
    "# os and file types\n",
    "import os\n",
    "import sys\n",
    "import datetime as dt\n",
    "import json\n",
    "import csv\n",
    "\n",
    "# images and display\n",
    "import base64, io, IPython\n",
    "from PIL import Image as PILImage\n",
    "from IPython.display import Markdown as md\n",
    "from IPython.display import display, Math, Latex"
   ]
  },
  {
   "cell_type": "markdown",
   "id": "05cc2301",
   "metadata": {},
   "source": []
  },
  {
   "cell_type": "markdown",
   "id": "6b57d21e-cf2b-48b1-a7d7-512a862a5d29",
   "metadata": {},
   "source": [
    "## Biel has a rich diversity in plant species and habitats\n",
    "\n",
    "As the survey results demonstrate, \n",
    "* Biel hosts a number of interesting plant communities that should be celebrated in their own right\n",
    "* Ensuring genetically robust local populations of vascular plants should be a focus for policy makers and entrepreneurs.\n",
    "* There is a wide diversity of vascular plant species growing throughout the city of Biel/Bienne, not just in the areas managed specifically for biodiversity. \n",
    "* While much space is occupied by invasive/non-indigenous plants, many populations of interesting and important remnant species are finding suitable locations to grow.\n",
    "* Biel hosts species that are potentially of conservation concern throughout the city.\n",
    "\n",
    "On top of this the tools needed to build an informative, beautiful report on an annual or semi-annual basis to residents of the city and the city administration are available. \n",
    "* InfoFlora has made available an excellent mobile application that makes recording plant inventories extremely easy.\n",
    "* Jupyter (the platform on which this website and document are built) and Github provide open, powerful publishing tools for data intensive projects\n",
    "* InfoFlora, the Federal Office of the Environment, and other researchers have made useful data lists available that can be combined with the survey data and \n",
    "* The City of Biel/Bienne manages excellent local GIS data with a Tree Registry already; survey locations can be made compatible with City GIS markers for full integration. \n",
    "\n",
    "Once the next steps are accomplished the manager of Biel's green spaces will have an easy to update system, already integrated into InfoFlora's database, to observe and record changes in populations under their remit and in the remit of nearby communes to consolidate preservation efforts. Once an intensive baseline is fully established, surveys can occur less frequently and changes can be estimated based on the baseline differences:\n",
    "* Integrate the data with the municipal tree registry of Biel. As the trees are the most permanent of the vascular plants and the subject of a specific maintenance schedule, improvements to vascular plant communities should be planned around them.\n",
    "* Match the plant communities identified in the surveys with the closest biotope according to TypoCH and recommend species to complement existing plants to achieve a higher habitat status.\n",
    "* Match the plant communities identifid in the surveys with existing special management techniques - e.g. Ile de la Suze renaturalization project, the ProNatura Sheep on CFF Berm, or the various Hedghehog reserved areas.\n",
    "* Create an intensive baseline for year three taking special care to fill in the gaps in the surveys of the city"
   ]
  },
  {
   "cell_type": "markdown",
   "id": "e7edec65-7482-4a7c-bb4e-e02ff4608b26",
   "metadata": {},
   "source": [
    "## Biodiversity buckets\n",
    "Biodiversity buckets are a custom replication of beloved local habitats with all plants grown from regional source-verified seed. They provide a competition to the beautiful traditional horticultural products on offer and provide the opportunity to educate the public and further open the market for regional source-verified seed.\n",
    "\n",
    "The market is analyzed:\n",
    "* There are a growing number of actors that provide pasture and meadow mixes regionally. The most well served areas are around Geneva and Zürich, but for large scale replanting campaigns, managers have some options. \n",
    "* These options are nonetheless limited in their regional availability and the choice of seeds. There are a number of flowering plants that are simply difficult to find.\n",
    "* For individual seedlings and seeds, like the kind sold by Equipe Volo, there is quite limited regional variety. The high costs associated require a high added value attached to the recognition of source-verification to compete on the market with traditional commercial sources.\n",
    "* The added value that the market is missing, systematically source-verified seeds separated by type is a difficult and expensive process with a number of technical details that need to be resolved.\n",
    "* Much of the knowledge needed to succesfully run a horticultural business entirely on regional plants is commercial knowledge or not yet available. Completing the reproduction cycle of many wildflowers can be difficult and contributing this knowledge in an open, replicable way would be a significant added value.\n",
    "\n",
    "Three biodiversity buckets are developped:\n",
    "* Felseck biotope - based on the south facing cliffs just outside Biel.\n",
    "* Bieler biotope - collection of the interesting plants growing around Biel.\n",
    "* Parasites - collection of rhinanthus + host and Melampyrum + host\n",
    "\n",
    "The operational and financial aspects are developped:\n",
    "* The biodiversity bucket lifecycle is laid out for each growing season\n",
    "* Cost structure is examined\n",
    "* Potential revenu scenarios are developped\n",
    "* Further...\n"
   ]
  },
  {
   "cell_type": "markdown",
   "id": "24374e69",
   "metadata": {},
   "source": [
    "## Actors and useful links\n",
    "\n",
    "__Institutional actors:__\n",
    "- Jardin Botanique Neuchâtel: https://www.jbneuchatel.ch/\n",
    "- Botanischer Garten Bern: https://www.boga.unibe.ch/\n",
    "- Pronatura Berne: https://www.pronatura-be.ch/de\n",
    "- InfoFlora, the reference for Switzerland: https://www.infoflora.ch/fr/\n",
    "\n",
    "__Tools and Initiatives__\n",
    "- Floretia, provides flower types for gardens: https://floretia.ch/nerds/\n",
    "- igarten: https://app.igarten.ch/?plantid=910\n",
    "- Calculates habitat given a list of species and provides lists of species per habitat https://www.lebensraeume.unr.ch/lebensraeume_pflanzen\n",
    "- https://www.zhaw.ch/de/lsfm/institute-zentren/iunr/ecosystems-and-biodiversity/pflanzenverwendung/wildstauden-mischpflanzungen/\n",
    "- Useful list of links and actors: https://www.wildstauden.ch/links.php\n",
    "- Database of germination requirements for temperate species of mixed forests: https://efernandezpascual.shinyapps.io/sylvanseeds/\n",
    "- Database of germination requirements in annex of this textbook: https://fr.scribd.com/doc/44360991/SEED-GERMINATION-THEORY-AND-PRACTICE-by-Professor-Norman-C-Deno\n",
    "\n",
    "__Regional renaturalization projects:__\n",
    "- https://www.emchberger.ch/fr/revitalisation-de-la-suze\n",
    "- List to be continued...\n"
   ]
  }
 ],
 "metadata": {
  "kernelspec": {
   "display_name": "Python 3 (ipykernel)",
   "language": "python",
   "name": "python3"
  },
  "language_info": {
   "codemirror_mode": {
    "name": "ipython",
    "version": 3
   },
   "file_extension": ".py",
   "mimetype": "text/x-python",
   "name": "python",
   "nbconvert_exporter": "python",
   "pygments_lexer": "ipython3",
   "version": "3.8.12"
  }
 },
 "nbformat": 4,
 "nbformat_minor": 5
}
