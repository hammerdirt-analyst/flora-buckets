{
 "cells": [
  {
   "cell_type": "markdown",
   "id": "f0d226a6-756d-4968-aafd-3b9ba55d2b52",
   "metadata": {},
   "source": [
    "# Conclusion, regional actors and further resources\n",
    "\n",
    "This chapter summarizes the concluding points of the previous sections of this Juypter book. In short, they are the following:\n",
    "\n",
    "* There is a mounting biodiversity crisis for vascular plants and the insects which depend on them that needs to be met via the propogation of regional ecotype seeds to ensure genetically robust populations.\n",
    "* There is a wide diversity of species growing throughoug the city of Biel/Bienne. While much space is occupied by invasive/non-indigenous plants, many populations of interesting and important remnant species are finding suitable locations to grow.\n",
    "* Biodiversity buckets are an interesting product for businesses, public authorities, and individuals interested in promoting the conservation of unique regional plant diversity.\n",
    "* There is a knowledge gap in the growth and propogation of many regional wild vascular plants that can be filled via simple germination experiments to identify conditions that permit a reasonable and economical rate of germination\n",
    "\n",
    "\n",
    "Additionally, it is important \n",
    "\n",
    "## Institutional actors\n",
    "\n",
    "Jardin Botanique Neuchâtel: https://www.jbneuchatel.ch/\n",
    "Botanischer Garten Bern: https://www.boga.unibe.ch/\n",
    "Pronatura Berne: https://www.pronatura-be.ch/de\n",
    "InfoFlora, the reference for Switzerland: https://www.infoflora.ch/fr/\n",
    "\n",
    "## Tools and Initiatives\n",
    "\n",
    "\n",
    "Floretia: https://floretia.ch/nerds/\n",
    "igarten: https://app.igarten.ch/?plantid=910\n",
    "\n",
    "Insert a habitat/biotope, get back a list of characteristic plants and vice versa: https://www.lebensraeume.unr.ch/lebensraeume_pflanzen\n",
    "\n",
    "Wildstaudenmischpflanzung: https://www.zhaw.ch/de/lsfm/institute-zentren/iunr/ecosystems-and-biodiversity/pflanzenverwendung/wildstauden-mischpflanzungen/\n",
    "\n",
    "biogeographic regions of switzerland: https://www.bafu.admin.ch/bafu/de/home/themen/landschaft/publikationen-studien/publikationen/die-biogeographischen-regionen-der-schweiz.html\n",
    "\n",
    "swisstopo equipe volo: https://mf-chsdi3.prod.bgdi.ch/shorten/932ea26287\n",
    "\n",
    "to explore a lot: https://www.wildstauden.ch/links.php\n",
    "\n",
    "Database of germination requirements for temperate species of mixed forests: https://efernandezpascual.shinyapps.io/sylvanseeds/\n",
    "\n",
    "## Regional horticulturalists\n",
    "\n",
    "MOVE FROM FLORA-BUCKETS\n",
    "\n",
    "## References and links not yet in bibliofile\n",
    "\n",
    "https://www.zora.uzh.ch/id/eprint/131707/1/Matthies_2017_submitted.pdf\n",
    "\n",
    "https://efernandezpascual.github.io/home/sylvanseeds.html\n",
    "\n",
    "https://fr.scribd.com/doc/44360991/SEED-GERMINATION-THEORY-AND-PRACTICE-by-Professor-Norman-C-Deno\n",
    "\n",
    "https://www.plant-world-seeds.com/store/view_seed_item/2862\n",
    "\n",
    "https://sheffields.com/seeds/Aster/linosyris\n",
    "\n",
    "https://www.conservationevidence.com/reference/pdf/2150\n",
    "\n",
    "https://fr.scribd.com/doc/44360991/SEED-GERMINATION-THEORY-AND-PRACTICE-by-Professor-Norman-C-Deno"
   ]
  },
  {
   "cell_type": "markdown",
   "id": "b780a193-e42d-456c-8447-d85f81c14466",
   "metadata": {},
   "source": [
    "## Contributions to plant survey data\n",
    "* When collecting seeds, an additional 15 minutes of plant survey time to document the presence (and other factors depending on time available) could provide infoflora and other regional managers with useful data on populations.\n",
    "* Construct and maintain a relatively detailed observational database of plant life around the city to inform policymakers and interested stakeholders of the evolution of local plant life over time.\n",
    "* Gather knowledge from local experts, activists and gardeners who may know where plant populations are but have not officially recorded them."
   ]
  },
  {
   "cell_type": "markdown",
   "id": "57bf60a1-30f2-45a7-9e73-75d0ddad2fed",
   "metadata": {},
   "source": [
    "## Genetic and phenotypic diversity within vascular plant species\n",
    "* compare the levels of genetic diversity in commercial seeds to seeds collected by Equipe Volo\n",
    "* compares \n",
    "* compare viability of local to commercial seeds (germination, etc, etc)"
   ]
  },
  {
   "cell_type": "markdown",
   "id": "6f09bb40-ffd3-4190-a1aa-e6c7acad35f1",
   "metadata": {},
   "source": [
    "## Hemiparasites\n",
    "Hemiparasitic plants are a fascinating phenomenon and they are often becoming increasingly rare. They are however potentially valuable for urban restoration projects as they can reduce the vigour of aggressive members of Poaceae and Fabulaceae that can quickly dominate urban restoration projects.\n",
    "Three hemiparasitic plants, Rhinanthus minor, Melampyrum arvense and M. nemorosum, will be grown in pots under the following configurations:\n",
    "* Mature host plants Brizola media (poaceae) and Melilotus alba (fabaceae) are already present and the hemiparasite is planted alongside its roots\n",
    "* A host plant (medicago lupulina and medicago sativa) and the hemiparasite are planted at the same time with the host plant germinated first\n",
    "* No host plants\n",
    "\n",
    "\n",
    "Origin of hemiparasites:\n",
    "* Melanpyrum arvense gathered from UA/Equipe Volo (qty tbd)\n",
    "* Commercial Melanpyrum arvense from Germany (1 seed packet)\n",
    "* Rhinanthus minor gathered from La Chaux-de-Fonds (qty tbd)\n",
    "* Melanpyrum nemorosum gathered from Felseck (qty tbd)\n",
    "\n",
    "\n",
    "Origin and quantity of host plants:\n",
    "* +/- 24 melilotus alba plants (6 commercial melanpyrum, 6 \n",
    "* +/- 12 pots of Brizola minor\n",
    "* +/- 3 grams medicago lupulina seeds"
   ]
  },
  {
   "cell_type": "markdown",
   "id": "7860e72f-c11e-47b5-955b-c40467422fd4",
   "metadata": {},
   "source": [
    "Links not yet in bib file:\n",
    "\n",
    "https://www.zora.uzh.ch/id/eprint/131707/1/Matthies_2017_submitted.pdf\n",
    "\n"
   ]
  }
 ],
 "metadata": {
  "kernelspec": {
   "display_name": "Python 3 (ipykernel)",
   "language": "python",
   "name": "python3"
  },
  "language_info": {
   "codemirror_mode": {
    "name": "ipython",
    "version": 3
   },
   "file_extension": ".py",
   "mimetype": "text/x-python",
   "name": "python",
   "nbconvert_exporter": "python",
   "pygments_lexer": "ipython3",
   "version": "3.8.12"
  }
 },
 "nbformat": 4,
 "nbformat_minor": 5
}
