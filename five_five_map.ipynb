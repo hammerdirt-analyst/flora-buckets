{
 "cells": [
  {
   "cell_type": "markdown",
   "id": "common-spanish",
   "metadata": {},
   "source": [
    "# Preprocessing"
   ]
  },
  {
   "cell_type": "code",
   "execution_count": 1,
   "id": "stunning-sperm",
   "metadata": {},
   "outputs": [],
   "source": [
    "# math and data packages\n",
    "import pandas as pd\n",
    "import numpy as np\n",
    "import math\n",
    "\n",
    "# charting and graphics\n",
    "import matplotlib as mpl\n",
    "import matplotlib.pyplot as plt\n",
    "import seaborn as sns\n",
    "\n",
    "# os and file types\n",
    "import os\n",
    "import sys\n",
    "import datetime as dt\n",
    "import json\n",
    "import csv\n",
    "\n",
    "# images and display\n",
    "import base64, io, IPython\n",
    "from PIL import Image as PILImage\n",
    "from IPython.display import Markdown as md\n",
    "from IPython.display import display, Math, Latex\n",
    "\n"
   ]
  },
  {
   "cell_type": "markdown",
   "id": "drawn-individual",
   "metadata": {},
   "source": [
    "## Import data\n",
    "\n",
    "Fix any known formatting problems here"
   ]
  },
  {
   "cell_type": "code",
   "execution_count": 2,
   "id": "94ddcdff-733e-4a53-a662-602c6642e5e7",
   "metadata": {},
   "outputs": [
    {
     "data": {
      "text/html": [
       "<div>\n",
       "<style scoped>\n",
       "    .dataframe tbody tr th:only-of-type {\n",
       "        vertical-align: middle;\n",
       "    }\n",
       "\n",
       "    .dataframe tbody tr th {\n",
       "        vertical-align: top;\n",
       "    }\n",
       "\n",
       "    .dataframe thead th {\n",
       "        text-align: right;\n",
       "    }\n",
       "</style>\n",
       "<table border=\"1\" class=\"dataframe\">\n",
       "  <thead>\n",
       "    <tr style=\"text-align: right;\">\n",
       "      <th></th>\n",
       "      <th>Taxon_Id</th>\n",
       "      <th>SISF</th>\n",
       "      <th>species</th>\n",
       "      <th>WS-Code</th>\n",
       "      <th>Eingeschleppt</th>\n",
       "      <th>Obs.Anz.</th>\n",
       "      <th>Jahre (min)</th>\n",
       "      <th>Jahre (max)</th>\n",
       "      <th>Unsicher (?)</th>\n",
       "    </tr>\n",
       "  </thead>\n",
       "  <tbody>\n",
       "    <tr>\n",
       "      <th>0</th>\n",
       "      <td>1000000</td>\n",
       "      <td>100.0</td>\n",
       "      <td>Abies alba Mill.</td>\n",
       "      <td>Häufig</td>\n",
       "      <td>Indigen</td>\n",
       "      <td>31</td>\n",
       "      <td>1955</td>\n",
       "      <td>2021</td>\n",
       "      <td>NaN</td>\n",
       "    </tr>\n",
       "    <tr>\n",
       "      <th>1</th>\n",
       "      <td>1000070</td>\n",
       "      <td>300.0</td>\n",
       "      <td>Acer campestre L.</td>\n",
       "      <td>Häufig</td>\n",
       "      <td>Indigen</td>\n",
       "      <td>5</td>\n",
       "      <td>1955</td>\n",
       "      <td>2001</td>\n",
       "      <td>NaN</td>\n",
       "    </tr>\n",
       "    <tr>\n",
       "      <th>2</th>\n",
       "      <td>1000120</td>\n",
       "      <td>700.0</td>\n",
       "      <td>Acer platanoides L.</td>\n",
       "      <td>Häufig</td>\n",
       "      <td>Indigen</td>\n",
       "      <td>7</td>\n",
       "      <td>1955</td>\n",
       "      <td>2001</td>\n",
       "      <td>NaN</td>\n",
       "    </tr>\n",
       "    <tr>\n",
       "      <th>3</th>\n",
       "      <td>1000130</td>\n",
       "      <td>800.0</td>\n",
       "      <td>Acer pseudoplatanus L.</td>\n",
       "      <td>Häufig</td>\n",
       "      <td>Indigen</td>\n",
       "      <td>33</td>\n",
       "      <td>1955</td>\n",
       "      <td>2021</td>\n",
       "      <td>NaN</td>\n",
       "    </tr>\n",
       "    <tr>\n",
       "      <th>4</th>\n",
       "      <td>1000160</td>\n",
       "      <td>900.0</td>\n",
       "      <td>Aceras anthropophorum (L.) W. T. Aiton</td>\n",
       "      <td>Häufig</td>\n",
       "      <td>Indigen</td>\n",
       "      <td>1</td>\n",
       "      <td>1982</td>\n",
       "      <td>1999</td>\n",
       "      <td>NaN</td>\n",
       "    </tr>\n",
       "  </tbody>\n",
       "</table>\n",
       "</div>"
      ],
      "text/plain": [
       "   Taxon_Id   SISF                                 species WS-Code  \\\n",
       "0   1000000  100.0                        Abies alba Mill.  Häufig   \n",
       "1   1000070  300.0                       Acer campestre L.  Häufig   \n",
       "2   1000120  700.0                     Acer platanoides L.  Häufig   \n",
       "3   1000130  800.0                  Acer pseudoplatanus L.  Häufig   \n",
       "4   1000160  900.0  Aceras anthropophorum (L.) W. T. Aiton  Häufig   \n",
       "\n",
       "  Eingeschleppt  Obs.Anz.  Jahre (min)  Jahre (max)  Unsicher (?)  \n",
       "0       Indigen        31         1955         2021           NaN  \n",
       "1       Indigen         5         1955         2001           NaN  \n",
       "2       Indigen         7         1955         2001           NaN  \n",
       "3       Indigen        33         1955         2021           NaN  \n",
       "4       Indigen         1         1982         1999           NaN  "
      ]
     },
     "execution_count": 2,
     "metadata": {},
     "output_type": "execute_result"
    }
   ],
   "source": [
    "# make slugs for species and places\n",
    "\n",
    "# function to make the species slugs\n",
    "def to_slug(x):\n",
    "    try: \n",
    "        int_data = x.split()\n",
    "        data = int_data[:2]\n",
    "        data = \"-\".join(data)\n",
    "        data = data.lower()\n",
    "    except:\n",
    "        data = \"none\"\n",
    "    return data\n",
    "\n",
    "# chaux de fonds 5x5 kilometer = 550_215\n",
    "# Biel = the other four of them.\n",
    "# with Biel, just covers the general survey area. Make new list of unique values from each of the 4 biel lists.\n",
    "\n",
    "cdf5x5 = pd.read_csv(\"resources/atlas5x5/Atlas5x5_550_215.csv\", encoding = \"utf-16\")\n",
    "cdf5x5.head()"
   ]
  },
  {
   "cell_type": "code",
   "execution_count": null,
   "id": "ffb5f91c-5bb2-4ff4-91a7-8131cfcc0f9f",
   "metadata": {
    "jupyter": {
     "source_hidden": true
    },
    "tags": []
   },
   "outputs": [],
   "source": []
  },
  {
   "cell_type": "markdown",
   "id": "juvenile-locator",
   "metadata": {},
   "source": [
    "## Determine wether or not a species was detected within a geographic limit\n",
    "\n",
    "The territory is divided into different segments. Flora-helvitica and WS maps have different geographic bounds. Here the presence or not of a species within the confines of one of the different boundaries is determined."
   ]
  },
  {
   "cell_type": "markdown",
   "id": "superb-resistance",
   "metadata": {},
   "source": [
    "### Key the species to the different maps it was identified in\n"
   ]
  },
  {
   "cell_type": "markdown",
   "id": "lovely-percentage",
   "metadata": {},
   "source": [
    "## Format date column to ISO standard"
   ]
  },
  {
   "cell_type": "code",
   "execution_count": null,
   "id": "1d5a1226-19dd-4d69-8249-eb821d83ca3b",
   "metadata": {},
   "outputs": [],
   "source": []
  }
 ],
 "metadata": {
  "kernelspec": {
   "display_name": "Python 3 (ipykernel)",
   "language": "python",
   "name": "python3"
  },
  "language_info": {
   "codemirror_mode": {
    "name": "ipython",
    "version": 3
   },
   "file_extension": ".py",
   "mimetype": "text/x-python",
   "name": "python",
   "nbconvert_exporter": "python",
   "pygments_lexer": "ipython3",
   "version": "3.8.12"
  }
 },
 "nbformat": 4,
 "nbformat_minor": 5
}
