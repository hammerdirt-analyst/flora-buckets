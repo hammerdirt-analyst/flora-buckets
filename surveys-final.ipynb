{
 "cells": [
  {
   "cell_type": "code",
   "execution_count": null,
   "id": "1a4f5d0a-7503-4811-9486-a1f4cdfce45e",
   "metadata": {},
   "outputs": [],
   "source": [
    "# final survey notebook"
   ]
  },
  {
   "cell_type": "code",
   "execution_count": null,
   "id": "c59093e1-5bfc-4f94-80e2-b397b1e029dd",
   "metadata": {},
   "outputs": [],
   "source": []
  },
  {
   "cell_type": "markdown",
   "id": "513ade89-c7a0-4be8-86d2-07216749d8cd",
   "metadata": {},
   "source": []
  },
  {
   "cell_type": "code",
   "execution_count": null,
   "id": "4cff6aaa-259e-4b5f-bf80-80fae54d8c4b",
   "metadata": {},
   "outputs": [],
   "source": []
  },
  {
   "cell_type": "code",
   "execution_count": null,
   "id": "8e5f46d9-a309-400e-a2a4-6640829984d3",
   "metadata": {},
   "outputs": [],
   "source": []
  }
 ],
 "metadata": {
  "kernelspec": {
   "display_name": "Python 3 (ipykernel)",
   "language": "python",
   "name": "python3"
  },
  "language_info": {
   "codemirror_mode": {
    "name": "ipython",
    "version": 3
   },
   "file_extension": ".py",
   "mimetype": "text/x-python",
   "name": "python",
   "nbconvert_exporter": "python",
   "pygments_lexer": "ipython3",
   "version": "3.8.12"
  }
 },
 "nbformat": 4,
 "nbformat_minor": 5
}
