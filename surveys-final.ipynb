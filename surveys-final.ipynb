{
 "cells": [
  {
   "cell_type": "markdown",
   "metadata": {
    "tags": []
   },
   "source": [
    "# Surveys of vascular plants in Biel\n",
    "\n",
    "This report concludes a 2020-2021 project to identify plant species around Biel/Bienne. The first part of the surveys were completed between June 15th and September 30th 2020 and focused on the urban Suze river and its Madretschkanal variant. The second set of surveys were conducted between February 2021 and September 2021. The objective was to construct an initial dataset on the remnant flowering plant populations growing in different green spaces around the city of Biel/Bienne and develop some standard reporting to make the data actionable for scientific and management purposes. "
   ]
  },
  {
   "cell_type": "code",
   "execution_count": 1,
   "metadata": {
    "tags": [
     "hide-input"
    ]
   },
   "outputs": [],
   "source": [
    "# Final survey notebook for 2020-2021 plant surveys\n",
    "# Import packages and files\n",
    "# "
   ]
  },
  {
   "cell_type": "code",
   "execution_count": null,
   "metadata": {
    "tags": [
     "hide-input"
    ]
   },
   "outputs": [],
   "source": [
    "# image (castle one with ruler)"
   ]
  },
  {
   "cell_type": "markdown",
   "metadata": {},
   "source": [
    "## Timing and location of surveys\n",
    "The surveys occured in two phases, first from June to September 2020, and second from February to September 2021. In the first year, the focus was primarily on the urban Suze river and its Madretschkanal variant. Along this stretch of the river, as with many urban settings, there are many varied habitats, from deep shade to full pavement to flower strips maintained for ecological and aesthetic purposes. The sites are managed by the municipality to a greater or less degree and all areas surveyed were open access to the public and reasonably accessible for an average person. In 2021 the surveys included a wider geographic scope, but still largely remained in Biel and its environs. The zones surveyed ranged from railroad berms grazed by sheep to green areas in the sidewalk in an effort to capture the diversity of herbaceous plants around the city.\n",
    "\n",
    "The sites varied greatly in size and shape. The size of the sites was not recorded, but a detailed description of the is available. In nearly all cases it is possible to recover the boundary of the sites based on the geometry of the object. For example, surveys were usually bounded by sidewalks, roads, or other barriers."
   ]
  },
  {
   "cell_type": "code",
   "execution_count": null,
   "metadata": {
    "tags": [
     "hide-input"
    ]
   },
   "outputs": [],
   "source": [
    "# map of the survey sites year 1 and year 2"
   ]
  },
  {
   "cell_type": "code",
   "execution_count": null,
   "metadata": {},
   "outputs": [],
   "source": [
    "# some survey site images"
   ]
  },
  {
   "cell_type": "markdown",
   "metadata": {},
   "source": [
    "## Summary results\n",
    "\n",
    "The following figures summarize the year 1 and year 2 surveys.\n",
    "\n",
    "*__Below left:__ The number of species, samples and locations sampled per month. __Top right:__ The number of unique species identified per sample. __Bottom right:__ The aggregated values for the year.*"
   ]
  },
  {
   "cell_type": "code",
   "execution_count": null,
   "metadata": {
    "tags": [
     "hide-input"
    ]
   },
   "outputs": [],
   "source": [
    "# year one general analysis"
   ]
  },
  {
   "cell_type": "code",
   "execution_count": null,
   "metadata": {},
   "outputs": [],
   "source": [
    "# year two general analysis"
   ]
  },
  {
   "cell_type": "markdown",
   "metadata": {},
   "source": [
    "The nature of the surveys changes over time, especially the plants that could be identified. Initially in June 2020, the number of plants that could be reliably identified was very small, where as by June 2021, the surveyor could reliably identify hundreds of common species. Some other changes in the survey methodology over time are the following:\n",
    "* The surveyor more widely adopted the use of identification to the genus level in the second year. Identification to the species level was not always possible in a reasonable amount of time.\n",
    "* Initially only plants *in flower* were surveyed. This remained largely the case but some plants (e.g. Hedera helix) were widespread and could be identified with or without flowers.\n",
    "* Some trees were included in the observations later in the second year as they represented some portion of the undergrowth in the survey sites"
   ]
  },
  {
   "cell_type": "markdown",
   "metadata": {},
   "source": [
    "## Native vs nonnative species\n",
    "\n",
    "A large number of both native and nonnative species were identified, with the vast majority being native. As can be seen from the following chart which decomposes the species identified into native species, nonnative, invasive, and species identified only to the genus level, native species dominated in both year 1 and year 2."
   ]
  },
  {
   "cell_type": "code",
   "execution_count": null,
   "metadata": {},
   "outputs": [],
   "source": [
    "# that nice bar chart"
   ]
  },
  {
   "cell_type": "code",
   "execution_count": null,
   "metadata": {},
   "outputs": [],
   "source": [
    "# average *per survey* ration of native:ni:inv:ongen"
   ]
  },
  {
   "cell_type": "markdown",
   "metadata": {},
   "source": [
    "## Redlist and priority list species\n",
    "\n",
    "The IUCN Red List is an internationally comparable ranking of the conservation status of individual species and biotopes. A number of surveys identified "
   ]
  },
  {
   "cell_type": "markdown",
   "metadata": {},
   "source": [
    "## Madretschkanal and the Suze\n",
    "\n"
   ]
  },
  {
   "cell_type": "code",
   "execution_count": null,
   "metadata": {},
   "outputs": [],
   "source": [
    "# analysis Madretschkanal and the Suze"
   ]
  },
  {
   "cell_type": "markdown",
   "metadata": {
    "tags": []
   },
   "source": [
    "## About the surveyor\n",
    "\n",
    "New to the field of botany, I used these surveys as a tool to build my own knowledge in regional plant ecology and plant identification. I tested out several imaged based plant identification applications, taught myself how to use a traditional botanical key and used the latest Flora Helvetica guidebook. The number of plants readily identified quickly increased, especially once I became confident in identifying the more common and recognizable species that dominate the landscapes."
   ]
  },
  {
   "cell_type": "markdown",
   "metadata": {},
   "source": [
    "## Summary of results"
   ]
  },
  {
   "cell_type": "code",
   "execution_count": null,
   "metadata": {},
   "outputs": [],
   "source": [
    "# overall results"
   ]
  },
  {
   "cell_type": "code",
   "execution_count": null,
   "metadata": {},
   "outputs": [],
   "source": []
  },
  {
   "cell_type": "code",
   "execution_count": null,
   "metadata": {},
   "outputs": [],
   "source": []
  }
 ],
 "metadata": {
  "kernelspec": {
   "display_name": "Python 3",
   "language": "python",
   "name": "python3"
  },
  "language_info": {
   "codemirror_mode": {
    "name": "ipython",
    "version": 3
   },
   "file_extension": ".py",
   "mimetype": "text/x-python",
   "name": "python",
   "nbconvert_exporter": "python",
   "pygments_lexer": "ipython3",
   "version": "3.7.6"
  }
 },
 "nbformat": 4,
 "nbformat_minor": 5
}
