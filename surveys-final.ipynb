{
 "cells": [
  {
   "cell_type": "markdown",
   "id": "11384179-67e9-4fe2-afb3-01ce9d196291",
   "metadata": {
    "tags": []
   },
   "source": [
    "# Surveys of vascular plants in Biel\n",
    "\n",
    "This report concludes a 2020-2021 project to identify plant species around Biel/Bienne. The first part of the surveys were completed between June 15th and September 30th 2020 and focused on the urban Suze river and its Madretschkanal variant. The second set of surveys were conducted between February 2021 and September 2021. The objective was to construct an initial dataset on the remnant flowering plant populations growing in different green spaces around the city of Biel/Bienne and develop some standard reporting to make the data actionable for scientific and management purposes. "
   ]
  },
  {
   "cell_type": "code",
   "execution_count": 1,
   "id": "c59093e1-5bfc-4f94-80e2-b397b1e029dd",
   "metadata": {
    "tags": [
     "hide-input"
    ]
   },
   "outputs": [],
   "source": [
    "# Final survey notebook for 2020-2021 plant surveys\n",
    "# Import packages and files\n",
    "# "
   ]
  },
  {
   "cell_type": "code",
   "execution_count": null,
   "id": "66e54f6b-e244-458e-9086-09b050aae040",
   "metadata": {
    "tags": [
     "hide-input"
    ]
   },
   "outputs": [],
   "source": [
    "# image (castle one with ruler)"
   ]
  },
  {
   "cell_type": "markdown",
   "id": "923fdb08-1360-4d92-958b-ae1e20179a9b",
   "metadata": {},
   "source": [
    "## Timing and location of surveys\n",
    "The surveys occured in two phases, first from June to September 2020, and second from February to September 2021. In the first year, the focus was primarily on the urban Suze river and its Madretschkanal variant. Along this stretch of the river, as with many urban settings, there are many varied habitats, from deep shade to full pavement to flower strips maintained for ecological and aesthetic purposes. The sites are managed by the municipality to a greater or less degree and all areas surveyed were open access to the public and reasonably accessible for an average person. In 2021 the surveys included a wider geographic scope, but still largely remained in Biel and its environs. The zones surveyed ranged from railroad berms grazed by sheep to green areas in the sidewalk in an effort to capture the diversity of herbaceous plants around the city.\n",
    "\n",
    "The sites varied greatly in size and shape. The size of the sites was not recorded, but a detailed description of the is available. In nearly all cases it is possible to recover the boundary of the sites based on the geometry of the object. For example, surveys were usually bounded by sidewalks, roads, or other barriers."
   ]
  },
  {
   "cell_type": "code",
   "execution_count": null,
   "id": "3762222d-fba9-4dae-9743-65d09a645fb3",
   "metadata": {
    "tags": [
     "hide-input"
    ]
   },
   "outputs": [],
   "source": [
    "# map of the survey sites year 1 and year 2"
   ]
  },
  {
   "cell_type": "code",
   "execution_count": null,
   "id": "ea9c342e-a931-4b0f-bdfe-c24d1f92732e",
   "metadata": {},
   "outputs": [],
   "source": [
    "# some survey site images"
   ]
  },
  {
   "cell_type": "markdown",
   "id": "1c3a831b-8b88-4ce7-bef0-6612e1a85651",
   "metadata": {},
   "source": [
    "## Summary results\n",
    "\n",
    "The following figures summarize the year 1 and year 2 surveys.\n",
    "\n",
    "*__Below left:__ The number of species, samples and locations sampled per month. __Top right:__ The number of unique species identified per sample. __Bottom right:__ The aggregated values for the year.*"
   ]
  },
  {
   "cell_type": "code",
   "execution_count": null,
   "id": "7b104ab4-b422-48a6-8986-cadf80058592",
   "metadata": {
    "tags": [
     "hide-input"
    ]
   },
   "outputs": [],
   "source": [
    "# year one general analysis"
   ]
  },
  {
   "cell_type": "code",
   "execution_count": null,
   "id": "2bb28533-f7ad-4d2c-b7a9-51d2fc16a559",
   "metadata": {},
   "outputs": [],
   "source": [
    "# year two general analysis"
   ]
  },
  {
   "cell_type": "markdown",
   "id": "484f1404-ba62-4a92-ad5f-c66c139d0713",
   "metadata": {},
   "source": [
    "The nature of the surveys changes over time, especially the plants that could be identified. Initially in June 2020, the number of plants that could be reliably identified was very small, where as by June 2021, the surveyor could reliably identify hundreds of common species. Some other changes in the survey methodology over time are the following:\n",
    "* The surveyor more widely adopted the use of identification to the genus level in the second year. Identification to the species level was not always possible in a reasonable amount of time.\n",
    "* Initially only plants *in flower* were surveyed. This remained largely the case but some plants (e.g. Hedera helix) were widespread and could be identified with or without flowers.\n",
    "* Some trees were included in the observations later in the second year as they represented some portion of the undergrowth in the survey sites"
   ]
  },
  {
   "cell_type": "markdown",
   "id": "98379a43-f6b4-42c1-bc65-36c51d1fdbfd",
   "metadata": {},
   "source": [
    "## Native vs nonnative species\n",
    "\n",
    "A large number of both native and nonnative species were identified, with the vast majority being native. As can be seen from the following chart which decomposes the species identified into native species, nonnative, invasive, and species identified only to the genus level, native species dominated in both year 1 and year 2."
   ]
  },
  {
   "cell_type": "code",
   "execution_count": null,
   "id": "a12e63b3-f9d0-47c4-9336-cfb31182ced8",
   "metadata": {},
   "outputs": [],
   "source": [
    "# that nice bar chart"
   ]
  },
  {
   "cell_type": "code",
   "execution_count": null,
   "id": "fe1917d2-bc1c-4476-b1d0-c8e42b2056f1",
   "metadata": {},
   "outputs": [],
   "source": [
    "# average *per survey* ration of native:ni:inv:ongen"
   ]
  },
  {
   "cell_type": "markdown",
   "id": "18467b70-4bb5-4043-a3bc-1012ed85b111",
   "metadata": {},
   "source": [
    "## Redlist and priority list species\n",
    "\n",
    "The IUCN Red List is an internationally comparable ranking of the conservation status of individual species and biotopes. A number of surveys identified "
   ]
  },
  {
   "cell_type": "markdown",
   "id": "cb037e31-9a62-4c54-a83f-a1a2dbf6da4b",
   "metadata": {},
   "source": [
    "## Madretschkanal and the Suze\n",
    "\n"
   ]
  },
  {
   "cell_type": "code",
   "execution_count": null,
   "id": "6cffb8d6-50e3-4bd6-9c5e-adeab457b35d",
   "metadata": {},
   "outputs": [],
   "source": [
    "# analysis Madretschkanal and the Suze"
   ]
  },
  {
   "cell_type": "markdown",
   "id": "513ade89-c7a0-4be8-86d2-07216749d8cd",
   "metadata": {
    "tags": []
   },
   "source": [
    "## About the surveyor\n",
    "\n",
    "New to the field of botany, I used these surveys as a tool to build my own knowledge in regional plant ecology and plant identification. I tested out several imaged based plant identification applications, taught myself how to use a traditional botanical key and used the latest Flora Helvetica guidebook. The number of plants readily identified quickly increased, especially once I became confident in identifying the more common and recognizable species that dominate the landscapes."
   ]
  },
  {
   "cell_type": "markdown",
   "id": "028d2863-8b4d-43f1-9b0e-58d530f3ca56",
   "metadata": {},
   "source": [
    "## Summary of results"
   ]
  },
  {
   "cell_type": "code",
   "execution_count": null,
   "id": "f5f3f11b-aebc-43e3-960d-ab557016e238",
   "metadata": {},
   "outputs": [],
   "source": [
    "# overall results"
   ]
  },
  {
   "cell_type": "code",
   "execution_count": null,
   "id": "4cff6aaa-259e-4b5f-bf80-80fae54d8c4b",
   "metadata": {},
   "outputs": [],
   "source": []
  },
  {
   "cell_type": "code",
   "execution_count": null,
   "id": "8e5f46d9-a309-400e-a2a4-6640829984d3",
   "metadata": {},
   "outputs": [],
   "source": []
  }
 ],
 "metadata": {
  "kernelspec": {
   "display_name": "Python 3 (ipykernel)",
   "language": "python",
   "name": "python3"
  },
  "language_info": {
   "codemirror_mode": {
    "name": "ipython",
    "version": 3
   },
   "file_extension": ".py",
   "mimetype": "text/x-python",
   "name": "python",
   "nbconvert_exporter": "python",
   "pygments_lexer": "ipython3",
   "version": "3.8.12"
  }
 },
 "nbformat": 4,
 "nbformat_minor": 5
}
