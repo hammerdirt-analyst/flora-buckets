{
 "cells": [
  {
   "cell_type": "markdown",
   "id": "common-spanish",
   "metadata": {},
   "source": [
    "# Preprocessing"
   ]
  },
  {
   "cell_type": "code",
   "execution_count": 1,
   "id": "stunning-sperm",
   "metadata": {},
   "outputs": [],
   "source": [
    "# math and data packages\n",
    "import pandas as pd\n",
    "import numpy as np\n",
    "import math\n",
    "\n",
    "# charting and graphics\n",
    "import matplotlib as mpl\n",
    "import matplotlib.pyplot as plt\n",
    "import seaborn as sns\n",
    "\n",
    "# os and file types\n",
    "import os\n",
    "import sys\n",
    "import datetime as dt\n",
    "import json\n",
    "import csv\n",
    "\n",
    "# images and display\n",
    "import base64, io, IPython\n",
    "from PIL import Image as PILImage\n",
    "from IPython.display import Markdown as md\n",
    "from IPython.display import display, Math, Latex\n",
    "\n"
   ]
  },
  {
   "cell_type": "markdown",
   "id": "drawn-individual",
   "metadata": {},
   "source": [
    "## Import data\n",
    "\n",
    "Fix any known formatting problems here"
   ]
  },
  {
   "cell_type": "code",
   "execution_count": 2,
   "id": "94ddcdff-733e-4a53-a662-602c6642e5e7",
   "metadata": {},
   "outputs": [
    {
     "name": "stdout",
     "output_type": "stream",
     "text": [
      "<class 'pandas.core.frame.DataFrame'>\n",
      "RangeIndex: 58 entries, 0 to 57\n",
      "Data columns (total 27 columns):\n",
      " #   Column                                                Non-Null Count  Dtype  \n",
      "---  ------                                                --------------  -----  \n",
      " 0   Latin                                                 58 non-null     object \n",
      " 1   French                                                58 non-null     object \n",
      " 2   Jura                                                  41 non-null     float64\n",
      " 3   Plateau                                               47 non-null     float64\n",
      " 4   Versant Nord des Alpes                                20 non-null     float64\n",
      " 5   Alpes centrales Ouest                                 28 non-null     float64\n",
      " 6   Alpes centrales Est                                   20 non-null     float64\n",
      " 7   Versant Sud des Alpes                                 43 non-null     float64\n",
      " 8   non établi en Suisse                                  10 non-null     float64\n",
      " 9   1 Eau1 libres                                         8 non-null      float64\n",
      " 10  2 Rivages et lieu humides                             13 non-null     float64\n",
      " 11  3 Glaciers, rochers, éboulis et moraines              0 non-null      float64\n",
      " 12  4 Pelouses et prairies                                15 non-null     float64\n",
      " 13  5 Landes, lisières et mégaphorbiaies                  28 non-null     float64\n",
      " 14  6 Forêts                                              27 non-null     float64\n",
      " 15  7 Végétations pionnières des endroits perturbés       40 non-null     float64\n",
      " 16  8 Plantations, champs, cultures                       15 non-null     float64\n",
      " 17  9 Milieu1 construits                                  29 non-null     float64\n",
      " 18  Potentiel d'e1pansion                                 58 non-null     object \n",
      " 19  santé                                                 58 non-null     object \n",
      " 20  écologie, biodiversité                                58 non-null     object \n",
      " 21  économie                                              58 non-null     int64  \n",
      " 22  Präventionscharakter (hoch=1, mittel=2, gering=3)     57 non-null     object \n",
      " 23  Regionale Wichtigkeit (hoch=1, mittel=2, gering=3)    45 non-null     object \n",
      " 24  Lack List / Watch List \"old\"                          58 non-null     object \n",
      " 25  list_2014                                             58 non-null     object \n",
      " 26  Ordonnonce sur la dissémination des organismes (ODE)  58 non-null     object \n",
      "dtypes: float64(16), int64(1), object(10)\n",
      "memory usage: 12.4+ KB\n"
     ]
    }
   ],
   "source": [
    "# make slugs for species and places\n",
    "\n",
    "# function to make the species slugs\n",
    "def to_slug(x):\n",
    "    try: \n",
    "        int_data = x.split()\n",
    "        data = int_data[:2]\n",
    "        data = \"-\".join(data)\n",
    "        data = data.lower()\n",
    "    except:\n",
    "        data = \"none\"\n",
    "    return data\n",
    "\n",
    "\n",
    "def asplit(x):\n",
    "    akey=x\n",
    "    int_data = x.strip().split(\"-\")\n",
    "    return int_data, akey\n",
    "\n",
    "def check_length(x):\n",
    "    data = len(x[0])\n",
    "    return data, x[0], x[1]\n",
    "\n",
    "def new_data(data, suffixes, threecharacters, twocharacters):\n",
    "    \"\"\"Removes the specified suffix from a string\"\"\"\n",
    "    \n",
    "    if data[0] == 1:        \n",
    "        if data[1][0].endswith(suffixes):\n",
    "            new_x = data[1][:-4]\n",
    "        elif data[1][0].endswith(threecharacters):\n",
    "            new_x = data[1][:-3]\n",
    "        else:\n",
    "            new_x = data[1][0]\n",
    "    else:\n",
    "        \n",
    "        if data[1][1] in suffixes:\n",
    "            new_x = data[1][0]\n",
    "        elif data[1][1].endswith(threecharacters):\n",
    "            new_x = data[1][0]\n",
    "        elif data[1][1].endswith(twocharacters):\n",
    "            new_x = data[1][0]\n",
    "        else:\n",
    "            new_x = \"-\".join(data[1])            \n",
    "    \n",
    "    return {data[2]:new_x}\n",
    "\n",
    "def change_a_column_value(df,coltocopy, coltorecieve, this_function=to_slug):\n",
    "    copyname = f\"{coltocopy}_copy\"\n",
    "    df[copyname] = df[coltocopy]\n",
    "    df[coltorecieve] = df[copyname].map(lambda x: this_function(x))\n",
    "    return df\n",
    "\n",
    "def columns_to_lower(df, oldnames):\n",
    "    new_names = {x:x.lower() for x in oldnames}\n",
    "    return df.rename(columns=new_names, inplace=True)\n",
    "\n",
    "invasives = pd.read_csv(\"resources/inprocess/invasives.csv\")\n",
    "priority = pd.read_csv(\"resources/inprocess/priority.csv\")\n",
    "redlist = pd.read_csv(\"resources/inprocess/redlist.csv\")\n",
    "surveys = pd.read_csv(\"resources/inprocess/combined_survey_data.csv\")\n",
    "invasives.info()"
   ]
  },
  {
   "cell_type": "code",
   "execution_count": 18,
   "id": "964707aa-bea3-48fd-b463-048fb0627fe4",
   "metadata": {},
   "outputs": [],
   "source": [
    "invasives = change_a_column_value(invasives, \"Latin\", \"species\", to_slug)[[\"species\", \"list_2014\", \"Ordonnonce sur la dissémination des organismes (ODE)\"]]\n",
    "priority = change_a_column_value(priority, \"species\", \"species\", to_slug)[[\"species\", \"Jura\", \"Plateau\", \"responsabilite\", \"priorite\"]]\n",
    "redlist = change_a_column_value(redlist, \"species\", \"species\", to_slug)[[\"FAMILY\", \"GENUS\", \"species\", \"CH\", \"JU\", \"MP\"]]\n",
    "\n",
    "the_lists = [invasives.species, priority.species, redlist.species]\n",
    "uniques = np.concatenate([x.unique() for x in the_lists])\n",
    "uniques = list(set(uniques))\n",
    "\n",
    "list_index = {0:\"invasives\", 1:\"priority\", 2:\"redlist\"}\n",
    "\n",
    "# the binomial\n",
    "s_sp = surveys.species.sort_values().unique()\n",
    "sp_k = list(zip(np.arange(len(s_sp)), s_sp))\n",
    "\n",
    "# the genus\n",
    "genus_s = np.unique(np.array([x.split(\"-\")[0] for x in s_sp]))\n",
    "genus_u = np.unique(np.array([x.split(\"-\")[0] for x in uniques]))"
   ]
  },
  {
   "cell_type": "code",
   "execution_count": 112,
   "id": "4e259bd1-4e27-4841-9067-f7e0ad1b0c8f",
   "metadata": {},
   "outputs": [],
   "source": [
    "def the_list_value(x,alist, the_xcoord):\n",
    "    the_val = alist[alist[the_xcoord].isin([x])].to_numpy()\n",
    "    if len(the_val) > 1:\n",
    "        data = the_val\n",
    "    else:\n",
    "        data = the_val\n",
    "    return data\n",
    "    \n",
    "\n",
    "\n",
    "def define_list_membership(alist, others, contains=True):\n",
    "    all_results = {}\n",
    "    for i,name in enumerate(alist):\n",
    "        name_results = {}\n",
    "        for j,aseries in enumerate(others):\n",
    "            if contains:\n",
    "                name_results.update({j:aseries.str.contains(name, regex=False, case=False).sum()})\n",
    "            else:\n",
    "                name_results.update({j:(aseries == name).sum()})\n",
    "                # aval = the_list_value(x, aseries, name\n",
    "        all_results.update({name:name_results})\n",
    "            \n",
    "       \n",
    "    return all_results\n",
    "\n",
    "species_mem = define_list_membership(genus_s, the_lists)\n",
    "genus_mem = define_list_membership(genus_u, the_lists) \n",
    "\n",
    "species_match = define_list_membership(s_sp, the_lists, contains=False)"
   ]
  },
  {
   "cell_type": "code",
   "execution_count": 115,
   "id": "b988d55b-30fa-43e7-b592-8e2b9904a93a",
   "metadata": {},
   "outputs": [
    {
     "data": {
      "text/html": [
       "<div>\n",
       "<style scoped>\n",
       "    .dataframe tbody tr th:only-of-type {\n",
       "        vertical-align: middle;\n",
       "    }\n",
       "\n",
       "    .dataframe tbody tr th {\n",
       "        vertical-align: top;\n",
       "    }\n",
       "\n",
       "    .dataframe thead th {\n",
       "        text-align: right;\n",
       "    }\n",
       "</style>\n",
       "<table border=\"1\" class=\"dataframe\">\n",
       "  <thead>\n",
       "    <tr style=\"text-align: right;\">\n",
       "      <th></th>\n",
       "      <th>invasives</th>\n",
       "      <th>priority</th>\n",
       "      <th>redlist</th>\n",
       "    </tr>\n",
       "  </thead>\n",
       "  <tbody>\n",
       "    <tr>\n",
       "      <th>achillea-millefolium</th>\n",
       "      <td>0</td>\n",
       "      <td>0</td>\n",
       "      <td>2</td>\n",
       "    </tr>\n",
       "    <tr>\n",
       "      <th>allium-carinatum</th>\n",
       "      <td>0</td>\n",
       "      <td>1</td>\n",
       "      <td>3</td>\n",
       "    </tr>\n",
       "    <tr>\n",
       "      <th>anthriscus-sylvestris</th>\n",
       "      <td>0</td>\n",
       "      <td>1</td>\n",
       "      <td>3</td>\n",
       "    </tr>\n",
       "    <tr>\n",
       "      <th>anthyllis-vulneraria</th>\n",
       "      <td>0</td>\n",
       "      <td>2</td>\n",
       "      <td>5</td>\n",
       "    </tr>\n",
       "    <tr>\n",
       "      <th>arabis-hirsuta</th>\n",
       "      <td>0</td>\n",
       "      <td>0</td>\n",
       "      <td>2</td>\n",
       "    </tr>\n",
       "    <tr>\n",
       "      <th>...</th>\n",
       "      <td>...</td>\n",
       "      <td>...</td>\n",
       "      <td>...</td>\n",
       "    </tr>\n",
       "    <tr>\n",
       "      <th>verbascum-thapsus</th>\n",
       "      <td>0</td>\n",
       "      <td>0</td>\n",
       "      <td>3</td>\n",
       "    </tr>\n",
       "    <tr>\n",
       "      <th>veronica-hederifolia</th>\n",
       "      <td>0</td>\n",
       "      <td>0</td>\n",
       "      <td>4</td>\n",
       "    </tr>\n",
       "    <tr>\n",
       "      <th>veronica-serpyllifolia</th>\n",
       "      <td>0</td>\n",
       "      <td>0</td>\n",
       "      <td>3</td>\n",
       "    </tr>\n",
       "    <tr>\n",
       "      <th>vicia-cracca</th>\n",
       "      <td>0</td>\n",
       "      <td>0</td>\n",
       "      <td>4</td>\n",
       "    </tr>\n",
       "    <tr>\n",
       "      <th>vicia-sativa</th>\n",
       "      <td>0</td>\n",
       "      <td>0</td>\n",
       "      <td>3</td>\n",
       "    </tr>\n",
       "  </tbody>\n",
       "</table>\n",
       "<p>71 rows × 3 columns</p>\n",
       "</div>"
      ],
      "text/plain": [
       "                        invasives  priority  redlist\n",
       "achillea-millefolium            0         0        2\n",
       "allium-carinatum                0         1        3\n",
       "anthriscus-sylvestris           0         1        3\n",
       "anthyllis-vulneraria            0         2        5\n",
       "arabis-hirsuta                  0         0        2\n",
       "...                           ...       ...      ...\n",
       "verbascum-thapsus               0         0        3\n",
       "veronica-hederifolia            0         0        4\n",
       "veronica-serpyllifolia          0         0        3\n",
       "vicia-cracca                    0         0        4\n",
       "vicia-sativa                    0         0        3\n",
       "\n",
       "[71 rows x 3 columns]"
      ]
     },
     "execution_count": 115,
     "metadata": {},
     "output_type": "execute_result"
    }
   ],
   "source": [
    "species_to_list = pd.DataFrame.from_dict(species_match, orient=\"index\")\n",
    "species_to_list.rename(columns=list_index, inplace=True)\n",
    "species_to_list[species_to_list.redlist > 1]"
   ]
  },
  {
   "cell_type": "code",
   "execution_count": 161,
   "id": "9dec7271-4252-4192-a700-62f6d30934de",
   "metadata": {},
   "outputs": [],
   "source": [
    "my_species = [\"anthyllis-vulneraria\"]\n",
    "this_column = \"species\"\n",
    "columns = [\"ch\", \"ju\", \"mp\"]\n",
    "redlist.fillna(\"X\", inplace=True)"
   ]
  },
  {
   "cell_type": "code",
   "execution_count": 180,
   "id": "0a3063a4-3ac1-4b6e-90cd-2478d8b7ed53",
   "metadata": {},
   "outputs": [],
   "source": [
    "\n",
    "def the_list_value_for_each_species(aseries, search_column=\"species\", my_list=\"redlist\", my_species=[\"anthyllis-vulneraria\"], this_column=[\"CH\"]):\n",
    "    data = []\n",
    "    for element in my_species:\n",
    "        a = get_the_most_common_value(aseries, search_column=search_column, my_species=[element], this_column=this_column)\n",
    "        data.append(a)\n",
    "    \n",
    "    return {my_list:data}   \n",
    "\n",
    "\n",
    "\n",
    "def get_the_most_common_value(aseries, search_column=\"species\", my_species=[\"anthyllis-vulneraria\"], this_column=[\"CH\"]):\n",
    "        aval = aseries.loc[aseries[search_column].isin(my_species)][this_column]\n",
    "        if len(aval.index):\n",
    "            val = aval.value_counts(this_column).index[0][0]\n",
    "        else:\n",
    "            val = \"X\"\n",
    "            \n",
    "        return {\"species\":my_species[0], \"rated\":val}\n",
    "\n",
    "\n",
    "v = the_list_value_for_each_species(redlist, search_column=\"species\", my_species=s_sp, this_column=[\"CH\"])\n",
    "w = the_list_value_for_each_species(redlist, search_column=\"species\", my_species=s_sp, this_column=[\"JU\"])\n",
    "x = the_list_value_for_each_species(redlist, search_column=\"species\", my_species=s_sp, this_column=[\"MP\"])"
   ]
  },
  {
   "cell_type": "code",
   "execution_count": 181,
   "id": "6dff9395-2f06-4ead-98b6-552b04f8c3d6",
   "metadata": {},
   "outputs": [
    {
     "data": {
      "text/html": [
       "<div>\n",
       "<style scoped>\n",
       "    .dataframe tbody tr th:only-of-type {\n",
       "        vertical-align: middle;\n",
       "    }\n",
       "\n",
       "    .dataframe tbody tr th {\n",
       "        vertical-align: top;\n",
       "    }\n",
       "\n",
       "    .dataframe thead th {\n",
       "        text-align: right;\n",
       "    }\n",
       "</style>\n",
       "<table border=\"1\" class=\"dataframe\">\n",
       "  <thead>\n",
       "    <tr style=\"text-align: right;\">\n",
       "      <th></th>\n",
       "      <th>species</th>\n",
       "      <th>rated</th>\n",
       "    </tr>\n",
       "  </thead>\n",
       "  <tbody>\n",
       "    <tr>\n",
       "      <th>0</th>\n",
       "      <td>abies-alba</td>\n",
       "      <td>LC</td>\n",
       "    </tr>\n",
       "    <tr>\n",
       "      <th>1</th>\n",
       "      <td>acer</td>\n",
       "      <td>X</td>\n",
       "    </tr>\n",
       "    <tr>\n",
       "      <th>2</th>\n",
       "      <td>acer-campestre</td>\n",
       "      <td>LC</td>\n",
       "    </tr>\n",
       "    <tr>\n",
       "      <th>3</th>\n",
       "      <td>acer-negundo</td>\n",
       "      <td>X</td>\n",
       "    </tr>\n",
       "    <tr>\n",
       "      <th>4</th>\n",
       "      <td>acer-platanoides</td>\n",
       "      <td>LC</td>\n",
       "    </tr>\n",
       "    <tr>\n",
       "      <th>...</th>\n",
       "      <td>...</td>\n",
       "      <td>...</td>\n",
       "    </tr>\n",
       "    <tr>\n",
       "      <th>654</th>\n",
       "      <td>vincetoxicum-hirundinaria</td>\n",
       "      <td>NT</td>\n",
       "    </tr>\n",
       "    <tr>\n",
       "      <th>655</th>\n",
       "      <td>viola-alba</td>\n",
       "      <td>LC</td>\n",
       "    </tr>\n",
       "    <tr>\n",
       "      <th>656</th>\n",
       "      <td>viola-hirta</td>\n",
       "      <td>LC</td>\n",
       "    </tr>\n",
       "    <tr>\n",
       "      <th>657</th>\n",
       "      <td>viola-odorata</td>\n",
       "      <td>LC</td>\n",
       "    </tr>\n",
       "    <tr>\n",
       "      <th>658</th>\n",
       "      <td>viola-reichenbachiana</td>\n",
       "      <td>LC</td>\n",
       "    </tr>\n",
       "  </tbody>\n",
       "</table>\n",
       "<p>659 rows × 2 columns</p>\n",
       "</div>"
      ],
      "text/plain": [
       "                       species rated\n",
       "0                   abies-alba    LC\n",
       "1                         acer     X\n",
       "2               acer-campestre    LC\n",
       "3                 acer-negundo     X\n",
       "4             acer-platanoides    LC\n",
       "..                         ...   ...\n",
       "654  vincetoxicum-hirundinaria    NT\n",
       "655                 viola-alba    LC\n",
       "656                viola-hirta    LC\n",
       "657              viola-odorata    LC\n",
       "658      viola-reichenbachiana    LC\n",
       "\n",
       "[659 rows x 2 columns]"
      ]
     },
     "execution_count": 181,
     "metadata": {},
     "output_type": "execute_result"
    }
   ],
   "source": [
    "pd.concat[DataFrame.from_records(x[\"redlist\"])"
   ]
  },
  {
   "cell_type": "code",
   "execution_count": 25,
   "id": "7bd706b4-5708-42b6-aa6e-4c291e7b91eb",
   "metadata": {},
   "outputs": [
    {
     "data": {
      "text/html": [
       "<div>\n",
       "<style scoped>\n",
       "    .dataframe tbody tr th:only-of-type {\n",
       "        vertical-align: middle;\n",
       "    }\n",
       "\n",
       "    .dataframe tbody tr th {\n",
       "        vertical-align: top;\n",
       "    }\n",
       "\n",
       "    .dataframe thead th {\n",
       "        text-align: right;\n",
       "    }\n",
       "</style>\n",
       "<table border=\"1\" class=\"dataframe\">\n",
       "  <thead>\n",
       "    <tr style=\"text-align: right;\">\n",
       "      <th></th>\n",
       "      <th>species</th>\n",
       "      <th>Jura</th>\n",
       "      <th>Plateau</th>\n",
       "      <th>responsabilite</th>\n",
       "      <th>priorite</th>\n",
       "    </tr>\n",
       "  </thead>\n",
       "  <tbody>\n",
       "    <tr>\n",
       "      <th>58</th>\n",
       "      <td>anthyllis-vulneraria</td>\n",
       "      <td>C</td>\n",
       "      <td>A</td>\n",
       "      <td>1</td>\n",
       "      <td>4</td>\n",
       "    </tr>\n",
       "    <tr>\n",
       "      <th>59</th>\n",
       "      <td>anthyllis-vulneraria</td>\n",
       "      <td>0</td>\n",
       "      <td>0</td>\n",
       "      <td>3</td>\n",
       "      <td>4</td>\n",
       "    </tr>\n",
       "  </tbody>\n",
       "</table>\n",
       "</div>"
      ],
      "text/plain": [
       "                 species Jura Plateau  responsabilite  priorite\n",
       "58  anthyllis-vulneraria    C       A               1         4\n",
       "59  anthyllis-vulneraria    0       0               3         4"
      ]
     },
     "execution_count": 25,
     "metadata": {},
     "output_type": "execute_result"
    }
   ],
   "source": [
    "priority.loc[priority.species == \"anthyllis-vulneraria\"][[\"species\", \"Jura\", \"Plateau\", \"responsabilite\", \"priorite\"]]"
   ]
  },
  {
   "cell_type": "code",
   "execution_count": 23,
   "id": "0b9a6afa-c921-4299-afc5-aee6869a9e48",
   "metadata": {},
   "outputs": [
    {
     "data": {
      "text/html": [
       "<div>\n",
       "<style scoped>\n",
       "    .dataframe tbody tr th:only-of-type {\n",
       "        vertical-align: middle;\n",
       "    }\n",
       "\n",
       "    .dataframe tbody tr th {\n",
       "        vertical-align: top;\n",
       "    }\n",
       "\n",
       "    .dataframe thead th {\n",
       "        text-align: right;\n",
       "    }\n",
       "</style>\n",
       "<table border=\"1\" class=\"dataframe\">\n",
       "  <thead>\n",
       "    <tr style=\"text-align: right;\">\n",
       "      <th></th>\n",
       "      <th>species</th>\n",
       "      <th>list_2014</th>\n",
       "      <th>Ordonnonce sur la dissémination des organismes (ODE)</th>\n",
       "    </tr>\n",
       "  </thead>\n",
       "  <tbody>\n",
       "  </tbody>\n",
       "</table>\n",
       "</div>"
      ],
      "text/plain": [
       "Empty DataFrame\n",
       "Columns: [species, list_2014, Ordonnonce sur la dissémination des organismes (ODE)]\n",
       "Index: []"
      ]
     },
     "execution_count": 23,
     "metadata": {},
     "output_type": "execute_result"
    }
   ],
   "source": [
    "invasives.loc[invasives.species == \"anthyllis-vulneria\"][[\"species\", \"list_2014\", \"Ordonnonce sur la dissémination des organismes (ODE)\"]]"
   ]
  },
  {
   "cell_type": "code",
   "execution_count": 10,
   "id": "396b3f46-3800-4113-9eb3-011d1c4dfdaf",
   "metadata": {},
   "outputs": [
    {
     "data": {
      "text/plain": [
       "invasives      32\n",
       "priority      445\n",
       "redlist      1941\n",
       "dtype: int64"
      ]
     },
     "execution_count": 10,
     "metadata": {},
     "output_type": "execute_result"
    }
   ],
   "source": [
    "species_to_list = pd.DataFrame.from_dict(species_mem, orient=\"index\")\n",
    "species_to_list.rename(columns=list_index, inplace=True)\n",
    "species_to_list.sum()"
   ]
  },
  {
   "cell_type": "code",
   "execution_count": 11,
   "id": "3a82c029-e155-4561-a452-5850a20b79bc",
   "metadata": {},
   "outputs": [
    {
     "data": {
      "text/plain": [
       "Index(['Name', 'description', 'timestamp', 'begin', 'end', 'altitudeMode',\n",
       "       'tessellate', 'extrude', 'visibility', 'drawOrder', 'icon',\n",
       "       'description_1', 'type', 'htmlpopup', 'layerId', 'reg', 'lon', 'lat'],\n",
       "      dtype='object')"
      ]
     },
     "execution_count": 11,
     "metadata": {},
     "output_type": "execute_result"
    }
   ],
   "source": [
    "surveys2021 = pd.read_csv(\"resources/inprocess/surveys21-new.csv\")\n",
    "surveys2021.columns\n",
    "# Name', 'description', lon', 'lat"
   ]
  },
  {
   "cell_type": "code",
   "execution_count": 14,
   "id": "b75d61dc-7fa5-46b5-8ad3-9c75cec16c14",
   "metadata": {},
   "outputs": [],
   "source": [
    "alist=[1,2,3,4]\n",
    "colnames=[0,1,2,3]\n",
    "# new_array = np.zeros(( len(alist)+1,len(colnames)))\n",
    "# new_array[0] = np.arange(len(colnames))\n",
    "# new_array[1:,0] = alist\n",
    "# new_array"
   ]
  },
  {
   "cell_type": "code",
   "execution_count": null,
   "id": "ac4b7778-8707-4067-bc93-b7179bac0637",
   "metadata": {},
   "outputs": [],
   "source": [
    "# Keep the following columns: ODE (ODE means officially regulated, \"-\" means it is not), list_2014 (BL = black list / WL = watch list, BL is more threat than WL), species,  \n",
    "\n",
    "invcolumns = [\"species\", \"list_2014\", \"Ordonnonce sur la dissémination des organismes (ODE)\", \"acopy\"]\n",
    "invasives = invasives.rename(columns={invcolumns[2]:\"ode\"})\n",
    "\n",
    "\n",
    "invasives[\"ode\"] = invasives.ode.where(invasives.ode == \"ODE\", \"X\")\n",
    "\n",
    "invdata = invasives[[\"species\", \"list_2014\",\"ode\", \"acopy\"]].copy()"
   ]
  },
  {
   "cell_type": "code",
   "execution_count": null,
   "id": "69077fe2-c2a6-483c-953f-eb922794bb81",
   "metadata": {},
   "outputs": [],
   "source": [
    "# keep the following columns: species, jura (JU if present, 0 otherwise), plateau (MP if present, 0 otherwise), priorite ( 4 = high, 1 = low), responsabilite (4= high, 0 = none)\n",
    "# https://www.infoflora.ch/fr/conservation-des-especes/liste-rouge.html#especes-prioritaires\n",
    "\n",
    "pricolumns = [\"species\", \"Jura\", \"Plateau\", \"responsabilite\", \"priorite\", \"acopy\"]\n",
    "new_names = {x:x.lower() for x in pricolumns}\n",
    "priority.rename(columns=new_names, inplace=True)\n",
    "print(priority.info())\n",
    "pdata = priority[new_names.values()].copy()"
   ]
  },
  {
   "cell_type": "code",
   "execution_count": null,
   "id": "9c9f539e-4a9a-405d-ba04-cafe6d386607",
   "metadata": {},
   "outputs": [],
   "source": [
    "redlist.info()\n",
    "\n",
    "# keep the following columns: family, genus, species, CH (national status), JU (status in Jura), MP (status in central plateau)\n",
    "\n",
    "pricolumns = [\"FAMILY\", \"GENUS\", \"species\", \"CH\", \"JU\", \"MP\", \"acopy\"]\n",
    "new_names = {x:x.lower() for x in pricolumns}\n",
    "redlist.rename(columns=new_names, inplace=True)\n",
    "reddata = redlist[new_names.values()].copy()\n",
    "reddata.head()"
   ]
  },
  {
   "cell_type": "code",
   "execution_count": null,
   "id": "052ec47f-4b0c-434c-8e11-33d77d8b87ac",
   "metadata": {},
   "outputs": [],
   "source": [
    "surveys.info()"
   ]
  },
  {
   "cell_type": "code",
   "execution_count": null,
   "id": "d283b221-f431-4a49-9a60-47defdac1314",
   "metadata": {},
   "outputs": [],
   "source": [
    "pdata"
   ]
  },
  {
   "cell_type": "code",
   "execution_count": null,
   "id": "99d97921-2fbc-4a7e-84c6-ef58332975e1",
   "metadata": {},
   "outputs": [],
   "source": [
    "invdata[\"species\"] = invdata.acopy.map(lambda x: to_slug(x))\n",
    "pdata[\"species\"] = pdata.acopy.map(lambda x: to_slug(x))\n",
    "reddata[\"species\"] = reddata.acopy.map(lambda x: to_slug(x))"
   ]
  },
  {
   "cell_type": "code",
   "execution_count": null,
   "id": "9fb47b08-5ef9-461a-b709-8648daeafc7a",
   "metadata": {},
   "outputs": [],
   "source": [
    "s_locs = surveys.species.unique()"
   ]
  },
  {
   "cell_type": "code",
   "execution_count": null,
   "id": "9d1098f5-54d0-43d3-bc9a-894c25758055",
   "metadata": {},
   "outputs": [],
   "source": [
    "invdata[invdata.species.isin(s_locs)]"
   ]
  },
  {
   "cell_type": "code",
   "execution_count": null,
   "id": "3a84216e-11ce-4553-8a09-83db643107e0",
   "metadata": {},
   "outputs": [],
   "source": [
    "count = {\"priority\":0, \"invasive\":0, \"redlist\":0}\n",
    "names = {\"priority\":[], \"invasive\":[], \"redlist\":[]}\n",
    "for plant in surveys.species.unique():\n",
    "    x = len(priority.loc[priority.species == plant])\n",
    "    y = len(invasives.loc[invasives.species == plant])\n",
    "    z = len(redlist.loc[redlist.species == plant])   \n",
    "    \n",
    "    if x > 0:\n",
    "        count[\"priority\"] += x\n",
    "        names[\"priority\"].append(plant)\n",
    "    elif y > 0:\n",
    "        count[\"invasive\"] += y\n",
    "        names[\"invasive\"].append(plant)\n",
    "    elif z > 0:\n",
    "        count[\"redlist\"] += z\n",
    "        names[\"redlist\"].append(plant)\n",
    "    else:\n",
    "        pass\n",
    "    \n",
    "    \n",
    "   "
   ]
  },
  {
   "cell_type": "code",
   "execution_count": null,
   "id": "6762ce2a-12b9-4410-88f9-c03d937a4e39",
   "metadata": {},
   "outputs": [],
   "source": [
    "replacedict = {\n",
    "    'verbanum bonariensis ':'verbena bonariensis',\n",
    "    'medicago varia':'medicago sativa',\n",
    "    \"oenothera\":\"oenothera biennis\",\n",
    "    \"geranium pratens\":\"geranium pratense\",\n",
    "    \"oenothera biennis \": \"oenothera biennis\",\n",
    "    \"oenothera biennis agg.\": \"oenothera biennis\",\n",
    "    \"solidalgo canadensis\": \"solidago canadensis\",\n",
    "    \"verbascum lynchitis\":\"verbascum lychnitis\",\n",
    "    \"verbascum negris\":\"verbascum nigrum\",\n",
    "    \"securigea varia\": \"securigera varia\",\n",
    "    \"melilotus officianalis\": \"melilotus officinalis\",\n",
    "    \"knautia maxima\": \"knautia dipsacifolia\",\n",
    "    \"hieracium aurantiacum\":\"pilosella aurantiaca\",\n",
    "    \"sysimbrium officinale\":\"sisymbrium officinale\",\n",
    "    \"geranium robertanium\":\"geranium robertianum\",\n",
    "    \"mycelis muralis\": \"lactuca muralis\",\n",
    "    \"calamintha-nepeta\":\"clinopodium nepeta\",\n",
    "    \"polygonum-persicaria\":\"persicaria maculosa\",\n",
    "    \"sorbus-aria\":\"aria edulis\",\n",
    "    \"taraxacum\": \"taraxacum officinale\",\n",
    "    \"jacobaea vulgaris\" : \"senecio jacobaea\",\n",
    "    \"erigeron canadensis\" : \"conyza canadensis\",\n",
    "    \"rorippa islandica\" : \"rorippa palustris\",\n",
    "    \"malus sylvestris\" : \"malus domestica\",\n",
    "    \"hylotelephium telephium\" : \"sedum telephium\",\n",
    "    \"lactuca muralis\": \"mycelis muralis\",\n",
    "    \"chaenorhinum minus\": \"chaenorrhinum minus\",\n",
    "    \"erigeron canadensis\": \"conzya canadensis\",\n",
    "    \"erigeron canadensis\": \"conzya canadensis\",\n",
    "    \"borkhausenia intermedia\": \"scandosorbus intermedia\",\n",
    "    \"centaurea nigra\" : \"centaurea jacea\"\n",
    "}"
   ]
  },
  {
   "cell_type": "code",
   "execution_count": null,
   "id": "eb135000-3e9d-4519-9418-0a943235385b",
   "metadata": {},
   "outputs": [],
   "source": [
    "count"
   ]
  },
  {
   "cell_type": "markdown",
   "id": "juvenile-locator",
   "metadata": {},
   "source": [
    "## Determine wether or not a species was detected within a geographic limit\n",
    "\n",
    "The territory is divided into different segments. Flora-helvitica and WS maps have different geographic bounds. Here the presence or not of a species within the confines of one of the different boundaries is determined."
   ]
  },
  {
   "cell_type": "markdown",
   "id": "superb-resistance",
   "metadata": {},
   "source": [
    "### Key the species to the different maps it was identified in\n"
   ]
  },
  {
   "cell_type": "markdown",
   "id": "lovely-percentage",
   "metadata": {},
   "source": [
    "## Format date column to ISO standard"
   ]
  },
  {
   "cell_type": "code",
   "execution_count": null,
   "id": "1d5a1226-19dd-4d69-8249-eb821d83ca3b",
   "metadata": {},
   "outputs": [],
   "source": []
  }
 ],
 "metadata": {
  "kernelspec": {
   "display_name": "Python 3 (ipykernel)",
   "language": "python",
   "name": "python3"
  },
  "language_info": {
   "codemirror_mode": {
    "name": "ipython",
    "version": 3
   },
   "file_extension": ".py",
   "mimetype": "text/x-python",
   "name": "python",
   "nbconvert_exporter": "python",
   "pygments_lexer": "ipython3",
   "version": "3.7.6"
  }
 },
 "nbformat": 4,
 "nbformat_minor": 5
}
