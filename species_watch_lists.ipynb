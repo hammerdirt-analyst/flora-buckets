{
 "cells": [
  {
   "cell_type": "markdown",
   "id": "common-spanish",
   "metadata": {},
   "source": [
    "# Preprocessing"
   ]
  },
  {
   "cell_type": "code",
   "execution_count": 1,
   "id": "stunning-sperm",
   "metadata": {},
   "outputs": [],
   "source": [
    "# math and data packages\n",
    "import pandas as pd\n",
    "import numpy as np\n",
    "import math\n",
    "\n",
    "# charting and graphics\n",
    "import matplotlib as mpl\n",
    "import matplotlib.pyplot as plt\n",
    "import seaborn as sns\n",
    "from matplotlib.ticker import MaxNLocator\n",
    "\n",
    "# os and file types\n",
    "import os\n",
    "import sys\n",
    "import datetime as dt\n",
    "import json\n",
    "import csv\n",
    "from collections import defaultdict\n",
    "\n",
    "# images and display\n",
    "import base64, io, IPython\n",
    "from PIL import Image as PILImage\n",
    "from IPython.display import Markdown as md\n",
    "from IPython.display import display, Math, Latex\n",
    "\n"
   ]
  },
  {
   "cell_type": "markdown",
   "id": "drawn-individual",
   "metadata": {},
   "source": [
    "## Import data\n",
    "\n",
    "Fix any known formatting problems here"
   ]
  },
  {
   "cell_type": "code",
   "execution_count": 2,
   "id": "94ddcdff-733e-4a53-a662-602c6642e5e7",
   "metadata": {},
   "outputs": [],
   "source": [
    "# make slugs for species and places\n",
    "\n",
    "# function to make the species slugs\n",
    "def to_slug(x):\n",
    "    try: \n",
    "        int_data = x.split()\n",
    "        data = int_data[:2]\n",
    "        data = \"-\".join(data)\n",
    "        data = data.lower()\n",
    "    except:\n",
    "        data = \"none\"\n",
    "    return data\n",
    "\n",
    "\n",
    "def asplit(x):\n",
    "    akey=x\n",
    "    int_data = x.strip().split(\"-\")\n",
    "    return int_data, akey\n",
    "\n",
    "def check_length(x):\n",
    "    data = len(x[0])\n",
    "    return data, x[0], x[1]\n",
    "\n",
    "def new_data(data, suffixes, threecharacters, twocharacters):\n",
    "    \"\"\"Removes the specified suffix from a string\"\"\"\n",
    "    \n",
    "    if data[0] == 1:        \n",
    "        if data[1][0].endswith(suffixes):\n",
    "            new_x = data[1][:-4]\n",
    "        elif data[1][0].endswith(threecharacters):\n",
    "            new_x = data[1][:-3]\n",
    "        else:\n",
    "            new_x = data[1][0]\n",
    "    else:\n",
    "        \n",
    "        if data[1][1] in suffixes:\n",
    "            new_x = data[1][0]\n",
    "        elif data[1][1].endswith(threecharacters):\n",
    "            new_x = data[1][0]\n",
    "        elif data[1][1].endswith(twocharacters):\n",
    "            new_x = data[1][0]\n",
    "        else:\n",
    "            new_x = \"-\".join(data[1])            \n",
    "    \n",
    "    return {data[2]:new_x}\n",
    "\n",
    "def change_a_column_value(df,coltocopy, coltorecieve, this_function=to_slug):\n",
    "    copyname = f\"{coltocopy}_copy\"\n",
    "    df[copyname] = df[coltocopy]\n",
    "    df[coltorecieve] = df[copyname].map(lambda x: this_function(x))\n",
    "    return df\n",
    "\n",
    "def columns_to_lower(df, oldnames):\n",
    "    new_names = {x:x.lower() for x in oldnames}\n",
    "    return df.rename(columns=new_names, inplace=True)\n",
    "\n",
    "invasives = pd.read_csv(\"resources/inprocess/invasives.csv\")\n",
    "priority = pd.read_csv(\"resources/inprocess/priority.csv\")\n",
    "redlist = pd.read_csv(\"resources/inprocess/redlist.csv\")\n",
    "surveys = pd.read_csv(\"resources/inprocess/combined_survey_data.csv\")\n",
    "\n",
    "from numpy.random import default_rng\n",
    "rng = default_rng()\n",
    "locations = [\"a\", \"b\", \"c\"]\n",
    "nsurveys = surveys.loc_date.nunique()\n",
    "loc_groups = rng.choice(locations, nsurveys, p=[.2,.2,.6])\n",
    "\n",
    "loc_date_group = {x:loc_groups[i] for i,x in enumerate(surveys.loc_date.unique())}\n",
    "\n",
    "surveys[\"location\"] = surveys.loc_date.map(lambda x: loc_date_group[x])\n",
    "\n",
    "\n",
    "\n",
    "invasives = change_a_column_value(invasives, \"Latin\", \"species\", to_slug)[[\"species\", \"list_2014\", \"Ordonnonce sur la dissémination des organismes (ODE)\"]]\n",
    "invcolumns = [\"species\", \"list_2014\", \"Ordonnonce sur la dissémination des organismes (ODE)\", \"acopy\"]\n",
    "invasives = invasives.rename(columns={invcolumns[2]:\"ode\"})\n",
    "invasives[\"ode\"] = invasives.ode.where(invasives.ode == \"ODE\", \"X\")\n",
    "invasives.drop_duplicates(subset=\"species\", inplace=True)\n",
    "invdata = invasives[[\"species\", \"list_2014\",\"ode\"]].set_index(\"species\", drop=True)\n",
    "\n",
    "priority = change_a_column_value(priority, \"species\", \"species\", to_slug)[[\"species\", \"Jura\", \"Plateau\", \"responsabilite\", \"priorite\"]]\n",
    "pricolumns = [\"species\", \"Jura\", \"Plateau\", \"responsabilite\", \"priorite\", \"acopy\"]\n",
    "new_names = {x:x.lower() for x in pricolumns}\n",
    "priority.rename(columns=new_names, inplace=True)\n",
    "priority.rename(columns={\"jura\":\"JU\", \"plateau\":\"MP\"},inplace=True)\n",
    "priority.drop_duplicates(subset=\"species\", inplace=True)\n",
    "priority.set_index(\"species\", inplace=True, drop=True)\n",
    "\n",
    "\n",
    "redlist = change_a_column_value(redlist, \"species\", \"species\", to_slug)[[\"species\", \"CH\", \"JU\", \"MP\"]]\n",
    "redlist.drop_duplicates(subset=\"species\", inplace=True)\n",
    "redlist.set_index(\"species\", inplace=True, drop=True)"
   ]
  },
  {
   "cell_type": "code",
   "execution_count": 3,
   "id": "a6019131-e329-4d4c-ac4c-32048a162973",
   "metadata": {},
   "outputs": [
    {
     "data": {
      "text/html": [
       "<div>\n",
       "<style scoped>\n",
       "    .dataframe tbody tr th:only-of-type {\n",
       "        vertical-align: middle;\n",
       "    }\n",
       "\n",
       "    .dataframe tbody tr th {\n",
       "        vertical-align: top;\n",
       "    }\n",
       "\n",
       "    .dataframe thead th {\n",
       "        text-align: right;\n",
       "    }\n",
       "</style>\n",
       "<table border=\"1\" class=\"dataframe\">\n",
       "  <thead>\n",
       "    <tr style=\"text-align: right;\">\n",
       "      <th></th>\n",
       "      <th>CH</th>\n",
       "      <th>JU</th>\n",
       "      <th>MP</th>\n",
       "    </tr>\n",
       "    <tr>\n",
       "      <th>species</th>\n",
       "      <th></th>\n",
       "      <th></th>\n",
       "      <th></th>\n",
       "    </tr>\n",
       "  </thead>\n",
       "  <tbody>\n",
       "    <tr>\n",
       "      <th>abies-alba</th>\n",
       "      <td>LC</td>\n",
       "      <td>LC</td>\n",
       "      <td>LC</td>\n",
       "    </tr>\n",
       "    <tr>\n",
       "      <th>acer-campestre</th>\n",
       "      <td>LC</td>\n",
       "      <td>LC</td>\n",
       "      <td>LC</td>\n",
       "    </tr>\n",
       "    <tr>\n",
       "      <th>acer-opalus</th>\n",
       "      <td>LC</td>\n",
       "      <td>LC</td>\n",
       "      <td>NT</td>\n",
       "    </tr>\n",
       "    <tr>\n",
       "      <th>acer-platanoides</th>\n",
       "      <td>LC</td>\n",
       "      <td>LC</td>\n",
       "      <td>LC</td>\n",
       "    </tr>\n",
       "    <tr>\n",
       "      <th>acer-pseudoplatanus</th>\n",
       "      <td>LC</td>\n",
       "      <td>LC</td>\n",
       "      <td>LC</td>\n",
       "    </tr>\n",
       "  </tbody>\n",
       "</table>\n",
       "</div>"
      ],
      "text/plain": [
       "                     CH  JU  MP\n",
       "species                        \n",
       "abies-alba           LC  LC  LC\n",
       "acer-campestre       LC  LC  LC\n",
       "acer-opalus          LC  LC  NT\n",
       "acer-platanoides     LC  LC  LC\n",
       "acer-pseudoplatanus  LC  LC  LC"
      ]
     },
     "execution_count": 3,
     "metadata": {},
     "output_type": "execute_result"
    }
   ],
   "source": [
    "redlist.head()"
   ]
  },
  {
   "cell_type": "code",
   "execution_count": 4,
   "id": "d5c6e319-37bb-4f71-b512-56afb8601896",
   "metadata": {},
   "outputs": [
    {
     "data": {
      "text/html": [
       "<div>\n",
       "<style scoped>\n",
       "    .dataframe tbody tr th:only-of-type {\n",
       "        vertical-align: middle;\n",
       "    }\n",
       "\n",
       "    .dataframe tbody tr th {\n",
       "        vertical-align: top;\n",
       "    }\n",
       "\n",
       "    .dataframe thead th {\n",
       "        text-align: right;\n",
       "    }\n",
       "</style>\n",
       "<table border=\"1\" class=\"dataframe\">\n",
       "  <thead>\n",
       "    <tr style=\"text-align: right;\">\n",
       "      <th></th>\n",
       "      <th>JU</th>\n",
       "      <th>MP</th>\n",
       "      <th>responsabilite</th>\n",
       "      <th>priorite</th>\n",
       "    </tr>\n",
       "    <tr>\n",
       "      <th>species</th>\n",
       "      <th></th>\n",
       "      <th></th>\n",
       "      <th></th>\n",
       "      <th></th>\n",
       "    </tr>\n",
       "  </thead>\n",
       "  <tbody>\n",
       "    <tr>\n",
       "      <th>achillea-atrata</th>\n",
       "      <td>0</td>\n",
       "      <td>0</td>\n",
       "      <td>3</td>\n",
       "      <td>4</td>\n",
       "    </tr>\n",
       "    <tr>\n",
       "      <th>achillea-clavenae</th>\n",
       "      <td>0</td>\n",
       "      <td>0</td>\n",
       "      <td>2</td>\n",
       "      <td>3</td>\n",
       "    </tr>\n",
       "    <tr>\n",
       "      <th>achillea-collina</th>\n",
       "      <td>0</td>\n",
       "      <td>0</td>\n",
       "      <td>1</td>\n",
       "      <td>4</td>\n",
       "    </tr>\n",
       "    <tr>\n",
       "      <th>achillea-erba-rotta</th>\n",
       "      <td>0</td>\n",
       "      <td>0</td>\n",
       "      <td>3</td>\n",
       "      <td>4</td>\n",
       "    </tr>\n",
       "    <tr>\n",
       "      <th>achillea-macrophylla</th>\n",
       "      <td>0</td>\n",
       "      <td>0</td>\n",
       "      <td>3</td>\n",
       "      <td>4</td>\n",
       "    </tr>\n",
       "  </tbody>\n",
       "</table>\n",
       "</div>"
      ],
      "text/plain": [
       "                     JU MP  responsabilite  priorite\n",
       "species                                             \n",
       "achillea-atrata       0  0               3         4\n",
       "achillea-clavenae     0  0               2         3\n",
       "achillea-collina      0  0               1         4\n",
       "achillea-erba-rotta   0  0               3         4\n",
       "achillea-macrophylla  0  0               3         4"
      ]
     },
     "execution_count": 4,
     "metadata": {},
     "output_type": "execute_result"
    }
   ],
   "source": [
    "priority.head()"
   ]
  },
  {
   "cell_type": "code",
   "execution_count": 5,
   "id": "d83da879-bc13-4a5d-b923-180681cfe9aa",
   "metadata": {},
   "outputs": [
    {
     "data": {
      "text/html": [
       "<div>\n",
       "<style scoped>\n",
       "    .dataframe tbody tr th:only-of-type {\n",
       "        vertical-align: middle;\n",
       "    }\n",
       "\n",
       "    .dataframe tbody tr th {\n",
       "        vertical-align: top;\n",
       "    }\n",
       "\n",
       "    .dataframe thead th {\n",
       "        text-align: right;\n",
       "    }\n",
       "</style>\n",
       "<table border=\"1\" class=\"dataframe\">\n",
       "  <thead>\n",
       "    <tr style=\"text-align: right;\">\n",
       "      <th></th>\n",
       "      <th>list_2014</th>\n",
       "      <th>ode</th>\n",
       "    </tr>\n",
       "    <tr>\n",
       "      <th>species</th>\n",
       "      <th></th>\n",
       "      <th></th>\n",
       "    </tr>\n",
       "  </thead>\n",
       "  <tbody>\n",
       "    <tr>\n",
       "      <th>abutilon-theophrasti</th>\n",
       "      <td>BL</td>\n",
       "      <td>X</td>\n",
       "    </tr>\n",
       "    <tr>\n",
       "      <th>ailanthus-altissima</th>\n",
       "      <td>BL</td>\n",
       "      <td>X</td>\n",
       "    </tr>\n",
       "    <tr>\n",
       "      <th>ambrosia-artemisiifolia</th>\n",
       "      <td>BL</td>\n",
       "      <td>ODE</td>\n",
       "    </tr>\n",
       "    <tr>\n",
       "      <th>amorpha-fruticosa</th>\n",
       "      <td>BL</td>\n",
       "      <td>X</td>\n",
       "    </tr>\n",
       "    <tr>\n",
       "      <th>artemisia-verlotiorum</th>\n",
       "      <td>BL</td>\n",
       "      <td>X</td>\n",
       "    </tr>\n",
       "  </tbody>\n",
       "</table>\n",
       "</div>"
      ],
      "text/plain": [
       "                        list_2014  ode\n",
       "species                               \n",
       "abutilon-theophrasti           BL    X\n",
       "ailanthus-altissima            BL    X\n",
       "ambrosia-artemisiifolia        BL  ODE\n",
       "amorpha-fruticosa              BL    X\n",
       "artemisia-verlotiorum          BL    X"
      ]
     },
     "execution_count": 5,
     "metadata": {},
     "output_type": "execute_result"
    }
   ],
   "source": [
    "invdata.head()"
   ]
  },
  {
   "cell_type": "code",
   "execution_count": 6,
   "id": "964707aa-bea3-48fd-b463-048fb0627fe4",
   "metadata": {},
   "outputs": [],
   "source": [
    "lists = [invdata, priority, redlist]\n",
    "\n",
    "# get the set of unique species names in all the lists\n",
    "the_lists = [invdata.index, priority.index, redlist.index]\n",
    "uniques = np.concatenate(the_lists)\n",
    "uniques = list(set(uniques))\n",
    "\n",
    "list_labels = [\"invasives\", \"priority\", \"redlist\"]\n",
    "\n",
    "list_index = {0:list_labels[0], 1:list_labels[1], 2:list_labels[2]}\n",
    "\n",
    "# the binomial\n",
    "s_sp = surveys.species.sort_values().unique()\n",
    "sp_k = list(zip(np.arange(len(s_sp)), s_sp))\n"
   ]
  },
  {
   "cell_type": "code",
   "execution_count": 7,
   "id": "4e259bd1-4e27-4841-9067-f7e0ad1b0c8f",
   "metadata": {},
   "outputs": [],
   "source": [
    "def the_list_value(x,alist, the_xcoord):\n",
    "    the_val = alist[alist[the_xcoord].isin([x])].to_numpy()\n",
    "    if len(the_val) > 1:\n",
    "        data = the_val\n",
    "    else:\n",
    "        data = the_val\n",
    "    return data\n",
    "    \n",
    "\n",
    "\n",
    "def define_list_membership(alist, others, contains=True, list_index=list_index):\n",
    "    all_results = {}\n",
    "    for i,name in enumerate(alist):\n",
    "        name_results = {}\n",
    "        for j,aseries in enumerate(others):\n",
    "            if contains:\n",
    "                name_results.update({j:aseries.str.contains(name, regex=False, case=False).sum()})\n",
    "            else:\n",
    "                name_results.update({j:(aseries == name).sum()})\n",
    "                # aval = the_list_value(x, aseries, name\n",
    "        all_results.update({name:name_results})\n",
    "    data = pd.DataFrame.from_dict(all_results, orient=\"index\")\n",
    "    data.rename(columns=list_index, inplace=True)        \n",
    "       \n",
    "    return data\n",
    "\n",
    "# this indexex a species with memberhip in list:\n",
    "mem_data = define_list_membership(s_sp, the_lists, contains=False)"
   ]
  },
  {
   "cell_type": "code",
   "execution_count": 8,
   "id": "0a3063a4-3ac1-4b6e-90cd-2478d8b7ed53",
   "metadata": {
    "tags": []
   },
   "outputs": [],
   "source": [
    "\n",
    "def the_species_status(myobject, species_to_list):\n",
    "    try:\n",
    "        a = species_to_list.loc[myobject]\n",
    "    except:\n",
    "        print(\"Not in list?\")\n",
    "        a = myobject\n",
    "    return a\n",
    "\n",
    "def retrieve_the_required_lists(a_value, alist):\n",
    "    \n",
    "    if a_value:\n",
    "        data=alist\n",
    "        hasdata=True\n",
    "    else:\n",
    "        data = pd.DataFrame()\n",
    "        hasdata=False            \n",
    "    \n",
    "    return hasdata, data\n",
    "\n",
    "def retrieve_records(hasdata, data, this_species):\n",
    "    \n",
    "    if hasdata:        \n",
    "        record=data.loc[this_species]\n",
    "    else:\n",
    "        record=pd.DataFrame([{\"status\":False}])\n",
    "    \n",
    "    return record    \n",
    "\n",
    "def species_status(myobject, a_values, lists, list_index, add_cols=[], new_cols=[]):\n",
    "    \n",
    "    wiw = {}\n",
    "    \n",
    "    for i in np.arange(len(a_values)):\n",
    "        if a_values[i]:\n",
    "            hasdata, data = retrieve_the_required_lists(a_values[i], lists[i])\n",
    "            \n",
    "            data = retrieve_records(hasdata, data, myobject).rename(list_index[i])\n",
    "            \n",
    "            data[\"isin\"] = True\n",
    "            data[\"label\"] = list_index[i]\n",
    "            if list_index[i] in add_cols:\n",
    "                for acol in new_cols:\n",
    "                    data[acol] = \"X\"\n",
    "            \n",
    "            data.index.rename(myobject, inplace=True)\n",
    "            data = data.to_frame()\n",
    "        else:\n",
    "            data = pd.DataFrame([False,list_index[i]], columns=[list_index[i]], index=pd.Index([\"isin\", \"label\"], name=myobject))\n",
    "        \n",
    "            \n",
    "        wiw.update({list_index[i]:data})\n",
    "    data = pd.concat([wiw[\"invasives\"], wiw[\"priority\"], wiw[\"redlist\"]], axis=1).fillna(\"X\")\n",
    "    return data\n",
    "\n",
    "\n",
    "def the_number_of_sightings(myobject, surveyobject, column=\"species\", groups=[\"year\"]):\n",
    "    \n",
    "    these_surveys = surveyobject.loc[surveyobject[column] == myobject].copy()\n",
    "    sightings = these_surveys.groupby(groups).loc_date.nunique()\n",
    "    \n",
    "    return sightings\n",
    "\n",
    "def the_number_of_locations(myobject, surveyobject, column=\"species\",groups=[\"year\"]):\n",
    "    these_surveys = surveyobject.loc[surveyobject[column] == myobject].copy()\n",
    "    locations = these_surveys.groupby(groups).place.nunique()    \n",
    "    \n",
    "    return locations"
   ]
  },
  {
   "cell_type": "code",
   "execution_count": 9,
   "id": "5c9222d1-cc54-4235-9359-3ab664e427f9",
   "metadata": {
    "tags": []
   },
   "outputs": [
    {
     "data": {
      "text/html": [
       "<div>\n",
       "<style scoped>\n",
       "    .dataframe tbody tr th:only-of-type {\n",
       "        vertical-align: middle;\n",
       "    }\n",
       "\n",
       "    .dataframe tbody tr th {\n",
       "        vertical-align: top;\n",
       "    }\n",
       "\n",
       "    .dataframe thead th {\n",
       "        text-align: right;\n",
       "    }\n",
       "</style>\n",
       "<table border=\"1\" class=\"dataframe\">\n",
       "  <thead>\n",
       "    <tr style=\"text-align: right;\">\n",
       "      <th></th>\n",
       "      <th>invasives</th>\n",
       "      <th>priority</th>\n",
       "      <th>redlist</th>\n",
       "    </tr>\n",
       "    <tr>\n",
       "      <th>fritillaria-meleagris</th>\n",
       "      <th></th>\n",
       "      <th></th>\n",
       "      <th></th>\n",
       "    </tr>\n",
       "  </thead>\n",
       "  <tbody>\n",
       "    <tr>\n",
       "      <th>isin</th>\n",
       "      <td>False</td>\n",
       "      <td>True</td>\n",
       "      <td>True</td>\n",
       "    </tr>\n",
       "    <tr>\n",
       "      <th>label</th>\n",
       "      <td>invasives</td>\n",
       "      <td>priority</td>\n",
       "      <td>redlist</td>\n",
       "    </tr>\n",
       "    <tr>\n",
       "      <th>JU</th>\n",
       "      <td>X</td>\n",
       "      <td>A</td>\n",
       "      <td>B1ab(iv)</td>\n",
       "    </tr>\n",
       "    <tr>\n",
       "      <th>MP</th>\n",
       "      <td>X</td>\n",
       "      <td>0</td>\n",
       "      <td>EN</td>\n",
       "    </tr>\n",
       "    <tr>\n",
       "      <th>responsabilite</th>\n",
       "      <td>X</td>\n",
       "      <td>1</td>\n",
       "      <td>X</td>\n",
       "    </tr>\n",
       "    <tr>\n",
       "      <th>priorite</th>\n",
       "      <td>X</td>\n",
       "      <td>3</td>\n",
       "      <td>X</td>\n",
       "    </tr>\n",
       "    <tr>\n",
       "      <th>CH</th>\n",
       "      <td>X</td>\n",
       "      <td>X</td>\n",
       "      <td>EN</td>\n",
       "    </tr>\n",
       "  </tbody>\n",
       "</table>\n",
       "</div>"
      ],
      "text/plain": [
       "                       invasives  priority    redlist\n",
       "fritillaria-meleagris                                \n",
       "isin                       False      True       True\n",
       "label                  invasives  priority    redlist\n",
       "JU                             X         A   B1ab(iv)\n",
       "MP                             X         0         EN\n",
       "responsabilite                 X         1          X\n",
       "priorite                       X         3          X\n",
       "CH                             X         X         EN"
      ]
     },
     "execution_count": 9,
     "metadata": {},
     "output_type": "execute_result"
    }
   ],
   "source": [
    "# species object\n",
    "# for any species in the surveys\n",
    "myobject = \"fritillaria-meleagris\"\n",
    "myregions = [ \"CH\", \"MP\", \"JU\"]\n",
    "mygroups = [\"a\", \"b\", \"c\"]\n",
    "add_cols = [\"invasives\", \"redlist\"]\n",
    "new_cols = [\"responsabilite\", \"priorite\"]\n",
    "# the intitial query for the object\n",
    "# establishes which list has data for this species\n",
    "a = the_species_status(myobject, mem_data)\n",
    "# a is used to generate b, a  data frame that that has the status of myobject\n",
    "# according to the different lists\n",
    "b = species_status(myobject, a, lists, list_index, add_cols=add_cols, new_cols=new_cols)\n",
    "# this is one species object\n",
    "b"
   ]
  },
  {
   "cell_type": "code",
   "execution_count": 10,
   "id": "5e6cab0b-e86a-43fb-8e8c-9849c76ca23d",
   "metadata": {
    "tags": []
   },
   "outputs": [
    {
     "data": {
      "text/plain": [
       "array(['medicago-sativa', 'daucus-carota', 'silene-vulgaris',\n",
       "       'epilobium-hirsutum', 'urtica-dioica', 'solidago-canadensis',\n",
       "       'galium-mollugo', 'trifolium-repens', 'clinopodium-vulgare',\n",
       "       'leucanthemum-vulgare', 'trifolium-pratense', 'lotus-corniculatus',\n",
       "       'onobrychis-viciifolia'], dtype=object)"
      ]
     },
     "execution_count": 10,
     "metadata": {},
     "output_type": "execute_result"
    }
   ],
   "source": [
    "def npe_method(tests):\n",
    "    ret = defaultdict(int)\n",
    "    for d in tests:\n",
    "        for k, v in d.items():\n",
    "            ret[k] += v\n",
    "    return dict(ret)\n",
    "\n",
    "def collect_the_different_status(data, func, alist=\"redlist\", cols=[]):\n",
    "    \n",
    "    summaries = []\n",
    "    \n",
    "    for i,result in enumerate(data):\n",
    "        \n",
    "        aresult = func(data[result], cols=cols, alist=alist)\n",
    "        summaries.append(aresult)\n",
    "    \n",
    "    asumm = [x[alist][cols] for x in summaries]   \n",
    "    \n",
    "    return asumm\n",
    "\n",
    "\n",
    "\n",
    "# create a species object for each sighting\n",
    "def make_a_collection_of_objects(sp_samp, species_to_list):\n",
    "    \n",
    "    data =  [species_status(x, the_species_status(x, species_to_list), lists, list_index,  add_cols=add_cols, new_cols=new_cols) for x in sp_samp]    \n",
    "    \n",
    "    return data\n",
    "\n",
    "def summarize_species_objects(objs, list_labels):\n",
    "    data = pd.DataFrame(columns=[\"species\",\"label\",*myregions,'responsabilite', 'priorite',\"ode\", \"list_2014\"])\n",
    "    wiw = []\n",
    "    for eachobject in objs:\n",
    "        for alist in list_labels:\n",
    "            dx = {x:eachobject[alist].loc[x] for x in eachobject.index}\n",
    "            dx.update({\"species\":eachobject.index.name})\n",
    "            wiw.append(dx)\n",
    "    sr = data.append(wiw).fillna(\"X\")\n",
    "    return sr\n",
    "\n",
    "def the_status_from_a_collection_of_surveys(sp_obj_df, cols= [], alist=\"priority\"):\n",
    "    h1 =  sp_obj_df[(sp_obj_df.label == alist)&(sp_obj_df[contains] == True)][cols]\n",
    "    adict = {alist:{}}\n",
    "    for acol in cols:\n",
    "        lm = {x:h1[acol].value_counts().loc[x] for x in h1[acol].value_counts().index.values}\n",
    "        adict[alist].update({acol:lm})    \n",
    "    return adict\n",
    "def the_redlist_incidence_from_a_collection_of_surveys(sp_obj_df, cols= [], alist=\"redlist\", norm=False):\n",
    "    \n",
    "    h = sp_obj_df[(sp_obj_df.label == alist)&(sp_obj_df[contains] == True)][cols]\n",
    "    data = {alist:{ar:{x:h.value_counts(norm).loc[x] for x in h.value_counts().index}}}\n",
    "    \n",
    "    return data\n",
    "def simple_stacked_bar(ax,data, cats, bottom=0):\n",
    "    for i,day in enumerate(data):\n",
    "    \n",
    "        bot = bottom\n",
    "        for j,acat in enumerate(categories):\n",
    "            try:\n",
    "                y=day[acat]\n",
    "            except:\n",
    "                y=0\n",
    "\n",
    "            ax.bar(i, y, bottom=bot, label=acat, color=a(j), width=1)\n",
    "            bot += y\n",
    "    return ax\n",
    "def get_cmap(n, name='hsv'):\n",
    "    '''Returns a function that maps each index in 0, 1, ..., n-1 to a distinct \n",
    "    RGB color; the keyword argument name must be a standard mpl colormap name.'''\n",
    "    return plt.cm.get_cmap(name, n)\n",
    "contains = \"isin\"\n",
    "# the status of all the sightings from one sample:\n",
    "# a random sample a survey object\n",
    "one_sample = surveys[surveys.loc_date == surveys.loc_date.unique()[112]].copy()\n",
    "\n",
    "# there are many species in a sample\n",
    "one_sample.species.unique()"
   ]
  },
  {
   "cell_type": "code",
   "execution_count": 11,
   "id": "55fc8383-67d1-444e-8db1-90891f7b0ab3",
   "metadata": {},
   "outputs": [],
   "source": [
    "# this indexex a species with memberhip in list:\n",
    "many_samples = surveys[surveys.loc_date.isin(surveys.loc_date.unique()[4:30])].copy()\n",
    "\n",
    "# for priority and redlist:\n",
    "ar = myregions[1]\n",
    "\n",
    "# for priority\n",
    "respn = [ar, \"responsabilite\", \"priorite\"]\n",
    "\n",
    "# for invasives\n",
    "bl = [\"list_2014\", \"ode\"]\n",
    "\n",
    "# the sightings\n",
    "sp_samp = many_samples.species.unique()\n",
    "\n",
    "species_to_list = define_list_membership(sp_samp, the_lists, contains=False)\n",
    "\n",
    "# all the species objects from a survey\n",
    "objs =  make_a_collection_of_objects(sp_samp, species_to_list)\n",
    "\n",
    "sr = summarize_species_objects(objs, list_labels)"
   ]
  },
  {
   "cell_type": "code",
   "execution_count": 12,
   "id": "87d08054-9e93-4d41-bcdd-3a98330dc408",
   "metadata": {},
   "outputs": [
    {
     "data": {
      "text/plain": [
       "{'redlist': {'MP': {'LC': 60, 'NT': 6, 'DD': 2, 'NE': 1, 'VU': 1}}}"
      ]
     },
     "execution_count": 12,
     "metadata": {},
     "output_type": "execute_result"
    }
   ],
   "source": [
    "# redlist summary for a collection of survey results\n",
    "# within a defined region\n",
    "\n",
    "rls = the_redlist_incidence_from_a_collection_of_surveys(sr, cols= ar, alist=\"redlist\")\n",
    "rls"
   ]
  },
  {
   "cell_type": "code",
   "execution_count": 13,
   "id": "164fbfa2-507b-4506-a513-d6c78b77dd07",
   "metadata": {},
   "outputs": [
    {
     "data": {
      "text/plain": [
       "{'invasives': {'list_2014': {'BL': 6}, 'ode': {'X': 4, 'ODE': 2}}}"
      ]
     },
     "execution_count": 13,
     "metadata": {},
     "output_type": "execute_result"
    }
   ],
   "source": [
    "inv = the_status_from_a_collection_of_surveys(sr, cols= bl, alist=\"invasives\")\n",
    "inv"
   ]
  },
  {
   "cell_type": "code",
   "execution_count": 14,
   "id": "ffef52fc-550e-4eff-80b8-25ddd47c78fc",
   "metadata": {},
   "outputs": [
    {
     "data": {
      "text/plain": [
       "{'priority': {'MP': {'0': 2, 'A': 1},\n",
       "  'responsabilite': {1: 1, 2: 1, 3: 1},\n",
       "  'priorite': {4: 2, 3: 1}}}"
      ]
     },
     "execution_count": 14,
     "metadata": {},
     "output_type": "execute_result"
    }
   ],
   "source": [
    "# invasives list summary\n",
    "\n",
    "pri = the_status_from_a_collection_of_surveys(sr, cols= respn, alist=\"priority\")\n",
    "pri"
   ]
  },
  {
   "cell_type": "code",
   "execution_count": 15,
   "id": "98606a35-87ca-4be8-894a-88a0dd960cb2",
   "metadata": {},
   "outputs": [
    {
     "data": {
      "text/plain": [
       "[{'LC': 3}, {'LC': 1}, {'DD': 1}]"
      ]
     },
     "execution_count": 15,
     "metadata": {},
     "output_type": "execute_result"
    }
   ],
   "source": [
    "a_subset = surveys[surveys.loc_date.isin(surveys.loc_date.unique())].copy()\n",
    "a_subset[\"date\"] = pd.to_datetime(a_subset[\"date\"])\n",
    "a_subset.sort_values(by=\"date\", inplace=True)\n",
    "\n",
    "# for each sample establish the list status of the identified species\n",
    "samps = a_subset.loc_date.unique()\n",
    "\n",
    "species_to_list = define_list_membership(a_subset.species.unique(), the_lists, contains=False)\n",
    "\n",
    "# for each survey in the subset summarize the species status:\n",
    "ssp= {}\n",
    "for eachday in samps:\n",
    "    \n",
    "    aday = a_subset[a_subset.loc_date == eachday]\n",
    "    objs =  make_a_collection_of_objects(aday.species.unique(), species_to_list)\n",
    "    adaystatus = summarize_species_objects(objs, list_labels)\n",
    "    ssp.update({eachday:adaystatus})\n",
    "\n",
    "# samples from ssp\n",
    "rls1 = the_redlist_incidence_from_a_collection_of_surveys(ssp[samps[13]], cols= ar, alist=\"redlist\", norm=False)\n",
    "rls2 = the_redlist_incidence_from_a_collection_of_surveys(ssp[samps[11]], cols= ar, alist=\"redlist\", norm=False)\n",
    "rls3 = the_redlist_incidence_from_a_collection_of_surveys(ssp[samps[12]], cols= ar, alist=\"redlist\", norm=False)\n",
    "\n",
    "# remove the identifiers and calculate the aggregated total\n",
    "singles = [x[\"redlist\"][\"MP\"] for x in [rls1, rls2, rls3]]\n",
    "singles"
   ]
  },
  {
   "cell_type": "code",
   "execution_count": null,
   "id": "68c5f304-89e6-43fc-a6d1-a5ec3278a2bb",
   "metadata": {},
   "outputs": [],
   "source": [
    "\n"
   ]
  },
  {
   "cell_type": "markdown",
   "id": "0389a429-3469-4eb9-a412-61fa5d285da2",
   "metadata": {},
   "source": [
    "### Redlist status per sample"
   ]
  },
  {
   "cell_type": "code",
   "execution_count": 16,
   "id": "44f97737-b4b5-4b6a-95c1-0351384638b3",
   "metadata": {},
   "outputs": [
    {
     "data": {
      "image/png": "[encoded data removed]",
      "text/plain": [
       "<Figure size 432x288 with 1 Axes>"
      ]
     },
     "metadata": {
      "needs_background": "light"
     },
     "output_type": "display_data"
    }
   ],
   "source": [
    "# chart that\n",
    "totals = npe_method(singles)\n",
    "categories = totals.keys()\n",
    "a = get_cmap(len(categories), name='tab20b')\n",
    "    \n",
    "fig, ax = plt.subplots()\n",
    "\n",
    "ax = simple_stacked_bar(ax,singles, categories, bottom=0)\n",
    "\n",
    "ax.set_ylabel(\"redlist sightings per sample three days\", fontsize=12, labelpad=15)\n",
    "ax.set_xlabel(f\"sample results \\n{singles}\", fontsize=12, labelpad=15)\n",
    "ax.set_title(\"status per sample of three days\")\n",
    "ax.xaxis.set_major_locator(MaxNLocator(integer=True))\n",
    "handles, labels = plt.gca().get_legend_handles_labels()\n",
    "by_label = dict(zip(labels, handles))\n",
    "plt.legend(by_label.values(), by_label.keys())\n",
    "plt.show()"
   ]
  },
  {
   "cell_type": "code",
   "execution_count": 17,
   "id": "19d54872-4e0f-4b71-b20c-6c5bdbed9c32",
   "metadata": {},
   "outputs": [],
   "source": [
    "mindate = a_subset[\"date\"].dt.date.min()\n",
    "maxdate = a_subset[\"date\"].dt.date.max()"
   ]
  },
  {
   "cell_type": "code",
   "execution_count": 18,
   "id": "a3bc646c-5165-49ff-8292-399b52baff9e",
   "metadata": {
    "tags": []
   },
   "outputs": [
    {
     "data": {
      "image/png": "[encoded data removed]",
      "text/plain": [
       "<Figure size 1296x576 with 1 Axes>"
      ]
     },
     "metadata": {
      "needs_background": "light"
     },
     "output_type": "display_data"
    }
   ],
   "source": [
    "rlstall = [the_redlist_incidence_from_a_collection_of_surveys(ssp[asamps], cols= ar, alist=\"redlist\", norm=False) for asamps in samps]\n",
    "rs =  [x[\"redlist\"][\"MP\"] for x in rlstall]\n",
    "\n",
    "totals = npe_method(rs)\n",
    "categories = totals.keys()\n",
    "a = get_cmap(len(categories), name='tab20b')\n",
    "\n",
    "fig, ax = plt.subplots(figsize=(18,8))\n",
    "\n",
    "ax = simple_stacked_bar(ax,rs, categories, bottom=0)\n",
    "\n",
    "ax.set_ylabel(\"redlist sightings per sample\", fontsize=12, labelpad=15)\n",
    "ax.set_xlabel(\"sample days\", fontsize=12, labelpad=15)\n",
    "ax.set_title(f\"redlist sightings {mindate} to {maxdate}\")\n",
    "# ax.xaxis.set_major_locator(MaxNLocator(integer=True))\n",
    "handles, labels = plt.gca().get_legend_handles_labels()\n",
    "by_label = dict(zip(labels, handles))\n",
    "plt.legend(by_label.values(), by_label.keys())\n",
    "plt.show()"
   ]
  },
  {
   "cell_type": "code",
   "execution_count": 19,
   "id": "eff1e8b8-7fda-4418-b78b-903682cc5cd1",
   "metadata": {},
   "outputs": [
    {
     "data": {
      "text/plain": [
       "{'LC': 4943,\n",
       " ' B2b(iii)': 3,\n",
       " 'NT': 192,\n",
       " 'DD': 143,\n",
       " 'NE': 72,\n",
       " 'VU': 31,\n",
       " 'X': 14,\n",
       " '-': 1,\n",
       " 'EN': 11,\n",
       " 'A4c': 1,\n",
       " ' B2c(iii)': 1,\n",
       " ' B2ab(iii)c(iii)': 1,\n",
       " 'B2ab(iii)': 1}"
      ]
     },
     "execution_count": 19,
     "metadata": {},
     "output_type": "execute_result"
    }
   ],
   "source": [
    "totals"
   ]
  },
  {
   "cell_type": "code",
   "execution_count": 20,
   "id": "97a6d0d8-700c-4786-a24f-7a27b0574023",
   "metadata": {
    "tags": []
   },
   "outputs": [
    {
     "data": {
      "image/png": "[encoded data removed]",
      "text/plain": [
       "<Figure size 1296x576 with 1 Axes>"
      ]
     },
     "metadata": {
      "needs_background": "light"
     },
     "output_type": "display_data"
    }
   ],
   "source": [
    "psamps = [the_status_from_a_collection_of_surveys(ssp[asamps], cols= respn, alist=\"priority\") for asamps in samps]\n",
    "ps =  [x[\"priority\"][\"priorite\"] for x in psamps]\n",
    "\n",
    "totals = npe_method(ps)\n",
    "categories = totals.keys()\n",
    "a = get_cmap(len(categories), name='tab20b')\n",
    "\n",
    "fig, ax = plt.subplots(figsize=(18,8))\n",
    "\n",
    "ax = simple_stacked_bar(ax,ps, categories, bottom=0)\n",
    "\n",
    "ax.set_ylabel(\"priority sightings per sample\", fontsize=12, labelpad=15)\n",
    "ax.set_xlabel(\"sample days\", fontsize=12, labelpad=15)\n",
    "ax.set_title(f\"priority sightings {mindate} to {maxdate}\")\n",
    "ax.yaxis.set_major_locator(MaxNLocator(integer=True))\n",
    "handles, labels = plt.gca().get_legend_handles_labels()\n",
    "by_label = dict(zip(labels, handles))\n",
    "plt.legend(by_label.values(), by_label.keys(), title=\"Priority status\")\n",
    "plt.show()"
   ]
  },
  {
   "cell_type": "code",
   "execution_count": 21,
   "id": "8cc2dc18-dae5-44fd-ba58-b9b010387b0d",
   "metadata": {},
   "outputs": [
    {
     "data": {
      "text/plain": [
       "{3: 60, 4: 86, 2: 2, 1: 10}"
      ]
     },
     "execution_count": 21,
     "metadata": {},
     "output_type": "execute_result"
    }
   ],
   "source": [
    "totals"
   ]
  },
  {
   "cell_type": "code",
   "execution_count": 22,
   "id": "da3fd356-2dac-4297-a933-17474a36a227",
   "metadata": {},
   "outputs": [
    {
     "data": {
      "image/png": "[encoded data removed]",
      "text/plain": [
       "<Figure size 1296x576 with 1 Axes>"
      ]
     },
     "metadata": {
      "needs_background": "light"
     },
     "output_type": "display_data"
    }
   ],
   "source": [
    "qsamps = [the_status_from_a_collection_of_surveys(ssp[asamps], cols= bl, alist=\"invasives\") for asamps in samps]\n",
    "qs =  [x[\"invasives\"][\"list_2014\"] for x in qsamps]\n",
    "\n",
    "totals = npe_method(qs)\n",
    "categories = totals.keys()\n",
    "a = get_cmap(len(categories), name='tab20b')\n",
    "\n",
    "fig, ax = plt.subplots(figsize=(18,8))\n",
    "\n",
    "ax = simple_stacked_bar(ax,qs, categories, bottom=0)\n",
    "\n",
    "ax.set_ylabel(\"priority sightings per sample\", fontsize=12, labelpad=15)\n",
    "ax.set_xlabel(\"sample days\", fontsize=12, labelpad=15)\n",
    "ax.set_title(f\"priority sightings {mindate} to {maxdate}\")\n",
    "ax.yaxis.set_major_locator(MaxNLocator(integer=True))\n",
    "handles, labels = plt.gca().get_legend_handles_labels()\n",
    "by_label = dict(zip(labels, handles))\n",
    "plt.legend(by_label.values(), by_label.keys(), title=\"Priority status\")\n",
    "plt.show()"
   ]
  },
  {
   "cell_type": "code",
   "execution_count": 23,
   "id": "b73272a0-5862-4dfd-9bec-96ea3c271227",
   "metadata": {},
   "outputs": [
    {
     "data": {
      "text/plain": [
       "{'BL': 250, 'WL': 7}"
      ]
     },
     "execution_count": 23,
     "metadata": {},
     "output_type": "execute_result"
    }
   ],
   "source": [
    "totals"
   ]
  },
  {
   "cell_type": "code",
   "execution_count": 24,
   "id": "0230026a-33c9-4f43-b1cc-b6b4bc499b91",
   "metadata": {},
   "outputs": [
    {
     "data": {
      "image/png": "[encoded data removed]",
      "text/plain": [
       "<Figure size 1296x576 with 1 Axes>"
      ]
     },
     "metadata": {
      "needs_background": "light"
     },
     "output_type": "display_data"
    }
   ],
   "source": [
    "\n",
    "fig, ax = plt.subplots(figsize=(18,8))\n",
    "\n",
    "ax = simple_stacked_bar(ax,ps, categories, bottom=0)\n",
    "\n",
    "ax.set_ylabel(\"priority sightings per sample\", fontsize=12, labelpad=15)\n",
    "ax.set_xlabel(\"sample days\", fontsize=12, labelpad=15)\n",
    "ax.set_title(f\"number of priority sightings per sample {mindate} to {maxdate}\")\n",
    "# ax.xaxis.set_major_locator(MaxNLocator(integer=True))\n",
    "handles, labels = plt.gca().get_legend_handles_labels()\n",
    "by_label = dict(zip(labels, handles))\n",
    "plt.legend(by_label.values(), by_label.keys(), title=\"priority status\")\n",
    "plt.show()"
   ]
  },
  {
   "cell_type": "code",
   "execution_count": 25,
   "id": "4a2aab21-a35c-4dfa-840e-a6d7b8b63f94",
   "metadata": {},
   "outputs": [
    {
     "data": {
      "text/plain": [
       "[{'priority': {'MP': {}, 'responsabilite': {}, 'priorite': {}}},\n",
       " {'priority': {'MP': {'0': 1}, 'responsabilite': {2: 1}, 'priorite': {3: 1}}},\n",
       " {'priority': {'MP': {}, 'responsabilite': {}, 'priorite': {}}},\n",
       " {'priority': {'MP': {}, 'responsabilite': {}, 'priorite': {}}},\n",
       " {'priority': {'MP': {}, 'responsabilite': {}, 'priorite': {}}}]"
      ]
     },
     "execution_count": 25,
     "metadata": {},
     "output_type": "execute_result"
    }
   ],
   "source": [
    "psamps[:5]"
   ]
  },
  {
   "cell_type": "code",
   "execution_count": 26,
   "id": "26937112-dfac-4ff0-a761-738c505f9b85",
   "metadata": {},
   "outputs": [
    {
     "ename": "NameError",
     "evalue": "name 'add_these' is not defined",
     "output_type": "error",
     "traceback": [
      "\u001b[0;31m---------------------------------------------------------------------------\u001b[0m",
      "\u001b[0;31mNameError\u001b[0m                                 Traceback (most recent call last)",
      "\u001b[0;32m/tmp/ipykernel_19224/1309077345.py\u001b[0m in \u001b[0;36m<module>\u001b[0;34m\u001b[0m\n\u001b[1;32m      1\u001b[0m \u001b[0mrlists\u001b[0m \u001b[0;34m=\u001b[0m  \u001b[0mcollect_the_different_status\u001b[0m\u001b[0;34m(\u001b[0m\u001b[0mssp\u001b[0m\u001b[0;34m,\u001b[0m \u001b[0mfunc\u001b[0m\u001b[0;34m=\u001b[0m\u001b[0mthe_redlist_incidence_from_a_collection_of_surveys\u001b[0m\u001b[0;34m,\u001b[0m \u001b[0malist\u001b[0m\u001b[0;34m=\u001b[0m\u001b[0;34m\"redlist\"\u001b[0m\u001b[0;34m,\u001b[0m \u001b[0mcols\u001b[0m\u001b[0;34m=\u001b[0m\u001b[0mar\u001b[0m\u001b[0;34m)\u001b[0m\u001b[0;34m\u001b[0m\u001b[0;34m\u001b[0m\u001b[0m\n\u001b[1;32m      2\u001b[0m \u001b[0;31m# add_these = [x[\"MP\"] for x in rlists]\u001b[0m\u001b[0;34m\u001b[0m\u001b[0;34m\u001b[0m\u001b[0;34m\u001b[0m\u001b[0m\n\u001b[0;32m----> 3\u001b[0;31m \u001b[0mnpe_method\u001b[0m\u001b[0;34m(\u001b[0m\u001b[0madd_these\u001b[0m\u001b[0;34m)\u001b[0m\u001b[0;34m\u001b[0m\u001b[0;34m\u001b[0m\u001b[0m\n\u001b[0m",
      "\u001b[0;31mNameError\u001b[0m: name 'add_these' is not defined"
     ]
    }
   ],
   "source": [
    "\n",
    "\n",
    "rlists =  collect_the_different_status(ssp, func=the_redlist_incidence_from_a_collection_of_surveys, alist=\"redlist\", cols=ar)\n",
    "# add_these = [x[\"MP\"] for x in rlists]\n",
    "npe_method(add_these)"
   ]
  },
  {
   "cell_type": "code",
   "execution_count": null,
   "id": "61c5bb72-be53-407c-8576-9499e0cc1176",
   "metadata": {},
   "outputs": [],
   "source": [
    "# a single day redlist totals:\n",
    "s_r_d = [samps[0]]\n",
    "this_data = {x:ssp[x] for x in s_r_d}\n",
    "asingleday = collect_the_different_status(this_data, func=the_redlist_incidence_from_a_collection_of_surveys, alist=\"redlist\", cols=ar)\n",
    "\n",
    "npe_method(asingleday)"
   ]
  },
  {
   "cell_type": "code",
   "execution_count": null,
   "id": "609b986c-b197-48ab-a79b-91ac686677d1",
   "metadata": {},
   "outputs": [],
   "source": []
  },
  {
   "cell_type": "code",
   "execution_count": null,
   "id": "ca61d45c-4655-4b86-bc16-30f373e39ee0",
   "metadata": {},
   "outputs": [],
   "source": []
  },
  {
   "cell_type": "code",
   "execution_count": null,
   "id": "4dd8b90f-7e35-48b2-9662-66e3a93672df",
   "metadata": {},
   "outputs": [],
   "source": []
  },
  {
   "cell_type": "code",
   "execution_count": null,
   "id": "2db22b48-1abf-4bfa-9f71-0fe8ebdb25ad",
   "metadata": {},
   "outputs": [],
   "source": [
    "A = rls2[\"redlist\"][\"MP\"]\n",
    "B = rls3[\"redlist\"][\"MP\"]\n",
    "c = rls1[\"redlist\"][\"MP\"]\n",
    "start_keys = A.keys()\n",
    "dtwo_keys = B.keys()\n",
    "these_keys = list(set(start_keys) & set(dtwo_keys))\n",
    "new_keys =  [x for x in start_keys if x not in dtwo_keys]\n",
    "these_keys\n",
    "    \n",
    "    \n",
    "    \n",
    "    \n",
    "    \n",
    "    "
   ]
  },
  {
   "cell_type": "code",
   "execution_count": null,
   "id": "5da0d33f-811c-4209-ab64-333a5dec97fb",
   "metadata": {},
   "outputs": [],
   "source": [
    "A"
   ]
  },
  {
   "cell_type": "code",
   "execution_count": null,
   "id": "efdf9456-1432-472c-bd80-431e0c52b006",
   "metadata": {},
   "outputs": [],
   "source": [
    "B"
   ]
  },
  {
   "cell_type": "code",
   "execution_count": null,
   "id": "ac73f767-7e7d-4d48-bed5-938424169227",
   "metadata": {},
   "outputs": [],
   "source": [
    "d = npe_method([A, B])"
   ]
  },
  {
   "cell_type": "code",
   "execution_count": null,
   "id": "cca5c59e-a02c-4918-b554-beb92ef64dd8",
   "metadata": {},
   "outputs": [],
   "source": [
    "e = npe_method([d,c])"
   ]
  },
  {
   "cell_type": "code",
   "execution_count": null,
   "id": "b2defa75-a426-4666-8796-821e30968395",
   "metadata": {},
   "outputs": [],
   "source": [
    "e"
   ]
  },
  {
   "cell_type": "code",
   "execution_count": null,
   "id": "fd286788-4812-4069-b2a6-4e3b1e9bbf39",
   "metadata": {},
   "outputs": [],
   "source": [
    "A"
   ]
  },
  {
   "cell_type": "code",
   "execution_count": null,
   "id": "55658f72-9c8e-4153-82c4-b0d1998979f2",
   "metadata": {},
   "outputs": [],
   "source": [
    "B"
   ]
  },
  {
   "cell_type": "code",
   "execution_count": null,
   "id": "7458e2bb-cd2c-4c37-a96f-cb299d5b60b9",
   "metadata": {},
   "outputs": [],
   "source": [
    "c"
   ]
  },
  {
   "cell_type": "code",
   "execution_count": null,
   "id": "6d90e488-165c-4f4a-ae16-5878db8d4a28",
   "metadata": {},
   "outputs": [],
   "source": [
    "# rankings persurvey\n",
    "surv = surveys.loc_date.unque()[50]\n",
    "spec = surveys[surveys.loc_date == surv].species.unique()\n"
   ]
  },
  {
   "cell_type": "code",
   "execution_count": null,
   "id": "600e723b-e6ed-429c-a69a-1d285e35c991",
   "metadata": {
    "collapsed": true,
    "jupyter": {
     "outputs_hidden": true
    }
   },
   "outputs": [],
   "source": []
  },
  {
   "cell_type": "code",
   "execution_count": null,
   "id": "32d9c3f9-0a45-4077-8282-ef66d88fdc95",
   "metadata": {},
   "outputs": [],
   "source": [
    "surveys.groupby(\"location\").loc_date.nunique()"
   ]
  },
  {
   "cell_type": "code",
   "execution_count": null,
   "id": "960ab9cb-7796-46a8-8d9f-5db8545a37fb",
   "metadata": {},
   "outputs": [],
   "source": [
    "# what is the status?\n",
    "# my region\n",
    "myregion =regions[1]\n",
    "# the status for each list:\n",
    "\n",
    "list_three = lists[2].loc[lists[2].species.isin([obj])]\n",
    "\n",
    "# what about all the regions\n",
    "myregion = \"all\"\n",
    "list_three"
   ]
  },
  {
   "cell_type": "code",
   "execution_count": null,
   "id": "02cc5f9f-bbff-46e0-b5d5-f1bbd0072d11",
   "metadata": {},
   "outputs": [],
   "source": [
    "break"
   ]
  },
  {
   "cell_type": "code",
   "execution_count": null,
   "id": "7bd706b4-5708-42b6-aa6e-4c291e7b91eb",
   "metadata": {},
   "outputs": [],
   "source": [
    "priority.loc[priority.species == \"anthyllis-vulneraria\"][[\"species\", \"Jura\", \"Plateau\", \"responsabilite\", \"priorite\"]]"
   ]
  },
  {
   "cell_type": "code",
   "execution_count": null,
   "id": "0b9a6afa-c921-4299-afc5-aee6869a9e48",
   "metadata": {},
   "outputs": [],
   "source": [
    "invasives.loc[invasives.species == \"anthyllis-vulneria\"][[\"species\", \"list_2014\", \"Ordonnonce sur la dissémination des organismes (ODE)\"]]"
   ]
  },
  {
   "cell_type": "code",
   "execution_count": null,
   "id": "396b3f46-3800-4113-9eb3-011d1c4dfdaf",
   "metadata": {},
   "outputs": [],
   "source": [
    "species_to_list = pd.DataFrame.from_dict(species_mem, orient=\"index\")\n",
    "species_to_list.rename(columns=list_index, inplace=True)\n",
    "species_to_list.sum()"
   ]
  },
  {
   "cell_type": "code",
   "execution_count": null,
   "id": "3a82c029-e155-4561-a452-5850a20b79bc",
   "metadata": {},
   "outputs": [],
   "source": [
    "surveys2021 = pd.read_csv(\"resources/inprocess/surveys21-new.csv\")\n",
    "surveys2021.columns\n",
    "# Name', 'description', lon', 'lat"
   ]
  },
  {
   "cell_type": "code",
   "execution_count": null,
   "id": "b75d61dc-7fa5-46b5-8ad3-9c75cec16c14",
   "metadata": {},
   "outputs": [],
   "source": [
    "alist=[1,2,3,4]\n",
    "colnames=[0,1,2,3]\n",
    "# new_array = np.zeros(( len(alist)+1,len(colnames)))\n",
    "# new_array[0] = np.arange(len(colnames))\n",
    "# new_array[1:,0] = alist\n",
    "# new_array"
   ]
  },
  {
   "cell_type": "code",
   "execution_count": null,
   "id": "ac4b7778-8707-4067-bc93-b7179bac0637",
   "metadata": {},
   "outputs": [],
   "source": [
    "# Keep the following columns: ODE (ODE means officially regulated, \"-\" means it is not), list_2014 (BL = black list / WL = watch list, BL is more threat than WL), species,  \n"
   ]
  },
  {
   "cell_type": "code",
   "execution_count": null,
   "id": "69077fe2-c2a6-483c-953f-eb922794bb81",
   "metadata": {},
   "outputs": [],
   "source": [
    "# keep the following columns: species, jura (JU if present, 0 otherwise), plateau (MP if present, 0 otherwise), priorite ( 4 = high, 1 = low), responsabilite (4= high, 0 = none)\n",
    "# https://www.infoflora.ch/fr/conservation-des-especes/liste-rouge.html#especes-prioritaires\n",
    "\n",
    "pricolumns = [\"species\", \"Jura\", \"Plateau\", \"responsabilite\", \"priorite\", \"acopy\"]\n",
    "new_names = {x:x.lower() for x in pricolumns}\n",
    "priority.rename(columns=new_names, inplace=True)\n",
    "print(priority.info())\n",
    "pdata = priority[new_names.values()].copy()"
   ]
  },
  {
   "cell_type": "code",
   "execution_count": null,
   "id": "9c9f539e-4a9a-405d-ba04-cafe6d386607",
   "metadata": {},
   "outputs": [],
   "source": [
    "redlist.info()\n",
    "\n",
    "# keep the following columns: family, genus, species, CH (national status), JU (status in Jura), MP (status in central plateau)\n",
    "\n",
    "pricolumns = [\"FAMILY\", \"GENUS\", \"species\", \"CH\", \"JU\", \"MP\", \"acopy\"]\n",
    "new_names = {x:x.lower() for x in pricolumns}\n",
    "redlist.rename(columns=new_names, inplace=True)\n",
    "reddata = redlist[new_names.values()].copy()\n",
    "reddata.head()"
   ]
  },
  {
   "cell_type": "code",
   "execution_count": null,
   "id": "052ec47f-4b0c-434c-8e11-33d77d8b87ac",
   "metadata": {},
   "outputs": [],
   "source": [
    "surveys.info()"
   ]
  },
  {
   "cell_type": "code",
   "execution_count": null,
   "id": "d283b221-f431-4a49-9a60-47defdac1314",
   "metadata": {},
   "outputs": [],
   "source": [
    "pdata"
   ]
  },
  {
   "cell_type": "code",
   "execution_count": null,
   "id": "99d97921-2fbc-4a7e-84c6-ef58332975e1",
   "metadata": {},
   "outputs": [],
   "source": [
    "invdata[\"species\"] = invdata.acopy.map(lambda x: to_slug(x))\n",
    "pdata[\"species\"] = pdata.acopy.map(lambda x: to_slug(x))\n",
    "reddata[\"species\"] = reddata.acopy.map(lambda x: to_slug(x))"
   ]
  },
  {
   "cell_type": "code",
   "execution_count": null,
   "id": "9fb47b08-5ef9-461a-b709-8648daeafc7a",
   "metadata": {},
   "outputs": [],
   "source": [
    "s_locs = surveys.species.unique()"
   ]
  },
  {
   "cell_type": "code",
   "execution_count": null,
   "id": "9d1098f5-54d0-43d3-bc9a-894c25758055",
   "metadata": {},
   "outputs": [],
   "source": [
    "invdata[invdata.species.isin(s_locs)]"
   ]
  },
  {
   "cell_type": "code",
   "execution_count": null,
   "id": "3a84216e-11ce-4553-8a09-83db643107e0",
   "metadata": {},
   "outputs": [],
   "source": [
    "count = {\"priority\":0, \"invasive\":0, \"redlist\":0}\n",
    "names = {\"priority\":[], \"invasive\":[], \"redlist\":[]}\n",
    "for plant in surveys.species.unique():\n",
    "    x = len(priority.loc[priority.species == plant])\n",
    "    y = len(invasives.loc[invasives.species == plant])\n",
    "    z = len(redlist.loc[redlist.species == plant])   \n",
    "    \n",
    "    if x > 0:\n",
    "        count[\"priority\"] += x\n",
    "        names[\"priority\"].append(plant)\n",
    "    elif y > 0:\n",
    "        count[\"invasive\"] += y\n",
    "        names[\"invasive\"].append(plant)\n",
    "    elif z > 0:\n",
    "        count[\"redlist\"] += z\n",
    "        names[\"redlist\"].append(plant)\n",
    "    else:\n",
    "        pass\n",
    "    \n",
    "    \n",
    "   "
   ]
  },
  {
   "cell_type": "code",
   "execution_count": null,
   "id": "6762ce2a-12b9-4410-88f9-c03d937a4e39",
   "metadata": {},
   "outputs": [],
   "source": [
    "replacedict = {\n",
    "    'verbanum bonariensis ':'verbena bonariensis',\n",
    "    'medicago varia':'medicago sativa',\n",
    "    \"oenothera\":\"oenothera biennis\",\n",
    "    \"geranium pratens\":\"geranium pratense\",\n",
    "    \"oenothera biennis \": \"oenothera biennis\",\n",
    "    \"oenothera biennis agg.\": \"oenothera biennis\",\n",
    "    \"solidalgo canadensis\": \"solidago canadensis\",\n",
    "    \"verbascum lynchitis\":\"verbascum lychnitis\",\n",
    "    \"verbascum negris\":\"verbascum nigrum\",\n",
    "    \"securigea varia\": \"securigera varia\",\n",
    "    \"melilotus officianalis\": \"melilotus officinalis\",\n",
    "    \"knautia maxima\": \"knautia dipsacifolia\",\n",
    "    \"hieracium aurantiacum\":\"pilosella aurantiaca\",\n",
    "    \"sysimbrium officinale\":\"sisymbrium officinale\",\n",
    "    \"geranium robertanium\":\"geranium robertianum\",\n",
    "    \"mycelis muralis\": \"lactuca muralis\",\n",
    "    \"calamintha-nepeta\":\"clinopodium nepeta\",\n",
    "    \"polygonum-persicaria\":\"persicaria maculosa\",\n",
    "    \"sorbus-aria\":\"aria edulis\",\n",
    "    \"taraxacum\": \"taraxacum officinale\",\n",
    "    \"jacobaea vulgaris\" : \"senecio jacobaea\",\n",
    "    \"erigeron canadensis\" : \"conyza canadensis\",\n",
    "    \"rorippa islandica\" : \"rorippa palustris\",\n",
    "    \"malus sylvestris\" : \"malus domestica\",\n",
    "    \"hylotelephium telephium\" : \"sedum telephium\",\n",
    "    \"lactuca muralis\": \"mycelis muralis\",\n",
    "    \"chaenorhinum minus\": \"chaenorrhinum minus\",\n",
    "    \"erigeron canadensis\": \"conzya canadensis\",\n",
    "    \"erigeron canadensis\": \"conzya canadensis\",\n",
    "    \"borkhausenia intermedia\": \"scandosorbus intermedia\",\n",
    "    \"centaurea nigra\" : \"centaurea jacea\"\n",
    "}"
   ]
  },
  {
   "cell_type": "code",
   "execution_count": null,
   "id": "eb135000-3e9d-4519-9418-0a943235385b",
   "metadata": {},
   "outputs": [],
   "source": [
    "count"
   ]
  },
  {
   "cell_type": "markdown",
   "id": "juvenile-locator",
   "metadata": {},
   "source": [
    "## Determine wether or not a species was detected within a geographic limit\n",
    "\n",
    "The territory is divided into different segments. Flora-helvitica and WS maps have different geographic bounds. Here the presence or not of a species within the confines of one of the different boundaries is determined."
   ]
  },
  {
   "cell_type": "markdown",
   "id": "superb-resistance",
   "metadata": {},
   "source": [
    "### Key the species to the different maps it was identified in\n"
   ]
  },
  {
   "cell_type": "markdown",
   "id": "lovely-percentage",
   "metadata": {},
   "source": [
    "## Format date column to ISO standard"
   ]
  },
  {
   "cell_type": "code",
   "execution_count": null,
   "id": "1d5a1226-19dd-4d69-8249-eb821d83ca3b",
   "metadata": {
    "collapsed": true,
    "jupyter": {
     "outputs_hidden": true
    }
   },
   "outputs": [],
   "source": []
  }
 ],
 "metadata": {
  "kernelspec": {
   "display_name": "Python 3 (ipykernel)",
   "language": "python",
   "name": "python3"
  },
  "language_info": {
   "codemirror_mode": {
    "name": "ipython",
    "version": 3
   },
   "file_extension": ".py",
   "mimetype": "text/x-python",
   "name": "python",
   "nbconvert_exporter": "python",
   "pygments_lexer": "ipython3",
   "version": "3.8.10"
  }
 },
 "nbformat": 4,
 "nbformat_minor": 5
}
